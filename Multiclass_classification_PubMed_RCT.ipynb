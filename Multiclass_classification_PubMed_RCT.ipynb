{
  "nbformat": 4,
  "nbformat_minor": 0,
  "metadata": {
    "colab": {
      "name": "Multiclass_classification_PubMed RCT.ipynb",
      "provenance": [],
      "collapsed_sections": [],
      "toc_visible": true,
      "authorship_tag": "ABX9TyO2Z8bGKJ40XSeGXW00lezd",
      "include_colab_link": true
    },
    "kernelspec": {
      "name": "python3",
      "display_name": "Python 3"
    },
    "language_info": {
      "name": "python"
    },
    "accelerator": "GPU"
  },
  "cells": [
    {
      "cell_type": "markdown",
      "metadata": {
        "id": "view-in-github",
        "colab_type": "text"
      },
      "source": [
        "<a href=\"https://colab.research.google.com/github/joydeep03564/Machine_Learning-/blob/master/Multiclass_classification_PubMed_RCT.ipynb\" target=\"_parent\"><img src=\"https://colab.research.google.com/assets/colab-badge.svg\" alt=\"Open In Colab\"/></a>"
      ]
    },
    {
      "cell_type": "markdown",
      "metadata": {
        "id": "6Irpze_2FCxE"
      },
      "source": [
        "# **Building an NLP model to make reading medical abstracts easier:**\n"
      ]
    },
    {
      "cell_type": "code",
      "metadata": {
        "colab": {
          "base_uri": "https://localhost:8080/"
        },
        "id": "jm84CDx4GWrO",
        "outputId": "9bb36088-eda7-45d5-a434-bcb5aa13178f"
      },
      "source": [
        "from google.colab import drive\n",
        "drive.mount('/content/drive')"
      ],
      "execution_count": 1,
      "outputs": [
        {
          "output_type": "stream",
          "text": [
            "Mounted at /content/drive\n"
          ],
          "name": "stdout"
        }
      ]
    },
    {
      "cell_type": "markdown",
      "metadata": {
        "id": "XFGtI4nMJved"
      },
      "source": [
        "In this project,we address the problem of a researcher skiming through different research paper.Classifying each sentence of an abstruct will help the reseacher to read the abstruct efficiently. \n",
        "For this project, we will use the PubMed 20K RCT(randomised controlled trials). Every year over 1 million RCT have been published and that is what is the challenge of Medical professional to pin point a perticular abtract.\n",
        "For dataset, the following paper is refered.\n",
        "https://arxiv.org/abs/1710.06071\n",
        "\n",
        "For implementation, we will be following the paper below:\n",
        "\n",
        "https://arxiv.org/pdf/1612.05251.pdf\n",
        "\n"
      ]
    },
    {
      "cell_type": "markdown",
      "metadata": {
        "id": "6AYQVv3cMELK"
      },
      "source": [
        "### Problem Statement: \n",
        "The problem can be posed as multiclass classification problem.We have classify each sentence as objctive, conclusion etc."
      ]
    },
    {
      "cell_type": "markdown",
      "metadata": {
        "id": "syw6QIH_NCAo"
      },
      "source": [
        "### Getting the Data:\n",
        "\n",
        "The Authors of the papers makes the data available in github and its free. \n",
        "We will download the dataset from the authors git hub repo.\n"
      ]
    },
    {
      "cell_type": "code",
      "metadata": {
        "colab": {
          "base_uri": "https://localhost:8080/"
        },
        "id": "NS0xNTT8Nz55",
        "outputId": "66815b9e-8bf2-4554-b0b3-9816453dcfff"
      },
      "source": [
        "!git clone https://github.com/Franck-Dernoncourt/pubmed-rct\n",
        "!ls pubmed-rct"
      ],
      "execution_count": 2,
      "outputs": [
        {
          "output_type": "stream",
          "text": [
            "Cloning into 'pubmed-rct'...\n",
            "remote: Enumerating objects: 33, done.\u001b[K\n",
            "remote: Counting objects: 100% (3/3), done.\u001b[K\n",
            "remote: Compressing objects: 100% (3/3), done.\u001b[K\n",
            "remote: Total 33 (delta 0), reused 0 (delta 0), pack-reused 30\u001b[K\n",
            "Unpacking objects: 100% (33/33), done.\n",
            "PubMed_200k_RCT\n",
            "PubMed_200k_RCT_numbers_replaced_with_at_sign\n",
            "PubMed_20k_RCT\n",
            "PubMed_20k_RCT_numbers_replaced_with_at_sign\n",
            "README.md\n"
          ],
          "name": "stdout"
        }
      ]
    },
    {
      "cell_type": "code",
      "metadata": {
        "colab": {
          "base_uri": "https://localhost:8080/"
        },
        "id": "3_rPdo0uRlcu",
        "outputId": "a7ef8a2e-f0d6-4436-8801-27f78feb3319"
      },
      "source": [
        "# Checking the content of PubMed_20k_RCT_numbers_replaced_with_at_sign\n",
        "!ls /content/pubmed-rct/PubMed_20k_RCT_numbers_replaced_with_at_sign\n"
      ],
      "execution_count": 3,
      "outputs": [
        {
          "output_type": "stream",
          "text": [
            "dev.txt  test.txt  train.txt\n"
          ],
          "name": "stdout"
        }
      ]
    },
    {
      "cell_type": "code",
      "metadata": {
        "id": "FV7LV3OUOy5D"
      },
      "source": [
        "# We are going to start the project using Pubmed20K -RCT  \n",
        "\n",
        "data_dir = \"/content/pubmed-rct/PubMed_20k_RCT_numbers_replaced_with_at_sign/\""
      ],
      "execution_count": 4,
      "outputs": []
    },
    {
      "cell_type": "code",
      "metadata": {
        "colab": {
          "base_uri": "https://localhost:8080/"
        },
        "id": "X5zst2GfTWnd",
        "outputId": "ad45b889-8e17-462e-b839-5c69d6cb9a78"
      },
      "source": [
        "import os\n",
        "\n",
        "filenames =[data_dir + filename for filename in os.listdir(data_dir)]\n",
        "filenames"
      ],
      "execution_count": 5,
      "outputs": [
        {
          "output_type": "execute_result",
          "data": {
            "text/plain": [
              "['/content/pubmed-rct/PubMed_20k_RCT_numbers_replaced_with_at_sign/train.txt',\n",
              " '/content/pubmed-rct/PubMed_20k_RCT_numbers_replaced_with_at_sign/dev.txt',\n",
              " '/content/pubmed-rct/PubMed_20k_RCT_numbers_replaced_with_at_sign/test.txt']"
            ]
          },
          "metadata": {
            "tags": []
          },
          "execution_count": 5
        }
      ]
    },
    {
      "cell_type": "markdown",
      "metadata": {
        "id": "cLFPtLrMUE39"
      },
      "source": [
        "## Preprocess data:\n",
        "\n",
        "We have the text file and its time to preprocess them and convert it to tensorflow/dataframe so that we can apply our general process of tokenisation, embedding and finally feed to the machine learning models.\n",
        "\n"
      ]
    },
    {
      "cell_type": "code",
      "metadata": {
        "id": "lPzx5csAVATR"
      },
      "source": [
        "# We will read the files using python:\n",
        "\n",
        "def get_lines(filename):\n",
        "\n",
        "  \"\"\"\n",
        "  Reads filename(a text filename) and returns the lines of text as a list.\n",
        "  Args:\n",
        "  filename: a string contaning the target filepath\n",
        "  return : \n",
        "  A list of strings with one string per line from the target filename.\n",
        "  \"\"\"\n",
        "  with open(filename,\"r\") as f:\n",
        "    return f.readlines()"
      ],
      "execution_count": 6,
      "outputs": []
    },
    {
      "cell_type": "code",
      "metadata": {
        "colab": {
          "base_uri": "https://localhost:8080/"
        },
        "id": "-NpbNHMkZ1FO",
        "outputId": "834d9cc2-996e-4d10-eb5a-7c5bb7ac80a5"
      },
      "source": [
        "# lets read in the training lines:\n",
        "train_lines = get_lines(data_dir+\"train.txt\")\n",
        "train_lines[:20]"
      ],
      "execution_count": 7,
      "outputs": [
        {
          "output_type": "execute_result",
          "data": {
            "text/plain": [
              "['###24293578\\n',\n",
              " 'OBJECTIVE\\tTo investigate the efficacy of @ weeks of daily low-dose oral prednisolone in improving pain , mobility , and systemic low-grade inflammation in the short term and whether the effect would be sustained at @ weeks in older adults with moderate to severe knee osteoarthritis ( OA ) .\\n',\n",
              " 'METHODS\\tA total of @ patients with primary knee OA were randomized @:@ ; @ received @ mg/day of prednisolone and @ received placebo for @ weeks .\\n',\n",
              " 'METHODS\\tOutcome measures included pain reduction and improvement in function scores and systemic inflammation markers .\\n',\n",
              " 'METHODS\\tPain was assessed using the visual analog pain scale ( @-@ mm ) .\\n',\n",
              " 'METHODS\\tSecondary outcome measures included the Western Ontario and McMaster Universities Osteoarthritis Index scores , patient global assessment ( PGA ) of the severity of knee OA , and @-min walk distance ( @MWD ) .\\n',\n",
              " 'METHODS\\tSerum levels of interleukin @ ( IL-@ ) , IL-@ , tumor necrosis factor ( TNF ) - , and high-sensitivity C-reactive protein ( hsCRP ) were measured .\\n',\n",
              " 'RESULTS\\tThere was a clinically relevant reduction in the intervention group compared to the placebo group for knee pain , physical function , PGA , and @MWD at @ weeks .\\n',\n",
              " 'RESULTS\\tThe mean difference between treatment arms ( @ % CI ) was @ ( @-@ @ ) , p < @ ; @ ( @-@ @ ) , p < @ ; @ ( @-@ @ ) , p < @ ; and @ ( @-@ @ ) , p < @ , respectively .\\n',\n",
              " 'RESULTS\\tFurther , there was a clinically relevant reduction in the serum levels of IL-@ , IL-@ , TNF - , and hsCRP at @ weeks in the intervention group when compared to the placebo group .\\n',\n",
              " 'RESULTS\\tThese differences remained significant at @ weeks .\\n',\n",
              " 'RESULTS\\tThe Outcome Measures in Rheumatology Clinical Trials-Osteoarthritis Research Society International responder rate was @ % in the intervention group and @ % in the placebo group ( p < @ ) .\\n',\n",
              " 'CONCLUSIONS\\tLow-dose oral prednisolone had both a short-term and a longer sustained effect resulting in less knee pain , better physical function , and attenuation of systemic inflammation in older patients with knee OA ( ClinicalTrials.gov identifier NCT@ ) .\\n',\n",
              " '\\n',\n",
              " '###24854809\\n',\n",
              " 'BACKGROUND\\tEmotional eating is associated with overeating and the development of obesity .\\n',\n",
              " 'BACKGROUND\\tYet , empirical evidence for individual ( trait ) differences in emotional eating and cognitive mechanisms that contribute to eating during sad mood remain equivocal .\\n',\n",
              " 'OBJECTIVE\\tThe aim of this study was to test if attention bias for food moderates the effect of self-reported emotional eating during sad mood ( vs neutral mood ) on actual food intake .\\n',\n",
              " 'OBJECTIVE\\tIt was expected that emotional eating is predictive of elevated attention for food and higher food intake after an experimentally induced sad mood and that attentional maintenance on food predicts food intake during a sad versus a neutral mood .\\n',\n",
              " 'METHODS\\tParticipants ( N = @ ) were randomly assigned to one of the two experimental mood induction conditions ( sad/neutral ) .\\n']"
            ]
          },
          "metadata": {
            "tags": []
          },
          "execution_count": 7
        }
      ]
    },
    {
      "cell_type": "code",
      "metadata": {
        "colab": {
          "base_uri": "https://localhost:8080/"
        },
        "id": "h2SifD7Racp_",
        "outputId": "e1fffda7-e6a4-4a5e-a6bf-c4c29a226c63"
      },
      "source": [
        "len(train_lines)"
      ],
      "execution_count": 8,
      "outputs": [
        {
          "output_type": "execute_result",
          "data": {
            "text/plain": [
              "210040"
            ]
          },
          "metadata": {
            "tags": []
          },
          "execution_count": 8
        }
      ]
    },
    {
      "cell_type": "markdown",
      "metadata": {
        "id": "gPIuNJDUbveH"
      },
      "source": [
        "### Preprocessing the text file:\n",
        "For each of the text, we will create a list of dictionary like this\n",
        "'''\n",
        "[{'line_number': 0,\n",
        "   'target':'BACKGROUND'\n",
        "   'text':\"Emotional eating is associated with overeating and the development of obesity\"\n",
        "   'total_lines':11]\n",
        "'''"
      ]
    },
    {
      "cell_type": "code",
      "metadata": {
        "id": "MPmXTAQi8jbW"
      },
      "source": [
        "def preprocess_text_with_line_numbers(filename):\n",
        "  \"\"\"Returns a list of dictionaries of abstract line data.\n",
        "\n",
        "  Takes in filename, reads its contents and sorts through each line,\n",
        "  extracting things like the target label, the text of the sentence,\n",
        "  how many sentences are in the current abstract and what sentence number\n",
        "  the target line is.\n",
        "\n",
        "  Args:\n",
        "      filename: a string of the target text file to read and extract line data\n",
        "      from.\n",
        "\n",
        "  Returns:\n",
        "      A list of dictionaries each containing a line from an abstract,\n",
        "      the lines label, the lines position in the abstract and the total number\n",
        "      of lines in the abstract where the line is from. For example:\n",
        "\n",
        "      [{\"target\": 'CONCLUSION',\n",
        "        \"text\": The study couldn't have gone better, turns out people are kinder than you think\",\n",
        "        \"line_number\": 8,\n",
        "        \"total_lines\": 8}]\n",
        "  \"\"\"\n",
        "  input_lines = get_lines(filename) # get all lines from filename\n",
        "  abstract_lines = \"\" # create an empty abstract\n",
        "  abstract_samples = [] # create an empty list of abstracts\n",
        "  \n",
        "  # Loop through each line in target file\n",
        "  for line in input_lines:\n",
        "    if line.startswith(\"###\"): # check to see if line is an ID line\n",
        "      abstract_id = line\n",
        "      abstract_lines = \"\" # reset abstract string\n",
        "    elif line.isspace(): # check to see if line is a new line\n",
        "      abstract_line_split = abstract_lines.splitlines() # split abstract into separate lines\n",
        "\n",
        "      # Iterate through each line in abstract and count them at the same time\n",
        "      for abstract_line_number, abstract_line in enumerate(abstract_line_split):\n",
        "        line_data = {} # create empty dict to store data from line\n",
        "        target_text_split = abstract_line.split(\"\\t\") # split target label from text\n",
        "        line_data[\"target\"] = target_text_split[0] # get target label\n",
        "        line_data[\"text\"] = target_text_split[1].lower() # get target text and lower it\n",
        "        line_data[\"line_number\"] = abstract_line_number # what number line does the line appear in the abstract?\n",
        "        line_data[\"total_lines\"] = len(abstract_line_split) - 1 # how many total lines are in the abstract? (start from 0)\n",
        "        abstract_samples.append(line_data) # add line data to abstract samples list\n",
        "    \n",
        "    else: # if the above conditions aren't fulfilled, the line contains a labelled sentence\n",
        "      abstract_lines += line\n",
        "  \n",
        "  return abstract_samples"
      ],
      "execution_count": 9,
      "outputs": []
    },
    {
      "cell_type": "code",
      "metadata": {
        "colab": {
          "base_uri": "https://localhost:8080/"
        },
        "id": "wHWD94vT8p7a",
        "outputId": "7067eecf-0b65-47dc-c0d0-aff75d820dce"
      },
      "source": [
        "# Get data from file and preprocess it\n",
        "%%time\n",
        "train_samples = preprocess_text_with_line_numbers(data_dir + \"train.txt\")\n",
        "val_samples = preprocess_text_with_line_numbers(data_dir + \"dev.txt\") # dev is another name for validation set\n",
        "test_samples = preprocess_text_with_line_numbers(data_dir + \"test.txt\")\n",
        "print(len(train_samples), len(val_samples), len(test_samples))\n"
      ],
      "execution_count": 10,
      "outputs": [
        {
          "output_type": "stream",
          "text": [
            "180040 30212 30135\n",
            "CPU times: user 522 ms, sys: 93.7 ms, total: 615 ms\n",
            "Wall time: 616 ms\n"
          ],
          "name": "stdout"
        }
      ]
    },
    {
      "cell_type": "code",
      "metadata": {
        "colab": {
          "base_uri": "https://localhost:8080/"
        },
        "id": "z_oCGZf26RAW",
        "outputId": "f0c4bea1-c7d3-4620-cd74-821f63aa7d72"
      },
      "source": [
        "train_samples[:20]"
      ],
      "execution_count": 11,
      "outputs": [
        {
          "output_type": "execute_result",
          "data": {
            "text/plain": [
              "[{'line_number': 0,\n",
              "  'target': 'OBJECTIVE',\n",
              "  'text': 'to investigate the efficacy of @ weeks of daily low-dose oral prednisolone in improving pain , mobility , and systemic low-grade inflammation in the short term and whether the effect would be sustained at @ weeks in older adults with moderate to severe knee osteoarthritis ( oa ) .',\n",
              "  'total_lines': 11},\n",
              " {'line_number': 1,\n",
              "  'target': 'METHODS',\n",
              "  'text': 'a total of @ patients with primary knee oa were randomized @:@ ; @ received @ mg/day of prednisolone and @ received placebo for @ weeks .',\n",
              "  'total_lines': 11},\n",
              " {'line_number': 2,\n",
              "  'target': 'METHODS',\n",
              "  'text': 'outcome measures included pain reduction and improvement in function scores and systemic inflammation markers .',\n",
              "  'total_lines': 11},\n",
              " {'line_number': 3,\n",
              "  'target': 'METHODS',\n",
              "  'text': 'pain was assessed using the visual analog pain scale ( @-@ mm ) .',\n",
              "  'total_lines': 11},\n",
              " {'line_number': 4,\n",
              "  'target': 'METHODS',\n",
              "  'text': 'secondary outcome measures included the western ontario and mcmaster universities osteoarthritis index scores , patient global assessment ( pga ) of the severity of knee oa , and @-min walk distance ( @mwd ) .',\n",
              "  'total_lines': 11},\n",
              " {'line_number': 5,\n",
              "  'target': 'METHODS',\n",
              "  'text': 'serum levels of interleukin @ ( il-@ ) , il-@ , tumor necrosis factor ( tnf ) - , and high-sensitivity c-reactive protein ( hscrp ) were measured .',\n",
              "  'total_lines': 11},\n",
              " {'line_number': 6,\n",
              "  'target': 'RESULTS',\n",
              "  'text': 'there was a clinically relevant reduction in the intervention group compared to the placebo group for knee pain , physical function , pga , and @mwd at @ weeks .',\n",
              "  'total_lines': 11},\n",
              " {'line_number': 7,\n",
              "  'target': 'RESULTS',\n",
              "  'text': 'the mean difference between treatment arms ( @ % ci ) was @ ( @-@ @ ) , p < @ ; @ ( @-@ @ ) , p < @ ; @ ( @-@ @ ) , p < @ ; and @ ( @-@ @ ) , p < @ , respectively .',\n",
              "  'total_lines': 11},\n",
              " {'line_number': 8,\n",
              "  'target': 'RESULTS',\n",
              "  'text': 'further , there was a clinically relevant reduction in the serum levels of il-@ , il-@ , tnf - , and hscrp at @ weeks in the intervention group when compared to the placebo group .',\n",
              "  'total_lines': 11},\n",
              " {'line_number': 9,\n",
              "  'target': 'RESULTS',\n",
              "  'text': 'these differences remained significant at @ weeks .',\n",
              "  'total_lines': 11},\n",
              " {'line_number': 10,\n",
              "  'target': 'RESULTS',\n",
              "  'text': 'the outcome measures in rheumatology clinical trials-osteoarthritis research society international responder rate was @ % in the intervention group and @ % in the placebo group ( p < @ ) .',\n",
              "  'total_lines': 11},\n",
              " {'line_number': 11,\n",
              "  'target': 'CONCLUSIONS',\n",
              "  'text': 'low-dose oral prednisolone had both a short-term and a longer sustained effect resulting in less knee pain , better physical function , and attenuation of systemic inflammation in older patients with knee oa ( clinicaltrials.gov identifier nct@ ) .',\n",
              "  'total_lines': 11},\n",
              " {'line_number': 0,\n",
              "  'target': 'BACKGROUND',\n",
              "  'text': 'emotional eating is associated with overeating and the development of obesity .',\n",
              "  'total_lines': 10},\n",
              " {'line_number': 1,\n",
              "  'target': 'BACKGROUND',\n",
              "  'text': 'yet , empirical evidence for individual ( trait ) differences in emotional eating and cognitive mechanisms that contribute to eating during sad mood remain equivocal .',\n",
              "  'total_lines': 10},\n",
              " {'line_number': 2,\n",
              "  'target': 'OBJECTIVE',\n",
              "  'text': 'the aim of this study was to test if attention bias for food moderates the effect of self-reported emotional eating during sad mood ( vs neutral mood ) on actual food intake .',\n",
              "  'total_lines': 10},\n",
              " {'line_number': 3,\n",
              "  'target': 'OBJECTIVE',\n",
              "  'text': 'it was expected that emotional eating is predictive of elevated attention for food and higher food intake after an experimentally induced sad mood and that attentional maintenance on food predicts food intake during a sad versus a neutral mood .',\n",
              "  'total_lines': 10},\n",
              " {'line_number': 4,\n",
              "  'target': 'METHODS',\n",
              "  'text': 'participants ( n = @ ) were randomly assigned to one of the two experimental mood induction conditions ( sad/neutral ) .',\n",
              "  'total_lines': 10},\n",
              " {'line_number': 5,\n",
              "  'target': 'METHODS',\n",
              "  'text': 'attentional biases for high caloric foods were measured by eye tracking during a visual probe task with pictorial food and neutral stimuli .',\n",
              "  'total_lines': 10},\n",
              " {'line_number': 6,\n",
              "  'target': 'METHODS',\n",
              "  'text': 'self-reported emotional eating was assessed with the dutch eating behavior questionnaire ( debq ) and ad libitum food intake was tested by a disguised food offer .',\n",
              "  'total_lines': 10},\n",
              " {'line_number': 7,\n",
              "  'target': 'RESULTS',\n",
              "  'text': 'hierarchical multivariate regression modeling showed that self-reported emotional eating did not account for changes in attention allocation for food or food intake in either condition .',\n",
              "  'total_lines': 10}]"
            ]
          },
          "metadata": {
            "tags": []
          },
          "execution_count": 11
        }
      ]
    },
    {
      "cell_type": "code",
      "metadata": {
        "id": "fhcAiTCnHEM8"
      },
      "source": [
        " import pandas as pd\n",
        "\n",
        " train_df=pd.DataFrame(train_samples)\n",
        " val_df = pd.DataFrame(val_samples)\n",
        " test_df = pd.DataFrame(test_samples)"
      ],
      "execution_count": 12,
      "outputs": []
    },
    {
      "cell_type": "code",
      "metadata": {
        "colab": {
          "base_uri": "https://localhost:8080/",
          "height": 203
        },
        "id": "evEa6xIoKoMU",
        "outputId": "860c0a72-fb20-4ee3-b451-832a852d0bab"
      },
      "source": [
        "train_df.head()"
      ],
      "execution_count": 13,
      "outputs": [
        {
          "output_type": "execute_result",
          "data": {
            "text/html": [
              "<div>\n",
              "<style scoped>\n",
              "    .dataframe tbody tr th:only-of-type {\n",
              "        vertical-align: middle;\n",
              "    }\n",
              "\n",
              "    .dataframe tbody tr th {\n",
              "        vertical-align: top;\n",
              "    }\n",
              "\n",
              "    .dataframe thead th {\n",
              "        text-align: right;\n",
              "    }\n",
              "</style>\n",
              "<table border=\"1\" class=\"dataframe\">\n",
              "  <thead>\n",
              "    <tr style=\"text-align: right;\">\n",
              "      <th></th>\n",
              "      <th>target</th>\n",
              "      <th>text</th>\n",
              "      <th>line_number</th>\n",
              "      <th>total_lines</th>\n",
              "    </tr>\n",
              "  </thead>\n",
              "  <tbody>\n",
              "    <tr>\n",
              "      <th>0</th>\n",
              "      <td>OBJECTIVE</td>\n",
              "      <td>to investigate the efficacy of @ weeks of dail...</td>\n",
              "      <td>0</td>\n",
              "      <td>11</td>\n",
              "    </tr>\n",
              "    <tr>\n",
              "      <th>1</th>\n",
              "      <td>METHODS</td>\n",
              "      <td>a total of @ patients with primary knee oa wer...</td>\n",
              "      <td>1</td>\n",
              "      <td>11</td>\n",
              "    </tr>\n",
              "    <tr>\n",
              "      <th>2</th>\n",
              "      <td>METHODS</td>\n",
              "      <td>outcome measures included pain reduction and i...</td>\n",
              "      <td>2</td>\n",
              "      <td>11</td>\n",
              "    </tr>\n",
              "    <tr>\n",
              "      <th>3</th>\n",
              "      <td>METHODS</td>\n",
              "      <td>pain was assessed using the visual analog pain...</td>\n",
              "      <td>3</td>\n",
              "      <td>11</td>\n",
              "    </tr>\n",
              "    <tr>\n",
              "      <th>4</th>\n",
              "      <td>METHODS</td>\n",
              "      <td>secondary outcome measures included the wester...</td>\n",
              "      <td>4</td>\n",
              "      <td>11</td>\n",
              "    </tr>\n",
              "  </tbody>\n",
              "</table>\n",
              "</div>"
            ],
            "text/plain": [
              "      target  ... total_lines\n",
              "0  OBJECTIVE  ...          11\n",
              "1    METHODS  ...          11\n",
              "2    METHODS  ...          11\n",
              "3    METHODS  ...          11\n",
              "4    METHODS  ...          11\n",
              "\n",
              "[5 rows x 4 columns]"
            ]
          },
          "metadata": {
            "tags": []
          },
          "execution_count": 13
        }
      ]
    },
    {
      "cell_type": "markdown",
      "metadata": {
        "id": "HAf2lEmDKzD-"
      },
      "source": [
        "Now we have the dataframe for the 3. Train,Test and  validation.\n",
        "We will check the labels and its distibution "
      ]
    },
    {
      "cell_type": "code",
      "metadata": {
        "colab": {
          "base_uri": "https://localhost:8080/"
        },
        "id": "FqKFzj9LLHoa",
        "outputId": "e5d27068-44a1-4237-dedf-e80cbe510b6c"
      },
      "source": [
        "train_df['target'].value_counts()"
      ],
      "execution_count": 14,
      "outputs": [
        {
          "output_type": "execute_result",
          "data": {
            "text/plain": [
              "METHODS        59353\n",
              "RESULTS        57953\n",
              "CONCLUSIONS    27168\n",
              "BACKGROUND     21727\n",
              "OBJECTIVE      13839\n",
              "Name: target, dtype: int64"
            ]
          },
          "metadata": {
            "tags": []
          },
          "execution_count": 14
        }
      ]
    },
    {
      "cell_type": "code",
      "metadata": {
        "colab": {
          "base_uri": "https://localhost:8080/",
          "height": 284
        },
        "id": "1Tyi_3CjLwX8",
        "outputId": "43c1f3a8-2750-43fa-b9ce-e177308871e7"
      },
      "source": [
        "# Lets check the length of different lines\n",
        "train_df['total_lines'].plot.hist()"
      ],
      "execution_count": 15,
      "outputs": [
        {
          "output_type": "execute_result",
          "data": {
            "text/plain": [
              "<matplotlib.axes._subplots.AxesSubplot at 0x7fc5ccdc9590>"
            ]
          },
          "metadata": {
            "tags": []
          },
          "execution_count": 15
        },
        {
          "output_type": "display_data",
          "data": {
            "image/png": "[encoded data removed]",
            "text/plain": [
              "<Figure size 432x288 with 1 Axes>"
            ]
          },
          "metadata": {
            "tags": [],
            "needs_background": "light"
          }
        }
      ]
    },
    {
      "cell_type": "markdown",
      "metadata": {
        "id": "pG78TdUDMR5R"
      },
      "source": [
        "### Get lists of sentences:\n",
        "This will our feature "
      ]
    },
    {
      "cell_type": "code",
      "metadata": {
        "colab": {
          "base_uri": "https://localhost:8080/"
        },
        "id": "MHj0nL5WMP11",
        "outputId": "6c112b09-a3d2-4687-a8d9-95e4d1d19a07"
      },
      "source": [
        "train_sentences = train_df[\"text\"].tolist()\n",
        "val_sentences = val_df[\"text\"].tolist()\n",
        "test_sentences = test_df[\"text\"].tolist()\n",
        "print(len(train_sentences),len(val_sentences),len(test_sentences))"
      ],
      "execution_count": 16,
      "outputs": [
        {
          "output_type": "stream",
          "text": [
            "180040 30212 30135\n"
          ],
          "name": "stdout"
        }
      ]
    },
    {
      "cell_type": "markdown",
      "metadata": {
        "id": "vlJSsYdMXh_S"
      },
      "source": [
        "### Numerical Encoding of Labels:\n",
        "\n",
        "While encoding the labels into one hot encoding, we have to use sparse = false as tensor flow can't work with sparse representatio.\n",
        "Hence in this case, we will use sparse = false.\n",
        "\n",
        "When we run onehot encoding with one dimentional data, we get this error msg. We have to reshape the data into(-1,1)\n",
        "\n",
        "```\n",
        "# ValueError: Expected 2D array, got 1D array instead:\n",
        "array=['OBJECTIVE' 'METHODS' 'METHODS' ... 'RESULTS' 'CONCLUSIONS' 'CONCLUSIONS'].\n",
        "Reshape your data either using array.reshape(-1, 1) if your data has a single feature or array.reshape(1, -1) if it contains a single sample.\n",
        "```\n",
        "\n",
        "\n",
        "\n"
      ]
    },
    {
      "cell_type": "code",
      "metadata": {
        "colab": {
          "base_uri": "https://localhost:8080/"
        },
        "id": "_Y6tZND-XSUA",
        "outputId": "cabae125-8aed-4a29-9823-b3f1d3c19d4b"
      },
      "source": [
        "# One hot encoding labels\n",
        "\n",
        "from sklearn.preprocessing import OneHotEncoder\n",
        "\n",
        "one_hot_encoder = OneHotEncoder(sparse=False)\n",
        "train_labels_one_hot = one_hot_encoder.fit_transform(train_df['target'].to_numpy().reshape(-1,1))\n",
        "\n",
        "val_labels_one_hot = one_hot_encoder.transform(val_df['target'].to_numpy().reshape(-1,1))\n",
        "test_labels_one_hot = one_hot_encoder.transform(test_df['target'].to_numpy().reshape(-1,1))\n",
        "print(train_labels_one_hot[0])\n",
        "print(val_labels_one_hot[0])\n",
        "print(test_labels_one_hot[0])\n"
      ],
      "execution_count": 17,
      "outputs": [
        {
          "output_type": "stream",
          "text": [
            "[0. 0. 0. 1. 0.]\n",
            "[1. 0. 0. 0. 0.]\n",
            "[1. 0. 0. 0. 0.]\n"
          ],
          "name": "stdout"
        }
      ]
    },
    {
      "cell_type": "code",
      "metadata": {
        "colab": {
          "base_uri": "https://localhost:8080/"
        },
        "id": "9dq-mkM3de_g",
        "outputId": "aa805c7c-4d8b-410e-a2aa-cec0864dd6ed"
      },
      "source": [
        "import tensorflow as tf\n",
        "\n",
        "tf.constant(train_labels_one_hot)"
      ],
      "execution_count": 18,
      "outputs": [
        {
          "output_type": "execute_result",
          "data": {
            "text/plain": [
              "<tf.Tensor: shape=(180040, 5), dtype=float64, numpy=\n",
              "array([[0., 0., 0., 1., 0.],\n",
              "       [0., 0., 1., 0., 0.],\n",
              "       [0., 0., 1., 0., 0.],\n",
              "       ...,\n",
              "       [0., 0., 0., 0., 1.],\n",
              "       [0., 1., 0., 0., 0.],\n",
              "       [0., 1., 0., 0., 0.]])>"
            ]
          },
          "metadata": {
            "tags": []
          },
          "execution_count": 18
        }
      ]
    },
    {
      "cell_type": "markdown",
      "metadata": {
        "id": "9VsvmeeHe-lb"
      },
      "source": [
        "### Label ecoding using labels"
      ]
    },
    {
      "cell_type": "code",
      "metadata": {
        "colab": {
          "base_uri": "https://localhost:8080/"
        },
        "id": "NTjqBgKUfEwh",
        "outputId": "292ceca3-aa38-44fe-c6d9-871be5a67917"
      },
      "source": [
        "from sklearn.preprocessing import LabelEncoder\n",
        "\n",
        "label_encoder = LabelEncoder()\n",
        "\n",
        "train_labels_encoded = label_encoder.fit_transform(train_df['target'].to_numpy())\n",
        "val_labels_encoded = label_encoder.transform(val_df['target'].to_numpy())\n",
        "test_labels_encoded = label_encoder.transform(test_df['target'].to_numpy())\n",
        "\n",
        "print(train_labels_encoded)\n"
      ],
      "execution_count": 19,
      "outputs": [
        {
          "output_type": "stream",
          "text": [
            "[3 2 2 ... 4 1 1]\n"
          ],
          "name": "stdout"
        }
      ]
    },
    {
      "cell_type": "markdown",
      "metadata": {
        "id": "hi75R4xng4lH"
      },
      "source": [
        "# Base line model with Naive Bayes and TFIDF:\n",
        "\n",
        "Here in this case, we will be using multinomial Naive Bayes and TFIDF.\n"
      ]
    },
    {
      "cell_type": "code",
      "metadata": {
        "colab": {
          "base_uri": "https://localhost:8080/"
        },
        "id": "2_215LX7imcN",
        "outputId": "ff24c3d0-477d-44c3-f9c2-5ec95d8402d0"
      },
      "source": [
        "# Creating the base line model with Naive Bayes.\n",
        "from sklearn.feature_extraction.text import TfidfVectorizer\n",
        "from sklearn.naive_bayes import MultinomialNB\n",
        "from sklearn.pipeline import Pipeline\n",
        "\n",
        "# Create a pipeline \n",
        "\n",
        "model_0 = Pipeline([\n",
        "                    (\"tf-idf\",TfidfVectorizer()),\n",
        "                    (\"Clf\",MultinomialNB())\n",
        "])\n",
        "\n",
        "model_0.fit(X= train_sentences,\n",
        "            y = train_labels_encoded)"
      ],
      "execution_count": 20,
      "outputs": [
        {
          "output_type": "execute_result",
          "data": {
            "text/plain": [
              "Pipeline(memory=None,\n",
              "         steps=[('tf-idf',\n",
              "                 TfidfVectorizer(analyzer='word', binary=False,\n",
              "                                 decode_error='strict',\n",
              "                                 dtype=<class 'numpy.float64'>,\n",
              "                                 encoding='utf-8', input='content',\n",
              "                                 lowercase=True, max_df=1.0, max_features=None,\n",
              "                                 min_df=1, ngram_range=(1, 1), norm='l2',\n",
              "                                 preprocessor=None, smooth_idf=True,\n",
              "                                 stop_words=None, strip_accents=None,\n",
              "                                 sublinear_tf=False,\n",
              "                                 token_pattern='(?u)\\\\b\\\\w\\\\w+\\\\b',\n",
              "                                 tokenizer=None, use_idf=True,\n",
              "                                 vocabulary=None)),\n",
              "                ('Clf',\n",
              "                 MultinomialNB(alpha=1.0, class_prior=None, fit_prior=True))],\n",
              "         verbose=False)"
            ]
          },
          "metadata": {
            "tags": []
          },
          "execution_count": 20
        }
      ]
    },
    {
      "cell_type": "code",
      "metadata": {
        "colab": {
          "base_uri": "https://localhost:8080/"
        },
        "id": "xnwWkPHemrPr",
        "outputId": "5b28f1bf-79ba-4225-b2d7-44b8a700c9ba"
      },
      "source": [
        "# Evaluate the dataset on validation dataset\n",
        "\n",
        "model_0.score(X=val_sentences,y=val_labels_encoded)"
      ],
      "execution_count": 21,
      "outputs": [
        {
          "output_type": "execute_result",
          "data": {
            "text/plain": [
              "0.7218323844829869"
            ]
          },
          "metadata": {
            "tags": []
          },
          "execution_count": 21
        }
      ]
    },
    {
      "cell_type": "code",
      "metadata": {
        "colab": {
          "base_uri": "https://localhost:8080/"
        },
        "id": "d6coyW6ym_jQ",
        "outputId": "2962df22-8559-4aca-cc29-fe2929917291"
      },
      "source": [
        "# Make prediction\n",
        "\n",
        "baseline_preds = model_0.predict(val_sentences)\n",
        "\n",
        "baseline_preds"
      ],
      "execution_count": 22,
      "outputs": [
        {
          "output_type": "execute_result",
          "data": {
            "text/plain": [
              "array([4, 1, 3, ..., 4, 4, 1])"
            ]
          },
          "metadata": {
            "tags": []
          },
          "execution_count": 22
        }
      ]
    },
    {
      "cell_type": "markdown",
      "metadata": {
        "id": "CG_YIgU1pqng"
      },
      "source": [
        "### Base line model evaluation  :\n",
        "\n",
        "For model evaluation, we are going to use the helper function that is created in an earlier project. we arte going to download that from the directory.\n",
        "https://raw.githubusercontent.com/joydeep03564/Machine_Learning-/master/helper_functions.py\n",
        "\n"
      ]
    },
    {
      "cell_type": "code",
      "metadata": {
        "colab": {
          "base_uri": "https://localhost:8080/"
        },
        "id": "r-0qnMRrtFTa",
        "outputId": "83baab88-bd8d-4e10-a76c-e7ba6059b061"
      },
      "source": [
        "!wget https://raw.githubusercontent.com/joydeep03564/Machine_Learning-/master/helper_functions.py\n"
      ],
      "execution_count": 23,
      "outputs": [
        {
          "output_type": "stream",
          "text": [
            "--2021-07-21 09:50:40--  https://raw.githubusercontent.com/joydeep03564/Machine_Learning-/master/helper_functions.py\n",
            "Resolving raw.githubusercontent.com (raw.githubusercontent.com)... 185.199.108.133, 185.199.109.133, 185.199.110.133, ...\n",
            "Connecting to raw.githubusercontent.com (raw.githubusercontent.com)|185.199.108.133|:443... connected.\n",
            "HTTP request sent, awaiting response... 200 OK\n",
            "Length: 4021 (3.9K) [text/plain]\n",
            "Saving to: ‘helper_functions.py’\n",
            "\n",
            "helper_functions.py 100%[===================>]   3.93K  --.-KB/s    in 0s      \n",
            "\n",
            "2021-07-21 09:50:40 (50.1 MB/s) - ‘helper_functions.py’ saved [4021/4021]\n",
            "\n"
          ],
          "name": "stdout"
        }
      ]
    },
    {
      "cell_type": "code",
      "metadata": {
        "id": "MGtlPelctaAW"
      },
      "source": [
        "from helper_functions import model_evaluation_matrix"
      ],
      "execution_count": 24,
      "outputs": []
    },
    {
      "cell_type": "code",
      "metadata": {
        "colab": {
          "base_uri": "https://localhost:8080/"
        },
        "id": "qxO0InnTtrW8",
        "outputId": "dd05b497-99dd-4558-dec6-14d921d8029c"
      },
      "source": [
        "baseline_results = model_evaluation_matrix(y_true= val_labels_encoded,y_pred=baseline_preds)\n",
        "\n",
        "print(baseline_results)"
      ],
      "execution_count": 25,
      "outputs": [
        {
          "output_type": "stream",
          "text": [
            "{'accuracy': 0.7218323844829869, 'precision': 0.7186466952323352, 'recall': 0.7218323844829869, 'f1 score': 0.6989250353450294}\n"
          ],
          "name": "stdout"
        }
      ]
    },
    {
      "cell_type": "markdown",
      "metadata": {
        "id": "2fw4HMz7t5kD"
      },
      "source": [
        "# Building the deep sequence neural network:"
      ]
    },
    {
      "cell_type": "markdown",
      "metadata": {
        "id": "PphLu7YH6ueu"
      },
      "source": [
        "## Preparing the data for deep neural models:"
      ]
    },
    {
      "cell_type": "code",
      "metadata": {
        "id": "VQ-flL4x67c6"
      },
      "source": [
        "# Preparing the data for deep sequence models:\n",
        "\n",
        "import numpy as np\n",
        "import tensorflow as tf\n",
        "from tensorflow.keras import layers \n",
        "import matplotlib.pyplot as plt\n",
        "\n"
      ],
      "execution_count": 26,
      "outputs": []
    },
    {
      "cell_type": "code",
      "metadata": {
        "id": "fUdzo3cO7QXH"
      },
      "source": [
        "# Before we build tokensization layer, it is important to know how long is each sentence is/or 90 percentile of the sentences \n",
        "# How long is each sentence length on an average\n",
        "average_train_sentences_length = np.mean([len(each_sentence.split()) for each_sentence in train_sentences ])\n"
      ],
      "execution_count": 27,
      "outputs": []
    },
    {
      "cell_type": "code",
      "metadata": {
        "colab": {
          "base_uri": "https://localhost:8080/"
        },
        "id": "PxYb8v7k7QqY",
        "outputId": "2ede6e65-248f-4636-e0fe-4d8e7cdf90d3"
      },
      "source": [
        "average_train_sentences_length"
      ],
      "execution_count": 28,
      "outputs": [
        {
          "output_type": "execute_result",
          "data": {
            "text/plain": [
              "26.338269273494777"
            ]
          },
          "metadata": {
            "tags": []
          },
          "execution_count": 28
        }
      ]
    },
    {
      "cell_type": "code",
      "metadata": {
        "colab": {
          "base_uri": "https://localhost:8080/",
          "height": 399
        },
        "id": "gwsVZhcR7Q8p",
        "outputId": "daab6032-0e8f-4cf7-aa2b-fcc300401b1b"
      },
      "source": [
        "# what's the distribution look like?\n",
        "\n",
        "sentence_length= [len(each_sentence.split()) for each_sentence in train_sentences]\n",
        "plt.hist(sentence_length,bins=20)"
      ],
      "execution_count": 29,
      "outputs": [
        {
          "output_type": "execute_result",
          "data": {
            "text/plain": [
              "(array([4.2075e+04, 8.3771e+04, 3.6877e+04, 1.0945e+04, 3.9310e+03,\n",
              "        1.4450e+03, 5.6000e+02, 2.2600e+02, 1.0100e+02, 4.5000e+01,\n",
              "        2.0000e+01, 1.2000e+01, 9.0000e+00, 1.0000e+01, 6.0000e+00,\n",
              "        2.0000e+00, 3.0000e+00, 0.0000e+00, 1.0000e+00, 1.0000e+00]),\n",
              " array([  1.  ,  15.75,  30.5 ,  45.25,  60.  ,  74.75,  89.5 , 104.25,\n",
              "        119.  , 133.75, 148.5 , 163.25, 178.  , 192.75, 207.5 , 222.25,\n",
              "        237.  , 251.75, 266.5 , 281.25, 296.  ]),\n",
              " <a list of 20 Patch objects>)"
            ]
          },
          "metadata": {
            "tags": []
          },
          "execution_count": 29
        },
        {
          "output_type": "display_data",
          "data": {
            "image/png": "[encoded data removed]",
            "text/plain": [
              "<Figure size 432x288 with 1 Axes>"
            ]
          },
          "metadata": {
            "tags": [],
            "needs_background": "light"
          }
        }
      ]
    },
    {
      "cell_type": "code",
      "metadata": {
        "colab": {
          "base_uri": "https://localhost:8080/"
        },
        "id": "d-38wX2C7RhQ",
        "outputId": "fcd6e9ce-b7c5-4975-d137-8f8e21bb646c"
      },
      "source": [
        "np.percentile(sentence_length,95 )"
      ],
      "execution_count": 30,
      "outputs": [
        {
          "output_type": "execute_result",
          "data": {
            "text/plain": [
              "55.0"
            ]
          },
          "metadata": {
            "tags": []
          },
          "execution_count": 30
        }
      ]
    },
    {
      "cell_type": "code",
      "metadata": {
        "id": "WJZnUTCgLlhU"
      },
      "source": [
        "output_seq = int(np.percentile(sentence_length,95))"
      ],
      "execution_count": 31,
      "outputs": []
    },
    {
      "cell_type": "code",
      "metadata": {
        "id": "_ilFIgDqLV2w"
      },
      "source": [
        "MAX_tokens = 68000"
      ],
      "execution_count": 32,
      "outputs": []
    },
    {
      "cell_type": "code",
      "metadata": {
        "id": "VMmFJUzS7RzI"
      },
      "source": [
        "# Create Text Vectorizer \n",
        "from tensorflow.keras.layers.experimental.preprocessing import TextVectorization\n",
        "\n",
        "text_vectorizer = TextVectorization(max_tokens= 68000,output_sequence_length = output_seq)\n"
      ],
      "execution_count": 33,
      "outputs": []
    },
    {
      "cell_type": "code",
      "metadata": {
        "id": "09k2wTJo7SAo"
      },
      "source": [
        "# Adapt text Vectorizer to training sentences\n",
        "text_vectorizer.adapt(train_sentences)"
      ],
      "execution_count": 34,
      "outputs": []
    },
    {
      "cell_type": "code",
      "metadata": {
        "colab": {
          "base_uri": "https://localhost:8080/"
        },
        "id": "EOzoK-x27SN5",
        "outputId": "baec60e2-3d0b-40b9-e699-5e4cbf962e02"
      },
      "source": [
        "import random \n",
        "\n",
        "target_sentence = random.choice(train_sentences)\n",
        "print(f\"Text:\\n{target_sentence}\")\n",
        "print(f\"\\nLength of the text is {len(target_sentence.split())}\")\n",
        "print(f\"\\n Vectorized text: {text_vectorizer([target_sentence])}\")"
      ],
      "execution_count": 35,
      "outputs": [
        {
          "output_type": "stream",
          "text": [
            "Text:\n",
            "we compared hemodynamic variables , fluid intake , renal function and urine output between groups .\n",
            "\n",
            "Length of the text is 16\n",
            "\n",
            " Vectorized text: [[  43   34 1273  498  796  399  474  149    3  943 1894   30   24    0\n",
            "     0    0    0    0    0    0    0    0    0    0    0    0    0    0\n",
            "     0    0    0    0    0    0    0    0    0    0    0    0    0    0\n",
            "     0    0    0    0    0    0    0    0    0    0    0    0    0]]\n"
          ],
          "name": "stdout"
        }
      ]
    },
    {
      "cell_type": "code",
      "metadata": {
        "colab": {
          "base_uri": "https://localhost:8080/"
        },
        "id": "jc6Ovj0kvzSe",
        "outputId": "9b31f6a7-94fb-4521-a990-47abf4547254"
      },
      "source": [
        "# How many words in our vocabulary \n",
        "\n",
        "rct_20k_text_vocab = text_vectorizer.get_vocabulary()\n",
        "print(f\"Number of total words in the vocab is {len(rct_20k_text_vocab)}\")\n",
        "print(f\"Most common words in the vocab: {rct_20k_text_vocab[:5]}\")\n",
        "print(f\"Most least common words in the vocab: {rct_20k_text_vocab[-5:]}\")"
      ],
      "execution_count": 36,
      "outputs": [
        {
          "output_type": "stream",
          "text": [
            "Number of total words in the vocab is 64841\n",
            "Most common words in the vocab: ['', '[UNK]', 'the', 'and', 'of']\n",
            "Most least common words in the vocab: ['aainduced', 'aaigroup', 'aachener', 'aachen', 'aaacp']\n"
          ],
          "name": "stdout"
        }
      ]
    },
    {
      "cell_type": "code",
      "metadata": {
        "colab": {
          "base_uri": "https://localhost:8080/"
        },
        "id": "eiFZe31cw-m4",
        "outputId": "282dd50b-141b-41c0-83fd-f7d20a39b32e"
      },
      "source": [
        "text_vectorizer.get_config()"
      ],
      "execution_count": 37,
      "outputs": [
        {
          "output_type": "execute_result",
          "data": {
            "text/plain": [
              "{'dtype': 'string',\n",
              " 'max_tokens': 68000,\n",
              " 'name': 'text_vectorization',\n",
              " 'ngrams': None,\n",
              " 'output_mode': 'int',\n",
              " 'output_sequence_length': 55,\n",
              " 'pad_to_max_tokens': False,\n",
              " 'split': 'whitespace',\n",
              " 'standardize': 'lower_and_strip_punctuation',\n",
              " 'trainable': True,\n",
              " 'vocabulary_size': 64841}"
            ]
          },
          "metadata": {
            "tags": []
          },
          "execution_count": 37
        }
      ]
    },
    {
      "cell_type": "markdown",
      "metadata": {
        "id": "Ivol0L_TxbH5"
      },
      "source": [
        "### Creating custom text embedding layer:\n"
      ]
    },
    {
      "cell_type": "code",
      "metadata": {
        "id": "VloUyMWbxidf"
      },
      "source": [
        "# Create token embedding layer\n",
        "\n",
        "token_embedding = layers.Embedding(input_dim=len(rct_20k_text_vocab ),output_dim=128,mask_zero= True,name=\"Token_embedding\")"
      ],
      "execution_count": 38,
      "outputs": []
    },
    {
      "cell_type": "code",
      "metadata": {
        "colab": {
          "base_uri": "https://localhost:8080/"
        },
        "id": "0oYm8-4By2gm",
        "outputId": "6017bcd6-d186-44d0-c0cf-6213f1cb30d4"
      },
      "source": [
        "print(f\"Sentence before Vectorization:\\n {target_sentence}\\n\")\n",
        "vectorized_sentence = text_vectorizer([target_sentence])\n",
        "print(f\"Sentence after Vectotization:\\n{vectorized_sentence}\")  \n",
        "embedded_sentence = token_embedding(vectorized_sentence)\n",
        "print(\"\\n\")\n",
        "print(f\"Sentence after embedding is:\\n {embedded_sentence}\")\n",
        "print(embedded_sentence.shape)"
      ],
      "execution_count": 39,
      "outputs": [
        {
          "output_type": "stream",
          "text": [
            "Sentence before Vectorization:\n",
            " we compared hemodynamic variables , fluid intake , renal function and urine output between groups .\n",
            "\n",
            "Sentence after Vectotization:\n",
            "[[  43   34 1273  498  796  399  474  149    3  943 1894   30   24    0\n",
            "     0    0    0    0    0    0    0    0    0    0    0    0    0    0\n",
            "     0    0    0    0    0    0    0    0    0    0    0    0    0    0\n",
            "     0    0    0    0    0    0    0    0    0    0    0    0    0]]\n",
            "\n",
            "\n",
            "Sentence after embedding is:\n",
            " [[[ 0.02860843  0.00633755 -0.00562488 ... -0.0424036   0.00535566\n",
            "   -0.03310673]\n",
            "  [-0.01516481 -0.00028448  0.02665691 ... -0.04309812 -0.02167821\n",
            "   -0.04406685]\n",
            "  [ 0.02236886  0.04192123  0.04794208 ... -0.01087022  0.03781832\n",
            "    0.02486611]\n",
            "  ...\n",
            "  [ 0.040606    0.00566681 -0.03065532 ...  0.03641062  0.03868293\n",
            "   -0.02202722]\n",
            "  [ 0.040606    0.00566681 -0.03065532 ...  0.03641062  0.03868293\n",
            "   -0.02202722]\n",
            "  [ 0.040606    0.00566681 -0.03065532 ...  0.03641062  0.03868293\n",
            "   -0.02202722]]]\n",
            "(1, 55, 128)\n"
          ],
          "name": "stdout"
        }
      ]
    },
    {
      "cell_type": "markdown",
      "metadata": {
        "id": "NahiWqoy84TW"
      },
      "source": [
        "### Creating the tensorflow dataset:\n",
        "We'r going to create our dataset so that it runs faster. We are going to use tf.data.Dataset API\n"
      ]
    },
    {
      "cell_type": "code",
      "metadata": {
        "id": "RTC7VfvO-sT1"
      },
      "source": [
        "# Turn our data into tensorflow datatset\n",
        "\n",
        "train_dataset = tf.data.Dataset.from_tensor_slices((train_sentences,train_labels_one_hot))\n",
        "valid_datatset = tf.data.Dataset.from_tensor_slices((val_sentences,val_labels_one_hot))\n",
        "test_dataset = tf.data.Dataset.from_tensor_slices((test_sentences,test_labels_one_hot))"
      ],
      "execution_count": 40,
      "outputs": []
    },
    {
      "cell_type": "code",
      "metadata": {
        "id": "QO9A-BYwAHyW"
      },
      "source": [
        "train_dataset = train_dataset.batch(32).prefetch(tf.data.AUTOTUNE)\n",
        "valid_datatset = valid_datatset.batch(32).prefetch(tf.data.AUTOTUNE)\n",
        "test_dataset = test_dataset.batch(32).prefetch(tf.data.AUTOTUNE)\n"
      ],
      "execution_count": 41,
      "outputs": []
    },
    {
      "cell_type": "code",
      "metadata": {
        "colab": {
          "base_uri": "https://localhost:8080/"
        },
        "id": "z3cMv3MqAuBG",
        "outputId": "8558e04d-54a9-4a8a-f640-e193ab5b25c2"
      },
      "source": [
        "train_dataset"
      ],
      "execution_count": 42,
      "outputs": [
        {
          "output_type": "execute_result",
          "data": {
            "text/plain": [
              "<PrefetchDataset shapes: ((None,), (None, 5)), types: (tf.string, tf.float64)>"
            ]
          },
          "metadata": {
            "tags": []
          },
          "execution_count": 42
        }
      ]
    },
    {
      "cell_type": "code",
      "metadata": {
        "colab": {
          "base_uri": "https://localhost:8080/"
        },
        "id": "P_ifloEHH5BO",
        "outputId": "e8cece0b-8b31-499a-b8a8-3e50e739ba23"
      },
      "source": [
        "len(train_dataset)"
      ],
      "execution_count": 43,
      "outputs": [
        {
          "output_type": "execute_result",
          "data": {
            "text/plain": [
              "5627"
            ]
          },
          "metadata": {
            "tags": []
          },
          "execution_count": 43
        }
      ]
    },
    {
      "cell_type": "markdown",
      "metadata": {
        "id": "o24ZWP-nBjhu"
      },
      "source": [
        "### Building the Cov1D with token embedding \n",
        "We will create the model for Cov1D"
      ]
    },
    {
      "cell_type": "code",
      "metadata": {
        "id": "XUFhyDmmB0H9"
      },
      "source": [
        "inputs = layers.Input(shape=(1,),dtype=tf.string) # inputs layer taken in each sentences \n",
        "text_vectors = text_vectorizer(inputs)           # vectorise text inputs \n",
        "token_embedding = token_embedding(text_vectors)  # create embedding\n",
        "x = layers.Conv1D(64,kernel_size=5,padding='same',activation=\"relu\")(token_embedding)\n",
        "x = layers.GlobalAveragePooling1D()(x)\n",
        "outputs = layers.Dense(5,activation=\"softmax\")(x)\n",
        "\n",
        "model_1 = tf.keras.Model(inputs,outputs)\n",
        "\n",
        "# Compile the model:\n",
        "\n",
        "model_1.compile(loss=\"categorical_crossentropy\",optimizer=tf.keras.optimizers.Adam(),\n",
        "                metrics = [\"accuracy\"])\n",
        "\n"
      ],
      "execution_count": 44,
      "outputs": []
    },
    {
      "cell_type": "code",
      "metadata": {
        "colab": {
          "base_uri": "https://localhost:8080/"
        },
        "id": "VqfsFKKzE7R3",
        "outputId": "2d7243d1-f529-4c1c-c62f-16f03857a60e"
      },
      "source": [
        "model_1.summary"
      ],
      "execution_count": 45,
      "outputs": [
        {
          "output_type": "execute_result",
          "data": {
            "text/plain": [
              "<bound method Model.summary of <tensorflow.python.keras.engine.functional.Functional object at 0x7fc518b84e90>>"
            ]
          },
          "metadata": {
            "tags": []
          },
          "execution_count": 45
        }
      ]
    },
    {
      "cell_type": "code",
      "metadata": {
        "colab": {
          "base_uri": "https://localhost:8080/"
        },
        "id": "MrUi-uQeHV31",
        "outputId": "5f2b10f1-8af5-46d4-dd99-5f88c6465997"
      },
      "source": [
        "# We are using only 10% of the dataset for the training here as we want to reduce the time to train\n",
        "# We are using the atribute steps_per_epochs attribute to perform that\n",
        "history_model_1 = model_1.fit(train_dataset,steps_per_epoch=int(0.1*len(train_dataset)),\n",
        "                              epochs = 3,\n",
        "                              validation_data = valid_datatset,\n",
        "                              validation_steps =int(0.1*len(valid_datatset)))"
      ],
      "execution_count": 46,
      "outputs": [
        {
          "output_type": "stream",
          "text": [
            "Epoch 1/3\n",
            "562/562 [==============================] - 78s 83ms/step - loss: 0.9210 - accuracy: 0.6376 - val_loss: 0.6828 - val_accuracy: 0.7394\n",
            "Epoch 2/3\n",
            "562/562 [==============================] - 46s 83ms/step - loss: 0.6595 - accuracy: 0.7552 - val_loss: 0.6328 - val_accuracy: 0.7693\n",
            "Epoch 3/3\n",
            "562/562 [==============================] - 47s 83ms/step - loss: 0.6205 - accuracy: 0.7725 - val_loss: 0.6011 - val_accuracy: 0.7846\n"
          ],
          "name": "stdout"
        }
      ]
    },
    {
      "cell_type": "code",
      "metadata": {
        "colab": {
          "base_uri": "https://localhost:8080/"
        },
        "id": "5_oEfNOtK6Aq",
        "outputId": "cfaead3b-d905-436c-be38-43ebcf9a5f1f"
      },
      "source": [
        "# Evaluate on whole validation dataset:\n",
        "model_1.evaluate(valid_datatset)"
      ],
      "execution_count": 47,
      "outputs": [
        {
          "output_type": "stream",
          "text": [
            "945/945 [==============================] - 3s 4ms/step - loss: 0.6032 - accuracy: 0.7851\n"
          ],
          "name": "stdout"
        },
        {
          "output_type": "execute_result",
          "data": {
            "text/plain": [
              "[0.6032207012176514, 0.7850522994995117]"
            ]
          },
          "metadata": {
            "tags": []
          },
          "execution_count": 47
        }
      ]
    },
    {
      "cell_type": "code",
      "metadata": {
        "colab": {
          "base_uri": "https://localhost:8080/"
        },
        "id": "BBAm8VjOLnBD",
        "outputId": "1df8d386-93ad-4cfd-c59e-8429af924384"
      },
      "source": [
        "model_1_pred_probs = model_1.predict(valid_datatset)\n",
        "model_1_pred_probs, model_1_pred_probs.shape"
      ],
      "execution_count": 48,
      "outputs": [
        {
          "output_type": "execute_result",
          "data": {
            "text/plain": [
              "(array([[4.5913106e-01, 1.7035693e-01, 8.2321063e-02, 2.4883573e-01,\n",
              "         3.9355315e-02],\n",
              "        [4.1808209e-01, 2.9792503e-01, 1.2260695e-02, 2.6446524e-01,\n",
              "         7.2669960e-03],\n",
              "        [1.5321139e-01, 1.0083755e-02, 2.1197298e-03, 8.3454919e-01,\n",
              "         3.5880370e-05],\n",
              "        ...,\n",
              "        [5.5381593e-06, 5.4390187e-04, 6.7984231e-04, 2.0305140e-06,\n",
              "         9.9876863e-01],\n",
              "        [5.4464102e-02, 4.8809972e-01, 8.7458439e-02, 6.7931049e-02,\n",
              "         3.0204663e-01],\n",
              "        [1.4376839e-01, 6.6592252e-01, 3.1343911e-02, 5.7390578e-02,\n",
              "         1.0157464e-01]], dtype=float32), (30212, 5))"
            ]
          },
          "metadata": {
            "tags": []
          },
          "execution_count": 48
        }
      ]
    },
    {
      "cell_type": "code",
      "metadata": {
        "colab": {
          "base_uri": "https://localhost:8080/"
        },
        "id": "rgYfmeE6MImL",
        "outputId": "2c419097-05af-4f18-9255-591546f19704"
      },
      "source": [
        "model_1_preds = tf.argmax(model_1_pred_probs,axis=1)\n",
        "model_1_preds"
      ],
      "execution_count": 49,
      "outputs": [
        {
          "output_type": "execute_result",
          "data": {
            "text/plain": [
              "<tf.Tensor: shape=(30212,), dtype=int64, numpy=array([0, 0, 3, ..., 4, 1, 1])>"
            ]
          },
          "metadata": {
            "tags": []
          },
          "execution_count": 49
        }
      ]
    },
    {
      "cell_type": "code",
      "metadata": {
        "colab": {
          "base_uri": "https://localhost:8080/"
        },
        "id": "4gOQCEsLMsSR",
        "outputId": "516d55ea-1543-4524-9c00-281e2ad7d89f"
      },
      "source": [
        "model_1_results = model_evaluation_matrix(y_true=val_labels_encoded,y_pred=model_1_preds)\n",
        "\n",
        "model_1_results "
      ],
      "execution_count": 50,
      "outputs": [
        {
          "output_type": "execute_result",
          "data": {
            "text/plain": [
              "{'accuracy': 0.7850522971004898,\n",
              " 'f1 score': 0.7824232993915439,\n",
              " 'precision': 0.7818070190354568,\n",
              " 'recall': 0.7850522971004898}"
            ]
          },
          "metadata": {
            "tags": []
          },
          "execution_count": 50
        }
      ]
    },
    {
      "cell_type": "markdown",
      "metadata": {
        "id": "eHPbFKlEOOr4"
      },
      "source": [
        "### Model 2: Feature extraction using preptrained token embeddings\n",
        "\n",
        "Now lets use the pretrained sentence encoders from Tensorflow Hub, more specifically the universal sentence encoder:\n",
        "https://tfhub.dev/google/universal-sentence-encoder/4\n",
        "\n",
        "The paper originally used Glove emdedding, however,we're going to stick with the later created USE pretrained embedding \n"
      ]
    },
    {
      "cell_type": "code",
      "metadata": {
        "id": "DUs6egqgQRiR"
      },
      "source": [
        "# Download pretrained Tensorflow Hub USE\n",
        "\n",
        "import tensorflow_hub as hub\n",
        "\n",
        "tf_hub_embedding_layer = hub.KerasLayer(\"https://tfhub.dev/google/universal-sentence-encoder/4\",trainable = False,name=\"universal_sentence_encoder\")"
      ],
      "execution_count": 51,
      "outputs": []
    },
    {
      "cell_type": "code",
      "metadata": {
        "colab": {
          "base_uri": "https://localhost:8080/"
        },
        "id": "RmVl3mG-RwUg",
        "outputId": "394ae134-11e4-4091-9008-6911000ee66b"
      },
      "source": [
        "random_train_sentence = random.choice(train_sentences)\n",
        "print(f\"Random Sentence\\n:{random_train_sentence}\")\n",
        "print(f\" The embedding sentence:\\n is {tf_hub_embedding_layer([random_train_sentence])}\")"
      ],
      "execution_count": 52,
      "outputs": [
        {
          "output_type": "stream",
          "text": [
            "Random Sentence\n",
            ":dual-energy x-ray absorptiometry ( dxa ) scans from @ hiv-infected adults randomised to simplify their existing dual nucleoside analogue reverse transcriptase inhibitor therapy to coformulated tenofovir-emtricitabine or abacavir-lamivudine were analysed using dxa-derived hip structural analysis software .\n",
            " The embedding sentence:\n",
            " is [[-0.05756668  0.00755258 -0.06062604 -0.02932074 -0.05935215 -0.02773248\n",
            "  -0.05571362  0.01653929 -0.02626612  0.05227515  0.07792827 -0.07786644\n",
            "   0.04308835  0.00981571  0.00040137 -0.03270322 -0.07352748  0.00910835\n",
            "   0.06438576  0.02859113  0.03346201  0.07322077 -0.05843283  0.02465279\n",
            "   0.02986895  0.05524403  0.0227467   0.05810003 -0.05473039 -0.02674458\n",
            "   0.00232994  0.07972623  0.05612796  0.03403882 -0.06738184 -0.02309451\n",
            "   0.00441838  0.03371576 -0.07734049 -0.04684371  0.00855837 -0.03289664\n",
            "   0.00388593 -0.04668445  0.03236615 -0.0169002   0.01003844 -0.03303254\n",
            "   0.01955307  0.04847974 -0.05036137  0.00084392 -0.03207457 -0.06225707\n",
            "  -0.07163285  0.00932492  0.01345405 -0.04406004 -0.01118206 -0.03739739\n",
            "   0.0138802  -0.01452633  0.03249392  0.02725083 -0.03923202 -0.03934227\n",
            "   0.04014781 -0.05397834 -0.0320627  -0.0641339  -0.00976248  0.06964481\n",
            "   0.05638993  0.00356234 -0.03402084  0.03759363 -0.01930569  0.04541619\n",
            "  -0.01713243  0.05096582 -0.03922138  0.0562824  -0.00630015  0.0393571\n",
            "  -0.0548812   0.01740383  0.00671259  0.03325128 -0.03212658  0.01762011\n",
            "   0.00130901 -0.0240281  -0.0024297  -0.06294911 -0.04598043 -0.02878229\n",
            "   0.02867767  0.04591716  0.03715694 -0.04432701  0.06438303  0.02945482\n",
            "   0.02411074  0.06765918  0.02494186 -0.0323178  -0.03637457  0.06415868\n",
            "  -0.0057938   0.00621736  0.03052877 -0.05661668  0.0585099  -0.07743771\n",
            "   0.02759709  0.01342556 -0.03278952  0.0251644   0.06926163  0.01286315\n",
            "   0.00366133 -0.01519136  0.05740684  0.05408892  0.04373275  0.00867674\n",
            "  -0.04759454 -0.00135668  0.02021183 -0.01269615 -0.03964557  0.07811004\n",
            "   0.06151327 -0.002225    0.00036095  0.02414173  0.02708084 -0.06869731\n",
            "  -0.0277775   0.02271895  0.05338937  0.0801903  -0.05438436 -0.02685614\n",
            "  -0.06059209  0.03264626  0.0369674  -0.04585663 -0.02456822  0.0636246\n",
            "   0.01755384 -0.06651964 -0.06131523 -0.04963078  0.07711101  0.0592682\n",
            "   0.06219589  0.04886055  0.05271185 -0.01117073 -0.0718611  -0.01085317\n",
            "   0.05985774  0.07666127 -0.02516205 -0.06498488 -0.02995104 -0.01968556\n",
            "  -0.04381439 -0.01102241 -0.00431534 -0.01548628 -0.03713296  0.01001445\n",
            "   0.00681381 -0.05751101  0.00242103  0.04259791  0.06412196  0.05261013\n",
            "  -0.04490007 -0.06092041 -0.02916472 -0.03112086  0.07229296  0.01130524\n",
            "  -0.01905813 -0.01377074 -0.00622537  0.01961795  0.07988953  0.01224502\n",
            "   0.02199634  0.05273707  0.04142464 -0.05462391 -0.00628222  0.05013925\n",
            "  -0.0328596  -0.0616928  -0.05989903 -0.01707193  0.00816831  0.02071516\n",
            "   0.0464868  -0.06588601  0.06716146  0.05301811  0.02011243  0.02403421\n",
            "  -0.02886712  0.05287925  0.03847865  0.03787808 -0.06529301 -0.02113685\n",
            "   0.04339028  0.05270257 -0.03840096  0.03538968  0.02123317 -0.00624884\n",
            "   0.02435249 -0.00464462 -0.02997297  0.03271909 -0.02183152  0.03411316\n",
            "  -0.03780397  0.0287432   0.00553928 -0.02788657 -0.07554455 -0.06965069\n",
            "   0.00272802  0.0208171  -0.02465909 -0.05100975 -0.06061391  0.06936293\n",
            "   0.02325322 -0.00840387 -0.07383476 -0.03420517  0.05632322  0.0074345\n",
            "  -0.06705558  0.02906201 -0.04560321 -0.06647184 -0.07452685 -0.04749126\n",
            "  -0.00936956  0.01317809  0.05447265 -0.0510333  -0.04340194  0.08126633\n",
            "  -0.004654   -0.04385418 -0.02782139 -0.00267433  0.06488144  0.06309868\n",
            "   0.05507886  0.00989095 -0.0717179  -0.06894285  0.02269839  0.0349542\n",
            "  -0.00264608  0.06309802  0.01417152 -0.01958982 -0.07227293  0.01065414\n",
            "  -0.05157548 -0.05669071  0.02045448  0.01435557 -0.06845882  0.03451736\n",
            "   0.00981407  0.07345232 -0.02973759 -0.01407334  0.04068078  0.06158314\n",
            "  -0.06058115 -0.05833415  0.01518818 -0.00967481 -0.00261292  0.00962198\n",
            "   0.06565057 -0.04191041 -0.05112378 -0.01223964  0.00634614  0.03736762\n",
            "  -0.00010757  0.01339944  0.05158509 -0.04902824 -0.04561749  0.06534736\n",
            "  -0.01059932 -0.067766    0.04622149 -0.03409696 -0.05353452  0.03982584\n",
            "   0.06744643 -0.03299118  0.0491911   0.00951497 -0.01397391 -0.02302803\n",
            "   0.06558871 -0.04362535 -0.04088526 -0.05714577 -0.01415193 -0.07369525\n",
            "   0.03349923  0.02042482 -0.0662722  -0.0068805   0.00911063  0.00880251\n",
            "   0.0199102  -0.03104217  0.06265213  0.07241689 -0.01406123  0.05077333\n",
            "  -0.03949285  0.05185163  0.03775898 -0.03992235 -0.06619906  0.02740349\n",
            "   0.0637847  -0.02753253 -0.07566418  0.04030105  0.06884368  0.04264586\n",
            "  -0.05838262  0.02471057 -0.05229223  0.06397153  0.00147506 -0.06245003\n",
            "   0.06428204  0.07161459 -0.07204782 -0.05336693  0.00062047 -0.07689676\n",
            "  -0.02939633 -0.07219873 -0.03722329 -0.02427802 -0.00850293 -0.0588482\n",
            "   0.03625021 -0.00146019  0.05590921  0.04155699  0.03321252  0.04219169\n",
            "  -0.0046552  -0.06797669  0.06229675  0.0419059   0.05579064 -0.06741332\n",
            "  -0.03696636 -0.06375995  0.00516129  0.07537969 -0.06037294 -0.00840453\n",
            "  -0.06819649 -0.03437285 -0.05085062 -0.04230268  0.07189914 -0.05863146\n",
            "  -0.06828194  0.0059984   0.07576258  0.05335916  0.07089195  0.02904124\n",
            "   0.07083005 -0.07174484  0.05629225 -0.02198212  0.07022032 -0.02634679\n",
            "  -0.06640713  0.02645926  0.0293898  -0.01510978 -0.00087668  0.03398823\n",
            "   0.04191715  0.06068748 -0.03263336 -0.03072309 -0.00853941 -0.05594577\n",
            "  -0.00940414  0.00557247  0.00043364 -0.03743523  0.00449416  0.04177248\n",
            "   0.02530832  0.04413473 -0.00819896 -0.06809594  0.05416488 -0.06138507\n",
            "  -0.03953001 -0.06969825  0.03612143 -0.04157726 -0.02779325  0.00226517\n",
            "   0.01703792 -0.06185057 -0.03434581  0.05129008 -0.00828549 -0.035499\n",
            "  -0.02712609  0.07465907 -0.01155305  0.03242377  0.00478607 -0.03988932\n",
            "   0.04443598 -0.04337595  0.00033697 -0.03729716 -0.0432425  -0.01387604\n",
            "   0.02979014 -0.02024879 -0.07243367 -0.01138705 -0.04380384 -0.02549007\n",
            "  -0.06656309  0.05853149 -0.06516815  0.06371832 -0.00049404 -0.03020628\n",
            "  -0.00236428  0.04077895  0.01718456 -0.04847861 -0.01038883  0.02589807\n",
            "   0.03525448 -0.01742948  0.07002763  0.03563457 -0.06017279  0.06582692\n",
            "   0.06142258  0.06609071 -0.06472248  0.0236816  -0.02132813 -0.02983026\n",
            "  -0.02721588  0.00788637 -0.02589414 -0.06442002 -0.00208687  0.06321308\n",
            "   0.03449104 -0.01319123 -0.00179507 -0.02966912 -0.04098989 -0.01459394\n",
            "  -0.03500219 -0.02757057  0.0629324  -0.01410763  0.01570635 -0.00826252\n",
            "   0.0658004   0.04284516  0.06061307 -0.06742097  0.02994285 -0.07470705\n",
            "  -0.0245423  -0.08118838  0.06255179  0.03891216 -0.00575588 -0.01099762\n",
            "  -0.01694844 -0.06123805]]\n"
          ],
          "name": "stdout"
        }
      ]
    },
    {
      "cell_type": "code",
      "metadata": {
        "colab": {
          "base_uri": "https://localhost:8080/"
        },
        "id": "yXEN-ldAaohj",
        "outputId": "57558fc0-0e29-4826-dc8b-019a8dbf8695"
      },
      "source": [
        "# Creating a small nueral network \n",
        "\n",
        "inputs = layers.Input(shape=[],dtype=tf.string)\n",
        "embedding_layer = tf_hub_embedding_layer(inputs)\n",
        "#x = layers.GlobalAveragePooling1D()(embedding_layer)\n",
        "x = layers.Dense(128,activation='relu')(embedding_layer)\n",
        "output = layers.Dense(5,activation='softmax')(x)\n",
        "\n",
        "model_2 = tf.keras.Model(inputs,output,name=\"model_2_USE_feature_extractor\")\n",
        "\n",
        "model_2.compile(loss=\"categorical_crossentropy\",optimizer=tf.keras.optimizers.Adam(),metrics=['accuracy'])\n",
        "\n",
        "model_2.fit(train_dataset,\n",
        "            epochs=3,\n",
        "            steps_per_epoch=int(0.1*len(train_dataset)),\n",
        "            validation_data= valid_datatset,\n",
        "            validation_steps = int(0.1* len(valid_datatset))\n",
        ")\n"
      ],
      "execution_count": 53,
      "outputs": [
        {
          "output_type": "stream",
          "text": [
            "Epoch 1/3\n",
            "562/562 [==============================] - 9s 13ms/step - loss: 0.9217 - accuracy: 0.6436 - val_loss: 0.7952 - val_accuracy: 0.6895\n",
            "Epoch 2/3\n",
            "562/562 [==============================] - 7s 12ms/step - loss: 0.7676 - accuracy: 0.7037 - val_loss: 0.7508 - val_accuracy: 0.7084\n",
            "Epoch 3/3\n",
            "562/562 [==============================] - 7s 12ms/step - loss: 0.7502 - accuracy: 0.7129 - val_loss: 0.7354 - val_accuracy: 0.7174\n"
          ],
          "name": "stdout"
        },
        {
          "output_type": "execute_result",
          "data": {
            "text/plain": [
              "<tensorflow.python.keras.callbacks.History at 0x7fc474a57350>"
            ]
          },
          "metadata": {
            "tags": []
          },
          "execution_count": 53
        }
      ]
    },
    {
      "cell_type": "code",
      "metadata": {
        "colab": {
          "base_uri": "https://localhost:8080/"
        },
        "id": "4JDtOFD-zWsx",
        "outputId": "670f55c4-adf0-4f74-d0fa-c891e0caa4fb"
      },
      "source": [
        "model_2.evaluate(valid_datatset)"
      ],
      "execution_count": 54,
      "outputs": [
        {
          "output_type": "stream",
          "text": [
            "945/945 [==============================] - 10s 11ms/step - loss: 0.7385 - accuracy: 0.7148\n"
          ],
          "name": "stdout"
        },
        {
          "output_type": "execute_result",
          "data": {
            "text/plain": [
              "[0.7384938597679138, 0.7148153185844421]"
            ]
          },
          "metadata": {
            "tags": []
          },
          "execution_count": 54
        }
      ]
    },
    {
      "cell_type": "code",
      "metadata": {
        "colab": {
          "base_uri": "https://localhost:8080/"
        },
        "id": "n4QNxhsJ2tkV",
        "outputId": "b01b3fd7-46f7-455b-c93e-4b2a75aaa5f3"
      },
      "source": [
        "model_2_predict_probs = model_2.predict(valid_datatset)\n",
        "model_2_predict_probs"
      ],
      "execution_count": 55,
      "outputs": [
        {
          "output_type": "execute_result",
          "data": {
            "text/plain": [
              "array([[4.3132031e-01, 3.5181099e-01, 1.9645323e-03, 2.0798638e-01,\n",
              "        6.9177789e-03],\n",
              "       [3.2552809e-01, 5.0788778e-01, 4.1561881e-03, 1.5932713e-01,\n",
              "        3.1008292e-03],\n",
              "       [2.1007317e-01, 1.4593689e-01, 1.6475428e-02, 5.8690417e-01,\n",
              "        4.0610358e-02],\n",
              "       ...,\n",
              "       [1.8716265e-03, 4.7358200e-03, 5.7620008e-02, 9.2702825e-04,\n",
              "        9.3484551e-01],\n",
              "       [4.2168838e-03, 4.6281569e-02, 2.3494938e-01, 1.6870907e-03,\n",
              "        7.1286505e-01],\n",
              "       [1.6736576e-01, 2.6382831e-01, 5.0646055e-01, 6.3283541e-03,\n",
              "        5.6017037e-02]], dtype=float32)"
            ]
          },
          "metadata": {
            "tags": []
          },
          "execution_count": 55
        }
      ]
    },
    {
      "cell_type": "code",
      "metadata": {
        "colab": {
          "base_uri": "https://localhost:8080/"
        },
        "id": "photudgA3QzV",
        "outputId": "ef75b646-e757-49df-93e3-319197e5d17a"
      },
      "source": [
        "model_2_preds = tf.argmax(model_2_predict_probs,axis=1)\n",
        "model_2_preds"
      ],
      "execution_count": 56,
      "outputs": [
        {
          "output_type": "execute_result",
          "data": {
            "text/plain": [
              "<tf.Tensor: shape=(30212,), dtype=int64, numpy=array([0, 1, 3, ..., 4, 4, 2])>"
            ]
          },
          "metadata": {
            "tags": []
          },
          "execution_count": 56
        }
      ]
    },
    {
      "cell_type": "code",
      "metadata": {
        "colab": {
          "base_uri": "https://localhost:8080/"
        },
        "id": "hE__q4C03qyj",
        "outputId": "dbcff25f-004d-4fe9-b70d-d74fac2bf5bb"
      },
      "source": [
        "# Calculate results from TFhub pretrained embedding results \n",
        "model_2_results= model_evaluation_matrix(y_true=val_labels_encoded,y_pred=model_2_preds)\n",
        "model_2_results"
      ],
      "execution_count": 57,
      "outputs": [
        {
          "output_type": "execute_result",
          "data": {
            "text/plain": [
              "{'accuracy': 0.714815305176751,\n",
              " 'f1 score': 0.7116229110752667,\n",
              " 'precision': 0.71470254257392,\n",
              " 'recall': 0.714815305176751}"
            ]
          },
          "metadata": {
            "tags": []
          },
          "execution_count": 57
        }
      ]
    },
    {
      "cell_type": "markdown",
      "metadata": {
        "id": "xYBHo5SA4QJO"
      },
      "source": [
        "# Model_3 : Conv1D with Chatacter embeddings \n",
        "\n",
        "The paper we are replicating states that they are using combnation of chatecter-lavel embedding along with token level embedding.\n",
        "In this section, we will try to  build similar steps of charecter embeddings"
      ]
    },
    {
      "cell_type": "markdown",
      "metadata": {
        "id": "Calj1Vzx5IGT"
      },
      "source": [
        "### Character label tokenizer"
      ]
    },
    {
      "cell_type": "code",
      "metadata": {
        "colab": {
          "base_uri": "https://localhost:8080/",
          "height": 102
        },
        "id": "ClRAJMS56FpH",
        "outputId": "84812854-5594-4dc3-f7a0-45bd7084d1a3"
      },
      "source": [
        "def split_chars(text):\n",
        "  return \" \".join(list(text))\n",
        "\n",
        "split_chars(random_train_sentence)"
      ],
      "execution_count": 58,
      "outputs": [
        {
          "output_type": "execute_result",
          "data": {
            "application/vnd.google.colaboratory.intrinsic+json": {
              "type": "string"
            },
            "text/plain": [
              "'d u a l - e n e r g y   x - r a y   a b s o r p t i o m e t r y   (   d x a   )   s c a n s   f r o m   @   h i v - i n f e c t e d   a d u l t s   r a n d o m i s e d   t o   s i m p l i f y   t h e i r   e x i s t i n g   d u a l   n u c l e o s i d e   a n a l o g u e   r e v e r s e   t r a n s c r i p t a s e   i n h i b i t o r   t h e r a p y   t o   c o f o r m u l a t e d   t e n o f o v i r - e m t r i c i t a b i n e   o r   a b a c a v i r - l a m i v u d i n e   w e r e   a n a l y s e d   u s i n g   d x a - d e r i v e d   h i p   s t r u c t u r a l   a n a l y s i s   s o f t w a r e   .'"
            ]
          },
          "metadata": {
            "tags": []
          },
          "execution_count": 58
        }
      ]
    },
    {
      "cell_type": "code",
      "metadata": {
        "colab": {
          "base_uri": "https://localhost:8080/"
        },
        "id": "0ECKGzkD9Pa_",
        "outputId": "a32b0dd5-5e0a-4473-f6cf-f6165befbfb1"
      },
      "source": [
        "train_chars = [split_chars(sentence) for sentence in train_sentences ]\n",
        "val_chars = [split_chars(sentences) for sentences in val_sentences]\n",
        "test_chars = [split_chars(sentences) for sentences in test_sentences]\n",
        "\n",
        "train_chars[:5]"
      ],
      "execution_count": 59,
      "outputs": [
        {
          "output_type": "execute_result",
          "data": {
            "text/plain": [
              "['t o   i n v e s t i g a t e   t h e   e f f i c a c y   o f   @   w e e k s   o f   d a i l y   l o w - d o s e   o r a l   p r e d n i s o l o n e   i n   i m p r o v i n g   p a i n   ,   m o b i l i t y   ,   a n d   s y s t e m i c   l o w - g r a d e   i n f l a m m a t i o n   i n   t h e   s h o r t   t e r m   a n d   w h e t h e r   t h e   e f f e c t   w o u l d   b e   s u s t a i n e d   a t   @   w e e k s   i n   o l d e r   a d u l t s   w i t h   m o d e r a t e   t o   s e v e r e   k n e e   o s t e o a r t h r i t i s   (   o a   )   .',\n",
              " 'a   t o t a l   o f   @   p a t i e n t s   w i t h   p r i m a r y   k n e e   o a   w e r e   r a n d o m i z e d   @ : @   ;   @   r e c e i v e d   @   m g / d a y   o f   p r e d n i s o l o n e   a n d   @   r e c e i v e d   p l a c e b o   f o r   @   w e e k s   .',\n",
              " 'o u t c o m e   m e a s u r e s   i n c l u d e d   p a i n   r e d u c t i o n   a n d   i m p r o v e m e n t   i n   f u n c t i o n   s c o r e s   a n d   s y s t e m i c   i n f l a m m a t i o n   m a r k e r s   .',\n",
              " 'p a i n   w a s   a s s e s s e d   u s i n g   t h e   v i s u a l   a n a l o g   p a i n   s c a l e   (   @ - @   m m   )   .',\n",
              " 's e c o n d a r y   o u t c o m e   m e a s u r e s   i n c l u d e d   t h e   w e s t e r n   o n t a r i o   a n d   m c m a s t e r   u n i v e r s i t i e s   o s t e o a r t h r i t i s   i n d e x   s c o r e s   ,   p a t i e n t   g l o b a l   a s s e s s m e n t   (   p g a   )   o f   t h e   s e v e r i t y   o f   k n e e   o a   ,   a n d   @ - m i n   w a l k   d i s t a n c e   (   @ m w d   )   .']"
            ]
          },
          "metadata": {
            "tags": []
          },
          "execution_count": 59
        }
      ]
    },
    {
      "cell_type": "code",
      "metadata": {
        "colab": {
          "base_uri": "https://localhost:8080/"
        },
        "id": "mUwzQUTg_hIa",
        "outputId": "5dc86f76-d2bc-454f-bc22-6ffbc7e7dbb1"
      },
      "source": [
        "# what is the average length of characters in the train sentence\n",
        "\n",
        "char_length = [len(sentence)for sentence in train_sentences]\n",
        "mean_char_length = np.mean(char_length)\n",
        "print(mean_char_length)"
      ],
      "execution_count": 60,
      "outputs": [
        {
          "output_type": "stream",
          "text": [
            "149.3662574983337\n"
          ],
          "name": "stdout"
        }
      ]
    },
    {
      "cell_type": "code",
      "metadata": {
        "colab": {
          "base_uri": "https://localhost:8080/"
        },
        "id": "XZKJh3OpXNsS",
        "outputId": "493ff741-23ac-4cd1-fc02-4c87b4d060e1"
      },
      "source": [
        "output_char_length = int(np.percentile(char_length,95))\n",
        "print(output_char_length)"
      ],
      "execution_count": 61,
      "outputs": [
        {
          "output_type": "stream",
          "text": [
            "290\n"
          ],
          "name": "stdout"
        }
      ]
    },
    {
      "cell_type": "code",
      "metadata": {
        "colab": {
          "base_uri": "https://localhost:8080/",
          "height": 366
        },
        "id": "MEoRkYXO_hcH",
        "outputId": "c93eb46d-9cdd-4cae-f780-e3cd93d9d9a5"
      },
      "source": [
        "import matplotlib.pyplot as plt\n",
        "plt.hist(char_length,bins=10)"
      ],
      "execution_count": 62,
      "outputs": [
        {
          "output_type": "execute_result",
          "data": {
            "text/plain": [
              "(array([9.2691e+04, 7.6343e+04, 9.6890e+03, 1.0890e+03, 1.6700e+02,\n",
              "        4.2000e+01, 1.3000e+01, 3.0000e+00, 2.0000e+00, 1.0000e+00]),\n",
              " array([1.0000e+00, 1.3950e+02, 2.7800e+02, 4.1650e+02, 5.5500e+02,\n",
              "        6.9350e+02, 8.3200e+02, 9.7050e+02, 1.1090e+03, 1.2475e+03,\n",
              "        1.3860e+03]),\n",
              " <a list of 10 Patch objects>)"
            ]
          },
          "metadata": {
            "tags": []
          },
          "execution_count": 62
        },
        {
          "output_type": "display_data",
          "data": {
            "image/png": "[encoded data removed]",
            "text/plain": [
              "<Figure size 432x288 with 1 Axes>"
            ]
          },
          "metadata": {
            "tags": [],
            "needs_background": "light"
          }
        }
      ]
    },
    {
      "cell_type": "code",
      "metadata": {
        "colab": {
          "base_uri": "https://localhost:8080/"
        },
        "id": "PjAG8aJU_hp0",
        "outputId": "7b0f69a4-681d-4f26-d7c9-6b8073a389e3"
      },
      "source": [
        "# In Python we can use to find all the keyboard keys \n",
        "\n",
        "import string\n",
        "\n",
        "alphabet = string.ascii_lowercase + string.digits + string.punctuation\n",
        "print(alphabet)"
      ],
      "execution_count": 63,
      "outputs": [
        {
          "output_type": "stream",
          "text": [
            "abcdefghijklmnopqrstuvwxyz0123456789!\"#$%&'()*+,-./:;<=>?@[\\]^_`{|}~\n"
          ],
          "name": "stdout"
        }
      ]
    },
    {
      "cell_type": "code",
      "metadata": {
        "id": "llLxYPrUVVFf"
      },
      "source": [
        "NUM_CHAR_TOKENS = len(alphabet)+2 # add 2 for space and OOV tokens \n",
        "\n",
        "char_vectorizer = TextVectorization(max_tokens=NUM_CHAR_TOKENS,output_sequence_length=output_char_length) # Created the char label Vectoriser "
      ],
      "execution_count": 64,
      "outputs": []
    },
    {
      "cell_type": "code",
      "metadata": {
        "id": "feNv0fKZaorI"
      },
      "source": [
        "# Adapt character vectorizer \n",
        "\n",
        "char_vectorizer.adapt(train_chars)"
      ],
      "execution_count": 65,
      "outputs": []
    },
    {
      "cell_type": "code",
      "metadata": {
        "colab": {
          "base_uri": "https://localhost:8080/"
        },
        "id": "KveveZLha-Il",
        "outputId": "cef67c9d-789d-4c80-cf93-675ce70e2530"
      },
      "source": [
        "# Checking charecter vocab stats \n",
        "\n",
        "char_vocab = char_vectorizer.get_vocabulary()\n",
        "print(f\"The size of the vocab: {len(char_vocab)}\")\n",
        "print(f\"The most common vocab:\\n {char_vocab[:5]}\")\n",
        "print(f\"The least common vocab:\\ {char_vocab[-5:]}\")"
      ],
      "execution_count": 66,
      "outputs": [
        {
          "output_type": "stream",
          "text": [
            "The size of the vocab: 28\n",
            "The most common vocab:\n",
            " ['', '[UNK]', 'e', 't', 'i']\n",
            "The least common vocab:\\ ['k', 'x', 'z', 'q', 'j']\n"
          ],
          "name": "stdout"
        }
      ]
    },
    {
      "cell_type": "code",
      "metadata": {
        "colab": {
          "base_uri": "https://localhost:8080/"
        },
        "id": "g7mD2dopc6mZ",
        "outputId": "fde998a0-1673-468b-8169-83e66fa356bd"
      },
      "source": [
        "#Test our char vectorizer \n",
        "\n",
        "random_char = random.choice(train_chars)\n",
        "\n",
        "print(f\"The random char sentence is :\\n {random_char}\")\n",
        "char_vector_rep = char_vectorizer([random_char])\n",
        "print('\\n')\n",
        "print('\\n')\n",
        "print(f\"The vectorized representation is :\\n {char_vector_rep}\")"
      ],
      "execution_count": 67,
      "outputs": [
        {
          "output_type": "stream",
          "text": [
            "The random char sentence is :\n",
            " r i s k   f a c t o r s   h a v e   b e e n   p r o p o s e d   f o r   r u n n i n g   i n j u r i e s   i n c l u d i n g   (   a   )   r e d u c e d   m u s c u l a r   s t r e n g t h   ,   (   b   )   e x c e s s i v e   j o i n t   m o v e m e n t s   a n d   (   c   )   e x c e s s i v e   j o i n t   m o m e n t s   i n   t h e   f r o n t a l   a n d   t r a n s v e r s e   p l a n e s   .\n",
            "\n",
            "\n",
            "\n",
            "\n",
            "The vectorized representation is :\n",
            " [[ 8  4  9 23 17  5 11  3  7  8  9 13  5 21  2 22  2  2  6 14  8  7 14  7\n",
            "   9  2 10 17  7  8  8 16  6  6  4  6 18  4  6 27 16  8  4  2  9  4  6 11\n",
            "  12 16 10  4  6 18  5  8  2 10 16 11  2 10 15 16  9 11 16 12  5  8  9  3\n",
            "   8  2  6 18  3 13 22  2 24 11  2  9  9  4 21  2 27  7  4  6  3 15  7 21\n",
            "   2 15  2  6  3  9  5  6 10 11  2 24 11  2  9  9  4 21  2 27  7  4  6  3\n",
            "  15  7 15  2  6  3  9  4  6  3 13  2 17  8  7  6  3  5 12  5  6 10  3  8\n",
            "   5  6  9 21  2  8  9  2 14 12  5  6  2  9  0  0  0  0  0  0  0  0  0  0\n",
            "   0  0  0  0  0  0  0  0  0  0  0  0  0  0  0  0  0  0  0  0  0  0  0  0\n",
            "   0  0  0  0  0  0  0  0  0  0  0  0  0  0  0  0  0  0  0  0  0  0  0  0\n",
            "   0  0  0  0  0  0  0  0  0  0  0  0  0  0  0  0  0  0  0  0  0  0  0  0\n",
            "   0  0  0  0  0  0  0  0  0  0  0  0  0  0  0  0  0  0  0  0  0  0  0  0\n",
            "   0  0  0  0  0  0  0  0  0  0  0  0  0  0  0  0  0  0  0  0  0  0  0  0\n",
            "   0  0]]\n"
          ],
          "name": "stdout"
        }
      ]
    },
    {
      "cell_type": "markdown",
      "metadata": {
        "id": "21HM5clOerww"
      },
      "source": [
        "##Creating a character level embedding:\n"
      ]
    },
    {
      "cell_type": "code",
      "metadata": {
        "id": "qfZG52rTe9Io"
      },
      "source": [
        "char_embed = layers.Embedding(input_dim=len(char_vocab),output_dim=25,mask_zero=True,name=\"char_embed\")"
      ],
      "execution_count": 68,
      "outputs": []
    },
    {
      "cell_type": "code",
      "metadata": {
        "colab": {
          "base_uri": "https://localhost:8080/"
        },
        "id": "G2BxIX7Ufrtf",
        "outputId": "1c43e023-fee7-4015-c0ee-bd0372a9d41c"
      },
      "source": [
        "# Testing our Char embed\n",
        "print(f\"Charified text:\\n {random_char}\")\n",
        "\n",
        "char_embed_example = char_embed(char_vectorizer([random_char]))\n",
        "\n",
        "print(f\"Embedded chars(after vectorization and embedding):\\n{char_embed_example}\\n\")\n",
        "print(f\"character embedding shape: {char_embed_example.shape}\")\n"
      ],
      "execution_count": 69,
      "outputs": [
        {
          "output_type": "stream",
          "text": [
            "Charified text:\n",
            " r i s k   f a c t o r s   h a v e   b e e n   p r o p o s e d   f o r   r u n n i n g   i n j u r i e s   i n c l u d i n g   (   a   )   r e d u c e d   m u s c u l a r   s t r e n g t h   ,   (   b   )   e x c e s s i v e   j o i n t   m o v e m e n t s   a n d   (   c   )   e x c e s s i v e   j o i n t   m o m e n t s   i n   t h e   f r o n t a l   a n d   t r a n s v e r s e   p l a n e s   .\n",
            "Embedded chars(after vectorization and embedding):\n",
            "[[[-0.02426467  0.03114216 -0.00811598 ... -0.01009147 -0.00685481\n",
            "    0.00539137]\n",
            "  [-0.03793272 -0.03290246  0.04205677 ... -0.01000331  0.01485548\n",
            "   -0.01126777]\n",
            "  [-0.044119   -0.04791803  0.00909337 ...  0.04112614  0.02754866\n",
            "    0.01756364]\n",
            "  ...\n",
            "  [-0.04037607  0.02668308  0.03356692 ...  0.01165037  0.00475389\n",
            "   -0.01186927]\n",
            "  [-0.04037607  0.02668308  0.03356692 ...  0.01165037  0.00475389\n",
            "   -0.01186927]\n",
            "  [-0.04037607  0.02668308  0.03356692 ...  0.01165037  0.00475389\n",
            "   -0.01186927]]]\n",
            "\n",
            "character embedding shape: (1, 290, 25)\n"
          ],
          "name": "stdout"
        }
      ]
    },
    {
      "cell_type": "markdown",
      "metadata": {
        "id": "jBUdn2OyhMU6"
      },
      "source": [
        "### Building the Cov1D model_3 with char lavel embedding:\n",
        "\n"
      ]
    },
    {
      "cell_type": "code",
      "metadata": {
        "id": "72zdxtQHh2au"
      },
      "source": [
        "inputs = layers.Input(shape=(1,),dtype=tf.string)\n",
        "\n",
        "char_vectorization  = char_vectorizer(inputs)\n",
        "\n",
        "char_embedding = char_embed(char_vectorization)\n",
        "#x = layers.AveragePooling1D(char_embedding)\n",
        "x = layers.Conv1D(64,5,padding='same',activation='relu')(char_embedding)\n",
        "x = layers.GlobalMaxPooling1D()(x)\n",
        "outputs = layers.Dense(5,activation='softmax')(x)\n",
        "\n",
        "model_3 = tf.keras.Model(inputs=inputs,outputs=outputs,name=\"model_3_char_embeddings\")\n",
        "\n",
        "# compile\n",
        "\n",
        "model_3.compile(loss=\"categorical_crossentropy\",optimizer=tf.keras.optimizers.Adam(),metrics=['accuracy'])\n",
        "\n"
      ],
      "execution_count": 70,
      "outputs": []
    },
    {
      "cell_type": "code",
      "metadata": {
        "colab": {
          "base_uri": "https://localhost:8080/"
        },
        "id": "gK7nGw28hxI1",
        "outputId": "303d400e-0d6e-4433-c6d9-92be7bc36500"
      },
      "source": [
        "model_3.summary()"
      ],
      "execution_count": 71,
      "outputs": [
        {
          "output_type": "stream",
          "text": [
            "Model: \"model_3_char_embeddings\"\n",
            "_________________________________________________________________\n",
            "Layer (type)                 Output Shape              Param #   \n",
            "=================================================================\n",
            "input_3 (InputLayer)         [(None, 1)]               0         \n",
            "_________________________________________________________________\n",
            "text_vectorization_1 (TextVe (None, 290)               0         \n",
            "_________________________________________________________________\n",
            "char_embed (Embedding)       (None, 290, 25)           700       \n",
            "_________________________________________________________________\n",
            "conv1d_1 (Conv1D)            (None, 290, 64)           8064      \n",
            "_________________________________________________________________\n",
            "global_max_pooling1d (Global (None, 64)                0         \n",
            "_________________________________________________________________\n",
            "dense_3 (Dense)              (None, 5)                 325       \n",
            "=================================================================\n",
            "Total params: 9,089\n",
            "Trainable params: 9,089\n",
            "Non-trainable params: 0\n",
            "_________________________________________________________________\n"
          ],
          "name": "stdout"
        }
      ]
    },
    {
      "cell_type": "markdown",
      "metadata": {
        "id": "SQyRr5WhmQ5G"
      },
      "source": [
        "### Create char lavel dataset"
      ]
    },
    {
      "cell_type": "code",
      "metadata": {
        "colab": {
          "base_uri": "https://localhost:8080/"
        },
        "id": "4dmxl9Zpmlam",
        "outputId": "93b7997a-b8e1-455b-c41a-daa16955c8d7"
      },
      "source": [
        "train_char_dataset = tf.data.Dataset.from_tensor_slices((train_chars,train_labels_one_hot)).batch(32).prefetch(tf.data.AUTOTUNE)\n",
        "val_char_dataset = tf.data.Dataset.from_tensor_slices((val_chars,val_labels_one_hot)).batch(32).prefetch(tf.data.AUTOTUNE)\n",
        "test_char_dataset = tf.data.Dataset.from_tensor_slices((test_chars,test_labels_one_hot)).batch(32).prefetch(tf.data.AUTOTUNE)\n",
        "\n",
        "train_char_dataset"
      ],
      "execution_count": 72,
      "outputs": [
        {
          "output_type": "execute_result",
          "data": {
            "text/plain": [
              "<PrefetchDataset shapes: ((None,), (None, 5)), types: (tf.string, tf.float64)>"
            ]
          },
          "metadata": {
            "tags": []
          },
          "execution_count": 72
        }
      ]
    },
    {
      "cell_type": "code",
      "metadata": {
        "colab": {
          "base_uri": "https://localhost:8080/"
        },
        "id": "rHjaKc8rn6eg",
        "outputId": "08771133-51e7-4348-ecc7-46a1cea6ce3e"
      },
      "source": [
        "model_3_history = model_3.fit(train_char_dataset,epochs=3,steps_per_epoch= int(0.1*len(train_char_dataset)),validation_data=val_char_dataset,validation_steps=int(0.1*len(val_char_dataset)))"
      ],
      "execution_count": 73,
      "outputs": [
        {
          "output_type": "stream",
          "text": [
            "Epoch 1/3\n",
            "562/562 [==============================] - 5s 7ms/step - loss: 1.2533 - accuracy: 0.4904 - val_loss: 1.0429 - val_accuracy: 0.5938\n",
            "Epoch 2/3\n",
            "562/562 [==============================] - 4s 7ms/step - loss: 0.9847 - accuracy: 0.6046 - val_loss: 0.9182 - val_accuracy: 0.6446\n",
            "Epoch 3/3\n",
            "562/562 [==============================] - 4s 7ms/step - loss: 0.9018 - accuracy: 0.6491 - val_loss: 0.8448 - val_accuracy: 0.6762\n"
          ],
          "name": "stdout"
        }
      ]
    },
    {
      "cell_type": "code",
      "metadata": {
        "colab": {
          "base_uri": "https://localhost:8080/"
        },
        "id": "M1BHlFlHp-hp",
        "outputId": "b69b6569-e60a-46f0-b75d-cf4f2a60b800"
      },
      "source": [
        "model_3.evaluate(val_char_dataset)"
      ],
      "execution_count": 74,
      "outputs": [
        {
          "output_type": "stream",
          "text": [
            "945/945 [==============================] - 4s 4ms/step - loss: 0.8624 - accuracy: 0.6674\n"
          ],
          "name": "stdout"
        },
        {
          "output_type": "execute_result",
          "data": {
            "text/plain": [
              "[0.8624127507209778, 0.6674169301986694]"
            ]
          },
          "metadata": {
            "tags": []
          },
          "execution_count": 74
        }
      ]
    },
    {
      "cell_type": "code",
      "metadata": {
        "colab": {
          "base_uri": "https://localhost:8080/"
        },
        "id": "phQui9MYqIv1",
        "outputId": "47d00d5e-3574-4229-cf4a-a05f15db44eb"
      },
      "source": [
        "model_3_pred_proba = model_3.predict(val_char_dataset)\n",
        "\n",
        "model_3_pred_proba"
      ],
      "execution_count": 75,
      "outputs": [
        {
          "output_type": "execute_result",
          "data": {
            "text/plain": [
              "array([[0.18526931, 0.33287114, 0.11367016, 0.3067824 , 0.06140699],\n",
              "       [0.24642037, 0.46131033, 0.0014751 , 0.2717668 , 0.01902737],\n",
              "       [0.13484375, 0.10884093, 0.1147321 , 0.5520091 , 0.08957412],\n",
              "       ...,\n",
              "       [0.02132639, 0.04711298, 0.1344781 , 0.01916509, 0.77791744],\n",
              "       [0.0656733 , 0.2335598 , 0.34097242, 0.06712124, 0.29267323],\n",
              "       [0.53010964, 0.3387985 , 0.06257736, 0.05935087, 0.0091636 ]],\n",
              "      dtype=float32)"
            ]
          },
          "metadata": {
            "tags": []
          },
          "execution_count": 75
        }
      ]
    },
    {
      "cell_type": "code",
      "metadata": {
        "id": "6SPqg1eyqllm"
      },
      "source": [
        "# convert prediction probabilities to class labels\n",
        "\n",
        "model_3_preds = tf.argmax(model_3_pred_proba,axis=1)"
      ],
      "execution_count": 76,
      "outputs": []
    },
    {
      "cell_type": "code",
      "metadata": {
        "colab": {
          "base_uri": "https://localhost:8080/"
        },
        "id": "OV6hgj-Wq6wh",
        "outputId": "950bf002-87ba-4d75-90e2-ee8ae1945ae2"
      },
      "source": [
        "model_3_preds"
      ],
      "execution_count": 77,
      "outputs": [
        {
          "output_type": "execute_result",
          "data": {
            "text/plain": [
              "<tf.Tensor: shape=(30212,), dtype=int64, numpy=array([1, 1, 3, ..., 4, 2, 0])>"
            ]
          },
          "metadata": {
            "tags": []
          },
          "execution_count": 77
        }
      ]
    },
    {
      "cell_type": "code",
      "metadata": {
        "colab": {
          "base_uri": "https://localhost:8080/"
        },
        "id": "-PODMA_yrCUg",
        "outputId": "df536f73-edab-4115-e5c2-331321481546"
      },
      "source": [
        "# Calculate the results of the model_3\n",
        "model_3_results = model_evaluation_matrix(y_true= val_labels_encoded,y_pred=model_3_preds)\n",
        "\n",
        "model_3_results"
      ],
      "execution_count": 78,
      "outputs": [
        {
          "output_type": "execute_result",
          "data": {
            "text/plain": [
              "{'accuracy': 0.6674169204289686,\n",
              " 'f1 score': 0.658222454404624,\n",
              " 'precision': 0.6623667064239384,\n",
              " 'recall': 0.6674169204289686}"
            ]
          },
          "metadata": {
            "tags": []
          },
          "execution_count": 78
        }
      ]
    },
    {
      "cell_type": "markdown",
      "metadata": {
        "id": "hH9r0g0-rl1X"
      },
      "source": [
        "# Building Model 4 using  mutiple inputs:\n",
        "\n",
        "We will use pretrained token embeddings and charecters embeddings(hybrid embedding)\n",
        "\n",
        "1. Create a token-lavel embedding model(similar 'Model_1'\n",
        "2. Create a character lavel embedding(similar to Model 3 with slight modification)\n",
        "3. Combine 1& 2 with a concatenate(layers.Concatenate)\n",
        "4. BUild a series of output layers on top of 3 as in the paper fig1\n",
        "5. Construct a model which takes tokens and charecter-lavels sequence as input and produces an ouput."
      ]
    },
    {
      "cell_type": "code",
      "metadata": {
        "id": "GXFSolFwECz8"
      },
      "source": [
        "# setup the token inputs/model and going to use functonal api\n",
        "\n",
        "# 1. Set up the token input/output model\n",
        "token_inputs = layers.Input(shape=[],dtype= tf.string)\n",
        "token_embeddings = tf_hub_embedding_layer(token_inputs)\n",
        "token_outputs = layers.Dense(128,activation='relu')(token_embeddings)\n",
        "\n",
        "token_model = tf.keras.Model(inputs = token_inputs,outputs = token_outputs)\n",
        "\n",
        "# 2. Set up char inputs/model\n",
        "\n",
        "char_inputs = layers.Input(shape=(1,),dtype=tf.string)\n",
        "char_vectors = char_vectorizer(char_inputs)\n",
        "char_embeddings = char_embed(char_vectors)\n",
        "char_bi_directional_lstm = layers.Bidirectional(layers.LSTM(25))(char_embeddings)\n",
        "\n",
        "char_model = tf.keras.Model(inputs=char_inputs,outputs=char_bi_directional_lstm)\n",
        "\n",
        "# 3. Set up char tokens and char inputs (create hybrid token embedding)\n",
        "\n",
        "token_char_concat = layers.Concatenate(name='token_char_hybrid')([token_model.output,char_model.output])\n",
        "\n",
        "\n",
        "# 4. Creating output layers-adding in dropout \n",
        "\n",
        "combined_dropout = layers.Dropout(0.5)(token_char_concat)\n",
        "combined_dense = layers.Dense(128,activation='relu')(combined_dropout)\n",
        "final_dropout =  layers.Dropout(0.5)(combined_dense)\n",
        "output_layer = layers.Dense(5,activation ='softmax')(final_dropout)\n",
        "\n",
        "# 5. Construct model with char and tokens inputs \n",
        "\n",
        "model_4 = tf.keras.Model(inputs=[token_model.input,char_model.input],outputs= output_layer,name='model_4')\n"
      ],
      "execution_count": 138,
      "outputs": []
    },
    {
      "cell_type": "code",
      "metadata": {
        "colab": {
          "base_uri": "https://localhost:8080/"
        },
        "id": "chpjL9L_QTYz",
        "outputId": "c9c15206-b779-46cb-ada5-abae701b2099"
      },
      "source": [
        "model_4.summary()"
      ],
      "execution_count": 139,
      "outputs": [
        {
          "output_type": "stream",
          "text": [
            "Model: \"model_4\"\n",
            "__________________________________________________________________________________________________\n",
            "Layer (type)                    Output Shape         Param #     Connected to                     \n",
            "==================================================================================================\n",
            "input_7 (InputLayer)            [(None, 1)]          0                                            \n",
            "__________________________________________________________________________________________________\n",
            "input_6 (InputLayer)            [(None,)]            0                                            \n",
            "__________________________________________________________________________________________________\n",
            "text_vectorization_1 (TextVecto (None, 290)          0           input_7[0][0]                    \n",
            "__________________________________________________________________________________________________\n",
            "universal_sentence_encoder (Ker (None, 512)          256797824   input_6[0][0]                    \n",
            "__________________________________________________________________________________________________\n",
            "char_embed (Embedding)          (None, 290, 25)      700         text_vectorization_1[2][0]       \n",
            "__________________________________________________________________________________________________\n",
            "dense_7 (Dense)                 (None, 128)          65664       universal_sentence_encoder[2][0] \n",
            "__________________________________________________________________________________________________\n",
            "bidirectional_1 (Bidirectional) (None, 50)           10200       char_embed[2][0]                 \n",
            "__________________________________________________________________________________________________\n",
            "token_char_hybrid (Concatenate) (None, 178)          0           dense_7[0][0]                    \n",
            "                                                                 bidirectional_1[0][0]            \n",
            "__________________________________________________________________________________________________\n",
            "dropout_2 (Dropout)             (None, 178)          0           token_char_hybrid[0][0]          \n",
            "__________________________________________________________________________________________________\n",
            "dense_8 (Dense)                 (None, 128)          22912       dropout_2[0][0]                  \n",
            "__________________________________________________________________________________________________\n",
            "dropout_3 (Dropout)             (None, 128)          0           dense_8[0][0]                    \n",
            "__________________________________________________________________________________________________\n",
            "dense_9 (Dense)                 (None, 5)            645         dropout_3[0][0]                  \n",
            "==================================================================================================\n",
            "Total params: 256,897,945\n",
            "Trainable params: 100,121\n",
            "Non-trainable params: 256,797,824\n",
            "__________________________________________________________________________________________________\n"
          ],
          "name": "stdout"
        }
      ]
    },
    {
      "cell_type": "code",
      "metadata": {
        "colab": {
          "base_uri": "https://localhost:8080/",
          "height": 976
        },
        "id": "nBgOLg4PQac7",
        "outputId": "7c0976e8-9936-4abd-9ec4-df10157e6523"
      },
      "source": [
        "#from keras.utils import plot_model\n",
        "#plot_model(model_4)\n",
        "from keras.utils.vis_utils import plot_model\n",
        "\n",
        "plot_model(model_4,show_shapes=True)"
      ],
      "execution_count": 140,
      "outputs": [
        {
          "output_type": "execute_result",
          "data": {
            "image/png": "[encoded data removed]",
            "text/plain": [
              "<IPython.core.display.Image object>"
            ]
          },
          "metadata": {
            "tags": []
          },
          "execution_count": 140
        }
      ]
    },
    {
      "cell_type": "markdown",
      "metadata": {
        "id": "jk_ojr_klRte"
      },
      "source": [
        "### Creating tensorflow datatset:\n"
      ]
    },
    {
      "cell_type": "code",
      "metadata": {
        "id": "ru5krij2lSVi"
      },
      "source": [
        "#compile token char model\n",
        "\n",
        "model_4.compile(loss=\"categorical_crossentropy\",\n",
        "                optimizer = tf.keras.optimizers.Adam(),\n",
        "                metrics=[\"accuracy\"])"
      ],
      "execution_count": 141,
      "outputs": []
    },
    {
      "cell_type": "markdown",
      "metadata": {
        "id": "R-YUuD7hmEI5"
      },
      "source": [
        "### Combinnng token and characters :\n"
      ]
    },
    {
      "cell_type": "code",
      "metadata": {
        "id": "wG7pLss1mQHr"
      },
      "source": [
        "# combine chars and tokens into a dataset\n",
        "train_char_token_data = tf.data.Dataset.from_tensor_slices((train_sentences, train_chars)) # make data\n",
        "train_char_token_labels = tf.data.Dataset.from_tensor_slices(train_labels_one_hot) # make labels\n",
        "train_char_token_dataset = tf.data.Dataset.zip((train_char_token_data, train_char_token_labels)) # combine data and labels\n",
        "\n",
        "# Prefetch and batch train data\n",
        "train_char_token_dataset = train_char_token_dataset.batch(32).prefetch(tf.data.AUTOTUNE) \n",
        "\n",
        "# Repeat same steps validation data\n",
        "val_char_token_data = tf.data.Dataset.from_tensor_slices((val_sentences, val_chars))\n",
        "val_char_token_labels = tf.data.Dataset.from_tensor_slices(val_labels_one_hot)\n",
        "val_char_token_dataset = tf.data.Dataset.zip((val_char_token_data, val_char_token_labels))\n",
        "val_char_token_dataset = val_char_token_dataset.batch(32).prefetch(tf.data.AUTOTUNE)"
      ],
      "execution_count": 142,
      "outputs": []
    },
    {
      "cell_type": "code",
      "metadata": {
        "colab": {
          "base_uri": "https://localhost:8080/"
        },
        "id": "elooA5rtzGvU",
        "outputId": "72569bfc-bfad-4c79-d577-4a97b8127154"
      },
      "source": [
        "\n",
        "# Check out training char and token embedding dataset\n",
        "train_char_token_dataset, val_char_token_dataset"
      ],
      "execution_count": 143,
      "outputs": [
        {
          "output_type": "execute_result",
          "data": {
            "text/plain": [
              "(<PrefetchDataset shapes: (((None,), (None,)), (None, 5)), types: ((tf.string, tf.string), tf.float64)>,\n",
              " <PrefetchDataset shapes: (((None,), (None,)), (None, 5)), types: ((tf.string, tf.string), tf.float64)>)"
            ]
          },
          "metadata": {
            "tags": []
          },
          "execution_count": 143
        }
      ]
    },
    {
      "cell_type": "markdown",
      "metadata": {
        "id": "6FC3ooEAqCoS"
      },
      "source": [
        "Fitting the model on tokens and charecters-level senquence"
      ]
    },
    {
      "cell_type": "code",
      "metadata": {
        "colab": {
          "base_uri": "https://localhost:8080/"
        },
        "id": "6rT12795zReP",
        "outputId": "34e142cf-ab77-4787-ee33-d3dd6a6af816"
      },
      "source": [
        "# Fit the model on tokens and chars\n",
        "model_4_history = model_4.fit(train_char_token_dataset, # train on dataset of token and characters\n",
        "                              steps_per_epoch=int(0.1 * len(train_char_token_dataset)),\n",
        "                              epochs=3,\n",
        "                              validation_data=val_char_token_dataset,\n",
        "                              validation_steps=int(0.1 * len(val_char_token_dataset)))"
      ],
      "execution_count": 144,
      "outputs": [
        {
          "output_type": "stream",
          "text": [
            "Epoch 1/3\n",
            "562/562 [==============================] - 41s 59ms/step - loss: 0.9873 - accuracy: 0.6074 - val_loss: 0.7825 - val_accuracy: 0.7068\n",
            "Epoch 2/3\n",
            "562/562 [==============================] - 30s 53ms/step - loss: 0.8044 - accuracy: 0.6886 - val_loss: 0.7205 - val_accuracy: 0.7261\n",
            "Epoch 3/3\n",
            "562/562 [==============================] - 28s 50ms/step - loss: 0.7745 - accuracy: 0.7031 - val_loss: 0.6892 - val_accuracy: 0.7434\n"
          ],
          "name": "stdout"
        }
      ]
    }
  ]
}