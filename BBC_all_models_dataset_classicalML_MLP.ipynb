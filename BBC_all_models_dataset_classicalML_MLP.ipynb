{
  "nbformat": 4,
  "nbformat_minor": 0,
  "metadata": {
    "colab": {
      "name": "BBC_all models_dataset_classicalML_MLP.ipynb",
      "provenance": [],
      "collapsed_sections": [],
      "machine_shape": "hm",
      "authorship_tag": "ABX9TyNLrdRCqdveXoMHpZWq8Z8y",
      "include_colab_link": true
    },
    "kernelspec": {
      "name": "python3",
      "display_name": "Python 3"
    },
    "language_info": {
      "name": "python"
    },
    "accelerator": "GPU"
  },
  "cells": [
    {
      "cell_type": "markdown",
      "metadata": {
        "id": "view-in-github",
        "colab_type": "text"
      },
      "source": [
        "<a href=\"https://colab.research.google.com/github/joydeep03564/Machine_Learning-/blob/master/BBC_all_models_dataset_classicalML_MLP.ipynb\" target=\"_parent\"><img src=\"https://colab.research.google.com/assets/colab-badge.svg\" alt=\"Open In Colab\"/></a>"
      ]
    },
    {
      "cell_type": "markdown",
      "source": [
        "The BBC news classification is one of most popular dataset for news classifcation.\n",
        "The objective of this problem is to automatically classify unseen news.\n"
      ],
      "metadata": {
        "id": "K6DWeKYLhFCi"
      }
    },
    {
      "cell_type": "code",
      "source": [
        "# mounting google drive\n",
        "from google.colab import drive\n",
        "drive.mount('/content/drive')"
      ],
      "metadata": {
        "colab": {
          "base_uri": "https://localhost:8080/",
          "height": 0
        },
        "id": "mSzryYuTmyeR",
        "outputId": "286935e2-ef80-40a3-9b85-a0bf26d6608d"
      },
      "execution_count": 1,
      "outputs": [
        {
          "output_type": "stream",
          "name": "stdout",
          "text": [
            "Mounted at /content/drive\n"
          ]
        }
      ]
    },
    {
      "cell_type": "markdown",
      "source": [
        "The dataset is available at kaggle. I have already downloaded that in my google drive."
      ],
      "metadata": {
        "id": "QUSe4-R7nSEu"
      }
    },
    {
      "cell_type": "code",
      "source": [
        "## Importing libraries for the project \n",
        "import pandas as pd \n",
        "import numpy as numpy \n",
        "import matplotlib.pyplot as plt \n"
      ],
      "metadata": {
        "id": "noW_DSstnu-2"
      },
      "execution_count": 2,
      "outputs": []
    },
    {
      "cell_type": "markdown",
      "source": [
        "Loading the csv files using pandas "
      ],
      "metadata": {
        "id": "GZVCJiiEp5Dd"
      }
    },
    {
      "cell_type": "code",
      "source": [
        "#Loading the dataset \n",
        "data= pd.read_csv(\"/content/drive/MyDrive/NLP/NLP_Projects/BCG_dataset/bbc-text1.csv\")"
      ],
      "metadata": {
        "id": "Bd40iFAQn9Pt"
      },
      "execution_count": 3,
      "outputs": []
    },
    {
      "cell_type": "code",
      "source": [
        "data.head()"
      ],
      "metadata": {
        "colab": {
          "base_uri": "https://localhost:8080/",
          "height": 206
        },
        "id": "1siLBxN2qCub",
        "outputId": "3be61e7a-1d2c-4f50-d81a-71212ea6ac3a"
      },
      "execution_count": 4,
      "outputs": [
        {
          "output_type": "execute_result",
          "data": {
            "text/html": [
              "\n",
              "  <div id=\"df-a00b4487-67e1-4b55-ab63-51de1dc13a3a\">\n",
              "    <div class=\"colab-df-container\">\n",
              "      <div>\n",
              "<style scoped>\n",
              "    .dataframe tbody tr th:only-of-type {\n",
              "        vertical-align: middle;\n",
              "    }\n",
              "\n",
              "    .dataframe tbody tr th {\n",
              "        vertical-align: top;\n",
              "    }\n",
              "\n",
              "    .dataframe thead th {\n",
              "        text-align: right;\n",
              "    }\n",
              "</style>\n",
              "<table border=\"1\" class=\"dataframe\">\n",
              "  <thead>\n",
              "    <tr style=\"text-align: right;\">\n",
              "      <th></th>\n",
              "      <th>category</th>\n",
              "      <th>text</th>\n",
              "    </tr>\n",
              "  </thead>\n",
              "  <tbody>\n",
              "    <tr>\n",
              "      <th>0</th>\n",
              "      <td>tech</td>\n",
              "      <td>tv future in the hands of viewers with home th...</td>\n",
              "    </tr>\n",
              "    <tr>\n",
              "      <th>1</th>\n",
              "      <td>business</td>\n",
              "      <td>worldcom boss  left books alone  former worldc...</td>\n",
              "    </tr>\n",
              "    <tr>\n",
              "      <th>2</th>\n",
              "      <td>sport</td>\n",
              "      <td>tigers wary of farrell  gamble  leicester say ...</td>\n",
              "    </tr>\n",
              "    <tr>\n",
              "      <th>3</th>\n",
              "      <td>sport</td>\n",
              "      <td>yeading face newcastle in fa cup premiership s...</td>\n",
              "    </tr>\n",
              "    <tr>\n",
              "      <th>4</th>\n",
              "      <td>entertainment</td>\n",
              "      <td>ocean s twelve raids box office ocean s twelve...</td>\n",
              "    </tr>\n",
              "  </tbody>\n",
              "</table>\n",
              "</div>\n",
              "      <button class=\"colab-df-convert\" onclick=\"convertToInteractive('df-a00b4487-67e1-4b55-ab63-51de1dc13a3a')\"\n",
              "              title=\"Convert this dataframe to an interactive table.\"\n",
              "              style=\"display:none;\">\n",
              "        \n",
              "  <svg xmlns=\"http://www.w3.org/2000/svg\" height=\"24px\"viewBox=\"0 0 24 24\"\n",
              "       width=\"24px\">\n",
              "    <path d=\"M0 0h24v24H0V0z\" fill=\"none\"/>\n",
              "    <path d=\"M18.56 5.44l.94 2.06.94-2.06 2.06-.94-2.06-.94-.94-2.06-.94 2.06-2.06.94zm-11 1L8.5 8.5l.94-2.06 2.06-.94-2.06-.94L8.5 2.5l-.94 2.06-2.06.94zm10 10l.94 2.06.94-2.06 2.06-.94-2.06-.94-.94-2.06-.94 2.06-2.06.94z\"/><path d=\"M17.41 7.96l-1.37-1.37c-.4-.4-.92-.59-1.43-.59-.52 0-1.04.2-1.43.59L10.3 9.45l-7.72 7.72c-.78.78-.78 2.05 0 2.83L4 21.41c.39.39.9.59 1.41.59.51 0 1.02-.2 1.41-.59l7.78-7.78 2.81-2.81c.8-.78.8-2.07 0-2.86zM5.41 20L4 18.59l7.72-7.72 1.47 1.35L5.41 20z\"/>\n",
              "  </svg>\n",
              "      </button>\n",
              "      \n",
              "  <style>\n",
              "    .colab-df-container {\n",
              "      display:flex;\n",
              "      flex-wrap:wrap;\n",
              "      gap: 12px;\n",
              "    }\n",
              "\n",
              "    .colab-df-convert {\n",
              "      background-color: #E8F0FE;\n",
              "      border: none;\n",
              "      border-radius: 50%;\n",
              "      cursor: pointer;\n",
              "      display: none;\n",
              "      fill: #1967D2;\n",
              "      height: 32px;\n",
              "      padding: 0 0 0 0;\n",
              "      width: 32px;\n",
              "    }\n",
              "\n",
              "    .colab-df-convert:hover {\n",
              "      background-color: #E2EBFA;\n",
              "      box-shadow: 0px 1px 2px rgba(60, 64, 67, 0.3), 0px 1px 3px 1px rgba(60, 64, 67, 0.15);\n",
              "      fill: #174EA6;\n",
              "    }\n",
              "\n",
              "    [theme=dark] .colab-df-convert {\n",
              "      background-color: #3B4455;\n",
              "      fill: #D2E3FC;\n",
              "    }\n",
              "\n",
              "    [theme=dark] .colab-df-convert:hover {\n",
              "      background-color: #434B5C;\n",
              "      box-shadow: 0px 1px 3px 1px rgba(0, 0, 0, 0.15);\n",
              "      filter: drop-shadow(0px 1px 2px rgba(0, 0, 0, 0.3));\n",
              "      fill: #FFFFFF;\n",
              "    }\n",
              "  </style>\n",
              "\n",
              "      <script>\n",
              "        const buttonEl =\n",
              "          document.querySelector('#df-a00b4487-67e1-4b55-ab63-51de1dc13a3a button.colab-df-convert');\n",
              "        buttonEl.style.display =\n",
              "          google.colab.kernel.accessAllowed ? 'block' : 'none';\n",
              "\n",
              "        async function convertToInteractive(key) {\n",
              "          const element = document.querySelector('#df-a00b4487-67e1-4b55-ab63-51de1dc13a3a');\n",
              "          const dataTable =\n",
              "            await google.colab.kernel.invokeFunction('convertToInteractive',\n",
              "                                                     [key], {});\n",
              "          if (!dataTable) return;\n",
              "\n",
              "          const docLinkHtml = 'Like what you see? Visit the ' +\n",
              "            '<a target=\"_blank\" href=https://colab.research.google.com/notebooks/data_table.ipynb>data table notebook</a>'\n",
              "            + ' to learn more about interactive tables.';\n",
              "          element.innerHTML = '';\n",
              "          dataTable['output_type'] = 'display_data';\n",
              "          await google.colab.output.renderOutput(dataTable, element);\n",
              "          const docLink = document.createElement('div');\n",
              "          docLink.innerHTML = docLinkHtml;\n",
              "          element.appendChild(docLink);\n",
              "        }\n",
              "      </script>\n",
              "    </div>\n",
              "  </div>\n",
              "  "
            ],
            "text/plain": [
              "        category                                               text\n",
              "0           tech  tv future in the hands of viewers with home th...\n",
              "1       business  worldcom boss  left books alone  former worldc...\n",
              "2          sport  tigers wary of farrell  gamble  leicester say ...\n",
              "3          sport  yeading face newcastle in fa cup premiership s...\n",
              "4  entertainment  ocean s twelve raids box office ocean s twelve..."
            ]
          },
          "metadata": {},
          "execution_count": 4
        }
      ]
    },
    {
      "cell_type": "markdown",
      "source": [
        "From the dataset,we can understand that we have a text feature and target label. We can pose this problem as typical text classification problem - where we have a text feature and based on that feature we have to build the classification system whch can classify unseen news into categories like sports,business,entertainment etc."
      ],
      "metadata": {
        "id": "NeyTHnliqfV5"
      }
    },
    {
      "cell_type": "markdown",
      "source": [
        "### Exploring the dataset :\n",
        "In this section, we will understand the following \n",
        "\n",
        "1. How many datapoints we have ?\n",
        "2. Is there are NAN values present ?\n",
        "3. Is there are duplicate values ?\n",
        "4. How many categories are there?\n",
        "5. Is the dataset is imbalanced?"
      ],
      "metadata": {
        "id": "7Edi3ENNrf8C"
      }
    },
    {
      "cell_type": "code",
      "source": [
        "data.shape"
      ],
      "metadata": {
        "colab": {
          "base_uri": "https://localhost:8080/",
          "height": 0
        },
        "id": "auJY4vp8sQsv",
        "outputId": "c451829c-82af-4010-dc0f-62d492c4f7dc"
      },
      "execution_count": 5,
      "outputs": [
        {
          "output_type": "execute_result",
          "data": {
            "text/plain": [
              "(2225, 2)"
            ]
          },
          "metadata": {},
          "execution_count": 5
        }
      ]
    },
    {
      "cell_type": "markdown",
      "source": [
        "There are 2225 data points."
      ],
      "metadata": {
        "id": "SfZ_8Zw5sXuN"
      }
    },
    {
      "cell_type": "markdown",
      "source": [
        "Finding the NAN values in the dataset "
      ],
      "metadata": {
        "id": "laEmGafxsg3b"
      }
    },
    {
      "cell_type": "code",
      "source": [
        "data.isnull().sum()"
      ],
      "metadata": {
        "colab": {
          "base_uri": "https://localhost:8080/",
          "height": 0
        },
        "id": "rUjXoWBdsvQ6",
        "outputId": "8225cb9c-b988-4f11-8249-4a96ba712b41"
      },
      "execution_count": 6,
      "outputs": [
        {
          "output_type": "execute_result",
          "data": {
            "text/plain": [
              "category    0\n",
              "text        0\n",
              "dtype: int64"
            ]
          },
          "metadata": {},
          "execution_count": 6
        }
      ]
    },
    {
      "cell_type": "markdown",
      "source": [
        "We don't have null values in the dataset"
      ],
      "metadata": {
        "id": "7WTmqqp2s3tC"
      }
    },
    {
      "cell_type": "markdown",
      "source": [
        "Finding the duplicate values:"
      ],
      "metadata": {
        "id": "nRZFB0Y2vZB8"
      }
    },
    {
      "cell_type": "code",
      "source": [
        "data_duplicated = data[data.duplicated(['text','category'])]"
      ],
      "metadata": {
        "id": "8UXocqQTs8MK"
      },
      "execution_count": 7,
      "outputs": []
    },
    {
      "cell_type": "code",
      "source": [
        "data_duplicated.shape"
      ],
      "metadata": {
        "colab": {
          "base_uri": "https://localhost:8080/",
          "height": 0
        },
        "id": "uDcgKrs-t_wu",
        "outputId": "154d014c-8c29-4951-9156-ea3c61ed1bf2"
      },
      "execution_count": 8,
      "outputs": [
        {
          "output_type": "execute_result",
          "data": {
            "text/plain": [
              "(99, 2)"
            ]
          },
          "metadata": {},
          "execution_count": 8
        }
      ]
    },
    {
      "cell_type": "code",
      "source": [
        "data_duplicated.head()"
      ],
      "metadata": {
        "colab": {
          "base_uri": "https://localhost:8080/",
          "height": 206
        },
        "id": "X_5t-bqwuDU1",
        "outputId": "5225ad82-f86e-41d4-acab-f042967538a0"
      },
      "execution_count": 9,
      "outputs": [
        {
          "output_type": "execute_result",
          "data": {
            "text/html": [
              "\n",
              "  <div id=\"df-19f16db9-4f95-4040-948d-15ac2b68b414\">\n",
              "    <div class=\"colab-df-container\">\n",
              "      <div>\n",
              "<style scoped>\n",
              "    .dataframe tbody tr th:only-of-type {\n",
              "        vertical-align: middle;\n",
              "    }\n",
              "\n",
              "    .dataframe tbody tr th {\n",
              "        vertical-align: top;\n",
              "    }\n",
              "\n",
              "    .dataframe thead th {\n",
              "        text-align: right;\n",
              "    }\n",
              "</style>\n",
              "<table border=\"1\" class=\"dataframe\">\n",
              "  <thead>\n",
              "    <tr style=\"text-align: right;\">\n",
              "      <th></th>\n",
              "      <th>category</th>\n",
              "      <th>text</th>\n",
              "    </tr>\n",
              "  </thead>\n",
              "  <tbody>\n",
              "    <tr>\n",
              "      <th>85</th>\n",
              "      <td>politics</td>\n",
              "      <td>hague  given up  his pm ambition former conser...</td>\n",
              "    </tr>\n",
              "    <tr>\n",
              "      <th>301</th>\n",
              "      <td>politics</td>\n",
              "      <td>fox attacks blair s tory  lies  tony blair lie...</td>\n",
              "    </tr>\n",
              "    <tr>\n",
              "      <th>496</th>\n",
              "      <td>tech</td>\n",
              "      <td>microsoft gets the blogging bug software giant...</td>\n",
              "    </tr>\n",
              "    <tr>\n",
              "      <th>543</th>\n",
              "      <td>business</td>\n",
              "      <td>economy  strong  in election year uk businesse...</td>\n",
              "    </tr>\n",
              "    <tr>\n",
              "      <th>582</th>\n",
              "      <td>entertainment</td>\n",
              "      <td>ray dvd beats box office takings oscar-nominat...</td>\n",
              "    </tr>\n",
              "  </tbody>\n",
              "</table>\n",
              "</div>\n",
              "      <button class=\"colab-df-convert\" onclick=\"convertToInteractive('df-19f16db9-4f95-4040-948d-15ac2b68b414')\"\n",
              "              title=\"Convert this dataframe to an interactive table.\"\n",
              "              style=\"display:none;\">\n",
              "        \n",
              "  <svg xmlns=\"http://www.w3.org/2000/svg\" height=\"24px\"viewBox=\"0 0 24 24\"\n",
              "       width=\"24px\">\n",
              "    <path d=\"M0 0h24v24H0V0z\" fill=\"none\"/>\n",
              "    <path d=\"M18.56 5.44l.94 2.06.94-2.06 2.06-.94-2.06-.94-.94-2.06-.94 2.06-2.06.94zm-11 1L8.5 8.5l.94-2.06 2.06-.94-2.06-.94L8.5 2.5l-.94 2.06-2.06.94zm10 10l.94 2.06.94-2.06 2.06-.94-2.06-.94-.94-2.06-.94 2.06-2.06.94z\"/><path d=\"M17.41 7.96l-1.37-1.37c-.4-.4-.92-.59-1.43-.59-.52 0-1.04.2-1.43.59L10.3 9.45l-7.72 7.72c-.78.78-.78 2.05 0 2.83L4 21.41c.39.39.9.59 1.41.59.51 0 1.02-.2 1.41-.59l7.78-7.78 2.81-2.81c.8-.78.8-2.07 0-2.86zM5.41 20L4 18.59l7.72-7.72 1.47 1.35L5.41 20z\"/>\n",
              "  </svg>\n",
              "      </button>\n",
              "      \n",
              "  <style>\n",
              "    .colab-df-container {\n",
              "      display:flex;\n",
              "      flex-wrap:wrap;\n",
              "      gap: 12px;\n",
              "    }\n",
              "\n",
              "    .colab-df-convert {\n",
              "      background-color: #E8F0FE;\n",
              "      border: none;\n",
              "      border-radius: 50%;\n",
              "      cursor: pointer;\n",
              "      display: none;\n",
              "      fill: #1967D2;\n",
              "      height: 32px;\n",
              "      padding: 0 0 0 0;\n",
              "      width: 32px;\n",
              "    }\n",
              "\n",
              "    .colab-df-convert:hover {\n",
              "      background-color: #E2EBFA;\n",
              "      box-shadow: 0px 1px 2px rgba(60, 64, 67, 0.3), 0px 1px 3px 1px rgba(60, 64, 67, 0.15);\n",
              "      fill: #174EA6;\n",
              "    }\n",
              "\n",
              "    [theme=dark] .colab-df-convert {\n",
              "      background-color: #3B4455;\n",
              "      fill: #D2E3FC;\n",
              "    }\n",
              "\n",
              "    [theme=dark] .colab-df-convert:hover {\n",
              "      background-color: #434B5C;\n",
              "      box-shadow: 0px 1px 3px 1px rgba(0, 0, 0, 0.15);\n",
              "      filter: drop-shadow(0px 1px 2px rgba(0, 0, 0, 0.3));\n",
              "      fill: #FFFFFF;\n",
              "    }\n",
              "  </style>\n",
              "\n",
              "      <script>\n",
              "        const buttonEl =\n",
              "          document.querySelector('#df-19f16db9-4f95-4040-948d-15ac2b68b414 button.colab-df-convert');\n",
              "        buttonEl.style.display =\n",
              "          google.colab.kernel.accessAllowed ? 'block' : 'none';\n",
              "\n",
              "        async function convertToInteractive(key) {\n",
              "          const element = document.querySelector('#df-19f16db9-4f95-4040-948d-15ac2b68b414');\n",
              "          const dataTable =\n",
              "            await google.colab.kernel.invokeFunction('convertToInteractive',\n",
              "                                                     [key], {});\n",
              "          if (!dataTable) return;\n",
              "\n",
              "          const docLinkHtml = 'Like what you see? Visit the ' +\n",
              "            '<a target=\"_blank\" href=https://colab.research.google.com/notebooks/data_table.ipynb>data table notebook</a>'\n",
              "            + ' to learn more about interactive tables.';\n",
              "          element.innerHTML = '';\n",
              "          dataTable['output_type'] = 'display_data';\n",
              "          await google.colab.output.renderOutput(dataTable, element);\n",
              "          const docLink = document.createElement('div');\n",
              "          docLink.innerHTML = docLinkHtml;\n",
              "          element.appendChild(docLink);\n",
              "        }\n",
              "      </script>\n",
              "    </div>\n",
              "  </div>\n",
              "  "
            ],
            "text/plain": [
              "          category                                               text\n",
              "85        politics  hague  given up  his pm ambition former conser...\n",
              "301       politics  fox attacks blair s tory  lies  tony blair lie...\n",
              "496           tech  microsoft gets the blogging bug software giant...\n",
              "543       business  economy  strong  in election year uk businesse...\n",
              "582  entertainment  ray dvd beats box office takings oscar-nominat..."
            ]
          },
          "metadata": {},
          "execution_count": 9
        }
      ]
    },
    {
      "cell_type": "markdown",
      "source": [
        "The following 99 data points are duplicate. As we have very less datapoints removing them will create problem and for this problem, we are going to ignore the duplicate.\n",
        "We could have removed the duplicate points if there were more data points. "
      ],
      "metadata": {
        "id": "sZWGYJR1udVG"
      }
    },
    {
      "cell_type": "markdown",
      "source": [
        "Finding the categories:\n"
      ],
      "metadata": {
        "id": "oh6HnL7hvhLV"
      }
    },
    {
      "cell_type": "code",
      "source": [
        "class_df = pd.DataFrame(data['category'].value_counts())"
      ],
      "metadata": {
        "id": "vUMdxC5fvm4h"
      },
      "execution_count": 10,
      "outputs": []
    },
    {
      "cell_type": "code",
      "source": [
        "class_df"
      ],
      "metadata": {
        "colab": {
          "base_uri": "https://localhost:8080/",
          "height": 206
        },
        "id": "OqRUZK6-v3Yj",
        "outputId": "52867d92-f837-4e07-e4af-aca23fe1fece"
      },
      "execution_count": 11,
      "outputs": [
        {
          "output_type": "execute_result",
          "data": {
            "text/html": [
              "\n",
              "  <div id=\"df-99f8d7bf-24e0-4dc2-a2cb-888ec946cc4a\">\n",
              "    <div class=\"colab-df-container\">\n",
              "      <div>\n",
              "<style scoped>\n",
              "    .dataframe tbody tr th:only-of-type {\n",
              "        vertical-align: middle;\n",
              "    }\n",
              "\n",
              "    .dataframe tbody tr th {\n",
              "        vertical-align: top;\n",
              "    }\n",
              "\n",
              "    .dataframe thead th {\n",
              "        text-align: right;\n",
              "    }\n",
              "</style>\n",
              "<table border=\"1\" class=\"dataframe\">\n",
              "  <thead>\n",
              "    <tr style=\"text-align: right;\">\n",
              "      <th></th>\n",
              "      <th>category</th>\n",
              "    </tr>\n",
              "  </thead>\n",
              "  <tbody>\n",
              "    <tr>\n",
              "      <th>sport</th>\n",
              "      <td>511</td>\n",
              "    </tr>\n",
              "    <tr>\n",
              "      <th>business</th>\n",
              "      <td>510</td>\n",
              "    </tr>\n",
              "    <tr>\n",
              "      <th>politics</th>\n",
              "      <td>417</td>\n",
              "    </tr>\n",
              "    <tr>\n",
              "      <th>tech</th>\n",
              "      <td>401</td>\n",
              "    </tr>\n",
              "    <tr>\n",
              "      <th>entertainment</th>\n",
              "      <td>386</td>\n",
              "    </tr>\n",
              "  </tbody>\n",
              "</table>\n",
              "</div>\n",
              "      <button class=\"colab-df-convert\" onclick=\"convertToInteractive('df-99f8d7bf-24e0-4dc2-a2cb-888ec946cc4a')\"\n",
              "              title=\"Convert this dataframe to an interactive table.\"\n",
              "              style=\"display:none;\">\n",
              "        \n",
              "  <svg xmlns=\"http://www.w3.org/2000/svg\" height=\"24px\"viewBox=\"0 0 24 24\"\n",
              "       width=\"24px\">\n",
              "    <path d=\"M0 0h24v24H0V0z\" fill=\"none\"/>\n",
              "    <path d=\"M18.56 5.44l.94 2.06.94-2.06 2.06-.94-2.06-.94-.94-2.06-.94 2.06-2.06.94zm-11 1L8.5 8.5l.94-2.06 2.06-.94-2.06-.94L8.5 2.5l-.94 2.06-2.06.94zm10 10l.94 2.06.94-2.06 2.06-.94-2.06-.94-.94-2.06-.94 2.06-2.06.94z\"/><path d=\"M17.41 7.96l-1.37-1.37c-.4-.4-.92-.59-1.43-.59-.52 0-1.04.2-1.43.59L10.3 9.45l-7.72 7.72c-.78.78-.78 2.05 0 2.83L4 21.41c.39.39.9.59 1.41.59.51 0 1.02-.2 1.41-.59l7.78-7.78 2.81-2.81c.8-.78.8-2.07 0-2.86zM5.41 20L4 18.59l7.72-7.72 1.47 1.35L5.41 20z\"/>\n",
              "  </svg>\n",
              "      </button>\n",
              "      \n",
              "  <style>\n",
              "    .colab-df-container {\n",
              "      display:flex;\n",
              "      flex-wrap:wrap;\n",
              "      gap: 12px;\n",
              "    }\n",
              "\n",
              "    .colab-df-convert {\n",
              "      background-color: #E8F0FE;\n",
              "      border: none;\n",
              "      border-radius: 50%;\n",
              "      cursor: pointer;\n",
              "      display: none;\n",
              "      fill: #1967D2;\n",
              "      height: 32px;\n",
              "      padding: 0 0 0 0;\n",
              "      width: 32px;\n",
              "    }\n",
              "\n",
              "    .colab-df-convert:hover {\n",
              "      background-color: #E2EBFA;\n",
              "      box-shadow: 0px 1px 2px rgba(60, 64, 67, 0.3), 0px 1px 3px 1px rgba(60, 64, 67, 0.15);\n",
              "      fill: #174EA6;\n",
              "    }\n",
              "\n",
              "    [theme=dark] .colab-df-convert {\n",
              "      background-color: #3B4455;\n",
              "      fill: #D2E3FC;\n",
              "    }\n",
              "\n",
              "    [theme=dark] .colab-df-convert:hover {\n",
              "      background-color: #434B5C;\n",
              "      box-shadow: 0px 1px 3px 1px rgba(0, 0, 0, 0.15);\n",
              "      filter: drop-shadow(0px 1px 2px rgba(0, 0, 0, 0.3));\n",
              "      fill: #FFFFFF;\n",
              "    }\n",
              "  </style>\n",
              "\n",
              "      <script>\n",
              "        const buttonEl =\n",
              "          document.querySelector('#df-99f8d7bf-24e0-4dc2-a2cb-888ec946cc4a button.colab-df-convert');\n",
              "        buttonEl.style.display =\n",
              "          google.colab.kernel.accessAllowed ? 'block' : 'none';\n",
              "\n",
              "        async function convertToInteractive(key) {\n",
              "          const element = document.querySelector('#df-99f8d7bf-24e0-4dc2-a2cb-888ec946cc4a');\n",
              "          const dataTable =\n",
              "            await google.colab.kernel.invokeFunction('convertToInteractive',\n",
              "                                                     [key], {});\n",
              "          if (!dataTable) return;\n",
              "\n",
              "          const docLinkHtml = 'Like what you see? Visit the ' +\n",
              "            '<a target=\"_blank\" href=https://colab.research.google.com/notebooks/data_table.ipynb>data table notebook</a>'\n",
              "            + ' to learn more about interactive tables.';\n",
              "          element.innerHTML = '';\n",
              "          dataTable['output_type'] = 'display_data';\n",
              "          await google.colab.output.renderOutput(dataTable, element);\n",
              "          const docLink = document.createElement('div');\n",
              "          docLink.innerHTML = docLinkHtml;\n",
              "          element.appendChild(docLink);\n",
              "        }\n",
              "      </script>\n",
              "    </div>\n",
              "  </div>\n",
              "  "
            ],
            "text/plain": [
              "               category\n",
              "sport               511\n",
              "business            510\n",
              "politics            417\n",
              "tech                401\n",
              "entertainment       386"
            ]
          },
          "metadata": {},
          "execution_count": 11
        }
      ]
    },
    {
      "cell_type": "markdown",
      "source": [
        "We can see that there is no imbalance class in the dataset "
      ],
      "metadata": {
        "id": "SoC5QSJ1xgI-"
      }
    },
    {
      "cell_type": "code",
      "source": [
        "class_df.plot.bar()"
      ],
      "metadata": {
        "colab": {
          "base_uri": "https://localhost:8080/",
          "height": 344
        },
        "id": "RRrDC9YNxnKH",
        "outputId": "bb954aba-300d-4a97-91b4-37f95eb68649"
      },
      "execution_count": 12,
      "outputs": [
        {
          "output_type": "execute_result",
          "data": {
            "text/plain": [
              "<matplotlib.axes._subplots.AxesSubplot at 0x7f788d038f50>"
            ]
          },
          "metadata": {},
          "execution_count": 12
        },
        {
          "output_type": "display_data",
          "data": {
            "image/png": "[encoded data removed]",
            "text/plain": [
              "<Figure size 432x288 with 1 Axes>"
            ]
          },
          "metadata": {
            "needs_background": "light"
          }
        }
      ]
    },
    {
      "cell_type": "markdown",
      "source": [
        "### Text preprocessing "
      ],
      "metadata": {
        "id": "xREFB9Nxu5l5"
      }
    },
    {
      "cell_type": "markdown",
      "source": [
        "We understand from exploration that we have 5 classes and our problem is multi-class classification problem. The next step is to preprocess our text columms and label columms such that our machine learning algorithims can understand.\n",
        "There are multiple ways to vectorise the text data but for this case we will be using TFIDF based teqnique. \n",
        "          Before we transform the text into TFIDF based Vector representation, we need to clean the text dataset so that only meaningfull words are vectorised.\n",
        "\n"
      ],
      "metadata": {
        "id": "7Ceymvn9vEx0"
      }
    },
    {
      "cell_type": "markdown",
      "source": [
        "In the section, we will  first clean the text data. The following step we are going to perform:\n",
        "\n",
        "1. converting all text into lower \n",
        "2. Removing punctuations \n",
        "3. Removing words with numbers \n",
        "4. Removing HTML tags if any \n",
        "5. Removing URLS if any \n",
        "6. Removing Stop words \n",
        "7. Lematize the words into the base form\n",
        "8. Decontraction of words"
      ],
      "metadata": {
        "id": "yP8vaAZkz_Aq"
      }
    },
    {
      "cell_type": "code",
      "source": [
        "# Creating the helperfunctions \n",
        "import re\n",
        "def decontracted(text):\n",
        "  \"\"\"This function will decontact the contracted words: \n",
        "  it takes 'text' as input parameter and returns the decontracted text \"\"\"\n",
        "    \n",
        "  text = re.sub(r\"won't\", \"will not\", text)\n",
        "  text = re.sub(r\"can\\'t\", \"can not\", text)\n",
        "  text  = re.sub(r\"she's\",\"she is\",text)\n",
        "  text = re.sub(r\"n't\",\"not\",text)\n",
        "  text = re.sub(r\"what's\",\"what is\",text)\n",
        "  text = re.sub(r\"it's\",\"it is\",text)\n",
        "  text = re.sub(r\"'s\",\" own\",text)\n",
        "  text = re.sub(\"%\",\"percent\",text)\n",
        "  text = re.sub(\"₹\",'rupee',text)\n",
        "  text = re.sub(\"$\",\"dollar\",text)\n",
        "  text = re.sub(\"€\",\"euro\",text)\n",
        "  text = re.sub(\"cannot\",\"can not\",text)\n",
        "  text = re.sub(r\"n\\'t\", \" not\", text)\n",
        "  text = re.sub(r\"\\'re\", \" are\", text)\n",
        "  text = re.sub(r\"\\'s\", \" is\", text)\n",
        "  text = re.sub(r\"\\'d\", \" would\", text)\n",
        "  text = re.sub(r\"\\'ll\", \" will\", text)\n",
        "  text = re.sub(r\"\\'t\", \" not\", text)\n",
        "  text = re.sub(r\"\\'ve\", \" have\", text)\n",
        "  text = re.sub(r\"\\'m\", \" am\", text)\n",
        "  return text"
      ],
      "metadata": {
        "id": "iLBbQ4D02FWz"
      },
      "execution_count": 13,
      "outputs": []
    },
    {
      "cell_type": "code",
      "source": [
        "# Remove the urls, this functions will remove the urls\n",
        "\n",
        "def remove_urls(text):\n",
        "  url_pattern = re.compile(r'https?://\\S+|www\\.\\S+')\n",
        "  return url_pattern.sub(r'', text)\n"
      ],
      "metadata": {
        "id": "vCCjgI3f4AJi"
      },
      "execution_count": 14,
      "outputs": []
    },
    {
      "cell_type": "code",
      "source": [
        "# Removing numbers from the words suppose you have a word like word2vec then  this function will remove 2 from it.\n",
        "# Test case for this function: Input: \"1joy2dee3p\" and Output:\"Joydeep\"\n",
        "def remove_numbers(text):\n",
        "\n",
        "  res=''.join([i for i in text if not i.isdigit()])\n",
        "\n",
        "  return res\n",
        "    "
      ],
      "metadata": {
        "id": "wU8Ccqa14D4f"
      },
      "execution_count": 15,
      "outputs": []
    },
    {
      "cell_type": "code",
      "source": [
        "# Removing non word text:\n",
        "#The \\W metacharacter is used to find a non-word character.\n",
        "#A word character is a character from a-z, A-Z, 0-9, including the _ (underscore) character.\n",
        "def remove_nonwords(text):\n",
        "  pattern = re.compile('\\W')\n",
        "\n",
        "  if type(text)==type(''):\n",
        "    text = re.sub(pattern,' ',text)\n",
        "\n",
        "  return text"
      ],
      "metadata": {
        "id": "6r3bRlH74Pkf"
      },
      "execution_count": 16,
      "outputs": []
    },
    {
      "cell_type": "code",
      "source": [
        "# removing html tag. We don't have much of the html tags but as the corpus is huge, in order to avoid that we are going to design a function to remove html tags and get us the results\n",
        "from bs4 import BeautifulSoup\n",
        "\n",
        "def remove_htmltags(text):\n",
        "\n",
        "  cleantext = re.compile(r'<[^>]+>').sub('',text) # https://www.geeksforgeeks.org/program-to-remove-html-tags-from-a-given-string/\n",
        "  cleantext = BeautifulSoup(text, \"lxml\").text\n",
        "\n",
        "  return cleantext\n"
      ],
      "metadata": {
        "id": "uc88cn5B5fFm"
      },
      "execution_count": 17,
      "outputs": []
    },
    {
      "cell_type": "code",
      "source": [
        "def remove_multiple_space(text):\n",
        "\n",
        "  text = re.sub(' +',' ',text)\n",
        "\n",
        "  return text"
      ],
      "metadata": {
        "id": "vjynpvJE5vC9"
      },
      "execution_count": 18,
      "outputs": []
    },
    {
      "cell_type": "markdown",
      "source": [
        "The main function which will call all helper function and  going to perform the text cleaning is implemented below:"
      ],
      "metadata": {
        "id": "8pn0ocu36l_h"
      }
    },
    {
      "cell_type": "code",
      "source": [
        "def text_cleaning(text):\n",
        "  text=str(text).lower()\n",
        "  text = decontracted(text)\n",
        "  text = remove_urls(text)\n",
        "  text = remove_htmltags(text)\n",
        "  text = remove_numbers(text)\n",
        "  text = remove_nonwords(text)\n",
        "  text = remove_multiple_space(text)\n",
        "  #text = remove_stopwords(text)\n",
        "  return text"
      ],
      "metadata": {
        "id": "60O-OYth6zzB"
      },
      "execution_count": 19,
      "outputs": []
    },
    {
      "cell_type": "code",
      "source": [
        "data['text']=data['text'].apply(text_cleaning)"
      ],
      "metadata": {
        "id": "SKFaws-364Z6"
      },
      "execution_count": 20,
      "outputs": []
    },
    {
      "cell_type": "code",
      "source": [
        "data['text'][0]"
      ],
      "metadata": {
        "colab": {
          "base_uri": "https://localhost:8080/",
          "height": 175
        },
        "id": "yQflN_fX7NvJ",
        "outputId": "b59626f5-1f1a-485d-da23-f248b67eb22d"
      },
      "execution_count": 21,
      "outputs": [
        {
          "output_type": "execute_result",
          "data": {
            "application/vnd.google.colaboratory.intrinsic+json": {
              "type": "string"
            },
            "text/plain": [
              "'tv future in the hands of viewers with home theatre systems plasma high definition tvs and digital video recorders moving into the living room the way people watch tv will be radically different in five years time that is according to an expert panel which gathered at the annual consumer electronics show in las vegas to discuss how these new technologies will impact one of our favourite pastimes with the us leading the trend programmes and other content will be delivered to viewers via home networks through cable satellite telecoms companies and broadband service providers to front rooms and portable devices one of the most talked about technologies of ces has been digital and personal video recorders dvr and pvr these set top boxes like the us s tivo and the uk s sky system allow people to record store play pause and forward wind tv programmes when they want essentially the technology allows for much more personalised tv they are also being built in to high definition tv sets which are big business in japan and the us but slower to take off in europe because of the lack of high definition programming not only can people forward wind through adverts they can also forget about abiding by network and channel schedules putting together their own a la carte entertainment but some us networks and cable and satellite companies are worried about what it means for them in terms of advertising revenues as well as brand identity and viewer loyalty to channels although the us leads in this technology at the moment it is also a concern that is being raised in europe particularly with the growing uptake of services like sky what happens here today we will see in nine months to a years time in the uk adam hume the bbc broadcast s futurologist told the bbc news website for the likes of the bbc there are no issues of lost advertising revenue yet it is a more pressing issue at the moment for commercial uk broadcasters but brand loyalty is important for everyone we will be talking more about content brands rather than network brands said tim hanlon from brand communications firm starcom mediavest the reality is that with broadband connections anybody can be the producer of content he added the challenge now is that it is hard to promote a programme with so much choice what this means said stacey jolna senior vice president of tv guide tv group is that the way people find the content they want to watch has to be simplified for tv viewers it means that networks in us terms or channels could take a leaf out of google s book and be the search engine of the future instead of the scheduler to help people find what they want to watch this kind of channel model might work for the younger ipod generation which is used to taking control of their gadgets and what they play on them but it might not suit everyone the panel recognised older generations are more comfortable with familiar schedules and channel brands because they know what they are getting they perhaps do not want so much of the choice put into their hands mr hanlon suggested on the other end you have the kids just out of diapers who are pushing buttons already everything is possible and available to them said mr hanlon ultimately the consumer will tell the market they want of the new gadgets and technologies being showcased at ces many of them are about enhancing the tv watching experience high definition tv sets are everywhere and many new models of lcd liquid crystal display tvs have been launched with dvr capability built into them instead of being external boxes one such example launched at the show is humax s inch lcd tv with an hour tivo dvr and dvd recorder one of the us s biggest satellite tv companies directtv has even launched its own branded dvr at the show with hours of recording capability instant replay and a search function the set can pause and rewind tv for up to hours and microsoft chief bill gates announced in his pre show keynote speech a partnership with tivo called tivotogo which means people can play recorded programmes on windows pcs and mobile devices all these reflect the increasing trend of freeing up multimedia so that people can watch what they want when they want dollar'"
            ]
          },
          "metadata": {},
          "execution_count": 21
        }
      ]
    },
    {
      "cell_type": "markdown",
      "source": [
        "The next step is to perform stemming using wordnet Lemmatizer:\n"
      ],
      "metadata": {
        "id": "U3D-prss7ieF"
      }
    },
    {
      "cell_type": "code",
      "source": [
        "#https://www.machinelearningplus.com/nlp/lemmatization-examples-python/\n",
        "import nltk\n",
        "from nltk.stem import WordNetLemmatizer\n",
        "from nltk.corpus import wordnet"
      ],
      "metadata": {
        "id": "O_WmzCqz7vby"
      },
      "execution_count": 22,
      "outputs": []
    },
    {
      "cell_type": "code",
      "source": [
        "nltk.download('punkt')\n",
        "nltk.download('averaged_perceptron_tagger')\n",
        "nltk.download('wordnet')"
      ],
      "metadata": {
        "colab": {
          "base_uri": "https://localhost:8080/",
          "height": 0
        },
        "id": "X6rO-TqE70L4",
        "outputId": "2a543b63-7373-4e9e-a6c4-419b408b3714"
      },
      "execution_count": 23,
      "outputs": [
        {
          "output_type": "stream",
          "name": "stdout",
          "text": [
            "[nltk_data] Downloading package punkt to /root/nltk_data...\n",
            "[nltk_data]   Unzipping tokenizers/punkt.zip.\n",
            "[nltk_data] Downloading package averaged_perceptron_tagger to\n",
            "[nltk_data]     /root/nltk_data...\n",
            "[nltk_data]   Unzipping taggers/averaged_perceptron_tagger.zip.\n",
            "[nltk_data] Downloading package wordnet to /root/nltk_data...\n",
            "[nltk_data]   Unzipping corpora/wordnet.zip.\n"
          ]
        },
        {
          "output_type": "execute_result",
          "data": {
            "text/plain": [
              "True"
            ]
          },
          "metadata": {},
          "execution_count": 23
        }
      ]
    },
    {
      "cell_type": "code",
      "source": [
        "#https://gaurav5430.medium.com/using-nltk-for-lemmatizing-sentences-c1bfff963258\n",
        "\n",
        "\n",
        "\n",
        "\n",
        "lemmatizer = WordNetLemmatizer()\n",
        "\n",
        "# function to convert nltk tag to wordnet tag\n",
        "def nltk_tag_to_wordnet_tag(nltk_tag):\n",
        "    if nltk_tag.startswith('J'):\n",
        "        return wordnet.ADJ\n",
        "    elif nltk_tag.startswith('V'):\n",
        "        return wordnet.VERB\n",
        "    elif nltk_tag.startswith('N'):\n",
        "        return wordnet.NOUN\n",
        "    elif nltk_tag.startswith('R'):\n",
        "        return wordnet.ADV\n",
        "    else:          \n",
        "        return None\n",
        "\n",
        "def lemmatize_sentence(sentence):\n",
        "    #tokenize the sentence and find the POS tag for each token\n",
        "    nltk_tagged = nltk.pos_tag(nltk.word_tokenize(sentence))  \n",
        "    #tuple of (token, wordnet_tag)\n",
        "    wordnet_tagged = map(lambda x: (x[0], nltk_tag_to_wordnet_tag(x[1])), nltk_tagged)\n",
        "    lemmatized_sentence = []\n",
        "    for word, tag in wordnet_tagged:\n",
        "        if tag is None:\n",
        "            #if there is no available tag, append the token as is\n",
        "            lemmatized_sentence.append(word)\n",
        "        else:        \n",
        "            #else use the tag to lemmatize the token\n",
        "            lemmatized_sentence.append(lemmatizer.lemmatize(word, tag))\n",
        "    return \" \".join(lemmatized_sentence)"
      ],
      "metadata": {
        "id": "Fm_B9dyu7_pZ"
      },
      "execution_count": 24,
      "outputs": []
    },
    {
      "cell_type": "code",
      "source": [
        "# Finally applying the lemmatizer on our data set:\n",
        "data['text']=data['text'].apply(lemmatize_sentence)"
      ],
      "metadata": {
        "id": "vNkLXzKI8Kng"
      },
      "execution_count": 25,
      "outputs": []
    },
    {
      "cell_type": "code",
      "source": [
        "data['text'][10]"
      ],
      "metadata": {
        "colab": {
          "base_uri": "https://localhost:8080/",
          "height": 175
        },
        "id": "W-uywOLF8tMw",
        "outputId": "79437e42-9df5-48a0-ab83-78d6a2127d04"
      },
      "execution_count": 26,
      "outputs": [
        {
          "output_type": "execute_result",
          "data": {
            "application/vnd.google.colaboratory.intrinsic+json": {
              "type": "string"
            },
            "text/plain": [
              "'berlin cheer for anti nazi film a german movie about an anti nazi resistance heroine have draw loud applause at berlin film festival sophie scholl the final day portray the final day of the member of the white rise movement scholl be arrest and behead with her brother han in for distribute leaflet condemn the abhorrent tyranny of adolf hitler director marc rothemund say i have a feeling of responsibility to keep the legacy of the scholls go we must somehow keep their idea alive he add the film draw on transcript of gestapo interrogation and scholl s trial preserve in the archive of communist east germany s secret police their discovery be the inspiration behind the film for rothemund who work closely with survive relative include one of scholl s sister to ensure historical accuracy on the film scholl and other member of the white rise resistance group first start distribute anti nazi leaflet in the summer of they be arrest as they drop leaflet at munich university call for a day of reckon with adolf hitler s regime the film focus on the six day from scholl s arrest to the intense trial which saw scholl initially deny the charge and end with a defiant appearance it be one of three german film vie for a top prize at the festival a south african film version of bizet s tragic opera carmen shoot in cape town in the xhosa language have also premier at the berlin festival the film be entitle u carmen ekhayelitsha or carmen in khayelitsha after the township in which the story be set it be perform by a strong music and theatre troupe in their debut film performance the film be the first south african feature in year and only the second to be nominate for a golden bear award dollar'"
            ]
          },
          "metadata": {},
          "execution_count": 26
        }
      ]
    },
    {
      "cell_type": "markdown",
      "source": [
        "Now we will remove the stop words:\n"
      ],
      "metadata": {
        "id": "Aukvycew82Z5"
      }
    },
    {
      "cell_type": "code",
      "source": [
        "import nltk\n",
        "nltk.download('stopwords')\n",
        "from nltk.corpus import stopwords"
      ],
      "metadata": {
        "colab": {
          "base_uri": "https://localhost:8080/",
          "height": 0
        },
        "id": "MPm-BIhH9Dth",
        "outputId": "1200451a-e4fe-4d68-a79a-e37f83681466"
      },
      "execution_count": 27,
      "outputs": [
        {
          "output_type": "stream",
          "name": "stdout",
          "text": [
            "[nltk_data] Downloading package stopwords to /root/nltk_data...\n",
            "[nltk_data]   Unzipping corpora/stopwords.zip.\n"
          ]
        }
      ]
    },
    {
      "cell_type": "code",
      "source": [
        "def remove_stopwords(text):\n",
        "  stop_words = set(stopwords.words('english'))\n",
        "\n",
        "  text =[ word  for word in text.split() if not  word.lower() in stop_words]\n",
        "\n",
        "  return text"
      ],
      "metadata": {
        "id": "lnuEhWq19N26"
      },
      "execution_count": 28,
      "outputs": []
    },
    {
      "cell_type": "code",
      "source": [
        "data['text']=data['text'].apply(remove_stopwords)"
      ],
      "metadata": {
        "id": "hClUKs4c9Reh"
      },
      "execution_count": 29,
      "outputs": []
    },
    {
      "cell_type": "code",
      "source": [
        "data['text'][0]"
      ],
      "metadata": {
        "colab": {
          "base_uri": "https://localhost:8080/",
          "height": 0
        },
        "id": "hXc-n3nw9hm4",
        "outputId": "c3b7d18f-d4de-4e16-9a46-56efdf0e1fc4"
      },
      "execution_count": 30,
      "outputs": [
        {
          "output_type": "execute_result",
          "data": {
            "text/plain": [
              "['tv',\n",
              " 'future',\n",
              " 'hand',\n",
              " 'viewer',\n",
              " 'home',\n",
              " 'theatre',\n",
              " 'system',\n",
              " 'plasma',\n",
              " 'high',\n",
              " 'definition',\n",
              " 'tv',\n",
              " 'digital',\n",
              " 'video',\n",
              " 'recorder',\n",
              " 'move',\n",
              " 'living',\n",
              " 'room',\n",
              " 'way',\n",
              " 'people',\n",
              " 'watch',\n",
              " 'tv',\n",
              " 'radically',\n",
              " 'different',\n",
              " 'five',\n",
              " 'year',\n",
              " 'time',\n",
              " 'accord',\n",
              " 'expert',\n",
              " 'panel',\n",
              " 'gather',\n",
              " 'annual',\n",
              " 'consumer',\n",
              " 'electronics',\n",
              " 'show',\n",
              " 'la',\n",
              " 'vegas',\n",
              " 'discuss',\n",
              " 'new',\n",
              " 'technology',\n",
              " 'impact',\n",
              " 'one',\n",
              " 'favourite',\n",
              " 'pastime',\n",
              " 'us',\n",
              " 'lead',\n",
              " 'trend',\n",
              " 'programme',\n",
              " 'content',\n",
              " 'deliver',\n",
              " 'viewer',\n",
              " 'via',\n",
              " 'home',\n",
              " 'network',\n",
              " 'cable',\n",
              " 'satellite',\n",
              " 'telecom',\n",
              " 'company',\n",
              " 'broadband',\n",
              " 'service',\n",
              " 'provider',\n",
              " 'front',\n",
              " 'room',\n",
              " 'portable',\n",
              " 'device',\n",
              " 'one',\n",
              " 'talked',\n",
              " 'technology',\n",
              " 'ce',\n",
              " 'digital',\n",
              " 'personal',\n",
              " 'video',\n",
              " 'recorder',\n",
              " 'dvr',\n",
              " 'pvr',\n",
              " 'set',\n",
              " 'top',\n",
              " 'box',\n",
              " 'like',\n",
              " 'us',\n",
              " 'tivo',\n",
              " 'uk',\n",
              " 'sky',\n",
              " 'system',\n",
              " 'allow',\n",
              " 'people',\n",
              " 'record',\n",
              " 'store',\n",
              " 'play',\n",
              " 'pause',\n",
              " 'forward',\n",
              " 'wind',\n",
              " 'tv',\n",
              " 'programme',\n",
              " 'want',\n",
              " 'essentially',\n",
              " 'technology',\n",
              " 'allow',\n",
              " 'much',\n",
              " 'personalised',\n",
              " 'tv',\n",
              " 'also',\n",
              " 'build',\n",
              " 'high',\n",
              " 'definition',\n",
              " 'tv',\n",
              " 'set',\n",
              " 'big',\n",
              " 'business',\n",
              " 'japan',\n",
              " 'us',\n",
              " 'slow',\n",
              " 'take',\n",
              " 'europe',\n",
              " 'lack',\n",
              " 'high',\n",
              " 'definition',\n",
              " 'program',\n",
              " 'people',\n",
              " 'forward',\n",
              " 'wind',\n",
              " 'advert',\n",
              " 'also',\n",
              " 'forget',\n",
              " 'abide',\n",
              " 'network',\n",
              " 'channel',\n",
              " 'schedule',\n",
              " 'put',\n",
              " 'together',\n",
              " 'la',\n",
              " 'carte',\n",
              " 'entertainment',\n",
              " 'us',\n",
              " 'network',\n",
              " 'cable',\n",
              " 'satellite',\n",
              " 'company',\n",
              " 'worried',\n",
              " 'mean',\n",
              " 'term',\n",
              " 'advertising',\n",
              " 'revenue',\n",
              " 'well',\n",
              " 'brand',\n",
              " 'identity',\n",
              " 'viewer',\n",
              " 'loyalty',\n",
              " 'channel',\n",
              " 'although',\n",
              " 'us',\n",
              " 'lead',\n",
              " 'technology',\n",
              " 'moment',\n",
              " 'also',\n",
              " 'concern',\n",
              " 'raise',\n",
              " 'europe',\n",
              " 'particularly',\n",
              " 'grow',\n",
              " 'uptake',\n",
              " 'service',\n",
              " 'like',\n",
              " 'sky',\n",
              " 'happen',\n",
              " 'today',\n",
              " 'see',\n",
              " 'nine',\n",
              " 'month',\n",
              " 'year',\n",
              " 'time',\n",
              " 'uk',\n",
              " 'adam',\n",
              " 'hume',\n",
              " 'bbc',\n",
              " 'broadcast',\n",
              " 'futurologist',\n",
              " 'tell',\n",
              " 'bbc',\n",
              " 'news',\n",
              " 'website',\n",
              " 'like',\n",
              " 'bbc',\n",
              " 'issue',\n",
              " 'lose',\n",
              " 'advertising',\n",
              " 'revenue',\n",
              " 'yet',\n",
              " 'pressing',\n",
              " 'issue',\n",
              " 'moment',\n",
              " 'commercial',\n",
              " 'uk',\n",
              " 'broadcaster',\n",
              " 'brand',\n",
              " 'loyalty',\n",
              " 'important',\n",
              " 'everyone',\n",
              " 'talk',\n",
              " 'content',\n",
              " 'brand',\n",
              " 'rather',\n",
              " 'network',\n",
              " 'brand',\n",
              " 'say',\n",
              " 'tim',\n",
              " 'hanlon',\n",
              " 'brand',\n",
              " 'communication',\n",
              " 'firm',\n",
              " 'starcom',\n",
              " 'mediavest',\n",
              " 'reality',\n",
              " 'broadband',\n",
              " 'connection',\n",
              " 'anybody',\n",
              " 'producer',\n",
              " 'content',\n",
              " 'add',\n",
              " 'challenge',\n",
              " 'hard',\n",
              " 'promote',\n",
              " 'programme',\n",
              " 'much',\n",
              " 'choice',\n",
              " 'mean',\n",
              " 'say',\n",
              " 'stacey',\n",
              " 'jolna',\n",
              " 'senior',\n",
              " 'vice',\n",
              " 'president',\n",
              " 'tv',\n",
              " 'guide',\n",
              " 'tv',\n",
              " 'group',\n",
              " 'way',\n",
              " 'people',\n",
              " 'find',\n",
              " 'content',\n",
              " 'want',\n",
              " 'watch',\n",
              " 'simplify',\n",
              " 'tv',\n",
              " 'viewer',\n",
              " 'mean',\n",
              " 'network',\n",
              " 'us',\n",
              " 'term',\n",
              " 'channel',\n",
              " 'could',\n",
              " 'take',\n",
              " 'leaf',\n",
              " 'google',\n",
              " 'book',\n",
              " 'search',\n",
              " 'engine',\n",
              " 'future',\n",
              " 'instead',\n",
              " 'scheduler',\n",
              " 'help',\n",
              " 'people',\n",
              " 'find',\n",
              " 'want',\n",
              " 'watch',\n",
              " 'kind',\n",
              " 'channel',\n",
              " 'model',\n",
              " 'might',\n",
              " 'work',\n",
              " 'young',\n",
              " 'ipod',\n",
              " 'generation',\n",
              " 'use',\n",
              " 'take',\n",
              " 'control',\n",
              " 'gadget',\n",
              " 'play',\n",
              " 'might',\n",
              " 'suit',\n",
              " 'everyone',\n",
              " 'panel',\n",
              " 'recognise',\n",
              " 'old',\n",
              " 'generation',\n",
              " 'comfortable',\n",
              " 'familiar',\n",
              " 'schedule',\n",
              " 'channel',\n",
              " 'brand',\n",
              " 'know',\n",
              " 'get',\n",
              " 'perhaps',\n",
              " 'want',\n",
              " 'much',\n",
              " 'choice',\n",
              " 'put',\n",
              " 'hand',\n",
              " 'mr',\n",
              " 'hanlon',\n",
              " 'suggest',\n",
              " 'end',\n",
              " 'kid',\n",
              " 'diaper',\n",
              " 'push',\n",
              " 'button',\n",
              " 'already',\n",
              " 'everything',\n",
              " 'possible',\n",
              " 'available',\n",
              " 'say',\n",
              " 'mr',\n",
              " 'hanlon',\n",
              " 'ultimately',\n",
              " 'consumer',\n",
              " 'tell',\n",
              " 'market',\n",
              " 'want',\n",
              " 'new',\n",
              " 'gadget',\n",
              " 'technology',\n",
              " 'showcased',\n",
              " 'ce',\n",
              " 'many',\n",
              " 'enhance',\n",
              " 'tv',\n",
              " 'watch',\n",
              " 'experience',\n",
              " 'high',\n",
              " 'definition',\n",
              " 'tv',\n",
              " 'set',\n",
              " 'everywhere',\n",
              " 'many',\n",
              " 'new',\n",
              " 'model',\n",
              " 'lcd',\n",
              " 'liquid',\n",
              " 'crystal',\n",
              " 'display',\n",
              " 'tv',\n",
              " 'launch',\n",
              " 'dvr',\n",
              " 'capability',\n",
              " 'build',\n",
              " 'instead',\n",
              " 'external',\n",
              " 'box',\n",
              " 'one',\n",
              " 'example',\n",
              " 'launch',\n",
              " 'show',\n",
              " 'humax',\n",
              " 'inch',\n",
              " 'lcd',\n",
              " 'tv',\n",
              " 'hour',\n",
              " 'tivo',\n",
              " 'dvr',\n",
              " 'dvd',\n",
              " 'recorder',\n",
              " 'one',\n",
              " 'us',\n",
              " 'big',\n",
              " 'satellite',\n",
              " 'tv',\n",
              " 'company',\n",
              " 'directtv',\n",
              " 'even',\n",
              " 'launch',\n",
              " 'brand',\n",
              " 'dvr',\n",
              " 'show',\n",
              " 'hour',\n",
              " 'record',\n",
              " 'capability',\n",
              " 'instant',\n",
              " 'replay',\n",
              " 'search',\n",
              " 'function',\n",
              " 'set',\n",
              " 'pause',\n",
              " 'rewind',\n",
              " 'tv',\n",
              " 'hour',\n",
              " 'microsoft',\n",
              " 'chief',\n",
              " 'bill',\n",
              " 'gate',\n",
              " 'announce',\n",
              " 'pre',\n",
              " 'show',\n",
              " 'keynote',\n",
              " 'speech',\n",
              " 'partnership',\n",
              " 'tivo',\n",
              " 'call',\n",
              " 'tivotogo',\n",
              " 'mean',\n",
              " 'people',\n",
              " 'play',\n",
              " 'record',\n",
              " 'programme',\n",
              " 'window',\n",
              " 'pc',\n",
              " 'mobile',\n",
              " 'device',\n",
              " 'reflect',\n",
              " 'increase',\n",
              " 'trend',\n",
              " 'free',\n",
              " 'multimedia',\n",
              " 'people',\n",
              " 'watch',\n",
              " 'want',\n",
              " 'want',\n",
              " 'dollar']"
            ]
          },
          "metadata": {},
          "execution_count": 30
        }
      ]
    },
    {
      "cell_type": "markdown",
      "source": [
        "Apart from important words all other words are removed from the sentence. Converting this words into numbercal values will help the machne learning algorithim classify to learns the patterns."
      ],
      "metadata": {
        "id": "tJa5oiva9rPo"
      }
    },
    {
      "cell_type": "code",
      "source": [
        "# Tokenised data gives issues while building TF-Idf vectorisers \n",
        "# We are converting back them  into strings \n",
        "data['text']=data['text'].apply(lambda x: ' '.join(x))"
      ],
      "metadata": {
        "id": "_Ji4Ey1I-GTf"
      },
      "execution_count": 31,
      "outputs": []
    },
    {
      "cell_type": "code",
      "source": [
        "data['text'][0]"
      ],
      "metadata": {
        "colab": {
          "base_uri": "https://localhost:8080/",
          "height": 175
        },
        "id": "iwyQXbIp-pUP",
        "outputId": "99440944-1b54-4f70-9cfd-94468105e880"
      },
      "execution_count": 32,
      "outputs": [
        {
          "output_type": "execute_result",
          "data": {
            "application/vnd.google.colaboratory.intrinsic+json": {
              "type": "string"
            },
            "text/plain": [
              "'tv future hand viewer home theatre system plasma high definition tv digital video recorder move living room way people watch tv radically different five year time accord expert panel gather annual consumer electronics show la vegas discuss new technology impact one favourite pastime us lead trend programme content deliver viewer via home network cable satellite telecom company broadband service provider front room portable device one talked technology ce digital personal video recorder dvr pvr set top box like us tivo uk sky system allow people record store play pause forward wind tv programme want essentially technology allow much personalised tv also build high definition tv set big business japan us slow take europe lack high definition program people forward wind advert also forget abide network channel schedule put together la carte entertainment us network cable satellite company worried mean term advertising revenue well brand identity viewer loyalty channel although us lead technology moment also concern raise europe particularly grow uptake service like sky happen today see nine month year time uk adam hume bbc broadcast futurologist tell bbc news website like bbc issue lose advertising revenue yet pressing issue moment commercial uk broadcaster brand loyalty important everyone talk content brand rather network brand say tim hanlon brand communication firm starcom mediavest reality broadband connection anybody producer content add challenge hard promote programme much choice mean say stacey jolna senior vice president tv guide tv group way people find content want watch simplify tv viewer mean network us term channel could take leaf google book search engine future instead scheduler help people find want watch kind channel model might work young ipod generation use take control gadget play might suit everyone panel recognise old generation comfortable familiar schedule channel brand know get perhaps want much choice put hand mr hanlon suggest end kid diaper push button already everything possible available say mr hanlon ultimately consumer tell market want new gadget technology showcased ce many enhance tv watch experience high definition tv set everywhere many new model lcd liquid crystal display tv launch dvr capability build instead external box one example launch show humax inch lcd tv hour tivo dvr dvd recorder one us big satellite tv company directtv even launch brand dvr show hour record capability instant replay search function set pause rewind tv hour microsoft chief bill gate announce pre show keynote speech partnership tivo call tivotogo mean people play record programme window pc mobile device reflect increase trend free multimedia people watch want want dollar'"
            ]
          },
          "metadata": {},
          "execution_count": 32
        }
      ]
    },
    {
      "cell_type": "markdown",
      "source": [
        "It is always a good practice to store the cleaned data so that we can use it for futher experiments  "
      ],
      "metadata": {
        "id": "fjYvgRLX-6Kd"
      }
    },
    {
      "cell_type": "code",
      "source": [
        "data.to_csv(\"/content/drive/MyDrive/NLP/NLP_Projects/BCG_dataset/cleaned_dataset\",header=True,index=False)"
      ],
      "metadata": {
        "id": "BO2JvjDw_Sn1"
      },
      "execution_count": 33,
      "outputs": []
    },
    {
      "cell_type": "markdown",
      "source": [
        "Checking the new dataset "
      ],
      "metadata": {
        "id": "D2cISfBB_Mku"
      }
    },
    {
      "cell_type": "code",
      "source": [
        "cleaned_data =  pd.read_csv(\"/content/drive/MyDrive/NLP/NLP_Projects/BCG_dataset/cleaned_dataset\")"
      ],
      "metadata": {
        "id": "PPjikMIT_hXc"
      },
      "execution_count": 34,
      "outputs": []
    },
    {
      "cell_type": "code",
      "source": [
        "cleaned_data.head()"
      ],
      "metadata": {
        "colab": {
          "base_uri": "https://localhost:8080/",
          "height": 206
        },
        "id": "9R06xvmI_sGm",
        "outputId": "73f094cb-b4ee-4ccf-ffbd-98288ff0f395"
      },
      "execution_count": 35,
      "outputs": [
        {
          "output_type": "execute_result",
          "data": {
            "text/html": [
              "\n",
              "  <div id=\"df-03bf8dac-c8dc-4d56-a167-47cdcda0a686\">\n",
              "    <div class=\"colab-df-container\">\n",
              "      <div>\n",
              "<style scoped>\n",
              "    .dataframe tbody tr th:only-of-type {\n",
              "        vertical-align: middle;\n",
              "    }\n",
              "\n",
              "    .dataframe tbody tr th {\n",
              "        vertical-align: top;\n",
              "    }\n",
              "\n",
              "    .dataframe thead th {\n",
              "        text-align: right;\n",
              "    }\n",
              "</style>\n",
              "<table border=\"1\" class=\"dataframe\">\n",
              "  <thead>\n",
              "    <tr style=\"text-align: right;\">\n",
              "      <th></th>\n",
              "      <th>category</th>\n",
              "      <th>text</th>\n",
              "    </tr>\n",
              "  </thead>\n",
              "  <tbody>\n",
              "    <tr>\n",
              "      <th>0</th>\n",
              "      <td>tech</td>\n",
              "      <td>tv future hand viewer home theatre system plas...</td>\n",
              "    </tr>\n",
              "    <tr>\n",
              "      <th>1</th>\n",
              "      <td>business</td>\n",
              "      <td>worldcom bos leave book alone former worldcom ...</td>\n",
              "    </tr>\n",
              "    <tr>\n",
              "      <th>2</th>\n",
              "      <td>sport</td>\n",
              "      <td>tiger wary farrell gamble leicester say rush m...</td>\n",
              "    </tr>\n",
              "    <tr>\n",
              "      <th>3</th>\n",
              "      <td>sport</td>\n",
              "      <td>yeading face newcastle fa cup premiership side...</td>\n",
              "    </tr>\n",
              "    <tr>\n",
              "      <th>4</th>\n",
              "      <td>entertainment</td>\n",
              "      <td>ocean twelve raid box office ocean twelve crim...</td>\n",
              "    </tr>\n",
              "  </tbody>\n",
              "</table>\n",
              "</div>\n",
              "      <button class=\"colab-df-convert\" onclick=\"convertToInteractive('df-03bf8dac-c8dc-4d56-a167-47cdcda0a686')\"\n",
              "              title=\"Convert this dataframe to an interactive table.\"\n",
              "              style=\"display:none;\">\n",
              "        \n",
              "  <svg xmlns=\"http://www.w3.org/2000/svg\" height=\"24px\"viewBox=\"0 0 24 24\"\n",
              "       width=\"24px\">\n",
              "    <path d=\"M0 0h24v24H0V0z\" fill=\"none\"/>\n",
              "    <path d=\"M18.56 5.44l.94 2.06.94-2.06 2.06-.94-2.06-.94-.94-2.06-.94 2.06-2.06.94zm-11 1L8.5 8.5l.94-2.06 2.06-.94-2.06-.94L8.5 2.5l-.94 2.06-2.06.94zm10 10l.94 2.06.94-2.06 2.06-.94-2.06-.94-.94-2.06-.94 2.06-2.06.94z\"/><path d=\"M17.41 7.96l-1.37-1.37c-.4-.4-.92-.59-1.43-.59-.52 0-1.04.2-1.43.59L10.3 9.45l-7.72 7.72c-.78.78-.78 2.05 0 2.83L4 21.41c.39.39.9.59 1.41.59.51 0 1.02-.2 1.41-.59l7.78-7.78 2.81-2.81c.8-.78.8-2.07 0-2.86zM5.41 20L4 18.59l7.72-7.72 1.47 1.35L5.41 20z\"/>\n",
              "  </svg>\n",
              "      </button>\n",
              "      \n",
              "  <style>\n",
              "    .colab-df-container {\n",
              "      display:flex;\n",
              "      flex-wrap:wrap;\n",
              "      gap: 12px;\n",
              "    }\n",
              "\n",
              "    .colab-df-convert {\n",
              "      background-color: #E8F0FE;\n",
              "      border: none;\n",
              "      border-radius: 50%;\n",
              "      cursor: pointer;\n",
              "      display: none;\n",
              "      fill: #1967D2;\n",
              "      height: 32px;\n",
              "      padding: 0 0 0 0;\n",
              "      width: 32px;\n",
              "    }\n",
              "\n",
              "    .colab-df-convert:hover {\n",
              "      background-color: #E2EBFA;\n",
              "      box-shadow: 0px 1px 2px rgba(60, 64, 67, 0.3), 0px 1px 3px 1px rgba(60, 64, 67, 0.15);\n",
              "      fill: #174EA6;\n",
              "    }\n",
              "\n",
              "    [theme=dark] .colab-df-convert {\n",
              "      background-color: #3B4455;\n",
              "      fill: #D2E3FC;\n",
              "    }\n",
              "\n",
              "    [theme=dark] .colab-df-convert:hover {\n",
              "      background-color: #434B5C;\n",
              "      box-shadow: 0px 1px 3px 1px rgba(0, 0, 0, 0.15);\n",
              "      filter: drop-shadow(0px 1px 2px rgba(0, 0, 0, 0.3));\n",
              "      fill: #FFFFFF;\n",
              "    }\n",
              "  </style>\n",
              "\n",
              "      <script>\n",
              "        const buttonEl =\n",
              "          document.querySelector('#df-03bf8dac-c8dc-4d56-a167-47cdcda0a686 button.colab-df-convert');\n",
              "        buttonEl.style.display =\n",
              "          google.colab.kernel.accessAllowed ? 'block' : 'none';\n",
              "\n",
              "        async function convertToInteractive(key) {\n",
              "          const element = document.querySelector('#df-03bf8dac-c8dc-4d56-a167-47cdcda0a686');\n",
              "          const dataTable =\n",
              "            await google.colab.kernel.invokeFunction('convertToInteractive',\n",
              "                                                     [key], {});\n",
              "          if (!dataTable) return;\n",
              "\n",
              "          const docLinkHtml = 'Like what you see? Visit the ' +\n",
              "            '<a target=\"_blank\" href=https://colab.research.google.com/notebooks/data_table.ipynb>data table notebook</a>'\n",
              "            + ' to learn more about interactive tables.';\n",
              "          element.innerHTML = '';\n",
              "          dataTable['output_type'] = 'display_data';\n",
              "          await google.colab.output.renderOutput(dataTable, element);\n",
              "          const docLink = document.createElement('div');\n",
              "          docLink.innerHTML = docLinkHtml;\n",
              "          element.appendChild(docLink);\n",
              "        }\n",
              "      </script>\n",
              "    </div>\n",
              "  </div>\n",
              "  "
            ],
            "text/plain": [
              "        category                                               text\n",
              "0           tech  tv future hand viewer home theatre system plas...\n",
              "1       business  worldcom bos leave book alone former worldcom ...\n",
              "2          sport  tiger wary farrell gamble leicester say rush m...\n",
              "3          sport  yeading face newcastle fa cup premiership side...\n",
              "4  entertainment  ocean twelve raid box office ocean twelve crim..."
            ]
          },
          "metadata": {},
          "execution_count": 35
        }
      ]
    },
    {
      "cell_type": "markdown",
      "source": [
        "### Spliting the data into feature and labels"
      ],
      "metadata": {
        "id": "eCRwmVnRBIfx"
      }
    },
    {
      "cell_type": "code",
      "source": [
        "x = data.iloc[:,1]"
      ],
      "metadata": {
        "id": "VLBdYL76BQ-g"
      },
      "execution_count": 36,
      "outputs": []
    },
    {
      "cell_type": "code",
      "source": [
        "x[0]"
      ],
      "metadata": {
        "colab": {
          "base_uri": "https://localhost:8080/",
          "height": 175
        },
        "id": "MYSxRg5mBbtK",
        "outputId": "54dd2885-0fb6-46a1-ed64-7b08f1fc9985"
      },
      "execution_count": 37,
      "outputs": [
        {
          "output_type": "execute_result",
          "data": {
            "application/vnd.google.colaboratory.intrinsic+json": {
              "type": "string"
            },
            "text/plain": [
              "'tv future hand viewer home theatre system plasma high definition tv digital video recorder move living room way people watch tv radically different five year time accord expert panel gather annual consumer electronics show la vegas discuss new technology impact one favourite pastime us lead trend programme content deliver viewer via home network cable satellite telecom company broadband service provider front room portable device one talked technology ce digital personal video recorder dvr pvr set top box like us tivo uk sky system allow people record store play pause forward wind tv programme want essentially technology allow much personalised tv also build high definition tv set big business japan us slow take europe lack high definition program people forward wind advert also forget abide network channel schedule put together la carte entertainment us network cable satellite company worried mean term advertising revenue well brand identity viewer loyalty channel although us lead technology moment also concern raise europe particularly grow uptake service like sky happen today see nine month year time uk adam hume bbc broadcast futurologist tell bbc news website like bbc issue lose advertising revenue yet pressing issue moment commercial uk broadcaster brand loyalty important everyone talk content brand rather network brand say tim hanlon brand communication firm starcom mediavest reality broadband connection anybody producer content add challenge hard promote programme much choice mean say stacey jolna senior vice president tv guide tv group way people find content want watch simplify tv viewer mean network us term channel could take leaf google book search engine future instead scheduler help people find want watch kind channel model might work young ipod generation use take control gadget play might suit everyone panel recognise old generation comfortable familiar schedule channel brand know get perhaps want much choice put hand mr hanlon suggest end kid diaper push button already everything possible available say mr hanlon ultimately consumer tell market want new gadget technology showcased ce many enhance tv watch experience high definition tv set everywhere many new model lcd liquid crystal display tv launch dvr capability build instead external box one example launch show humax inch lcd tv hour tivo dvr dvd recorder one us big satellite tv company directtv even launch brand dvr show hour record capability instant replay search function set pause rewind tv hour microsoft chief bill gate announce pre show keynote speech partnership tivo call tivotogo mean people play record programme window pc mobile device reflect increase trend free multimedia people watch want want dollar'"
            ]
          },
          "metadata": {},
          "execution_count": 37
        }
      ]
    },
    {
      "cell_type": "code",
      "source": [
        "x.shape"
      ],
      "metadata": {
        "colab": {
          "base_uri": "https://localhost:8080/",
          "height": 0
        },
        "id": "Rfa_86kpBjUc",
        "outputId": "c2b32dc8-ea82-4fd4-89ef-6e9bce8cedef"
      },
      "execution_count": 38,
      "outputs": [
        {
          "output_type": "execute_result",
          "data": {
            "text/plain": [
              "(2225,)"
            ]
          },
          "metadata": {},
          "execution_count": 38
        }
      ]
    },
    {
      "cell_type": "markdown",
      "source": [
        "Here we are puttng our text feature into a variable x for just convenience"
      ],
      "metadata": {
        "id": "tZw5B1efBlsj"
      }
    },
    {
      "cell_type": "code",
      "source": [
        "#Similarly labels into y:\n",
        "\n",
        "y = data.iloc[:,0]\n"
      ],
      "metadata": {
        "id": "i9HiGEaHB6wi"
      },
      "execution_count": 39,
      "outputs": []
    },
    {
      "cell_type": "code",
      "source": [
        "y[0]"
      ],
      "metadata": {
        "colab": {
          "base_uri": "https://localhost:8080/",
          "height": 35
        },
        "id": "JX303t6bCfOB",
        "outputId": "71ef6578-9c2c-4c44-99d8-53321d50af83"
      },
      "execution_count": 40,
      "outputs": [
        {
          "output_type": "execute_result",
          "data": {
            "application/vnd.google.colaboratory.intrinsic+json": {
              "type": "string"
            },
            "text/plain": [
              "'tech'"
            ]
          },
          "metadata": {},
          "execution_count": 40
        }
      ]
    },
    {
      "cell_type": "markdown",
      "source": [
        "### Test Train Split"
      ],
      "metadata": {
        "id": "dcYWULqjCvDf"
      }
    },
    {
      "cell_type": "markdown",
      "source": [
        "We are spliting it 90% and 10% ratio"
      ],
      "metadata": {
        "id": "Oj4J8ar_Cz-I"
      }
    },
    {
      "cell_type": "code",
      "source": [
        "from pandas.core.common import random_state\n",
        "from sklearn.model_selection import train_test_split\n",
        "\n",
        "x_train,x_test,y_train,y_test = train_test_split(x,y,random_state=42,test_size=0.1,shuffle=True)"
      ],
      "metadata": {
        "id": "ozWgb8TZC5b5"
      },
      "execution_count": 41,
      "outputs": []
    },
    {
      "cell_type": "markdown",
      "source": [
        "### Converting the labels into numerical:\n"
      ],
      "metadata": {
        "id": "XCKKhnqWDxA0"
      }
    },
    {
      "cell_type": "code",
      "source": [
        "from sklearn.preprocessing import LabelEncoder\n",
        "\n",
        "Labelencoder=LabelEncoder()\n",
        "y_train=Labelencoder.fit_transform(y_train)\n",
        "y_test = Labelencoder.transform(y_test)\n"
      ],
      "metadata": {
        "id": "1Lawy2e2U44V"
      },
      "execution_count": 42,
      "outputs": []
    },
    {
      "cell_type": "markdown",
      "source": [
        "### Building Model_0 with Naive Baiyes "
      ],
      "metadata": {
        "id": "pgL-X-YEV6Zy"
      }
    },
    {
      "cell_type": "code",
      "source": [
        "from sklearn.feature_extraction.text import TfidfVectorizer\n",
        "from sklearn.naive_bayes import MultinomialNB\n",
        "from sklearn.pipeline import Pipeline\n",
        "# Creating tokenization  and modelling pipeline\n",
        "model_0 = Pipeline([\n",
        "                    (\"tfidf\",TfidfVectorizer(max_features=2500)),\n",
        "                    (\"clf\",MultinomialNB())\n",
        "\n",
        "])\n",
        "\n",
        "model_0.fit(x_train,y_train)"
      ],
      "metadata": {
        "colab": {
          "base_uri": "https://localhost:8080/",
          "height": 0
        },
        "id": "xsDnjK-qVZ6B",
        "outputId": "53a3da3a-ec2b-4149-f492-7cfd2f5eaed7"
      },
      "execution_count": 43,
      "outputs": [
        {
          "output_type": "execute_result",
          "data": {
            "text/plain": [
              "Pipeline(steps=[('tfidf', TfidfVectorizer(max_features=2500)),\n",
              "                ('clf', MultinomialNB())])"
            ]
          },
          "metadata": {},
          "execution_count": 43
        }
      ]
    },
    {
      "cell_type": "code",
      "source": [
        "baseline_score_model_0 = model_0.score(x_test,y_test)\n",
        "print(f\"The accuracy of our model with Naive Bayes is {baseline_score_model_0*100:.2f}%\")"
      ],
      "metadata": {
        "colab": {
          "base_uri": "https://localhost:8080/",
          "height": 0
        },
        "id": "Od7UPeFqVg8U",
        "outputId": "b42ee28f-403f-470e-9cd6-bf3b44685456"
      },
      "execution_count": 44,
      "outputs": [
        {
          "output_type": "stream",
          "name": "stdout",
          "text": [
            "The accuracy of our model with Naive Bayes is 95.52%\n"
          ]
        }
      ]
    },
    {
      "cell_type": "code",
      "source": [
        "baseline_prediction_model_0 = model_0.predict(x_test)"
      ],
      "metadata": {
        "id": "BKcUzkAlVpUj"
      },
      "execution_count": 45,
      "outputs": []
    },
    {
      "cell_type": "code",
      "source": [
        "from sklearn.metrics import accuracy_score,precision_recall_fscore_support\n",
        "\n",
        "def model_evaluation_matrix(y_true,y_pred):\n",
        "\n",
        "  # model accuracy \n",
        "  model_accuracy = accuracy_score(y_true,y_pred)\n",
        "  # Calculate the precision,recall, f1 \n",
        "  model_precision,model_recall,model_f1,_= precision_recall_fscore_support(y_true,y_pred,average=\"weighted\") \n",
        "\n",
        "  model_results = {\"accuracy\": model_accuracy,\n",
        "                   \"precision\": model_precision,\n",
        "                  \"recall\" : model_recall,\n",
        "                   \"f1 score\" : model_f1\n",
        "                   }\n",
        "  return model_results      "
      ],
      "metadata": {
        "id": "8chOVwG8VvqV"
      },
      "execution_count": 46,
      "outputs": []
    },
    {
      "cell_type": "code",
      "source": [
        "baseline_model_results_0= model_evaluation_matrix(y_true= y_test,y_pred=baseline_prediction_model_0)"
      ],
      "metadata": {
        "id": "yvPXUMy6Vzj8"
      },
      "execution_count": 47,
      "outputs": []
    },
    {
      "cell_type": "code",
      "source": [
        "baseline_model_results_0_df=pd.DataFrame.from_dict(baseline_model_results_0,orient ='index')"
      ],
      "metadata": {
        "id": "cqptZcPtWNX7"
      },
      "execution_count": 48,
      "outputs": []
    },
    {
      "cell_type": "code",
      "source": [
        "baseline_model_results_0_df"
      ],
      "metadata": {
        "colab": {
          "base_uri": "https://localhost:8080/",
          "height": 174
        },
        "id": "nQg66sq3WQGz",
        "outputId": "5e8de52d-2b95-4286-82af-00e744a90a76"
      },
      "execution_count": 49,
      "outputs": [
        {
          "output_type": "execute_result",
          "data": {
            "text/html": [
              "\n",
              "  <div id=\"df-eef64da2-2570-4eaa-9bac-967fb408528e\">\n",
              "    <div class=\"colab-df-container\">\n",
              "      <div>\n",
              "<style scoped>\n",
              "    .dataframe tbody tr th:only-of-type {\n",
              "        vertical-align: middle;\n",
              "    }\n",
              "\n",
              "    .dataframe tbody tr th {\n",
              "        vertical-align: top;\n",
              "    }\n",
              "\n",
              "    .dataframe thead th {\n",
              "        text-align: right;\n",
              "    }\n",
              "</style>\n",
              "<table border=\"1\" class=\"dataframe\">\n",
              "  <thead>\n",
              "    <tr style=\"text-align: right;\">\n",
              "      <th></th>\n",
              "      <th>0</th>\n",
              "    </tr>\n",
              "  </thead>\n",
              "  <tbody>\n",
              "    <tr>\n",
              "      <th>accuracy</th>\n",
              "      <td>0.955157</td>\n",
              "    </tr>\n",
              "    <tr>\n",
              "      <th>precision</th>\n",
              "      <td>0.956198</td>\n",
              "    </tr>\n",
              "    <tr>\n",
              "      <th>recall</th>\n",
              "      <td>0.955157</td>\n",
              "    </tr>\n",
              "    <tr>\n",
              "      <th>f1 score</th>\n",
              "      <td>0.955120</td>\n",
              "    </tr>\n",
              "  </tbody>\n",
              "</table>\n",
              "</div>\n",
              "      <button class=\"colab-df-convert\" onclick=\"convertToInteractive('df-eef64da2-2570-4eaa-9bac-967fb408528e')\"\n",
              "              title=\"Convert this dataframe to an interactive table.\"\n",
              "              style=\"display:none;\">\n",
              "        \n",
              "  <svg xmlns=\"http://www.w3.org/2000/svg\" height=\"24px\"viewBox=\"0 0 24 24\"\n",
              "       width=\"24px\">\n",
              "    <path d=\"M0 0h24v24H0V0z\" fill=\"none\"/>\n",
              "    <path d=\"M18.56 5.44l.94 2.06.94-2.06 2.06-.94-2.06-.94-.94-2.06-.94 2.06-2.06.94zm-11 1L8.5 8.5l.94-2.06 2.06-.94-2.06-.94L8.5 2.5l-.94 2.06-2.06.94zm10 10l.94 2.06.94-2.06 2.06-.94-2.06-.94-.94-2.06-.94 2.06-2.06.94z\"/><path d=\"M17.41 7.96l-1.37-1.37c-.4-.4-.92-.59-1.43-.59-.52 0-1.04.2-1.43.59L10.3 9.45l-7.72 7.72c-.78.78-.78 2.05 0 2.83L4 21.41c.39.39.9.59 1.41.59.51 0 1.02-.2 1.41-.59l7.78-7.78 2.81-2.81c.8-.78.8-2.07 0-2.86zM5.41 20L4 18.59l7.72-7.72 1.47 1.35L5.41 20z\"/>\n",
              "  </svg>\n",
              "      </button>\n",
              "      \n",
              "  <style>\n",
              "    .colab-df-container {\n",
              "      display:flex;\n",
              "      flex-wrap:wrap;\n",
              "      gap: 12px;\n",
              "    }\n",
              "\n",
              "    .colab-df-convert {\n",
              "      background-color: #E8F0FE;\n",
              "      border: none;\n",
              "      border-radius: 50%;\n",
              "      cursor: pointer;\n",
              "      display: none;\n",
              "      fill: #1967D2;\n",
              "      height: 32px;\n",
              "      padding: 0 0 0 0;\n",
              "      width: 32px;\n",
              "    }\n",
              "\n",
              "    .colab-df-convert:hover {\n",
              "      background-color: #E2EBFA;\n",
              "      box-shadow: 0px 1px 2px rgba(60, 64, 67, 0.3), 0px 1px 3px 1px rgba(60, 64, 67, 0.15);\n",
              "      fill: #174EA6;\n",
              "    }\n",
              "\n",
              "    [theme=dark] .colab-df-convert {\n",
              "      background-color: #3B4455;\n",
              "      fill: #D2E3FC;\n",
              "    }\n",
              "\n",
              "    [theme=dark] .colab-df-convert:hover {\n",
              "      background-color: #434B5C;\n",
              "      box-shadow: 0px 1px 3px 1px rgba(0, 0, 0, 0.15);\n",
              "      filter: drop-shadow(0px 1px 2px rgba(0, 0, 0, 0.3));\n",
              "      fill: #FFFFFF;\n",
              "    }\n",
              "  </style>\n",
              "\n",
              "      <script>\n",
              "        const buttonEl =\n",
              "          document.querySelector('#df-eef64da2-2570-4eaa-9bac-967fb408528e button.colab-df-convert');\n",
              "        buttonEl.style.display =\n",
              "          google.colab.kernel.accessAllowed ? 'block' : 'none';\n",
              "\n",
              "        async function convertToInteractive(key) {\n",
              "          const element = document.querySelector('#df-eef64da2-2570-4eaa-9bac-967fb408528e');\n",
              "          const dataTable =\n",
              "            await google.colab.kernel.invokeFunction('convertToInteractive',\n",
              "                                                     [key], {});\n",
              "          if (!dataTable) return;\n",
              "\n",
              "          const docLinkHtml = 'Like what you see? Visit the ' +\n",
              "            '<a target=\"_blank\" href=https://colab.research.google.com/notebooks/data_table.ipynb>data table notebook</a>'\n",
              "            + ' to learn more about interactive tables.';\n",
              "          element.innerHTML = '';\n",
              "          dataTable['output_type'] = 'display_data';\n",
              "          await google.colab.output.renderOutput(dataTable, element);\n",
              "          const docLink = document.createElement('div');\n",
              "          docLink.innerHTML = docLinkHtml;\n",
              "          element.appendChild(docLink);\n",
              "        }\n",
              "      </script>\n",
              "    </div>\n",
              "  </div>\n",
              "  "
            ],
            "text/plain": [
              "                  0\n",
              "accuracy   0.955157\n",
              "precision  0.956198\n",
              "recall     0.955157\n",
              "f1 score   0.955120"
            ]
          },
          "metadata": {},
          "execution_count": 49
        }
      ]
    },
    {
      "cell_type": "code",
      "source": [
        "from sklearn.metrics import confusion_matrix\n",
        "\n",
        "Baseline_model_0_confusion_matrix = confusion_matrix(y_true=y_test,y_pred=baseline_prediction_model_0)"
      ],
      "metadata": {
        "id": "30kTPXtcWac7"
      },
      "execution_count": 50,
      "outputs": []
    },
    {
      "cell_type": "code",
      "source": [
        "# Our function needs a different name to sklearn's plot_confusion_matrix\n",
        "import itertools\n",
        "import matplotlib.pyplot as plt\n",
        "import numpy as np\n",
        "from sklearn.metrics import confusion_matrix\n",
        "\n",
        "def make_confusion_matrix(y_true, y_pred, classes=None, figsize=(10, 10), text_size=15, norm=False, savefig=False): \n",
        "  \"\"\"Makes a labelled confusion matrix comparing predictions and ground truth labels.\n",
        "  If classes is passed, confusion matrix will be labelled, if not, integer class values\n",
        "  will be used.\n",
        "  Args:\n",
        "    y_true: Array of truth labels (must be same shape as y_pred).\n",
        "    y_pred: Array of predicted labels (must be same shape as y_true).\n",
        "    classes: Array of class labels (e.g. string form). If `None`, integer labels are used.\n",
        "    figsize: Size of output figure (default=(10, 10)).\n",
        "    text_size: Size of output figure text (default=15).\n",
        "    norm: normalize values or not (default=False).\n",
        "    savefig: save confusion matrix to file (default=False).\n",
        "  \n",
        "  Returns:\n",
        "    A labelled confusion matrix plot comparing y_true and y_pred.\n",
        "  Example usage:\n",
        "    make_confusion_matrix(y_true=test_labels, # ground truth test labels\n",
        "                          y_pred=y_preds, # predicted labels\n",
        "                          classes=class_names, # array of class label names\n",
        "                          figsize=(15, 15),\n",
        "                          text_size=10)\n",
        "  \"\"\"  \n",
        "  # Create the confustion matrix\n",
        "  cm = confusion_matrix(y_true, y_pred)\n",
        "  cm_norm = cm.astype(\"float\") / cm.sum(axis=1)[:, np.newaxis] # normalize it\n",
        "  n_classes = cm.shape[0] # find the number of classes we're dealing with\n",
        "\n",
        "  # Plot the figure and make it pretty\n",
        "  fig, ax = plt.subplots(figsize=figsize)\n",
        "  cax = ax.matshow(cm, cmap=plt.cm.Blues) # colors will represent how 'correct' a class is, darker == better\n",
        "  fig.colorbar(cax)\n",
        "\n",
        "  # Are there a list of classes?\n",
        "  if classes:\n",
        "    labels = classes\n",
        "  else:\n",
        "    labels = np.arange(cm.shape[0])\n",
        "  \n",
        "  # Label the axes\n",
        "  ax.set(title=\"Confusion Matrix\",\n",
        "         xlabel=\"Predicted label\",\n",
        "         ylabel=\"True label\",\n",
        "         xticks=np.arange(n_classes), # create enough axis slots for each class\n",
        "         yticks=np.arange(n_classes), \n",
        "         xticklabels=labels, # axes will labeled with class names (if they exist) or ints\n",
        "         yticklabels=labels)\n",
        "  \n",
        "  # Make x-axis labels appear on bottom\n",
        "  ax.xaxis.set_label_position(\"bottom\")\n",
        "  ax.xaxis.tick_bottom()\n",
        "\n",
        "  # Set the threshold for different colors\n",
        "  threshold = (cm.max() + cm.min()) / 2.\n",
        "\n",
        "  # Plot the text on each cell\n",
        "  for i, j in itertools.product(range(cm.shape[0]), range(cm.shape[1])):\n",
        "    if norm:\n",
        "      plt.text(j, i, f\"{cm[i, j]} ({cm_norm[i, j]*100:.1f}%)\",\n",
        "              horizontalalignment=\"center\",\n",
        "              color=\"white\" if cm[i, j] > threshold else \"black\",\n",
        "              size=text_size)\n",
        "    else:\n",
        "      plt.text(j, i, f\"{cm[i, j]}\",\n",
        "              horizontalalignment=\"center\",\n",
        "              color=\"white\" if cm[i, j] > threshold else \"black\",\n",
        "              size=text_size)\n",
        "\n",
        "  # Save the figure to the current working directory\n",
        "  if savefig:\n",
        "    fig.savefig(\"confusion_matrix.png\")"
      ],
      "metadata": {
        "id": "0sYJoHeEWonB"
      },
      "execution_count": 51,
      "outputs": []
    },
    {
      "cell_type": "code",
      "source": [
        "confusion_matrix_basemodel_0 = make_confusion_matrix(y_true=y_test,y_pred=baseline_prediction_model_0,classes=[\"Class_0\",\"Class_1\",\"Class_2\",\"Class_3\",\"Class_4\"])"
      ],
      "metadata": {
        "colab": {
          "base_uri": "https://localhost:8080/",
          "height": 580
        },
        "id": "TNCHU1e1Wu9K",
        "outputId": "4c5d9ff5-8b6f-41fb-de92-5b1e464528a9"
      },
      "execution_count": 52,
      "outputs": [
        {
          "output_type": "display_data",
          "data": {
            "image/png": "[encoded data removed]",
            "text/plain": [
              "<Figure size 720x720 with 2 Axes>"
            ]
          },
          "metadata": {
            "needs_background": "light"
          }
        }
      ]
    },
    {
      "cell_type": "markdown",
      "source": [
        "### Model_1 with Logstic regression "
      ],
      "metadata": {
        "id": "1nBSfhlhXQ2v"
      }
    },
    {
      "cell_type": "code",
      "source": [
        "from sklearn.linear_model import LogisticRegression\n",
        "from sklearn.feature_extraction.text import TfidfVectorizer\n",
        "from sklearn.pipeline import Pipeline"
      ],
      "metadata": {
        "id": "hwqj74mUXVG-"
      },
      "execution_count": 53,
      "outputs": []
    },
    {
      "cell_type": "code",
      "source": [
        "model_1 = Pipeline(([\n",
        "                    (\"tfidf\",TfidfVectorizer(max_features=2500)),\n",
        "                    (\"clf\",LogisticRegression(solver='lbfgs', max_iter=1000))\n",
        "\n",
        "]))\n",
        "model_1.fit(x_train,y_train)"
      ],
      "metadata": {
        "colab": {
          "base_uri": "https://localhost:8080/",
          "height": 0
        },
        "id": "wlG-kGwlXj4w",
        "outputId": "9c0910eb-239c-4e53-b3ac-ef43fafe7999"
      },
      "execution_count": 54,
      "outputs": [
        {
          "output_type": "execute_result",
          "data": {
            "text/plain": [
              "Pipeline(steps=[('tfidf', TfidfVectorizer(max_features=2500)),\n",
              "                ('clf', LogisticRegression(max_iter=1000))])"
            ]
          },
          "metadata": {},
          "execution_count": 54
        }
      ]
    },
    {
      "cell_type": "code",
      "source": [
        "baseline_score_model_1 = model_1.score(x_test,y_test)\n",
        "print(f\"The accuracy of our model with logistic regression is {baseline_score_model_1*100}%\")\n"
      ],
      "metadata": {
        "colab": {
          "base_uri": "https://localhost:8080/",
          "height": 0
        },
        "id": "AWN89FprXl0g",
        "outputId": "ef72c399-95f8-43cc-a551-ef300e1adafb"
      },
      "execution_count": 55,
      "outputs": [
        {
          "output_type": "stream",
          "name": "stdout",
          "text": [
            "The accuracy of our model with logistic regression is 95.51569506726457%\n"
          ]
        }
      ]
    },
    {
      "cell_type": "code",
      "source": [
        "baseline_prediction_model_1= model_1.predict(x_test)"
      ],
      "metadata": {
        "id": "81_LWv_EX46f"
      },
      "execution_count": 56,
      "outputs": []
    },
    {
      "cell_type": "code",
      "source": [
        "baseline_model_results_1= model_evaluation_matrix(y_true= y_test,y_pred=baseline_prediction_model_1)"
      ],
      "metadata": {
        "id": "lBxJnnoPXxeP"
      },
      "execution_count": 57,
      "outputs": []
    },
    {
      "cell_type": "code",
      "source": [
        "baseline_model_results_1_df = pd.DataFrame.from_dict(baseline_model_results_1,orient ='index')"
      ],
      "metadata": {
        "id": "HaUpelv-YDmP"
      },
      "execution_count": 58,
      "outputs": []
    },
    {
      "cell_type": "code",
      "source": [
        "baseline_model_results_1_df"
      ],
      "metadata": {
        "colab": {
          "base_uri": "https://localhost:8080/",
          "height": 174
        },
        "id": "5NbPmBtZYG5e",
        "outputId": "4c328846-9387-4a1d-ddcc-720a58412683"
      },
      "execution_count": 59,
      "outputs": [
        {
          "output_type": "execute_result",
          "data": {
            "text/html": [
              "\n",
              "  <div id=\"df-864a8728-48d5-4bbd-965d-c7fa54e40332\">\n",
              "    <div class=\"colab-df-container\">\n",
              "      <div>\n",
              "<style scoped>\n",
              "    .dataframe tbody tr th:only-of-type {\n",
              "        vertical-align: middle;\n",
              "    }\n",
              "\n",
              "    .dataframe tbody tr th {\n",
              "        vertical-align: top;\n",
              "    }\n",
              "\n",
              "    .dataframe thead th {\n",
              "        text-align: right;\n",
              "    }\n",
              "</style>\n",
              "<table border=\"1\" class=\"dataframe\">\n",
              "  <thead>\n",
              "    <tr style=\"text-align: right;\">\n",
              "      <th></th>\n",
              "      <th>0</th>\n",
              "    </tr>\n",
              "  </thead>\n",
              "  <tbody>\n",
              "    <tr>\n",
              "      <th>accuracy</th>\n",
              "      <td>0.955157</td>\n",
              "    </tr>\n",
              "    <tr>\n",
              "      <th>precision</th>\n",
              "      <td>0.956594</td>\n",
              "    </tr>\n",
              "    <tr>\n",
              "      <th>recall</th>\n",
              "      <td>0.955157</td>\n",
              "    </tr>\n",
              "    <tr>\n",
              "      <th>f1 score</th>\n",
              "      <td>0.955440</td>\n",
              "    </tr>\n",
              "  </tbody>\n",
              "</table>\n",
              "</div>\n",
              "      <button class=\"colab-df-convert\" onclick=\"convertToInteractive('df-864a8728-48d5-4bbd-965d-c7fa54e40332')\"\n",
              "              title=\"Convert this dataframe to an interactive table.\"\n",
              "              style=\"display:none;\">\n",
              "        \n",
              "  <svg xmlns=\"http://www.w3.org/2000/svg\" height=\"24px\"viewBox=\"0 0 24 24\"\n",
              "       width=\"24px\">\n",
              "    <path d=\"M0 0h24v24H0V0z\" fill=\"none\"/>\n",
              "    <path d=\"M18.56 5.44l.94 2.06.94-2.06 2.06-.94-2.06-.94-.94-2.06-.94 2.06-2.06.94zm-11 1L8.5 8.5l.94-2.06 2.06-.94-2.06-.94L8.5 2.5l-.94 2.06-2.06.94zm10 10l.94 2.06.94-2.06 2.06-.94-2.06-.94-.94-2.06-.94 2.06-2.06.94z\"/><path d=\"M17.41 7.96l-1.37-1.37c-.4-.4-.92-.59-1.43-.59-.52 0-1.04.2-1.43.59L10.3 9.45l-7.72 7.72c-.78.78-.78 2.05 0 2.83L4 21.41c.39.39.9.59 1.41.59.51 0 1.02-.2 1.41-.59l7.78-7.78 2.81-2.81c.8-.78.8-2.07 0-2.86zM5.41 20L4 18.59l7.72-7.72 1.47 1.35L5.41 20z\"/>\n",
              "  </svg>\n",
              "      </button>\n",
              "      \n",
              "  <style>\n",
              "    .colab-df-container {\n",
              "      display:flex;\n",
              "      flex-wrap:wrap;\n",
              "      gap: 12px;\n",
              "    }\n",
              "\n",
              "    .colab-df-convert {\n",
              "      background-color: #E8F0FE;\n",
              "      border: none;\n",
              "      border-radius: 50%;\n",
              "      cursor: pointer;\n",
              "      display: none;\n",
              "      fill: #1967D2;\n",
              "      height: 32px;\n",
              "      padding: 0 0 0 0;\n",
              "      width: 32px;\n",
              "    }\n",
              "\n",
              "    .colab-df-convert:hover {\n",
              "      background-color: #E2EBFA;\n",
              "      box-shadow: 0px 1px 2px rgba(60, 64, 67, 0.3), 0px 1px 3px 1px rgba(60, 64, 67, 0.15);\n",
              "      fill: #174EA6;\n",
              "    }\n",
              "\n",
              "    [theme=dark] .colab-df-convert {\n",
              "      background-color: #3B4455;\n",
              "      fill: #D2E3FC;\n",
              "    }\n",
              "\n",
              "    [theme=dark] .colab-df-convert:hover {\n",
              "      background-color: #434B5C;\n",
              "      box-shadow: 0px 1px 3px 1px rgba(0, 0, 0, 0.15);\n",
              "      filter: drop-shadow(0px 1px 2px rgba(0, 0, 0, 0.3));\n",
              "      fill: #FFFFFF;\n",
              "    }\n",
              "  </style>\n",
              "\n",
              "      <script>\n",
              "        const buttonEl =\n",
              "          document.querySelector('#df-864a8728-48d5-4bbd-965d-c7fa54e40332 button.colab-df-convert');\n",
              "        buttonEl.style.display =\n",
              "          google.colab.kernel.accessAllowed ? 'block' : 'none';\n",
              "\n",
              "        async function convertToInteractive(key) {\n",
              "          const element = document.querySelector('#df-864a8728-48d5-4bbd-965d-c7fa54e40332');\n",
              "          const dataTable =\n",
              "            await google.colab.kernel.invokeFunction('convertToInteractive',\n",
              "                                                     [key], {});\n",
              "          if (!dataTable) return;\n",
              "\n",
              "          const docLinkHtml = 'Like what you see? Visit the ' +\n",
              "            '<a target=\"_blank\" href=https://colab.research.google.com/notebooks/data_table.ipynb>data table notebook</a>'\n",
              "            + ' to learn more about interactive tables.';\n",
              "          element.innerHTML = '';\n",
              "          dataTable['output_type'] = 'display_data';\n",
              "          await google.colab.output.renderOutput(dataTable, element);\n",
              "          const docLink = document.createElement('div');\n",
              "          docLink.innerHTML = docLinkHtml;\n",
              "          element.appendChild(docLink);\n",
              "        }\n",
              "      </script>\n",
              "    </div>\n",
              "  </div>\n",
              "  "
            ],
            "text/plain": [
              "                  0\n",
              "accuracy   0.955157\n",
              "precision  0.956594\n",
              "recall     0.955157\n",
              "f1 score   0.955440"
            ]
          },
          "metadata": {},
          "execution_count": 59
        }
      ]
    },
    {
      "cell_type": "code",
      "source": [
        "confusion_matrix_basemodel_1 = make_confusion_matrix(y_true=y_test,y_pred=baseline_prediction_model_1,classes=[\"Class_0\",\"Class_1\",\"Class_2\",\"Class_3\",\"Class_4\"])"
      ],
      "metadata": {
        "colab": {
          "base_uri": "https://localhost:8080/",
          "height": 580
        },
        "id": "niAfNiybYMB8",
        "outputId": "eaa8e40a-eff8-42ac-8c80-593576570415"
      },
      "execution_count": 60,
      "outputs": [
        {
          "output_type": "display_data",
          "data": {
            "image/png": "[encoded data removed]",
            "text/plain": [
              "<Figure size 720x720 with 2 Axes>"
            ]
          },
          "metadata": {
            "needs_background": "light"
          }
        }
      ]
    },
    {
      "cell_type": "markdown",
      "source": [
        "Model_2 with random forest "
      ],
      "metadata": {
        "id": "uJUYoJeYYata"
      }
    },
    {
      "cell_type": "code",
      "source": [
        "from sklearn.ensemble import RandomForestClassifier\n",
        "\n",
        "model_2  = Pipeline([\n",
        "                    (\"tfidf\",TfidfVectorizer(max_features=2500)),\n",
        "                    (\"clf\",RandomForestClassifier(n_estimators=200,random_state=0))\n",
        "\n",
        "])\n",
        "\n",
        "model_2.fit(x_train,y_train)\n",
        "\n"
      ],
      "metadata": {
        "colab": {
          "base_uri": "https://localhost:8080/",
          "height": 0
        },
        "id": "K6YNXCm3Yg62",
        "outputId": "9a2e0904-243a-4b5f-f28e-542cf03ba2d3"
      },
      "execution_count": 61,
      "outputs": [
        {
          "output_type": "execute_result",
          "data": {
            "text/plain": [
              "Pipeline(steps=[('tfidf', TfidfVectorizer(max_features=2500)),\n",
              "                ('clf',\n",
              "                 RandomForestClassifier(n_estimators=200, random_state=0))])"
            ]
          },
          "metadata": {},
          "execution_count": 61
        }
      ]
    },
    {
      "cell_type": "code",
      "source": [
        "baseline_score_model_2 = model_2.score(x_test,y_test)\n",
        "print(f\"The accuracy of our model with Random forest is {baseline_score_model_2*100}%\")"
      ],
      "metadata": {
        "colab": {
          "base_uri": "https://localhost:8080/",
          "height": 0
        },
        "id": "zwNvDjvBYoqP",
        "outputId": "ffbb073f-a118-4a97-a716-185080bb6756"
      },
      "execution_count": 62,
      "outputs": [
        {
          "output_type": "stream",
          "name": "stdout",
          "text": [
            "The accuracy of our model with Random forest is 92.82511210762333%\n"
          ]
        }
      ]
    },
    {
      "cell_type": "code",
      "source": [
        "baseline_prediction_model_2 = model_2.predict(x_test)"
      ],
      "metadata": {
        "id": "kSKFQZUqY7cu"
      },
      "execution_count": 63,
      "outputs": []
    },
    {
      "cell_type": "code",
      "source": [
        "baseline_model_results_2= model_evaluation_matrix(y_true= y_test,y_pred=baseline_prediction_model_2)"
      ],
      "metadata": {
        "id": "sbql6gytY-Zp"
      },
      "execution_count": 64,
      "outputs": []
    },
    {
      "cell_type": "code",
      "source": [
        "print(baseline_model_results_2)"
      ],
      "metadata": {
        "colab": {
          "base_uri": "https://localhost:8080/",
          "height": 0
        },
        "id": "PyKhLsrnZH3k",
        "outputId": "c4f32a10-ab82-43ca-a9ed-2ecce1923859"
      },
      "execution_count": 65,
      "outputs": [
        {
          "output_type": "stream",
          "name": "stdout",
          "text": [
            "{'accuracy': 0.9282511210762332, 'precision': 0.9300836963410055, 'recall': 0.9282511210762332, 'f1 score': 0.9286085316390539}\n"
          ]
        }
      ]
    },
    {
      "cell_type": "code",
      "source": [
        "baseline_model_results_2_df=pd.DataFrame.from_dict(baseline_model_results_2,orient=\"index\")"
      ],
      "metadata": {
        "id": "Z8OXOEPuZMjN"
      },
      "execution_count": 66,
      "outputs": []
    },
    {
      "cell_type": "code",
      "source": [
        "baseline_model_results_2_df"
      ],
      "metadata": {
        "colab": {
          "base_uri": "https://localhost:8080/",
          "height": 174
        },
        "id": "2tksa5M6ZP1B",
        "outputId": "1ca0c0ef-e65a-4f3b-b692-99bc4140df3d"
      },
      "execution_count": 67,
      "outputs": [
        {
          "output_type": "execute_result",
          "data": {
            "text/html": [
              "\n",
              "  <div id=\"df-fe38f0ad-0f9d-4533-b325-6720b20db8a5\">\n",
              "    <div class=\"colab-df-container\">\n",
              "      <div>\n",
              "<style scoped>\n",
              "    .dataframe tbody tr th:only-of-type {\n",
              "        vertical-align: middle;\n",
              "    }\n",
              "\n",
              "    .dataframe tbody tr th {\n",
              "        vertical-align: top;\n",
              "    }\n",
              "\n",
              "    .dataframe thead th {\n",
              "        text-align: right;\n",
              "    }\n",
              "</style>\n",
              "<table border=\"1\" class=\"dataframe\">\n",
              "  <thead>\n",
              "    <tr style=\"text-align: right;\">\n",
              "      <th></th>\n",
              "      <th>0</th>\n",
              "    </tr>\n",
              "  </thead>\n",
              "  <tbody>\n",
              "    <tr>\n",
              "      <th>accuracy</th>\n",
              "      <td>0.928251</td>\n",
              "    </tr>\n",
              "    <tr>\n",
              "      <th>precision</th>\n",
              "      <td>0.930084</td>\n",
              "    </tr>\n",
              "    <tr>\n",
              "      <th>recall</th>\n",
              "      <td>0.928251</td>\n",
              "    </tr>\n",
              "    <tr>\n",
              "      <th>f1 score</th>\n",
              "      <td>0.928609</td>\n",
              "    </tr>\n",
              "  </tbody>\n",
              "</table>\n",
              "</div>\n",
              "      <button class=\"colab-df-convert\" onclick=\"convertToInteractive('df-fe38f0ad-0f9d-4533-b325-6720b20db8a5')\"\n",
              "              title=\"Convert this dataframe to an interactive table.\"\n",
              "              style=\"display:none;\">\n",
              "        \n",
              "  <svg xmlns=\"http://www.w3.org/2000/svg\" height=\"24px\"viewBox=\"0 0 24 24\"\n",
              "       width=\"24px\">\n",
              "    <path d=\"M0 0h24v24H0V0z\" fill=\"none\"/>\n",
              "    <path d=\"M18.56 5.44l.94 2.06.94-2.06 2.06-.94-2.06-.94-.94-2.06-.94 2.06-2.06.94zm-11 1L8.5 8.5l.94-2.06 2.06-.94-2.06-.94L8.5 2.5l-.94 2.06-2.06.94zm10 10l.94 2.06.94-2.06 2.06-.94-2.06-.94-.94-2.06-.94 2.06-2.06.94z\"/><path d=\"M17.41 7.96l-1.37-1.37c-.4-.4-.92-.59-1.43-.59-.52 0-1.04.2-1.43.59L10.3 9.45l-7.72 7.72c-.78.78-.78 2.05 0 2.83L4 21.41c.39.39.9.59 1.41.59.51 0 1.02-.2 1.41-.59l7.78-7.78 2.81-2.81c.8-.78.8-2.07 0-2.86zM5.41 20L4 18.59l7.72-7.72 1.47 1.35L5.41 20z\"/>\n",
              "  </svg>\n",
              "      </button>\n",
              "      \n",
              "  <style>\n",
              "    .colab-df-container {\n",
              "      display:flex;\n",
              "      flex-wrap:wrap;\n",
              "      gap: 12px;\n",
              "    }\n",
              "\n",
              "    .colab-df-convert {\n",
              "      background-color: #E8F0FE;\n",
              "      border: none;\n",
              "      border-radius: 50%;\n",
              "      cursor: pointer;\n",
              "      display: none;\n",
              "      fill: #1967D2;\n",
              "      height: 32px;\n",
              "      padding: 0 0 0 0;\n",
              "      width: 32px;\n",
              "    }\n",
              "\n",
              "    .colab-df-convert:hover {\n",
              "      background-color: #E2EBFA;\n",
              "      box-shadow: 0px 1px 2px rgba(60, 64, 67, 0.3), 0px 1px 3px 1px rgba(60, 64, 67, 0.15);\n",
              "      fill: #174EA6;\n",
              "    }\n",
              "\n",
              "    [theme=dark] .colab-df-convert {\n",
              "      background-color: #3B4455;\n",
              "      fill: #D2E3FC;\n",
              "    }\n",
              "\n",
              "    [theme=dark] .colab-df-convert:hover {\n",
              "      background-color: #434B5C;\n",
              "      box-shadow: 0px 1px 3px 1px rgba(0, 0, 0, 0.15);\n",
              "      filter: drop-shadow(0px 1px 2px rgba(0, 0, 0, 0.3));\n",
              "      fill: #FFFFFF;\n",
              "    }\n",
              "  </style>\n",
              "\n",
              "      <script>\n",
              "        const buttonEl =\n",
              "          document.querySelector('#df-fe38f0ad-0f9d-4533-b325-6720b20db8a5 button.colab-df-convert');\n",
              "        buttonEl.style.display =\n",
              "          google.colab.kernel.accessAllowed ? 'block' : 'none';\n",
              "\n",
              "        async function convertToInteractive(key) {\n",
              "          const element = document.querySelector('#df-fe38f0ad-0f9d-4533-b325-6720b20db8a5');\n",
              "          const dataTable =\n",
              "            await google.colab.kernel.invokeFunction('convertToInteractive',\n",
              "                                                     [key], {});\n",
              "          if (!dataTable) return;\n",
              "\n",
              "          const docLinkHtml = 'Like what you see? Visit the ' +\n",
              "            '<a target=\"_blank\" href=https://colab.research.google.com/notebooks/data_table.ipynb>data table notebook</a>'\n",
              "            + ' to learn more about interactive tables.';\n",
              "          element.innerHTML = '';\n",
              "          dataTable['output_type'] = 'display_data';\n",
              "          await google.colab.output.renderOutput(dataTable, element);\n",
              "          const docLink = document.createElement('div');\n",
              "          docLink.innerHTML = docLinkHtml;\n",
              "          element.appendChild(docLink);\n",
              "        }\n",
              "      </script>\n",
              "    </div>\n",
              "  </div>\n",
              "  "
            ],
            "text/plain": [
              "                  0\n",
              "accuracy   0.928251\n",
              "precision  0.930084\n",
              "recall     0.928251\n",
              "f1 score   0.928609"
            ]
          },
          "metadata": {},
          "execution_count": 67
        }
      ]
    },
    {
      "cell_type": "code",
      "source": [
        "confusion_matrix_basemodel_2 = make_confusion_matrix(y_true=y_test,y_pred=baseline_prediction_model_2,classes=[\"Class_0\",\"Class_1\",\"Class_2\",\"Class_3\",\"Class_4\"])"
      ],
      "metadata": {
        "colab": {
          "base_uri": "https://localhost:8080/",
          "height": 580
        },
        "id": "i1i2xQpGZani",
        "outputId": "276a8b45-e6e7-49ed-97ce-0044d8b72eb6"
      },
      "execution_count": 68,
      "outputs": [
        {
          "output_type": "display_data",
          "data": {
            "image/png": "[encoded data removed]",
            "text/plain": [
              "<Figure size 720x720 with 2 Axes>"
            ]
          },
          "metadata": {
            "needs_background": "light"
          }
        }
      ]
    },
    {
      "cell_type": "markdown",
      "source": [
        "### MLP Model: Neural Network"
      ],
      "metadata": {
        "id": "eJYkquyyX9zI"
      }
    },
    {
      "cell_type": "code",
      "source": [
        "x_train.shape,y_train.shape,x_test.shape,y_test.shape"
      ],
      "metadata": {
        "colab": {
          "base_uri": "https://localhost:8080/",
          "height": 0
        },
        "id": "RM8sAAn7YqPf",
        "outputId": "6bd8277c-6c21-404f-9334-fcb492d9227e"
      },
      "execution_count": 70,
      "outputs": [
        {
          "output_type": "execute_result",
          "data": {
            "text/plain": [
              "((2002,), (2002,), (223,), (223,))"
            ]
          },
          "metadata": {},
          "execution_count": 70
        }
      ]
    },
    {
      "cell_type": "code",
      "source": [
        "import tensorflow as tf\n",
        "from tensorflow.keras.layers.experimental.preprocessing import TextVectorization"
      ],
      "metadata": {
        "id": "w8JWVc9mYfe8"
      },
      "execution_count": 69,
      "outputs": []
    },
    {
      "cell_type": "code",
      "source": [
        "# Setting up the text vectorization variables\n",
        "max_vocab_length =10000\n",
        "max_length = 200 # We considering 99 percentile information for the max length\n",
        "text_vectorizer = TextVectorization(max_tokens=max_vocab_length,output_mode=\"int\",output_sequence_length=max_length)"
      ],
      "metadata": {
        "id": "XF9ozOTZZNP1"
      },
      "execution_count": 71,
      "outputs": []
    },
    {
      "cell_type": "markdown",
      "source": [
        "Creating text vectoriser layer "
      ],
      "metadata": {
        "id": "OOB7QE9LZvXS"
      }
    },
    {
      "cell_type": "code",
      "source": [
        "text_vectorizer.adapt(x_train)"
      ],
      "metadata": {
        "id": "sbBkTGp5ZVvQ"
      },
      "execution_count": 73,
      "outputs": []
    },
    {
      "cell_type": "code",
      "source": [
        "sample_sentence = x_train[0]\n",
        "text_vectorizer([sample_sentence])"
      ],
      "metadata": {
        "colab": {
          "base_uri": "https://localhost:8080/",
          "height": 0
        },
        "id": "iZawh0VKZdf3",
        "outputId": "52fb8b9b-4a81-43e1-d3b5-3df003b9ac5f"
      },
      "execution_count": 74,
      "outputs": [
        {
          "output_type": "execute_result",
          "data": {
            "text/plain": [
              "<tf.Tensor: shape=(1, 200), dtype=int64, numpy=\n",
              "array([[ 119,  209,  296,  975,   72,  937,  109, 4279,   52,  929,  119,\n",
              "         191,  231, 2068,  101, 2121, 1153,   56,    9,  515,  119, 4803,\n",
              "         382,  118,    3,   16,  179,  849, 1221, 1296,  606,  196, 1210,\n",
              "          31, 1260, 7920, 1085,   10,   82,  762,   13,  779,    1,   12,\n",
              "          99, 1088,  257,  481,  697,  975,  814,   72,  186, 1117, 1831,\n",
              "        1216,   30,  411,   49, 1406,  837, 1153, 1023,  334,   13,    1,\n",
              "          82, 2344,  191,  389,  231, 2068, 6807, 4272,   47,   85,  482,\n",
              "          44,   12, 4466,   32, 1305,  109,  181,    9,  104,  699,   28,\n",
              "        3430,  470, 3037,  119,  257,   42, 5277,   82,  181,   94, 7295,\n",
              "         119,    8,  405,   52,  929,  119,   47,   65,  146,  439,   12,\n",
              "         652,   14,  190, 1001,   52,  929,  429,    9,  470, 3037, 1858,\n",
              "           8, 1485, 4716,  186,  832, 1404,  108,  683, 1260,    1,  780,\n",
              "          12,  186, 1117, 1831,   30, 4195,  154,  263, 1964,  685,   48,\n",
              "         698, 2079,  975, 4098,  832,  298,   12,   99,   82,  648,    8,\n",
              "         267,  376,  190,  827,  244, 6364,   49,   44, 1305,  343,  468,\n",
              "          37,  924,   46,    3,   16,   32, 2180,    1,   67,  904,    1,\n",
              "          33,   67,  131,  230,   44,   67,  121,  155, 1964,  685,  367,\n",
              "           1,  121,  648, 1061,   32, 1514,  698, 4098,  342,  749,  242,\n",
              "         481,  698]])>"
            ]
          },
          "metadata": {},
          "execution_count": 74
        }
      ]
    },
    {
      "cell_type": "markdown",
      "source": [
        "Creating embedding layer"
      ],
      "metadata": {
        "id": "56ntfNoiZ0kA"
      }
    },
    {
      "cell_type": "code",
      "source": [
        "from tensorflow.keras import layers\n",
        "\n",
        "embedding = layers.Embedding(input_dim= max_vocab_length,output_dim=128,embeddings_initializer=\"uniform\",input_length=max_length)\n",
        "embedding "
      ],
      "metadata": {
        "colab": {
          "base_uri": "https://localhost:8080/",
          "height": 0
        },
        "id": "xSUmhUkwZlsQ",
        "outputId": "56ae2e01-5750-4768-9a2b-46be4c2f4e46"
      },
      "execution_count": 76,
      "outputs": [
        {
          "output_type": "execute_result",
          "data": {
            "text/plain": [
              "<keras.layers.embeddings.Embedding at 0x7f777842c9d0>"
            ]
          },
          "metadata": {},
          "execution_count": 76
        }
      ]
    },
    {
      "cell_type": "code",
      "source": [
        "sample_embedding = embedding(text_vectorizer([sample_sentence]))\n",
        "sample_embedding"
      ],
      "metadata": {
        "colab": {
          "base_uri": "https://localhost:8080/",
          "height": 0
        },
        "id": "FdEKos-qZsj_",
        "outputId": "e1038d51-d935-4a93-ef50-b9bc00d26c7b"
      },
      "execution_count": 77,
      "outputs": [
        {
          "output_type": "execute_result",
          "data": {
            "text/plain": [
              "<tf.Tensor: shape=(1, 200, 128), dtype=float32, numpy=\n",
              "array([[[-0.00191934,  0.01797142,  0.02399598, ...,  0.00339464,\n",
              "          0.01972504, -0.01777551],\n",
              "        [-0.01682098, -0.00399894, -0.01501558, ...,  0.02181676,\n",
              "          0.03184545,  0.02648379],\n",
              "        [-0.03183348, -0.00308757,  0.0091444 , ...,  0.01262102,\n",
              "         -0.00702459, -0.03927443],\n",
              "        ...,\n",
              "        [-0.01788265,  0.02240613, -0.03025293, ..., -0.03823917,\n",
              "         -0.00035031,  0.03824754],\n",
              "        [ 0.01963631,  0.01434549, -0.03732059, ..., -0.00759768,\n",
              "         -0.0357316 ,  0.01852432],\n",
              "        [-0.02585931, -0.04362461,  0.03102044, ...,  0.01750762,\n",
              "         -0.00040501,  0.02553482]]], dtype=float32)>"
            ]
          },
          "metadata": {},
          "execution_count": 77
        }
      ]
    },
    {
      "cell_type": "markdown",
      "source": [
        "###Building the MLP Architecture "
      ],
      "metadata": {
        "id": "RgPg71BBZ8MU"
      }
    },
    {
      "cell_type": "code",
      "source": [
        "from tensorflow.keras import layers \n",
        "\n",
        "inputs = layers.Input(shape=(1,),dtype=tf.string) # inputs are 1 -d strings \n",
        "x = text_vectorizer(inputs)\n",
        "x = embedding(x)\n",
        "x = layers.GlobalAveragePooling1D()(x)\n",
        "x = layers.Dense(512,activation='relu')(x)\n",
        "x = layers.Dense(128,activation='relu')(x)\n",
        "x = layers.Dropout(0.5)(x)\n",
        "x = layers.Dense(32,activation='relu')(x)\n",
        "outputs = layers.Dense(5,activation='softmax')(x)\n",
        "\n",
        "\n",
        "model_3 = tf.keras.Model(inputs,outputs,name= \"model_3_Dense_MLP\")"
      ],
      "metadata": {
        "id": "Q1vMN7UVaBBn"
      },
      "execution_count": 78,
      "outputs": []
    },
    {
      "cell_type": "code",
      "source": [
        "model_3.summary()"
      ],
      "metadata": {
        "colab": {
          "base_uri": "https://localhost:8080/",
          "height": 0
        },
        "id": "049Si6PHaLO_",
        "outputId": "c4121521-82fe-4b29-acbd-d4f87d287dc0"
      },
      "execution_count": 80,
      "outputs": [
        {
          "output_type": "stream",
          "name": "stdout",
          "text": [
            "Model: \"model_3_Dense_MLP\"\n",
            "_________________________________________________________________\n",
            " Layer (type)                Output Shape              Param #   \n",
            "=================================================================\n",
            " input_1 (InputLayer)        [(None, 1)]               0         \n",
            "                                                                 \n",
            " text_vectorization (TextVec  (None, 200)              0         \n",
            " torization)                                                     \n",
            "                                                                 \n",
            " embedding_1 (Embedding)     (None, 200, 128)          1280000   \n",
            "                                                                 \n",
            " global_average_pooling1d (G  (None, 128)              0         \n",
            " lobalAveragePooling1D)                                          \n",
            "                                                                 \n",
            " dense (Dense)               (None, 512)               66048     \n",
            "                                                                 \n",
            " dense_1 (Dense)             (None, 128)               65664     \n",
            "                                                                 \n",
            " dropout (Dropout)           (None, 128)               0         \n",
            "                                                                 \n",
            " dense_2 (Dense)             (None, 32)                4128      \n",
            "                                                                 \n",
            " dense_3 (Dense)             (None, 5)                 165       \n",
            "                                                                 \n",
            "=================================================================\n",
            "Total params: 1,416,005\n",
            "Trainable params: 1,416,005\n",
            "Non-trainable params: 0\n",
            "_________________________________________________________________\n"
          ]
        }
      ]
    },
    {
      "cell_type": "code",
      "source": [
        "from keras.utils.vis_utils import plot_model\n",
        "plot_model(model_3,show_shapes=True)"
      ],
      "metadata": {
        "colab": {
          "base_uri": "https://localhost:8080/",
          "height": 976
        },
        "id": "eFUzXhzkaSJn",
        "outputId": "392eb63f-24cb-4f05-b374-bee23233a315"
      },
      "execution_count": 81,
      "outputs": [
        {
          "output_type": "execute_result",
          "data": {
            "image/png": "[encoded data removed]",
            "text/plain": [
              "<IPython.core.display.Image object>"
            ]
          },
          "metadata": {},
          "execution_count": 81
        }
      ]
    },
    {
      "cell_type": "code",
      "source": [
        "model_3.compile(optimizer= tf.keras.optimizers.Adam(),loss=tf.keras.losses.SparseCategoricalCrossentropy(),metrics=[\"accuracy\"])"
      ],
      "metadata": {
        "id": "jDFZJVkhabpW"
      },
      "execution_count": 82,
      "outputs": []
    },
    {
      "cell_type": "code",
      "source": [
        "SAVE_DIR=\"/content/drive/MyDrive/NLP/NLP_Projects/BCG_dataset\""
      ],
      "metadata": {
        "id": "xosMsWr4a5Cu"
      },
      "execution_count": 84,
      "outputs": []
    },
    {
      "cell_type": "code",
      "source": [
        "model_3_history = model_3.fit(x = x_train,y=y_train,epochs=50,validation_data=(x_test,y_test))"
      ],
      "metadata": {
        "colab": {
          "base_uri": "https://localhost:8080/",
          "height": 0
        },
        "id": "fxuUIgVVagRu",
        "outputId": "94166515-1e15-4d1e-89af-4183e22d6474"
      },
      "execution_count": 86,
      "outputs": [
        {
          "output_type": "stream",
          "name": "stdout",
          "text": [
            "Epoch 1/50\n",
            "63/63 [==============================] - 3s 9ms/step - loss: 1.3921 - accuracy: 0.4421 - val_loss: 0.7122 - val_accuracy: 0.8700\n",
            "Epoch 2/50\n",
            "63/63 [==============================] - 0s 5ms/step - loss: 0.2587 - accuracy: 0.9371 - val_loss: 0.1878 - val_accuracy: 0.9507\n",
            "Epoch 3/50\n",
            "63/63 [==============================] - 0s 5ms/step - loss: 0.0407 - accuracy: 0.9910 - val_loss: 0.1967 - val_accuracy: 0.9462\n",
            "Epoch 4/50\n",
            "63/63 [==============================] - 0s 6ms/step - loss: 0.0173 - accuracy: 0.9950 - val_loss: 0.2149 - val_accuracy: 0.9507\n",
            "Epoch 5/50\n",
            "63/63 [==============================] - 0s 5ms/step - loss: 0.0100 - accuracy: 0.9985 - val_loss: 0.2341 - val_accuracy: 0.9462\n",
            "Epoch 6/50\n",
            "63/63 [==============================] - 0s 5ms/step - loss: 0.0041 - accuracy: 0.9995 - val_loss: 0.2239 - val_accuracy: 0.9596\n",
            "Epoch 7/50\n",
            "63/63 [==============================] - 0s 5ms/step - loss: 0.0033 - accuracy: 0.9995 - val_loss: 0.2330 - val_accuracy: 0.9552\n",
            "Epoch 8/50\n",
            "63/63 [==============================] - 0s 5ms/step - loss: 0.0018 - accuracy: 1.0000 - val_loss: 0.2546 - val_accuracy: 0.9462\n",
            "Epoch 9/50\n",
            "63/63 [==============================] - 0s 5ms/step - loss: 0.0014 - accuracy: 1.0000 - val_loss: 0.2514 - val_accuracy: 0.9596\n",
            "Epoch 10/50\n",
            "63/63 [==============================] - 0s 5ms/step - loss: 0.0013 - accuracy: 1.0000 - val_loss: 0.2691 - val_accuracy: 0.9507\n",
            "Epoch 11/50\n",
            "63/63 [==============================] - 0s 4ms/step - loss: 8.2474e-04 - accuracy: 1.0000 - val_loss: 0.2655 - val_accuracy: 0.9552\n",
            "Epoch 12/50\n",
            "63/63 [==============================] - 0s 4ms/step - loss: 7.0247e-04 - accuracy: 1.0000 - val_loss: 0.2688 - val_accuracy: 0.9507\n",
            "Epoch 13/50\n",
            "63/63 [==============================] - 0s 5ms/step - loss: 5.9060e-04 - accuracy: 1.0000 - val_loss: 0.2773 - val_accuracy: 0.9507\n",
            "Epoch 14/50\n",
            "63/63 [==============================] - 0s 5ms/step - loss: 6.1371e-04 - accuracy: 1.0000 - val_loss: 0.2642 - val_accuracy: 0.9596\n",
            "Epoch 15/50\n",
            "63/63 [==============================] - 0s 5ms/step - loss: 4.4046e-04 - accuracy: 1.0000 - val_loss: 0.2799 - val_accuracy: 0.9552\n",
            "Epoch 16/50\n",
            "63/63 [==============================] - 0s 5ms/step - loss: 3.9768e-04 - accuracy: 1.0000 - val_loss: 0.2992 - val_accuracy: 0.9552\n",
            "Epoch 17/50\n",
            "63/63 [==============================] - 0s 5ms/step - loss: 6.3820e-04 - accuracy: 1.0000 - val_loss: 0.3353 - val_accuracy: 0.9417\n",
            "Epoch 18/50\n",
            "63/63 [==============================] - 0s 5ms/step - loss: 5.8604e-04 - accuracy: 1.0000 - val_loss: 0.2837 - val_accuracy: 0.9596\n",
            "Epoch 19/50\n",
            "63/63 [==============================] - 0s 5ms/step - loss: 5.4359e-04 - accuracy: 1.0000 - val_loss: 0.2899 - val_accuracy: 0.9641\n",
            "Epoch 20/50\n",
            "63/63 [==============================] - 0s 5ms/step - loss: 1.9930e-04 - accuracy: 1.0000 - val_loss: 0.2928 - val_accuracy: 0.9596\n",
            "Epoch 21/50\n",
            "63/63 [==============================] - 0s 5ms/step - loss: 2.4612e-04 - accuracy: 1.0000 - val_loss: 0.3203 - val_accuracy: 0.9507\n",
            "Epoch 22/50\n",
            "63/63 [==============================] - 0s 5ms/step - loss: 7.2753e-04 - accuracy: 0.9995 - val_loss: 0.3136 - val_accuracy: 0.9641\n",
            "Epoch 23/50\n",
            "63/63 [==============================] - 0s 5ms/step - loss: 1.3758e-04 - accuracy: 1.0000 - val_loss: 0.3206 - val_accuracy: 0.9552\n",
            "Epoch 24/50\n",
            "63/63 [==============================] - 0s 5ms/step - loss: 3.0666e-04 - accuracy: 1.0000 - val_loss: 0.3213 - val_accuracy: 0.9552\n",
            "Epoch 25/50\n",
            "63/63 [==============================] - 0s 5ms/step - loss: 2.2035e-04 - accuracy: 1.0000 - val_loss: 0.3326 - val_accuracy: 0.9552\n",
            "Epoch 26/50\n",
            "63/63 [==============================] - 0s 5ms/step - loss: 9.3672e-05 - accuracy: 1.0000 - val_loss: 0.3244 - val_accuracy: 0.9552\n",
            "Epoch 27/50\n",
            "63/63 [==============================] - 0s 5ms/step - loss: 3.2032e-04 - accuracy: 1.0000 - val_loss: 0.3561 - val_accuracy: 0.9641\n",
            "Epoch 28/50\n",
            "63/63 [==============================] - 0s 5ms/step - loss: 3.8969e-04 - accuracy: 1.0000 - val_loss: 0.3605 - val_accuracy: 0.9507\n",
            "Epoch 29/50\n",
            "63/63 [==============================] - 0s 5ms/step - loss: 1.2850e-04 - accuracy: 1.0000 - val_loss: 0.3397 - val_accuracy: 0.9507\n",
            "Epoch 30/50\n",
            "63/63 [==============================] - 0s 5ms/step - loss: 2.6575e-04 - accuracy: 1.0000 - val_loss: 0.3277 - val_accuracy: 0.9462\n",
            "Epoch 31/50\n",
            "63/63 [==============================] - 0s 5ms/step - loss: 3.2492e-04 - accuracy: 1.0000 - val_loss: 0.3676 - val_accuracy: 0.9552\n",
            "Epoch 32/50\n",
            "63/63 [==============================] - 0s 5ms/step - loss: 2.0360e-04 - accuracy: 1.0000 - val_loss: 0.3564 - val_accuracy: 0.9552\n",
            "Epoch 33/50\n",
            "63/63 [==============================] - 0s 5ms/step - loss: 2.7479e-04 - accuracy: 1.0000 - val_loss: 0.3447 - val_accuracy: 0.9507\n",
            "Epoch 34/50\n",
            "63/63 [==============================] - 0s 5ms/step - loss: 1.3454e-04 - accuracy: 1.0000 - val_loss: 0.3700 - val_accuracy: 0.9507\n",
            "Epoch 35/50\n",
            "63/63 [==============================] - 0s 5ms/step - loss: 1.3996e-04 - accuracy: 1.0000 - val_loss: 0.3809 - val_accuracy: 0.9417\n",
            "Epoch 36/50\n",
            "63/63 [==============================] - 0s 5ms/step - loss: 1.8868e-04 - accuracy: 1.0000 - val_loss: 0.3592 - val_accuracy: 0.9507\n",
            "Epoch 37/50\n",
            "63/63 [==============================] - 0s 5ms/step - loss: 7.3895e-05 - accuracy: 1.0000 - val_loss: 0.3635 - val_accuracy: 0.9507\n",
            "Epoch 38/50\n",
            "63/63 [==============================] - 0s 5ms/step - loss: 1.8589e-04 - accuracy: 1.0000 - val_loss: 0.3682 - val_accuracy: 0.9507\n",
            "Epoch 39/50\n",
            "63/63 [==============================] - 0s 5ms/step - loss: 8.2023e-05 - accuracy: 1.0000 - val_loss: 0.4149 - val_accuracy: 0.9417\n",
            "Epoch 40/50\n",
            "63/63 [==============================] - 0s 5ms/step - loss: 3.3286e-05 - accuracy: 1.0000 - val_loss: 0.4167 - val_accuracy: 0.9462\n",
            "Epoch 41/50\n",
            "63/63 [==============================] - 0s 5ms/step - loss: 0.0037 - accuracy: 0.9980 - val_loss: 0.3912 - val_accuracy: 0.9417\n",
            "Epoch 42/50\n",
            "63/63 [==============================] - 0s 5ms/step - loss: 0.0351 - accuracy: 0.9900 - val_loss: 0.4119 - val_accuracy: 0.9372\n",
            "Epoch 43/50\n",
            "63/63 [==============================] - 0s 5ms/step - loss: 0.0063 - accuracy: 0.9985 - val_loss: 0.3452 - val_accuracy: 0.9417\n",
            "Epoch 44/50\n",
            "63/63 [==============================] - 0s 5ms/step - loss: 0.0045 - accuracy: 0.9990 - val_loss: 0.3628 - val_accuracy: 0.9552\n",
            "Epoch 45/50\n",
            "63/63 [==============================] - 0s 5ms/step - loss: 4.3406e-04 - accuracy: 1.0000 - val_loss: 0.3710 - val_accuracy: 0.9552\n",
            "Epoch 46/50\n",
            "63/63 [==============================] - 0s 5ms/step - loss: 2.2782e-04 - accuracy: 1.0000 - val_loss: 0.3825 - val_accuracy: 0.9417\n",
            "Epoch 47/50\n",
            "63/63 [==============================] - 0s 5ms/step - loss: 1.6435e-04 - accuracy: 1.0000 - val_loss: 0.3724 - val_accuracy: 0.9462\n",
            "Epoch 48/50\n",
            "63/63 [==============================] - 0s 5ms/step - loss: 4.6864e-04 - accuracy: 1.0000 - val_loss: 0.3724 - val_accuracy: 0.9417\n",
            "Epoch 49/50\n",
            "63/63 [==============================] - 0s 5ms/step - loss: 1.7556e-04 - accuracy: 1.0000 - val_loss: 0.3908 - val_accuracy: 0.9462\n",
            "Epoch 50/50\n",
            "63/63 [==============================] - 0s 5ms/step - loss: 1.0135e-04 - accuracy: 1.0000 - val_loss: 0.4087 - val_accuracy: 0.9462\n"
          ]
        }
      ]
    },
    {
      "cell_type": "code",
      "source": [
        "pd.DataFrame(model_3_history.history)"
      ],
      "metadata": {
        "colab": {
          "base_uri": "https://localhost:8080/",
          "height": 1617
        },
        "id": "MVTg0-dGbIv8",
        "outputId": "2417361f-be58-4258-8bc5-506c0096a523"
      },
      "execution_count": 88,
      "outputs": [
        {
          "output_type": "execute_result",
          "data": {
            "text/html": [
              "\n",
              "  <div id=\"df-07fb3d1f-6293-4de5-a98b-8021c4285994\">\n",
              "    <div class=\"colab-df-container\">\n",
              "      <div>\n",
              "<style scoped>\n",
              "    .dataframe tbody tr th:only-of-type {\n",
              "        vertical-align: middle;\n",
              "    }\n",
              "\n",
              "    .dataframe tbody tr th {\n",
              "        vertical-align: top;\n",
              "    }\n",
              "\n",
              "    .dataframe thead th {\n",
              "        text-align: right;\n",
              "    }\n",
              "</style>\n",
              "<table border=\"1\" class=\"dataframe\">\n",
              "  <thead>\n",
              "    <tr style=\"text-align: right;\">\n",
              "      <th></th>\n",
              "      <th>loss</th>\n",
              "      <th>accuracy</th>\n",
              "      <th>val_loss</th>\n",
              "      <th>val_accuracy</th>\n",
              "    </tr>\n",
              "  </thead>\n",
              "  <tbody>\n",
              "    <tr>\n",
              "      <th>0</th>\n",
              "      <td>1.392061</td>\n",
              "      <td>0.442058</td>\n",
              "      <td>0.712215</td>\n",
              "      <td>0.869955</td>\n",
              "    </tr>\n",
              "    <tr>\n",
              "      <th>1</th>\n",
              "      <td>0.258727</td>\n",
              "      <td>0.937063</td>\n",
              "      <td>0.187847</td>\n",
              "      <td>0.950673</td>\n",
              "    </tr>\n",
              "    <tr>\n",
              "      <th>2</th>\n",
              "      <td>0.040694</td>\n",
              "      <td>0.991009</td>\n",
              "      <td>0.196701</td>\n",
              "      <td>0.946188</td>\n",
              "    </tr>\n",
              "    <tr>\n",
              "      <th>3</th>\n",
              "      <td>0.017250</td>\n",
              "      <td>0.995005</td>\n",
              "      <td>0.214931</td>\n",
              "      <td>0.950673</td>\n",
              "    </tr>\n",
              "    <tr>\n",
              "      <th>4</th>\n",
              "      <td>0.010038</td>\n",
              "      <td>0.998501</td>\n",
              "      <td>0.234136</td>\n",
              "      <td>0.946188</td>\n",
              "    </tr>\n",
              "    <tr>\n",
              "      <th>5</th>\n",
              "      <td>0.004097</td>\n",
              "      <td>0.999501</td>\n",
              "      <td>0.223920</td>\n",
              "      <td>0.959641</td>\n",
              "    </tr>\n",
              "    <tr>\n",
              "      <th>6</th>\n",
              "      <td>0.003320</td>\n",
              "      <td>0.999501</td>\n",
              "      <td>0.232987</td>\n",
              "      <td>0.955157</td>\n",
              "    </tr>\n",
              "    <tr>\n",
              "      <th>7</th>\n",
              "      <td>0.001783</td>\n",
              "      <td>1.000000</td>\n",
              "      <td>0.254612</td>\n",
              "      <td>0.946188</td>\n",
              "    </tr>\n",
              "    <tr>\n",
              "      <th>8</th>\n",
              "      <td>0.001371</td>\n",
              "      <td>1.000000</td>\n",
              "      <td>0.251359</td>\n",
              "      <td>0.959641</td>\n",
              "    </tr>\n",
              "    <tr>\n",
              "      <th>9</th>\n",
              "      <td>0.001284</td>\n",
              "      <td>1.000000</td>\n",
              "      <td>0.269072</td>\n",
              "      <td>0.950673</td>\n",
              "    </tr>\n",
              "    <tr>\n",
              "      <th>10</th>\n",
              "      <td>0.000825</td>\n",
              "      <td>1.000000</td>\n",
              "      <td>0.265460</td>\n",
              "      <td>0.955157</td>\n",
              "    </tr>\n",
              "    <tr>\n",
              "      <th>11</th>\n",
              "      <td>0.000702</td>\n",
              "      <td>1.000000</td>\n",
              "      <td>0.268780</td>\n",
              "      <td>0.950673</td>\n",
              "    </tr>\n",
              "    <tr>\n",
              "      <th>12</th>\n",
              "      <td>0.000591</td>\n",
              "      <td>1.000000</td>\n",
              "      <td>0.277285</td>\n",
              "      <td>0.950673</td>\n",
              "    </tr>\n",
              "    <tr>\n",
              "      <th>13</th>\n",
              "      <td>0.000614</td>\n",
              "      <td>1.000000</td>\n",
              "      <td>0.264228</td>\n",
              "      <td>0.959641</td>\n",
              "    </tr>\n",
              "    <tr>\n",
              "      <th>14</th>\n",
              "      <td>0.000440</td>\n",
              "      <td>1.000000</td>\n",
              "      <td>0.279927</td>\n",
              "      <td>0.955157</td>\n",
              "    </tr>\n",
              "    <tr>\n",
              "      <th>15</th>\n",
              "      <td>0.000398</td>\n",
              "      <td>1.000000</td>\n",
              "      <td>0.299243</td>\n",
              "      <td>0.955157</td>\n",
              "    </tr>\n",
              "    <tr>\n",
              "      <th>16</th>\n",
              "      <td>0.000638</td>\n",
              "      <td>1.000000</td>\n",
              "      <td>0.335276</td>\n",
              "      <td>0.941704</td>\n",
              "    </tr>\n",
              "    <tr>\n",
              "      <th>17</th>\n",
              "      <td>0.000586</td>\n",
              "      <td>1.000000</td>\n",
              "      <td>0.283654</td>\n",
              "      <td>0.959641</td>\n",
              "    </tr>\n",
              "    <tr>\n",
              "      <th>18</th>\n",
              "      <td>0.000544</td>\n",
              "      <td>1.000000</td>\n",
              "      <td>0.289861</td>\n",
              "      <td>0.964126</td>\n",
              "    </tr>\n",
              "    <tr>\n",
              "      <th>19</th>\n",
              "      <td>0.000199</td>\n",
              "      <td>1.000000</td>\n",
              "      <td>0.292809</td>\n",
              "      <td>0.959641</td>\n",
              "    </tr>\n",
              "    <tr>\n",
              "      <th>20</th>\n",
              "      <td>0.000246</td>\n",
              "      <td>1.000000</td>\n",
              "      <td>0.320292</td>\n",
              "      <td>0.950673</td>\n",
              "    </tr>\n",
              "    <tr>\n",
              "      <th>21</th>\n",
              "      <td>0.000728</td>\n",
              "      <td>0.999501</td>\n",
              "      <td>0.313639</td>\n",
              "      <td>0.964126</td>\n",
              "    </tr>\n",
              "    <tr>\n",
              "      <th>22</th>\n",
              "      <td>0.000138</td>\n",
              "      <td>1.000000</td>\n",
              "      <td>0.320619</td>\n",
              "      <td>0.955157</td>\n",
              "    </tr>\n",
              "    <tr>\n",
              "      <th>23</th>\n",
              "      <td>0.000307</td>\n",
              "      <td>1.000000</td>\n",
              "      <td>0.321350</td>\n",
              "      <td>0.955157</td>\n",
              "    </tr>\n",
              "    <tr>\n",
              "      <th>24</th>\n",
              "      <td>0.000220</td>\n",
              "      <td>1.000000</td>\n",
              "      <td>0.332629</td>\n",
              "      <td>0.955157</td>\n",
              "    </tr>\n",
              "    <tr>\n",
              "      <th>25</th>\n",
              "      <td>0.000094</td>\n",
              "      <td>1.000000</td>\n",
              "      <td>0.324371</td>\n",
              "      <td>0.955157</td>\n",
              "    </tr>\n",
              "    <tr>\n",
              "      <th>26</th>\n",
              "      <td>0.000320</td>\n",
              "      <td>1.000000</td>\n",
              "      <td>0.356134</td>\n",
              "      <td>0.964126</td>\n",
              "    </tr>\n",
              "    <tr>\n",
              "      <th>27</th>\n",
              "      <td>0.000390</td>\n",
              "      <td>1.000000</td>\n",
              "      <td>0.360508</td>\n",
              "      <td>0.950673</td>\n",
              "    </tr>\n",
              "    <tr>\n",
              "      <th>28</th>\n",
              "      <td>0.000129</td>\n",
              "      <td>1.000000</td>\n",
              "      <td>0.339690</td>\n",
              "      <td>0.950673</td>\n",
              "    </tr>\n",
              "    <tr>\n",
              "      <th>29</th>\n",
              "      <td>0.000266</td>\n",
              "      <td>1.000000</td>\n",
              "      <td>0.327748</td>\n",
              "      <td>0.946188</td>\n",
              "    </tr>\n",
              "    <tr>\n",
              "      <th>30</th>\n",
              "      <td>0.000325</td>\n",
              "      <td>1.000000</td>\n",
              "      <td>0.367559</td>\n",
              "      <td>0.955157</td>\n",
              "    </tr>\n",
              "    <tr>\n",
              "      <th>31</th>\n",
              "      <td>0.000204</td>\n",
              "      <td>1.000000</td>\n",
              "      <td>0.356380</td>\n",
              "      <td>0.955157</td>\n",
              "    </tr>\n",
              "    <tr>\n",
              "      <th>32</th>\n",
              "      <td>0.000275</td>\n",
              "      <td>1.000000</td>\n",
              "      <td>0.344687</td>\n",
              "      <td>0.950673</td>\n",
              "    </tr>\n",
              "    <tr>\n",
              "      <th>33</th>\n",
              "      <td>0.000135</td>\n",
              "      <td>1.000000</td>\n",
              "      <td>0.370024</td>\n",
              "      <td>0.950673</td>\n",
              "    </tr>\n",
              "    <tr>\n",
              "      <th>34</th>\n",
              "      <td>0.000140</td>\n",
              "      <td>1.000000</td>\n",
              "      <td>0.380894</td>\n",
              "      <td>0.941704</td>\n",
              "    </tr>\n",
              "    <tr>\n",
              "      <th>35</th>\n",
              "      <td>0.000189</td>\n",
              "      <td>1.000000</td>\n",
              "      <td>0.359157</td>\n",
              "      <td>0.950673</td>\n",
              "    </tr>\n",
              "    <tr>\n",
              "      <th>36</th>\n",
              "      <td>0.000074</td>\n",
              "      <td>1.000000</td>\n",
              "      <td>0.363529</td>\n",
              "      <td>0.950673</td>\n",
              "    </tr>\n",
              "    <tr>\n",
              "      <th>37</th>\n",
              "      <td>0.000186</td>\n",
              "      <td>1.000000</td>\n",
              "      <td>0.368228</td>\n",
              "      <td>0.950673</td>\n",
              "    </tr>\n",
              "    <tr>\n",
              "      <th>38</th>\n",
              "      <td>0.000082</td>\n",
              "      <td>1.000000</td>\n",
              "      <td>0.414919</td>\n",
              "      <td>0.941704</td>\n",
              "    </tr>\n",
              "    <tr>\n",
              "      <th>39</th>\n",
              "      <td>0.000033</td>\n",
              "      <td>1.000000</td>\n",
              "      <td>0.416656</td>\n",
              "      <td>0.946188</td>\n",
              "    </tr>\n",
              "    <tr>\n",
              "      <th>40</th>\n",
              "      <td>0.003697</td>\n",
              "      <td>0.998002</td>\n",
              "      <td>0.391210</td>\n",
              "      <td>0.941704</td>\n",
              "    </tr>\n",
              "    <tr>\n",
              "      <th>41</th>\n",
              "      <td>0.035141</td>\n",
              "      <td>0.990010</td>\n",
              "      <td>0.411930</td>\n",
              "      <td>0.937220</td>\n",
              "    </tr>\n",
              "    <tr>\n",
              "      <th>42</th>\n",
              "      <td>0.006294</td>\n",
              "      <td>0.998501</td>\n",
              "      <td>0.345198</td>\n",
              "      <td>0.941704</td>\n",
              "    </tr>\n",
              "    <tr>\n",
              "      <th>43</th>\n",
              "      <td>0.004490</td>\n",
              "      <td>0.999001</td>\n",
              "      <td>0.362776</td>\n",
              "      <td>0.955157</td>\n",
              "    </tr>\n",
              "    <tr>\n",
              "      <th>44</th>\n",
              "      <td>0.000434</td>\n",
              "      <td>1.000000</td>\n",
              "      <td>0.371043</td>\n",
              "      <td>0.955157</td>\n",
              "    </tr>\n",
              "    <tr>\n",
              "      <th>45</th>\n",
              "      <td>0.000228</td>\n",
              "      <td>1.000000</td>\n",
              "      <td>0.382457</td>\n",
              "      <td>0.941704</td>\n",
              "    </tr>\n",
              "    <tr>\n",
              "      <th>46</th>\n",
              "      <td>0.000164</td>\n",
              "      <td>1.000000</td>\n",
              "      <td>0.372356</td>\n",
              "      <td>0.946188</td>\n",
              "    </tr>\n",
              "    <tr>\n",
              "      <th>47</th>\n",
              "      <td>0.000469</td>\n",
              "      <td>1.000000</td>\n",
              "      <td>0.372447</td>\n",
              "      <td>0.941704</td>\n",
              "    </tr>\n",
              "    <tr>\n",
              "      <th>48</th>\n",
              "      <td>0.000176</td>\n",
              "      <td>1.000000</td>\n",
              "      <td>0.390770</td>\n",
              "      <td>0.946188</td>\n",
              "    </tr>\n",
              "    <tr>\n",
              "      <th>49</th>\n",
              "      <td>0.000101</td>\n",
              "      <td>1.000000</td>\n",
              "      <td>0.408705</td>\n",
              "      <td>0.946188</td>\n",
              "    </tr>\n",
              "  </tbody>\n",
              "</table>\n",
              "</div>\n",
              "      <button class=\"colab-df-convert\" onclick=\"convertToInteractive('df-07fb3d1f-6293-4de5-a98b-8021c4285994')\"\n",
              "              title=\"Convert this dataframe to an interactive table.\"\n",
              "              style=\"display:none;\">\n",
              "        \n",
              "  <svg xmlns=\"http://www.w3.org/2000/svg\" height=\"24px\"viewBox=\"0 0 24 24\"\n",
              "       width=\"24px\">\n",
              "    <path d=\"M0 0h24v24H0V0z\" fill=\"none\"/>\n",
              "    <path d=\"M18.56 5.44l.94 2.06.94-2.06 2.06-.94-2.06-.94-.94-2.06-.94 2.06-2.06.94zm-11 1L8.5 8.5l.94-2.06 2.06-.94-2.06-.94L8.5 2.5l-.94 2.06-2.06.94zm10 10l.94 2.06.94-2.06 2.06-.94-2.06-.94-.94-2.06-.94 2.06-2.06.94z\"/><path d=\"M17.41 7.96l-1.37-1.37c-.4-.4-.92-.59-1.43-.59-.52 0-1.04.2-1.43.59L10.3 9.45l-7.72 7.72c-.78.78-.78 2.05 0 2.83L4 21.41c.39.39.9.59 1.41.59.51 0 1.02-.2 1.41-.59l7.78-7.78 2.81-2.81c.8-.78.8-2.07 0-2.86zM5.41 20L4 18.59l7.72-7.72 1.47 1.35L5.41 20z\"/>\n",
              "  </svg>\n",
              "      </button>\n",
              "      \n",
              "  <style>\n",
              "    .colab-df-container {\n",
              "      display:flex;\n",
              "      flex-wrap:wrap;\n",
              "      gap: 12px;\n",
              "    }\n",
              "\n",
              "    .colab-df-convert {\n",
              "      background-color: #E8F0FE;\n",
              "      border: none;\n",
              "      border-radius: 50%;\n",
              "      cursor: pointer;\n",
              "      display: none;\n",
              "      fill: #1967D2;\n",
              "      height: 32px;\n",
              "      padding: 0 0 0 0;\n",
              "      width: 32px;\n",
              "    }\n",
              "\n",
              "    .colab-df-convert:hover {\n",
              "      background-color: #E2EBFA;\n",
              "      box-shadow: 0px 1px 2px rgba(60, 64, 67, 0.3), 0px 1px 3px 1px rgba(60, 64, 67, 0.15);\n",
              "      fill: #174EA6;\n",
              "    }\n",
              "\n",
              "    [theme=dark] .colab-df-convert {\n",
              "      background-color: #3B4455;\n",
              "      fill: #D2E3FC;\n",
              "    }\n",
              "\n",
              "    [theme=dark] .colab-df-convert:hover {\n",
              "      background-color: #434B5C;\n",
              "      box-shadow: 0px 1px 3px 1px rgba(0, 0, 0, 0.15);\n",
              "      filter: drop-shadow(0px 1px 2px rgba(0, 0, 0, 0.3));\n",
              "      fill: #FFFFFF;\n",
              "    }\n",
              "  </style>\n",
              "\n",
              "      <script>\n",
              "        const buttonEl =\n",
              "          document.querySelector('#df-07fb3d1f-6293-4de5-a98b-8021c4285994 button.colab-df-convert');\n",
              "        buttonEl.style.display =\n",
              "          google.colab.kernel.accessAllowed ? 'block' : 'none';\n",
              "\n",
              "        async function convertToInteractive(key) {\n",
              "          const element = document.querySelector('#df-07fb3d1f-6293-4de5-a98b-8021c4285994');\n",
              "          const dataTable =\n",
              "            await google.colab.kernel.invokeFunction('convertToInteractive',\n",
              "                                                     [key], {});\n",
              "          if (!dataTable) return;\n",
              "\n",
              "          const docLinkHtml = 'Like what you see? Visit the ' +\n",
              "            '<a target=\"_blank\" href=https://colab.research.google.com/notebooks/data_table.ipynb>data table notebook</a>'\n",
              "            + ' to learn more about interactive tables.';\n",
              "          element.innerHTML = '';\n",
              "          dataTable['output_type'] = 'display_data';\n",
              "          await google.colab.output.renderOutput(dataTable, element);\n",
              "          const docLink = document.createElement('div');\n",
              "          docLink.innerHTML = docLinkHtml;\n",
              "          element.appendChild(docLink);\n",
              "        }\n",
              "      </script>\n",
              "    </div>\n",
              "  </div>\n",
              "  "
            ],
            "text/plain": [
              "        loss  accuracy  val_loss  val_accuracy\n",
              "0   1.392061  0.442058  0.712215      0.869955\n",
              "1   0.258727  0.937063  0.187847      0.950673\n",
              "2   0.040694  0.991009  0.196701      0.946188\n",
              "3   0.017250  0.995005  0.214931      0.950673\n",
              "4   0.010038  0.998501  0.234136      0.946188\n",
              "5   0.004097  0.999501  0.223920      0.959641\n",
              "6   0.003320  0.999501  0.232987      0.955157\n",
              "7   0.001783  1.000000  0.254612      0.946188\n",
              "8   0.001371  1.000000  0.251359      0.959641\n",
              "9   0.001284  1.000000  0.269072      0.950673\n",
              "10  0.000825  1.000000  0.265460      0.955157\n",
              "11  0.000702  1.000000  0.268780      0.950673\n",
              "12  0.000591  1.000000  0.277285      0.950673\n",
              "13  0.000614  1.000000  0.264228      0.959641\n",
              "14  0.000440  1.000000  0.279927      0.955157\n",
              "15  0.000398  1.000000  0.299243      0.955157\n",
              "16  0.000638  1.000000  0.335276      0.941704\n",
              "17  0.000586  1.000000  0.283654      0.959641\n",
              "18  0.000544  1.000000  0.289861      0.964126\n",
              "19  0.000199  1.000000  0.292809      0.959641\n",
              "20  0.000246  1.000000  0.320292      0.950673\n",
              "21  0.000728  0.999501  0.313639      0.964126\n",
              "22  0.000138  1.000000  0.320619      0.955157\n",
              "23  0.000307  1.000000  0.321350      0.955157\n",
              "24  0.000220  1.000000  0.332629      0.955157\n",
              "25  0.000094  1.000000  0.324371      0.955157\n",
              "26  0.000320  1.000000  0.356134      0.964126\n",
              "27  0.000390  1.000000  0.360508      0.950673\n",
              "28  0.000129  1.000000  0.339690      0.950673\n",
              "29  0.000266  1.000000  0.327748      0.946188\n",
              "30  0.000325  1.000000  0.367559      0.955157\n",
              "31  0.000204  1.000000  0.356380      0.955157\n",
              "32  0.000275  1.000000  0.344687      0.950673\n",
              "33  0.000135  1.000000  0.370024      0.950673\n",
              "34  0.000140  1.000000  0.380894      0.941704\n",
              "35  0.000189  1.000000  0.359157      0.950673\n",
              "36  0.000074  1.000000  0.363529      0.950673\n",
              "37  0.000186  1.000000  0.368228      0.950673\n",
              "38  0.000082  1.000000  0.414919      0.941704\n",
              "39  0.000033  1.000000  0.416656      0.946188\n",
              "40  0.003697  0.998002  0.391210      0.941704\n",
              "41  0.035141  0.990010  0.411930      0.937220\n",
              "42  0.006294  0.998501  0.345198      0.941704\n",
              "43  0.004490  0.999001  0.362776      0.955157\n",
              "44  0.000434  1.000000  0.371043      0.955157\n",
              "45  0.000228  1.000000  0.382457      0.941704\n",
              "46  0.000164  1.000000  0.372356      0.946188\n",
              "47  0.000469  1.000000  0.372447      0.941704\n",
              "48  0.000176  1.000000  0.390770      0.946188\n",
              "49  0.000101  1.000000  0.408705      0.946188"
            ]
          },
          "metadata": {},
          "execution_count": 88
        }
      ]
    },
    {
      "cell_type": "code",
      "source": [
        "pd.DataFrame(model_3_history.history).plot()\n",
        "plt.title(\"Accuracy_Loss_curve for model 3\")"
      ],
      "metadata": {
        "colab": {
          "base_uri": "https://localhost:8080/",
          "height": 298
        },
        "id": "lZbfIGLAbXmA",
        "outputId": "d63143ae-db85-41b1-8e64-037d2195bb40"
      },
      "execution_count": 89,
      "outputs": [
        {
          "output_type": "execute_result",
          "data": {
            "text/plain": [
              "Text(0.5, 1.0, 'Accuracy_Loss_curve for model 3')"
            ]
          },
          "metadata": {},
          "execution_count": 89
        },
        {
          "output_type": "display_data",
          "data": {
            "image/png": "[encoded data removed]",
            "text/plain": [
              "<Figure size 432x288 with 1 Axes>"
            ]
          },
          "metadata": {
            "needs_background": "light"
          }
        }
      ]
    },
    {
      "cell_type": "code",
      "source": [
        "model_3.evaluate(x_test,y_test)"
      ],
      "metadata": {
        "colab": {
          "base_uri": "https://localhost:8080/",
          "height": 0
        },
        "id": "wW3FiZ1ubgmU",
        "outputId": "7c920c15-4203-4de4-eea5-85661aed1533"
      },
      "execution_count": 90,
      "outputs": [
        {
          "output_type": "stream",
          "name": "stdout",
          "text": [
            "7/7 [==============================] - 0s 4ms/step - loss: 0.4087 - accuracy: 0.9462\n"
          ]
        },
        {
          "output_type": "execute_result",
          "data": {
            "text/plain": [
              "[0.408705472946167, 0.9461883306503296]"
            ]
          },
          "metadata": {},
          "execution_count": 90
        }
      ]
    },
    {
      "cell_type": "code",
      "source": [
        "model_3_pred_probs = model_3.predict(x_test)"
      ],
      "metadata": {
        "id": "HpO0dkozbsAU"
      },
      "execution_count": 91,
      "outputs": []
    },
    {
      "cell_type": "code",
      "source": [
        "model_3_pred_probs "
      ],
      "metadata": {
        "colab": {
          "base_uri": "https://localhost:8080/",
          "height": 0
        },
        "id": "DN9scxsKbzoC",
        "outputId": "79fa3d8a-b927-491f-b08b-1100f8b22b4e"
      },
      "execution_count": 92,
      "outputs": [
        {
          "output_type": "execute_result",
          "data": {
            "text/plain": [
              "array([[4.2156950e-07, 4.5541665e-08, 9.9999809e-01, 9.0594462e-11,\n",
              "        1.4376026e-06],\n",
              "       [9.9999988e-01, 1.1845302e-14, 4.3421107e-08, 2.0720098e-08,\n",
              "        3.3253087e-08],\n",
              "       [2.0996906e-24, 1.0000000e+00, 1.9194561e-16, 2.5940387e-16,\n",
              "        7.1654663e-29],\n",
              "       ...,\n",
              "       [4.2564329e-07, 1.0019187e-06, 2.1864763e-10, 9.9999726e-01,\n",
              "        1.2648622e-06],\n",
              "       [4.4837607e-06, 1.9180922e-07, 9.9999416e-01, 3.9498921e-10,\n",
              "        1.1551394e-06],\n",
              "       [5.5033086e-14, 1.2877191e-15, 1.0000000e+00, 9.0551242e-23,\n",
              "        1.4745346e-14]], dtype=float32)"
            ]
          },
          "metadata": {},
          "execution_count": 92
        }
      ]
    },
    {
      "cell_type": "code",
      "source": [
        "model_3_pred = tf.argmax(model_3_pred_probs,axis=1)"
      ],
      "metadata": {
        "id": "mWT4SQMCb4Ap"
      },
      "execution_count": 93,
      "outputs": []
    },
    {
      "cell_type": "code",
      "source": [
        "model_3_results = model_evaluation_matrix(y_true=y_test,y_pred=model_3_pred)"
      ],
      "metadata": {
        "id": "euPUIh1ub-kl"
      },
      "execution_count": 95,
      "outputs": []
    },
    {
      "cell_type": "code",
      "source": [
        "model_3_results"
      ],
      "metadata": {
        "colab": {
          "base_uri": "https://localhost:8080/",
          "height": 0
        },
        "id": "hpkAHhf7cFhJ",
        "outputId": "96e6811f-d268-42a6-8991-6ddb037801c3"
      },
      "execution_count": 96,
      "outputs": [
        {
          "output_type": "execute_result",
          "data": {
            "text/plain": [
              "{'accuracy': 0.9461883408071748,\n",
              " 'f1 score': 0.9461191685794358,\n",
              " 'precision': 0.9472324935814351,\n",
              " 'recall': 0.9461883408071748}"
            ]
          },
          "metadata": {},
          "execution_count": 96
        }
      ]
    },
    {
      "cell_type": "code",
      "source": [
        "results_model_3=pd.DataFrame.from_dict(model_3_results,orient=\"index\")\n"
      ],
      "metadata": {
        "id": "XQEDXgHBcORA"
      },
      "execution_count": 98,
      "outputs": []
    },
    {
      "cell_type": "code",
      "source": [
        "results_model_3"
      ],
      "metadata": {
        "colab": {
          "base_uri": "https://localhost:8080/",
          "height": 174
        },
        "id": "UfAKJmoNcYZy",
        "outputId": "06997005-04e8-401e-b78f-236f579f3e19"
      },
      "execution_count": 99,
      "outputs": [
        {
          "output_type": "execute_result",
          "data": {
            "text/html": [
              "\n",
              "  <div id=\"df-171c7532-b1bc-4707-aab0-3710b6069cb3\">\n",
              "    <div class=\"colab-df-container\">\n",
              "      <div>\n",
              "<style scoped>\n",
              "    .dataframe tbody tr th:only-of-type {\n",
              "        vertical-align: middle;\n",
              "    }\n",
              "\n",
              "    .dataframe tbody tr th {\n",
              "        vertical-align: top;\n",
              "    }\n",
              "\n",
              "    .dataframe thead th {\n",
              "        text-align: right;\n",
              "    }\n",
              "</style>\n",
              "<table border=\"1\" class=\"dataframe\">\n",
              "  <thead>\n",
              "    <tr style=\"text-align: right;\">\n",
              "      <th></th>\n",
              "      <th>0</th>\n",
              "    </tr>\n",
              "  </thead>\n",
              "  <tbody>\n",
              "    <tr>\n",
              "      <th>accuracy</th>\n",
              "      <td>0.946188</td>\n",
              "    </tr>\n",
              "    <tr>\n",
              "      <th>precision</th>\n",
              "      <td>0.947232</td>\n",
              "    </tr>\n",
              "    <tr>\n",
              "      <th>recall</th>\n",
              "      <td>0.946188</td>\n",
              "    </tr>\n",
              "    <tr>\n",
              "      <th>f1 score</th>\n",
              "      <td>0.946119</td>\n",
              "    </tr>\n",
              "  </tbody>\n",
              "</table>\n",
              "</div>\n",
              "      <button class=\"colab-df-convert\" onclick=\"convertToInteractive('df-171c7532-b1bc-4707-aab0-3710b6069cb3')\"\n",
              "              title=\"Convert this dataframe to an interactive table.\"\n",
              "              style=\"display:none;\">\n",
              "        \n",
              "  <svg xmlns=\"http://www.w3.org/2000/svg\" height=\"24px\"viewBox=\"0 0 24 24\"\n",
              "       width=\"24px\">\n",
              "    <path d=\"M0 0h24v24H0V0z\" fill=\"none\"/>\n",
              "    <path d=\"M18.56 5.44l.94 2.06.94-2.06 2.06-.94-2.06-.94-.94-2.06-.94 2.06-2.06.94zm-11 1L8.5 8.5l.94-2.06 2.06-.94-2.06-.94L8.5 2.5l-.94 2.06-2.06.94zm10 10l.94 2.06.94-2.06 2.06-.94-2.06-.94-.94-2.06-.94 2.06-2.06.94z\"/><path d=\"M17.41 7.96l-1.37-1.37c-.4-.4-.92-.59-1.43-.59-.52 0-1.04.2-1.43.59L10.3 9.45l-7.72 7.72c-.78.78-.78 2.05 0 2.83L4 21.41c.39.39.9.59 1.41.59.51 0 1.02-.2 1.41-.59l7.78-7.78 2.81-2.81c.8-.78.8-2.07 0-2.86zM5.41 20L4 18.59l7.72-7.72 1.47 1.35L5.41 20z\"/>\n",
              "  </svg>\n",
              "      </button>\n",
              "      \n",
              "  <style>\n",
              "    .colab-df-container {\n",
              "      display:flex;\n",
              "      flex-wrap:wrap;\n",
              "      gap: 12px;\n",
              "    }\n",
              "\n",
              "    .colab-df-convert {\n",
              "      background-color: #E8F0FE;\n",
              "      border: none;\n",
              "      border-radius: 50%;\n",
              "      cursor: pointer;\n",
              "      display: none;\n",
              "      fill: #1967D2;\n",
              "      height: 32px;\n",
              "      padding: 0 0 0 0;\n",
              "      width: 32px;\n",
              "    }\n",
              "\n",
              "    .colab-df-convert:hover {\n",
              "      background-color: #E2EBFA;\n",
              "      box-shadow: 0px 1px 2px rgba(60, 64, 67, 0.3), 0px 1px 3px 1px rgba(60, 64, 67, 0.15);\n",
              "      fill: #174EA6;\n",
              "    }\n",
              "\n",
              "    [theme=dark] .colab-df-convert {\n",
              "      background-color: #3B4455;\n",
              "      fill: #D2E3FC;\n",
              "    }\n",
              "\n",
              "    [theme=dark] .colab-df-convert:hover {\n",
              "      background-color: #434B5C;\n",
              "      box-shadow: 0px 1px 3px 1px rgba(0, 0, 0, 0.15);\n",
              "      filter: drop-shadow(0px 1px 2px rgba(0, 0, 0, 0.3));\n",
              "      fill: #FFFFFF;\n",
              "    }\n",
              "  </style>\n",
              "\n",
              "      <script>\n",
              "        const buttonEl =\n",
              "          document.querySelector('#df-171c7532-b1bc-4707-aab0-3710b6069cb3 button.colab-df-convert');\n",
              "        buttonEl.style.display =\n",
              "          google.colab.kernel.accessAllowed ? 'block' : 'none';\n",
              "\n",
              "        async function convertToInteractive(key) {\n",
              "          const element = document.querySelector('#df-171c7532-b1bc-4707-aab0-3710b6069cb3');\n",
              "          const dataTable =\n",
              "            await google.colab.kernel.invokeFunction('convertToInteractive',\n",
              "                                                     [key], {});\n",
              "          if (!dataTable) return;\n",
              "\n",
              "          const docLinkHtml = 'Like what you see? Visit the ' +\n",
              "            '<a target=\"_blank\" href=https://colab.research.google.com/notebooks/data_table.ipynb>data table notebook</a>'\n",
              "            + ' to learn more about interactive tables.';\n",
              "          element.innerHTML = '';\n",
              "          dataTable['output_type'] = 'display_data';\n",
              "          await google.colab.output.renderOutput(dataTable, element);\n",
              "          const docLink = document.createElement('div');\n",
              "          docLink.innerHTML = docLinkHtml;\n",
              "          element.appendChild(docLink);\n",
              "        }\n",
              "      </script>\n",
              "    </div>\n",
              "  </div>\n",
              "  "
            ],
            "text/plain": [
              "                  0\n",
              "accuracy   0.946188\n",
              "precision  0.947232\n",
              "recall     0.946188\n",
              "f1 score   0.946119"
            ]
          },
          "metadata": {},
          "execution_count": 99
        }
      ]
    },
    {
      "cell_type": "code",
      "source": [
        "confusion_martrix_3 = make_confusion_matrix(y_true=y_test,y_pred=model_3_pred,classes=[\"Class_0\",\"Class_1\",\"Class_2\",\"Class_3\",\"Class_4\"])"
      ],
      "metadata": {
        "colab": {
          "base_uri": "https://localhost:8080/",
          "height": 580
        },
        "id": "JjmhMYwtclkR",
        "outputId": "5edf9332-3b7b-4a00-9980-091db0a620e8"
      },
      "execution_count": 100,
      "outputs": [
        {
          "output_type": "display_data",
          "data": {
            "image/png": "[encoded data removed]",
            "text/plain": [
              "<Figure size 720x720 with 2 Axes>"
            ]
          },
          "metadata": {
            "needs_background": "light"
          }
        }
      ]
    },
    {
      "cell_type": "code",
      "source": [
        ""
      ],
      "metadata": {
        "id": "-KdKrwpgpDm2"
      },
      "execution_count": null,
      "outputs": []
    },
    {
      "cell_type": "markdown",
      "source": [
        "###Transformer Based Model"
      ],
      "metadata": {
        "id": "TFXUv_o1f3sz"
      }
    },
    {
      "cell_type": "code",
      "source": [
        "dataset_cleaned = pd.read_csv(\"/content/drive/MyDrive/NLP/NLP_Projects/BCG_dataset/cleaned_dataset\")"
      ],
      "metadata": {
        "id": "yx4pGqo7hRU5"
      },
      "execution_count": 132,
      "outputs": []
    },
    {
      "cell_type": "code",
      "source": [
        "dataset_cleaned.head()"
      ],
      "metadata": {
        "colab": {
          "base_uri": "https://localhost:8080/",
          "height": 206
        },
        "id": "WieNqpSBhnNM",
        "outputId": "c8fb0037-32a0-456e-828f-ae251366e3ba"
      },
      "execution_count": 133,
      "outputs": [
        {
          "output_type": "execute_result",
          "data": {
            "text/html": [
              "\n",
              "  <div id=\"df-ba6f1504-cce9-406b-8b17-fab972723ff3\">\n",
              "    <div class=\"colab-df-container\">\n",
              "      <div>\n",
              "<style scoped>\n",
              "    .dataframe tbody tr th:only-of-type {\n",
              "        vertical-align: middle;\n",
              "    }\n",
              "\n",
              "    .dataframe tbody tr th {\n",
              "        vertical-align: top;\n",
              "    }\n",
              "\n",
              "    .dataframe thead th {\n",
              "        text-align: right;\n",
              "    }\n",
              "</style>\n",
              "<table border=\"1\" class=\"dataframe\">\n",
              "  <thead>\n",
              "    <tr style=\"text-align: right;\">\n",
              "      <th></th>\n",
              "      <th>category</th>\n",
              "      <th>text</th>\n",
              "    </tr>\n",
              "  </thead>\n",
              "  <tbody>\n",
              "    <tr>\n",
              "      <th>0</th>\n",
              "      <td>tech</td>\n",
              "      <td>tv future hand viewer home theatre system plas...</td>\n",
              "    </tr>\n",
              "    <tr>\n",
              "      <th>1</th>\n",
              "      <td>business</td>\n",
              "      <td>worldcom bos leave book alone former worldcom ...</td>\n",
              "    </tr>\n",
              "    <tr>\n",
              "      <th>2</th>\n",
              "      <td>sport</td>\n",
              "      <td>tiger wary farrell gamble leicester say rush m...</td>\n",
              "    </tr>\n",
              "    <tr>\n",
              "      <th>3</th>\n",
              "      <td>sport</td>\n",
              "      <td>yeading face newcastle fa cup premiership side...</td>\n",
              "    </tr>\n",
              "    <tr>\n",
              "      <th>4</th>\n",
              "      <td>entertainment</td>\n",
              "      <td>ocean twelve raid box office ocean twelve crim...</td>\n",
              "    </tr>\n",
              "  </tbody>\n",
              "</table>\n",
              "</div>\n",
              "      <button class=\"colab-df-convert\" onclick=\"convertToInteractive('df-ba6f1504-cce9-406b-8b17-fab972723ff3')\"\n",
              "              title=\"Convert this dataframe to an interactive table.\"\n",
              "              style=\"display:none;\">\n",
              "        \n",
              "  <svg xmlns=\"http://www.w3.org/2000/svg\" height=\"24px\"viewBox=\"0 0 24 24\"\n",
              "       width=\"24px\">\n",
              "    <path d=\"M0 0h24v24H0V0z\" fill=\"none\"/>\n",
              "    <path d=\"M18.56 5.44l.94 2.06.94-2.06 2.06-.94-2.06-.94-.94-2.06-.94 2.06-2.06.94zm-11 1L8.5 8.5l.94-2.06 2.06-.94-2.06-.94L8.5 2.5l-.94 2.06-2.06.94zm10 10l.94 2.06.94-2.06 2.06-.94-2.06-.94-.94-2.06-.94 2.06-2.06.94z\"/><path d=\"M17.41 7.96l-1.37-1.37c-.4-.4-.92-.59-1.43-.59-.52 0-1.04.2-1.43.59L10.3 9.45l-7.72 7.72c-.78.78-.78 2.05 0 2.83L4 21.41c.39.39.9.59 1.41.59.51 0 1.02-.2 1.41-.59l7.78-7.78 2.81-2.81c.8-.78.8-2.07 0-2.86zM5.41 20L4 18.59l7.72-7.72 1.47 1.35L5.41 20z\"/>\n",
              "  </svg>\n",
              "      </button>\n",
              "      \n",
              "  <style>\n",
              "    .colab-df-container {\n",
              "      display:flex;\n",
              "      flex-wrap:wrap;\n",
              "      gap: 12px;\n",
              "    }\n",
              "\n",
              "    .colab-df-convert {\n",
              "      background-color: #E8F0FE;\n",
              "      border: none;\n",
              "      border-radius: 50%;\n",
              "      cursor: pointer;\n",
              "      display: none;\n",
              "      fill: #1967D2;\n",
              "      height: 32px;\n",
              "      padding: 0 0 0 0;\n",
              "      width: 32px;\n",
              "    }\n",
              "\n",
              "    .colab-df-convert:hover {\n",
              "      background-color: #E2EBFA;\n",
              "      box-shadow: 0px 1px 2px rgba(60, 64, 67, 0.3), 0px 1px 3px 1px rgba(60, 64, 67, 0.15);\n",
              "      fill: #174EA6;\n",
              "    }\n",
              "\n",
              "    [theme=dark] .colab-df-convert {\n",
              "      background-color: #3B4455;\n",
              "      fill: #D2E3FC;\n",
              "    }\n",
              "\n",
              "    [theme=dark] .colab-df-convert:hover {\n",
              "      background-color: #434B5C;\n",
              "      box-shadow: 0px 1px 3px 1px rgba(0, 0, 0, 0.15);\n",
              "      filter: drop-shadow(0px 1px 2px rgba(0, 0, 0, 0.3));\n",
              "      fill: #FFFFFF;\n",
              "    }\n",
              "  </style>\n",
              "\n",
              "      <script>\n",
              "        const buttonEl =\n",
              "          document.querySelector('#df-ba6f1504-cce9-406b-8b17-fab972723ff3 button.colab-df-convert');\n",
              "        buttonEl.style.display =\n",
              "          google.colab.kernel.accessAllowed ? 'block' : 'none';\n",
              "\n",
              "        async function convertToInteractive(key) {\n",
              "          const element = document.querySelector('#df-ba6f1504-cce9-406b-8b17-fab972723ff3');\n",
              "          const dataTable =\n",
              "            await google.colab.kernel.invokeFunction('convertToInteractive',\n",
              "                                                     [key], {});\n",
              "          if (!dataTable) return;\n",
              "\n",
              "          const docLinkHtml = 'Like what you see? Visit the ' +\n",
              "            '<a target=\"_blank\" href=https://colab.research.google.com/notebooks/data_table.ipynb>data table notebook</a>'\n",
              "            + ' to learn more about interactive tables.';\n",
              "          element.innerHTML = '';\n",
              "          dataTable['output_type'] = 'display_data';\n",
              "          await google.colab.output.renderOutput(dataTable, element);\n",
              "          const docLink = document.createElement('div');\n",
              "          docLink.innerHTML = docLinkHtml;\n",
              "          element.appendChild(docLink);\n",
              "        }\n",
              "      </script>\n",
              "    </div>\n",
              "  </div>\n",
              "  "
            ],
            "text/plain": [
              "        category                                               text\n",
              "0           tech  tv future hand viewer home theatre system plas...\n",
              "1       business  worldcom bos leave book alone former worldcom ...\n",
              "2          sport  tiger wary farrell gamble leicester say rush m...\n",
              "3          sport  yeading face newcastle fa cup premiership side...\n",
              "4  entertainment  ocean twelve raid box office ocean twelve crim..."
            ]
          },
          "metadata": {},
          "execution_count": 133
        }
      ]
    },
    {
      "cell_type": "code",
      "source": [
        "X=dataset_cleaned.iloc[:,1]"
      ],
      "metadata": {
        "id": "IeKTkYSJh1zY"
      },
      "execution_count": 134,
      "outputs": []
    },
    {
      "cell_type": "code",
      "source": [
        "X.shape"
      ],
      "metadata": {
        "colab": {
          "base_uri": "https://localhost:8080/",
          "height": 0
        },
        "id": "oZSHurJdh76e",
        "outputId": "6e1586c5-80d9-43a8-fe9d-991feb18614b"
      },
      "execution_count": 135,
      "outputs": [
        {
          "output_type": "execute_result",
          "data": {
            "text/plain": [
              "(2225,)"
            ]
          },
          "metadata": {},
          "execution_count": 135
        }
      ]
    },
    {
      "cell_type": "code",
      "source": [
        "Y=data.iloc[:,0]"
      ],
      "metadata": {
        "id": "xbJJ7SP1iAkG"
      },
      "execution_count": 136,
      "outputs": []
    },
    {
      "cell_type": "code",
      "source": [
        "import tensorflow as tf\n",
        "import numpy as np\n",
        "from tensorflow.keras.preprocessing.text import Tokenizer\n",
        "from tensorflow.keras.preprocessing.sequence import pad_sequences"
      ],
      "metadata": {
        "id": "m9raZwnSiG7v"
      },
      "execution_count": 137,
      "outputs": []
    },
    {
      "cell_type": "code",
      "source": [
        "vocab_size = 20000\n",
        "\n",
        "max_length = 200\n",
        "trunc_type='post'\n",
        "padding_type='post'\n",
        "oov_tok = \"<OOV>\"\n",
        "training_portion = .9"
      ],
      "metadata": {
        "id": "kFGP_AwHiKIm"
      },
      "execution_count": 138,
      "outputs": []
    },
    {
      "cell_type": "code",
      "source": [
        "training_size=int(len(X)*training_portion)\n",
        "X_train = X[:training_size]\n",
        "Y_train = Y[:training_size]\n",
        "X_val = X[training_size:]\n",
        "Y_val = Y[training_size:]"
      ],
      "metadata": {
        "id": "D-PO5OUXiPCI"
      },
      "execution_count": 139,
      "outputs": []
    },
    {
      "cell_type": "code",
      "source": [
        "print(training_size)\n",
        "print(len(X_train))\n",
        "print(len(Y_train))\n",
        "print(len(X_val))\n",
        "print(len(Y_val))"
      ],
      "metadata": {
        "colab": {
          "base_uri": "https://localhost:8080/",
          "height": 0
        },
        "id": "SqpongYoie7I",
        "outputId": "7d880304-bed6-437c-c6d0-f468120e1bba"
      },
      "execution_count": 140,
      "outputs": [
        {
          "output_type": "stream",
          "name": "stdout",
          "text": [
            "2002\n",
            "2002\n",
            "2002\n",
            "223\n",
            "223\n"
          ]
        }
      ]
    },
    {
      "cell_type": "code",
      "source": [
        "tokenizer = Tokenizer(num_words = vocab_size,oov_token=oov_tok)\n",
        "tokenizer.fit_on_texts(X)\n",
        "word_index = tokenizer.word_index\n",
        "\n",
        "train_sequences = tokenizer.texts_to_sequences(X_train)\n",
        "print(train_sequences[0])\n",
        "print(len(train_sequences[0]))"
      ],
      "metadata": {
        "colab": {
          "base_uri": "https://localhost:8080/",
          "height": 0
        },
        "id": "8-b0d8rCixVN",
        "outputId": "d8cc07e3-8a12-4099-e743-056d351a8b5d"
      },
      "execution_count": 141,
      "outputs": [
        {
          "output_type": "stream",
          "name": "stdout",
          "text": [
            "[119, 202, 306, 976, 72, 1013, 114, 4071, 55, 985, 119, 185, 216, 2039, 99, 1943, 1180, 53, 9, 514, 119, 5030, 380, 120, 3, 16, 178, 842, 1147, 1276, 607, 191, 1148, 30, 1257, 7446, 1049, 10, 84, 771, 13, 772, 9592, 11, 104, 1108, 261, 445, 675, 976, 798, 72, 188, 1133, 1744, 1241, 31, 381, 48, 1440, 780, 1180, 1019, 344, 13, 14852, 84, 2218, 185, 410, 216, 2039, 6743, 4509, 51, 81, 497, 44, 11, 4266, 32, 1171, 114, 180, 9, 106, 676, 29, 3253, 494, 3042, 119, 261, 40, 5031, 84, 180, 94, 7447, 119, 8, 393, 55, 985, 119, 51, 65, 140, 464, 11, 677, 14, 186, 935, 55, 985, 427, 9, 494, 3042, 1944, 8, 1460, 4267, 188, 764, 1397, 108, 640, 1257, 11377, 781, 11, 188, 1133, 1744, 31, 3900, 152, 258, 2014, 726, 49, 739, 1985, 976, 4268, 764, 296, 11, 104, 84, 641, 8, 262, 365, 186, 814, 241, 6744, 48, 44, 1171, 361, 488, 37, 919, 47, 3, 16, 32, 2040, 14853, 68, 879, 9593, 34, 68, 129, 243, 44, 68, 117, 158, 2014, 726, 388, 11378, 117, 641, 1036, 32, 1479, 739, 4268, 342, 765, 232, 445, 739, 439, 188, 739, 2, 1172, 9594, 739, 1242, 36, 14854, 14855, 1523, 381, 837, 2732, 622, 445, 45, 492, 269, 1284, 261, 94, 533, 152, 2, 14856, 14857, 693, 1162, 250, 119, 2041, 119, 92, 53, 9, 85, 445, 40, 514, 6176, 119, 976, 152, 188, 11, 258, 764, 20, 14, 6745, 851, 352, 358, 1026, 202, 602, 14858, 82, 9, 85, 40, 514, 977, 764, 698, 422, 33, 366, 986, 756, 21, 14, 200, 468, 29, 422, 1561, 765, 1147, 1062, 110, 756, 3043, 2589, 1397, 764, 739, 79, 18, 1349, 40, 94, 533, 108, 306, 4, 9594, 317, 88, 2130, 14859, 644, 4759, 153, 792, 478, 483, 2, 4, 9594, 2171, 191, 34, 50, 40, 10, 468, 84, 5356, 2218, 60, 2042, 119, 514, 623, 55, 985, 119, 51, 5767, 60, 10, 698, 5357, 5358, 3254, 936, 119, 230, 6743, 2015, 393, 602, 3255, 497, 13, 820, 230, 30, 14860, 2964, 5357, 119, 406, 4266, 6743, 458, 2039, 13, 11, 65, 1744, 119, 31, 14861, 121, 230, 739, 6743, 30, 406, 106, 2015, 4072, 2513, 358, 1909, 51, 3253, 7448, 119, 406, 340, 148, 255, 1945, 274, 678, 30, 3150, 701, 2298, 4266, 71, 14862, 152, 9, 29, 106, 261, 815, 303, 87, 344, 1014, 139, 1108, 321, 1441, 9, 514, 40, 40, 6]\n",
            "416\n"
          ]
        }
      ]
    },
    {
      "cell_type": "code",
      "source": [
        "validation_sequences = tokenizer.texts_to_sequences(X_val)\n",
        "print(validation_sequences[0])\n",
        "print(len(validation_sequences[0]))"
      ],
      "metadata": {
        "colab": {
          "base_uri": "https://localhost:8080/",
          "height": 0
        },
        "id": "SNfamvKVi9c7",
        "outputId": "5c22e318-2f90-405e-9a2c-05544d75a5ac"
      },
      "execution_count": 142,
      "outputs": [
        {
          "output_type": "stream",
          "name": "stdout",
          "text": [
            "[2618, 1580, 5698, 5698, 2, 2537, 3283, 633, 1706, 128, 41, 1, 5599, 47, 348, 566, 733, 90, 690, 171, 102, 2618, 865, 1, 679, 266, 74, 1, 14751, 2689, 779, 3283, 27, 211, 22, 3, 2, 85, 1081, 5, 133, 682, 3121, 2342, 123, 391, 266, 74, 211, 2, 1671, 773, 4151, 1044, 5207, 1706, 1128, 198, 817, 2, 1130, 1548, 1182, 1534, 343, 453, 1135, 266, 74, 211, 2, 3733, 85, 5258, 515, 1747, 1128, 861, 2320, 45, 817, 362, 418, 302, 1, 2618, 453, 5207, 1, 1, 1144, 156, 5698, 1058, 1, 2, 26, 443, 14, 799, 215, 85, 1081, 285, 4008, 171, 2622, 266, 74, 42, 3618, 1, 744, 1, 566, 10649, 85, 1081, 34, 68, 188, 656, 261, 4, 14751, 230, 298, 3283, 313, 292, 279, 664, 904, 935, 4923, 56, 112, 633, 13, 1313, 496, 507, 2747, 861, 2320, 1622, 165, 33, 1414, 211, 26, 1118, 591, 2642, 5207, 26, 1706, 69, 2254, 298, 3283, 657, 4923, 183, 10689, 2, 6084, 5698, 6]\n",
            "169\n"
          ]
        }
      ]
    },
    {
      "cell_type": "code",
      "source": [
        "label_tokenizer = Tokenizer()\n",
        "label_tokenizer.fit_on_texts(Y)\n",
        "\n",
        "training_label_seq = np.array(label_tokenizer.texts_to_sequences(Y_train))\n",
        "validation_label_seq = np.array(label_tokenizer.texts_to_sequences(Y_val))"
      ],
      "metadata": {
        "id": "MQdpsIhtjKST"
      },
      "execution_count": 143,
      "outputs": []
    },
    {
      "cell_type": "code",
      "source": [
        "training_x =  tf.keras.preprocessing.sequence.pad_sequences(train_sequences, maxlen=max_length)\n",
        "validation_x = tf.keras.preprocessing.sequence.pad_sequences(validation_sequences, maxlen=max_length)"
      ],
      "metadata": {
        "id": "IdwfSZ2ujSKV"
      },
      "execution_count": 144,
      "outputs": []
    },
    {
      "cell_type": "code",
      "source": [
        "print(training_x[0].shape)\n",
        "print(training_x.shape)"
      ],
      "metadata": {
        "colab": {
          "base_uri": "https://localhost:8080/",
          "height": 0
        },
        "id": "1Pikz0evjZYk",
        "outputId": "b00154c6-b0b3-418b-f9a4-482b3bc2d022"
      },
      "execution_count": 145,
      "outputs": [
        {
          "output_type": "stream",
          "name": "stdout",
          "text": [
            "(200,)\n",
            "(2002, 200)\n"
          ]
        }
      ]
    },
    {
      "cell_type": "code",
      "source": [
        "print(validation_x[0].shape)\n",
        "print(validation_x.shape)"
      ],
      "metadata": {
        "colab": {
          "base_uri": "https://localhost:8080/",
          "height": 0
        },
        "id": "CjL_ePhFjcl4",
        "outputId": "eecd108c-29a1-45e8-9c09-b8f96124088f"
      },
      "execution_count": 146,
      "outputs": [
        {
          "output_type": "stream",
          "name": "stdout",
          "text": [
            "(200,)\n",
            "(223, 200)\n"
          ]
        }
      ]
    },
    {
      "cell_type": "code",
      "source": [
        "import tensorflow as tf\n",
        "from tensorflow import keras\n",
        "from tensorflow.keras import layers"
      ],
      "metadata": {
        "id": "eqJu0MkcjghC"
      },
      "execution_count": 147,
      "outputs": []
    },
    {
      "cell_type": "code",
      "source": [
        "class TransformerBlock(layers.Layer):\n",
        "    def __init__(self, embed_dim, num_heads, ff_dim, rate=0.1):\n",
        "        super(TransformerBlock, self).__init__()\n",
        "        self.att = layers.MultiHeadAttention(num_heads=num_heads, key_dim=embed_dim)\n",
        "        self.ffn = keras.Sequential(\n",
        "            [layers.Dense(ff_dim, activation=\"relu\"), layers.Dense(embed_dim),]\n",
        "        )\n",
        "        self.layernorm1 = layers.LayerNormalization(epsilon=1e-6)\n",
        "        self.layernorm2 = layers.LayerNormalization(epsilon=1e-6)\n",
        "        self.dropout1 = layers.Dropout(rate)\n",
        "        self.dropout2 = layers.Dropout(rate)\n",
        "\n",
        "    def call(self, inputs, training):\n",
        "        attn_output = self.att(inputs, inputs)\n",
        "        attn_output = self.dropout1(attn_output, training=training)\n",
        "        out1 = self.layernorm1(inputs + attn_output)\n",
        "        ffn_output = self.ffn(out1)\n",
        "        ffn_output = self.dropout2(ffn_output, training=training)\n",
        "        return self.layernorm2(out1 + ffn_output)"
      ],
      "metadata": {
        "id": "2dsiYf9ajjqq"
      },
      "execution_count": 148,
      "outputs": []
    },
    {
      "cell_type": "code",
      "source": [
        "class TokenAndPositionEmbedding(layers.Layer):\n",
        "    def __init__(self, maxlen, vocab_size, embed_dim):\n",
        "        super(TokenAndPositionEmbedding, self).__init__()\n",
        "        self.token_emb = layers.Embedding(input_dim=vocab_size, output_dim=embed_dim)\n",
        "        self.pos_emb = layers.Embedding(input_dim=maxlen, output_dim=embed_dim)\n",
        "\n",
        "    def call(self, x):\n",
        "        maxlen = tf.shape(x)[-1]\n",
        "        positions = tf.range(start=0, limit=maxlen, delta=1)\n",
        "        positions = self.pos_emb(positions)\n",
        "        x = self.token_emb(x)\n",
        "        return x + positions"
      ],
      "metadata": {
        "id": "I8uuaGaljqeX"
      },
      "execution_count": 149,
      "outputs": []
    },
    {
      "cell_type": "code",
      "source": [
        "embed_dim = 32  # Embedding size for each token\n",
        "num_heads = 4  # Number of attention heads\n",
        "ff_dim = 32  # Hidden layer size in feed forward network inside transformer\n",
        "\n",
        "inputs = layers.Input(shape=(max_length,))\n",
        "embedding_layer = TokenAndPositionEmbedding(max_length, vocab_size, embed_dim)\n",
        "x = embedding_layer(inputs)\n",
        "transformer_block = TransformerBlock(embed_dim, num_heads, ff_dim)\n",
        "x = transformer_block(x)\n",
        "x = layers.GlobalAveragePooling1D()(x)\n",
        "x = layers.Dropout(0.1)(x)\n",
        "x = layers.Dense(20, activation=\"relu\")(x)\n",
        "x = layers.Dropout(0.1)(x)\n",
        "outputs = layers.Dense(6, activation=\"softmax\")(x)\n",
        "\n",
        "model = keras.Model(inputs=inputs, outputs=outputs)"
      ],
      "metadata": {
        "id": "FhMfMbDOjucl"
      },
      "execution_count": 150,
      "outputs": []
    },
    {
      "cell_type": "code",
      "source": [
        "from keras.utils.vis_utils import plot_model\n",
        "plot_model(model,show_shapes=True)"
      ],
      "metadata": {
        "colab": {
          "base_uri": "https://localhost:8080/",
          "height": 865
        },
        "id": "EeOjjiwvj09p",
        "outputId": "26113151-ce64-47dd-ea19-e0f3456a570b"
      },
      "execution_count": 151,
      "outputs": [
        {
          "output_type": "execute_result",
          "data": {
            "image/png": "[encoded data removed]",
            "text/plain": [
              "<IPython.core.display.Image object>"
            ]
          },
          "metadata": {},
          "execution_count": 151
        }
      ]
    },
    {
      "cell_type": "code",
      "source": [
        "model.compile(\"adam\", \"sparse_categorical_crossentropy\", metrics=[\"accuracy\"])\n",
        "history = model.fit(\n",
        "   training_x,training_label_seq, batch_size=32, epochs=50, validation_data=(validation_x,validation_label_seq)\n",
        ")"
      ],
      "metadata": {
        "colab": {
          "base_uri": "https://localhost:8080/",
          "height": 0
        },
        "id": "1TXw4cTTj4fi",
        "outputId": "7cc615c5-2ee9-4983-b2ef-cb6eaca56d62"
      },
      "execution_count": 152,
      "outputs": [
        {
          "output_type": "stream",
          "name": "stdout",
          "text": [
            "Epoch 1/50\n",
            "63/63 [==============================] - 2s 12ms/step - loss: 1.2084 - accuracy: 0.5330 - val_loss: 0.5311 - val_accuracy: 0.9058\n",
            "Epoch 2/50\n",
            "63/63 [==============================] - 1s 8ms/step - loss: 0.2207 - accuracy: 0.9580 - val_loss: 0.1535 - val_accuracy: 0.9552\n",
            "Epoch 3/50\n",
            "63/63 [==============================] - 1s 8ms/step - loss: 0.0464 - accuracy: 0.9950 - val_loss: 0.1424 - val_accuracy: 0.9641\n",
            "Epoch 4/50\n",
            "63/63 [==============================] - 1s 8ms/step - loss: 0.0205 - accuracy: 0.9990 - val_loss: 0.1496 - val_accuracy: 0.9552\n",
            "Epoch 5/50\n",
            "63/63 [==============================] - 1s 8ms/step - loss: 0.0128 - accuracy: 0.9990 - val_loss: 0.1665 - val_accuracy: 0.9552\n",
            "Epoch 6/50\n",
            "63/63 [==============================] - 1s 8ms/step - loss: 0.0095 - accuracy: 0.9990 - val_loss: 0.1855 - val_accuracy: 0.9552\n",
            "Epoch 7/50\n",
            "63/63 [==============================] - 1s 8ms/step - loss: 0.0075 - accuracy: 0.9990 - val_loss: 0.1904 - val_accuracy: 0.9596\n",
            "Epoch 8/50\n",
            "63/63 [==============================] - 1s 8ms/step - loss: 0.0044 - accuracy: 1.0000 - val_loss: 0.1789 - val_accuracy: 0.9596\n",
            "Epoch 9/50\n",
            "63/63 [==============================] - 1s 8ms/step - loss: 0.0060 - accuracy: 0.9990 - val_loss: 0.1987 - val_accuracy: 0.9552\n",
            "Epoch 10/50\n",
            "63/63 [==============================] - 1s 9ms/step - loss: 0.0032 - accuracy: 1.0000 - val_loss: 0.1906 - val_accuracy: 0.9552\n",
            "Epoch 11/50\n",
            "63/63 [==============================] - 1s 8ms/step - loss: 0.0022 - accuracy: 1.0000 - val_loss: 0.2020 - val_accuracy: 0.9552\n",
            "Epoch 12/50\n",
            "63/63 [==============================] - 1s 8ms/step - loss: 0.0027 - accuracy: 0.9995 - val_loss: 0.1932 - val_accuracy: 0.9596\n",
            "Epoch 13/50\n",
            "63/63 [==============================] - 1s 8ms/step - loss: 0.0026 - accuracy: 1.0000 - val_loss: 0.2428 - val_accuracy: 0.9552\n",
            "Epoch 14/50\n",
            "63/63 [==============================] - 1s 8ms/step - loss: 0.0014 - accuracy: 1.0000 - val_loss: 0.2294 - val_accuracy: 0.9552\n",
            "Epoch 15/50\n",
            "63/63 [==============================] - 1s 8ms/step - loss: 0.0017 - accuracy: 1.0000 - val_loss: 0.2329 - val_accuracy: 0.9552\n",
            "Epoch 16/50\n",
            "63/63 [==============================] - 1s 8ms/step - loss: 0.0031 - accuracy: 1.0000 - val_loss: 0.2262 - val_accuracy: 0.9462\n",
            "Epoch 17/50\n",
            "63/63 [==============================] - 1s 8ms/step - loss: 0.0029 - accuracy: 0.9995 - val_loss: 0.3163 - val_accuracy: 0.9507\n",
            "Epoch 18/50\n",
            "63/63 [==============================] - 1s 8ms/step - loss: 0.0015 - accuracy: 1.0000 - val_loss: 0.2514 - val_accuracy: 0.9596\n",
            "Epoch 19/50\n",
            "63/63 [==============================] - 1s 8ms/step - loss: 0.0417 - accuracy: 0.9900 - val_loss: 0.2803 - val_accuracy: 0.9462\n",
            "Epoch 20/50\n",
            "63/63 [==============================] - 1s 8ms/step - loss: 0.0114 - accuracy: 0.9965 - val_loss: 0.2702 - val_accuracy: 0.9552\n",
            "Epoch 21/50\n",
            "63/63 [==============================] - 1s 8ms/step - loss: 0.0052 - accuracy: 0.9990 - val_loss: 0.2522 - val_accuracy: 0.9596\n",
            "Epoch 22/50\n",
            "63/63 [==============================] - 1s 8ms/step - loss: 0.0016 - accuracy: 1.0000 - val_loss: 0.2518 - val_accuracy: 0.9552\n",
            "Epoch 23/50\n",
            "63/63 [==============================] - 1s 8ms/step - loss: 0.0012 - accuracy: 1.0000 - val_loss: 0.2653 - val_accuracy: 0.9641\n",
            "Epoch 24/50\n",
            "63/63 [==============================] - 1s 8ms/step - loss: 0.0011 - accuracy: 1.0000 - val_loss: 0.2645 - val_accuracy: 0.9596\n",
            "Epoch 25/50\n",
            "63/63 [==============================] - 1s 8ms/step - loss: 0.0013 - accuracy: 1.0000 - val_loss: 0.2684 - val_accuracy: 0.9596\n",
            "Epoch 26/50\n",
            "63/63 [==============================] - 1s 8ms/step - loss: 9.3389e-04 - accuracy: 1.0000 - val_loss: 0.2639 - val_accuracy: 0.9596\n",
            "Epoch 27/50\n",
            "63/63 [==============================] - 1s 8ms/step - loss: 0.0010 - accuracy: 1.0000 - val_loss: 0.2794 - val_accuracy: 0.9641\n",
            "Epoch 28/50\n",
            "63/63 [==============================] - 1s 8ms/step - loss: 9.5111e-04 - accuracy: 1.0000 - val_loss: 0.2761 - val_accuracy: 0.9596\n",
            "Epoch 29/50\n",
            "63/63 [==============================] - 1s 8ms/step - loss: 0.0015 - accuracy: 1.0000 - val_loss: 0.2708 - val_accuracy: 0.9641\n",
            "Epoch 30/50\n",
            "63/63 [==============================] - 1s 8ms/step - loss: 7.4505e-04 - accuracy: 1.0000 - val_loss: 0.2990 - val_accuracy: 0.9641\n",
            "Epoch 31/50\n",
            "63/63 [==============================] - 1s 8ms/step - loss: 9.9622e-04 - accuracy: 1.0000 - val_loss: 0.2950 - val_accuracy: 0.9596\n",
            "Epoch 32/50\n",
            "63/63 [==============================] - 1s 8ms/step - loss: 5.7188e-04 - accuracy: 1.0000 - val_loss: 0.2938 - val_accuracy: 0.9596\n",
            "Epoch 33/50\n",
            "63/63 [==============================] - 1s 8ms/step - loss: 3.7488e-04 - accuracy: 1.0000 - val_loss: 0.2939 - val_accuracy: 0.9596\n",
            "Epoch 34/50\n",
            "63/63 [==============================] - 1s 8ms/step - loss: 0.0011 - accuracy: 1.0000 - val_loss: 0.3227 - val_accuracy: 0.9641\n",
            "Epoch 35/50\n",
            "63/63 [==============================] - 1s 8ms/step - loss: 3.4073e-04 - accuracy: 1.0000 - val_loss: 0.2972 - val_accuracy: 0.9596\n",
            "Epoch 36/50\n",
            "63/63 [==============================] - 1s 8ms/step - loss: 0.0013 - accuracy: 0.9990 - val_loss: 0.3152 - val_accuracy: 0.9596\n",
            "Epoch 37/50\n",
            "63/63 [==============================] - 1s 8ms/step - loss: 5.8251e-04 - accuracy: 1.0000 - val_loss: 0.3023 - val_accuracy: 0.9596\n",
            "Epoch 38/50\n",
            "63/63 [==============================] - 1s 8ms/step - loss: 7.6716e-04 - accuracy: 1.0000 - val_loss: 0.2956 - val_accuracy: 0.9552\n",
            "Epoch 39/50\n",
            "63/63 [==============================] - 1s 8ms/step - loss: 4.8248e-04 - accuracy: 1.0000 - val_loss: 0.3004 - val_accuracy: 0.9552\n",
            "Epoch 40/50\n",
            "63/63 [==============================] - 1s 8ms/step - loss: 0.0028 - accuracy: 0.9985 - val_loss: 0.3809 - val_accuracy: 0.9552\n",
            "Epoch 41/50\n",
            "63/63 [==============================] - 1s 8ms/step - loss: 8.7904e-04 - accuracy: 1.0000 - val_loss: 0.3502 - val_accuracy: 0.9552\n",
            "Epoch 42/50\n",
            "63/63 [==============================] - 1s 8ms/step - loss: 3.3894e-04 - accuracy: 1.0000 - val_loss: 0.3384 - val_accuracy: 0.9596\n",
            "Epoch 43/50\n",
            "63/63 [==============================] - 1s 8ms/step - loss: 8.1138e-04 - accuracy: 1.0000 - val_loss: 0.3507 - val_accuracy: 0.9641\n",
            "Epoch 44/50\n",
            "63/63 [==============================] - 1s 8ms/step - loss: 2.6349e-04 - accuracy: 1.0000 - val_loss: 0.3289 - val_accuracy: 0.9641\n",
            "Epoch 45/50\n",
            "63/63 [==============================] - 1s 8ms/step - loss: 3.4522e-04 - accuracy: 1.0000 - val_loss: 0.3272 - val_accuracy: 0.9641\n",
            "Epoch 46/50\n",
            "63/63 [==============================] - 1s 8ms/step - loss: 4.8457e-04 - accuracy: 1.0000 - val_loss: 0.3349 - val_accuracy: 0.9641\n",
            "Epoch 47/50\n",
            "63/63 [==============================] - 1s 8ms/step - loss: 6.2761e-04 - accuracy: 1.0000 - val_loss: 0.3508 - val_accuracy: 0.9507\n",
            "Epoch 48/50\n",
            "63/63 [==============================] - 1s 8ms/step - loss: 5.8822e-04 - accuracy: 1.0000 - val_loss: 0.3943 - val_accuracy: 0.9596\n",
            "Epoch 49/50\n",
            "63/63 [==============================] - 1s 8ms/step - loss: 2.6178e-04 - accuracy: 1.0000 - val_loss: 0.3703 - val_accuracy: 0.9596\n",
            "Epoch 50/50\n",
            "63/63 [==============================] - 1s 8ms/step - loss: 3.6498e-04 - accuracy: 1.0000 - val_loss: 0.3685 - val_accuracy: 0.9641\n"
          ]
        }
      ]
    },
    {
      "cell_type": "code",
      "source": [
        "pd.DataFrame(history.history)"
      ],
      "metadata": {
        "colab": {
          "base_uri": "https://localhost:8080/",
          "height": 1617
        },
        "id": "BirjKLrYksET",
        "outputId": "51d7b346-a1a0-4a54-e49a-ae01467a3ed2"
      },
      "execution_count": 153,
      "outputs": [
        {
          "output_type": "execute_result",
          "data": {
            "text/html": [
              "\n",
              "  <div id=\"df-2dfc358a-4e33-46b8-b8fb-90d44836e3a4\">\n",
              "    <div class=\"colab-df-container\">\n",
              "      <div>\n",
              "<style scoped>\n",
              "    .dataframe tbody tr th:only-of-type {\n",
              "        vertical-align: middle;\n",
              "    }\n",
              "\n",
              "    .dataframe tbody tr th {\n",
              "        vertical-align: top;\n",
              "    }\n",
              "\n",
              "    .dataframe thead th {\n",
              "        text-align: right;\n",
              "    }\n",
              "</style>\n",
              "<table border=\"1\" class=\"dataframe\">\n",
              "  <thead>\n",
              "    <tr style=\"text-align: right;\">\n",
              "      <th></th>\n",
              "      <th>loss</th>\n",
              "      <th>accuracy</th>\n",
              "      <th>val_loss</th>\n",
              "      <th>val_accuracy</th>\n",
              "    </tr>\n",
              "  </thead>\n",
              "  <tbody>\n",
              "    <tr>\n",
              "      <th>0</th>\n",
              "      <td>1.208375</td>\n",
              "      <td>0.532967</td>\n",
              "      <td>0.531114</td>\n",
              "      <td>0.905830</td>\n",
              "    </tr>\n",
              "    <tr>\n",
              "      <th>1</th>\n",
              "      <td>0.220749</td>\n",
              "      <td>0.958042</td>\n",
              "      <td>0.153471</td>\n",
              "      <td>0.955157</td>\n",
              "    </tr>\n",
              "    <tr>\n",
              "      <th>2</th>\n",
              "      <td>0.046409</td>\n",
              "      <td>0.995005</td>\n",
              "      <td>0.142443</td>\n",
              "      <td>0.964126</td>\n",
              "    </tr>\n",
              "    <tr>\n",
              "      <th>3</th>\n",
              "      <td>0.020495</td>\n",
              "      <td>0.999001</td>\n",
              "      <td>0.149597</td>\n",
              "      <td>0.955157</td>\n",
              "    </tr>\n",
              "    <tr>\n",
              "      <th>4</th>\n",
              "      <td>0.012846</td>\n",
              "      <td>0.999001</td>\n",
              "      <td>0.166547</td>\n",
              "      <td>0.955157</td>\n",
              "    </tr>\n",
              "    <tr>\n",
              "      <th>5</th>\n",
              "      <td>0.009465</td>\n",
              "      <td>0.999001</td>\n",
              "      <td>0.185525</td>\n",
              "      <td>0.955157</td>\n",
              "    </tr>\n",
              "    <tr>\n",
              "      <th>6</th>\n",
              "      <td>0.007540</td>\n",
              "      <td>0.999001</td>\n",
              "      <td>0.190432</td>\n",
              "      <td>0.959641</td>\n",
              "    </tr>\n",
              "    <tr>\n",
              "      <th>7</th>\n",
              "      <td>0.004401</td>\n",
              "      <td>1.000000</td>\n",
              "      <td>0.178936</td>\n",
              "      <td>0.959641</td>\n",
              "    </tr>\n",
              "    <tr>\n",
              "      <th>8</th>\n",
              "      <td>0.005998</td>\n",
              "      <td>0.999001</td>\n",
              "      <td>0.198658</td>\n",
              "      <td>0.955157</td>\n",
              "    </tr>\n",
              "    <tr>\n",
              "      <th>9</th>\n",
              "      <td>0.003153</td>\n",
              "      <td>1.000000</td>\n",
              "      <td>0.190616</td>\n",
              "      <td>0.955157</td>\n",
              "    </tr>\n",
              "    <tr>\n",
              "      <th>10</th>\n",
              "      <td>0.002152</td>\n",
              "      <td>1.000000</td>\n",
              "      <td>0.202017</td>\n",
              "      <td>0.955157</td>\n",
              "    </tr>\n",
              "    <tr>\n",
              "      <th>11</th>\n",
              "      <td>0.002656</td>\n",
              "      <td>0.999501</td>\n",
              "      <td>0.193154</td>\n",
              "      <td>0.959641</td>\n",
              "    </tr>\n",
              "    <tr>\n",
              "      <th>12</th>\n",
              "      <td>0.002638</td>\n",
              "      <td>1.000000</td>\n",
              "      <td>0.242836</td>\n",
              "      <td>0.955157</td>\n",
              "    </tr>\n",
              "    <tr>\n",
              "      <th>13</th>\n",
              "      <td>0.001420</td>\n",
              "      <td>1.000000</td>\n",
              "      <td>0.229428</td>\n",
              "      <td>0.955157</td>\n",
              "    </tr>\n",
              "    <tr>\n",
              "      <th>14</th>\n",
              "      <td>0.001684</td>\n",
              "      <td>1.000000</td>\n",
              "      <td>0.232938</td>\n",
              "      <td>0.955157</td>\n",
              "    </tr>\n",
              "    <tr>\n",
              "      <th>15</th>\n",
              "      <td>0.003141</td>\n",
              "      <td>1.000000</td>\n",
              "      <td>0.226225</td>\n",
              "      <td>0.946188</td>\n",
              "    </tr>\n",
              "    <tr>\n",
              "      <th>16</th>\n",
              "      <td>0.002884</td>\n",
              "      <td>0.999501</td>\n",
              "      <td>0.316315</td>\n",
              "      <td>0.950673</td>\n",
              "    </tr>\n",
              "    <tr>\n",
              "      <th>17</th>\n",
              "      <td>0.001512</td>\n",
              "      <td>1.000000</td>\n",
              "      <td>0.251368</td>\n",
              "      <td>0.959641</td>\n",
              "    </tr>\n",
              "    <tr>\n",
              "      <th>18</th>\n",
              "      <td>0.041712</td>\n",
              "      <td>0.990010</td>\n",
              "      <td>0.280259</td>\n",
              "      <td>0.946188</td>\n",
              "    </tr>\n",
              "    <tr>\n",
              "      <th>19</th>\n",
              "      <td>0.011370</td>\n",
              "      <td>0.996503</td>\n",
              "      <td>0.270213</td>\n",
              "      <td>0.955157</td>\n",
              "    </tr>\n",
              "    <tr>\n",
              "      <th>20</th>\n",
              "      <td>0.005201</td>\n",
              "      <td>0.999001</td>\n",
              "      <td>0.252209</td>\n",
              "      <td>0.959641</td>\n",
              "    </tr>\n",
              "    <tr>\n",
              "      <th>21</th>\n",
              "      <td>0.001601</td>\n",
              "      <td>1.000000</td>\n",
              "      <td>0.251766</td>\n",
              "      <td>0.955157</td>\n",
              "    </tr>\n",
              "    <tr>\n",
              "      <th>22</th>\n",
              "      <td>0.001198</td>\n",
              "      <td>1.000000</td>\n",
              "      <td>0.265300</td>\n",
              "      <td>0.964126</td>\n",
              "    </tr>\n",
              "    <tr>\n",
              "      <th>23</th>\n",
              "      <td>0.001132</td>\n",
              "      <td>1.000000</td>\n",
              "      <td>0.264458</td>\n",
              "      <td>0.959641</td>\n",
              "    </tr>\n",
              "    <tr>\n",
              "      <th>24</th>\n",
              "      <td>0.001343</td>\n",
              "      <td>1.000000</td>\n",
              "      <td>0.268406</td>\n",
              "      <td>0.959641</td>\n",
              "    </tr>\n",
              "    <tr>\n",
              "      <th>25</th>\n",
              "      <td>0.000934</td>\n",
              "      <td>1.000000</td>\n",
              "      <td>0.263857</td>\n",
              "      <td>0.959641</td>\n",
              "    </tr>\n",
              "    <tr>\n",
              "      <th>26</th>\n",
              "      <td>0.001022</td>\n",
              "      <td>1.000000</td>\n",
              "      <td>0.279409</td>\n",
              "      <td>0.964126</td>\n",
              "    </tr>\n",
              "    <tr>\n",
              "      <th>27</th>\n",
              "      <td>0.000951</td>\n",
              "      <td>1.000000</td>\n",
              "      <td>0.276090</td>\n",
              "      <td>0.959641</td>\n",
              "    </tr>\n",
              "    <tr>\n",
              "      <th>28</th>\n",
              "      <td>0.001472</td>\n",
              "      <td>1.000000</td>\n",
              "      <td>0.270841</td>\n",
              "      <td>0.964126</td>\n",
              "    </tr>\n",
              "    <tr>\n",
              "      <th>29</th>\n",
              "      <td>0.000745</td>\n",
              "      <td>1.000000</td>\n",
              "      <td>0.299033</td>\n",
              "      <td>0.964126</td>\n",
              "    </tr>\n",
              "    <tr>\n",
              "      <th>30</th>\n",
              "      <td>0.000996</td>\n",
              "      <td>1.000000</td>\n",
              "      <td>0.294986</td>\n",
              "      <td>0.959641</td>\n",
              "    </tr>\n",
              "    <tr>\n",
              "      <th>31</th>\n",
              "      <td>0.000572</td>\n",
              "      <td>1.000000</td>\n",
              "      <td>0.293817</td>\n",
              "      <td>0.959641</td>\n",
              "    </tr>\n",
              "    <tr>\n",
              "      <th>32</th>\n",
              "      <td>0.000375</td>\n",
              "      <td>1.000000</td>\n",
              "      <td>0.293872</td>\n",
              "      <td>0.959641</td>\n",
              "    </tr>\n",
              "    <tr>\n",
              "      <th>33</th>\n",
              "      <td>0.001136</td>\n",
              "      <td>1.000000</td>\n",
              "      <td>0.322664</td>\n",
              "      <td>0.964126</td>\n",
              "    </tr>\n",
              "    <tr>\n",
              "      <th>34</th>\n",
              "      <td>0.000341</td>\n",
              "      <td>1.000000</td>\n",
              "      <td>0.297195</td>\n",
              "      <td>0.959641</td>\n",
              "    </tr>\n",
              "    <tr>\n",
              "      <th>35</th>\n",
              "      <td>0.001272</td>\n",
              "      <td>0.999001</td>\n",
              "      <td>0.315244</td>\n",
              "      <td>0.959641</td>\n",
              "    </tr>\n",
              "    <tr>\n",
              "      <th>36</th>\n",
              "      <td>0.000583</td>\n",
              "      <td>1.000000</td>\n",
              "      <td>0.302254</td>\n",
              "      <td>0.959641</td>\n",
              "    </tr>\n",
              "    <tr>\n",
              "      <th>37</th>\n",
              "      <td>0.000767</td>\n",
              "      <td>1.000000</td>\n",
              "      <td>0.295581</td>\n",
              "      <td>0.955157</td>\n",
              "    </tr>\n",
              "    <tr>\n",
              "      <th>38</th>\n",
              "      <td>0.000482</td>\n",
              "      <td>1.000000</td>\n",
              "      <td>0.300449</td>\n",
              "      <td>0.955157</td>\n",
              "    </tr>\n",
              "    <tr>\n",
              "      <th>39</th>\n",
              "      <td>0.002811</td>\n",
              "      <td>0.998501</td>\n",
              "      <td>0.380894</td>\n",
              "      <td>0.955157</td>\n",
              "    </tr>\n",
              "    <tr>\n",
              "      <th>40</th>\n",
              "      <td>0.000879</td>\n",
              "      <td>1.000000</td>\n",
              "      <td>0.350246</td>\n",
              "      <td>0.955157</td>\n",
              "    </tr>\n",
              "    <tr>\n",
              "      <th>41</th>\n",
              "      <td>0.000339</td>\n",
              "      <td>1.000000</td>\n",
              "      <td>0.338382</td>\n",
              "      <td>0.959641</td>\n",
              "    </tr>\n",
              "    <tr>\n",
              "      <th>42</th>\n",
              "      <td>0.000811</td>\n",
              "      <td>1.000000</td>\n",
              "      <td>0.350697</td>\n",
              "      <td>0.964126</td>\n",
              "    </tr>\n",
              "    <tr>\n",
              "      <th>43</th>\n",
              "      <td>0.000263</td>\n",
              "      <td>1.000000</td>\n",
              "      <td>0.328938</td>\n",
              "      <td>0.964126</td>\n",
              "    </tr>\n",
              "    <tr>\n",
              "      <th>44</th>\n",
              "      <td>0.000345</td>\n",
              "      <td>1.000000</td>\n",
              "      <td>0.327196</td>\n",
              "      <td>0.964126</td>\n",
              "    </tr>\n",
              "    <tr>\n",
              "      <th>45</th>\n",
              "      <td>0.000485</td>\n",
              "      <td>1.000000</td>\n",
              "      <td>0.334913</td>\n",
              "      <td>0.964126</td>\n",
              "    </tr>\n",
              "    <tr>\n",
              "      <th>46</th>\n",
              "      <td>0.000628</td>\n",
              "      <td>1.000000</td>\n",
              "      <td>0.350794</td>\n",
              "      <td>0.950673</td>\n",
              "    </tr>\n",
              "    <tr>\n",
              "      <th>47</th>\n",
              "      <td>0.000588</td>\n",
              "      <td>1.000000</td>\n",
              "      <td>0.394313</td>\n",
              "      <td>0.959641</td>\n",
              "    </tr>\n",
              "    <tr>\n",
              "      <th>48</th>\n",
              "      <td>0.000262</td>\n",
              "      <td>1.000000</td>\n",
              "      <td>0.370277</td>\n",
              "      <td>0.959641</td>\n",
              "    </tr>\n",
              "    <tr>\n",
              "      <th>49</th>\n",
              "      <td>0.000365</td>\n",
              "      <td>1.000000</td>\n",
              "      <td>0.368531</td>\n",
              "      <td>0.964126</td>\n",
              "    </tr>\n",
              "  </tbody>\n",
              "</table>\n",
              "</div>\n",
              "      <button class=\"colab-df-convert\" onclick=\"convertToInteractive('df-2dfc358a-4e33-46b8-b8fb-90d44836e3a4')\"\n",
              "              title=\"Convert this dataframe to an interactive table.\"\n",
              "              style=\"display:none;\">\n",
              "        \n",
              "  <svg xmlns=\"http://www.w3.org/2000/svg\" height=\"24px\"viewBox=\"0 0 24 24\"\n",
              "       width=\"24px\">\n",
              "    <path d=\"M0 0h24v24H0V0z\" fill=\"none\"/>\n",
              "    <path d=\"M18.56 5.44l.94 2.06.94-2.06 2.06-.94-2.06-.94-.94-2.06-.94 2.06-2.06.94zm-11 1L8.5 8.5l.94-2.06 2.06-.94-2.06-.94L8.5 2.5l-.94 2.06-2.06.94zm10 10l.94 2.06.94-2.06 2.06-.94-2.06-.94-.94-2.06-.94 2.06-2.06.94z\"/><path d=\"M17.41 7.96l-1.37-1.37c-.4-.4-.92-.59-1.43-.59-.52 0-1.04.2-1.43.59L10.3 9.45l-7.72 7.72c-.78.78-.78 2.05 0 2.83L4 21.41c.39.39.9.59 1.41.59.51 0 1.02-.2 1.41-.59l7.78-7.78 2.81-2.81c.8-.78.8-2.07 0-2.86zM5.41 20L4 18.59l7.72-7.72 1.47 1.35L5.41 20z\"/>\n",
              "  </svg>\n",
              "      </button>\n",
              "      \n",
              "  <style>\n",
              "    .colab-df-container {\n",
              "      display:flex;\n",
              "      flex-wrap:wrap;\n",
              "      gap: 12px;\n",
              "    }\n",
              "\n",
              "    .colab-df-convert {\n",
              "      background-color: #E8F0FE;\n",
              "      border: none;\n",
              "      border-radius: 50%;\n",
              "      cursor: pointer;\n",
              "      display: none;\n",
              "      fill: #1967D2;\n",
              "      height: 32px;\n",
              "      padding: 0 0 0 0;\n",
              "      width: 32px;\n",
              "    }\n",
              "\n",
              "    .colab-df-convert:hover {\n",
              "      background-color: #E2EBFA;\n",
              "      box-shadow: 0px 1px 2px rgba(60, 64, 67, 0.3), 0px 1px 3px 1px rgba(60, 64, 67, 0.15);\n",
              "      fill: #174EA6;\n",
              "    }\n",
              "\n",
              "    [theme=dark] .colab-df-convert {\n",
              "      background-color: #3B4455;\n",
              "      fill: #D2E3FC;\n",
              "    }\n",
              "\n",
              "    [theme=dark] .colab-df-convert:hover {\n",
              "      background-color: #434B5C;\n",
              "      box-shadow: 0px 1px 3px 1px rgba(0, 0, 0, 0.15);\n",
              "      filter: drop-shadow(0px 1px 2px rgba(0, 0, 0, 0.3));\n",
              "      fill: #FFFFFF;\n",
              "    }\n",
              "  </style>\n",
              "\n",
              "      <script>\n",
              "        const buttonEl =\n",
              "          document.querySelector('#df-2dfc358a-4e33-46b8-b8fb-90d44836e3a4 button.colab-df-convert');\n",
              "        buttonEl.style.display =\n",
              "          google.colab.kernel.accessAllowed ? 'block' : 'none';\n",
              "\n",
              "        async function convertToInteractive(key) {\n",
              "          const element = document.querySelector('#df-2dfc358a-4e33-46b8-b8fb-90d44836e3a4');\n",
              "          const dataTable =\n",
              "            await google.colab.kernel.invokeFunction('convertToInteractive',\n",
              "                                                     [key], {});\n",
              "          if (!dataTable) return;\n",
              "\n",
              "          const docLinkHtml = 'Like what you see? Visit the ' +\n",
              "            '<a target=\"_blank\" href=https://colab.research.google.com/notebooks/data_table.ipynb>data table notebook</a>'\n",
              "            + ' to learn more about interactive tables.';\n",
              "          element.innerHTML = '';\n",
              "          dataTable['output_type'] = 'display_data';\n",
              "          await google.colab.output.renderOutput(dataTable, element);\n",
              "          const docLink = document.createElement('div');\n",
              "          docLink.innerHTML = docLinkHtml;\n",
              "          element.appendChild(docLink);\n",
              "        }\n",
              "      </script>\n",
              "    </div>\n",
              "  </div>\n",
              "  "
            ],
            "text/plain": [
              "        loss  accuracy  val_loss  val_accuracy\n",
              "0   1.208375  0.532967  0.531114      0.905830\n",
              "1   0.220749  0.958042  0.153471      0.955157\n",
              "2   0.046409  0.995005  0.142443      0.964126\n",
              "3   0.020495  0.999001  0.149597      0.955157\n",
              "4   0.012846  0.999001  0.166547      0.955157\n",
              "5   0.009465  0.999001  0.185525      0.955157\n",
              "6   0.007540  0.999001  0.190432      0.959641\n",
              "7   0.004401  1.000000  0.178936      0.959641\n",
              "8   0.005998  0.999001  0.198658      0.955157\n",
              "9   0.003153  1.000000  0.190616      0.955157\n",
              "10  0.002152  1.000000  0.202017      0.955157\n",
              "11  0.002656  0.999501  0.193154      0.959641\n",
              "12  0.002638  1.000000  0.242836      0.955157\n",
              "13  0.001420  1.000000  0.229428      0.955157\n",
              "14  0.001684  1.000000  0.232938      0.955157\n",
              "15  0.003141  1.000000  0.226225      0.946188\n",
              "16  0.002884  0.999501  0.316315      0.950673\n",
              "17  0.001512  1.000000  0.251368      0.959641\n",
              "18  0.041712  0.990010  0.280259      0.946188\n",
              "19  0.011370  0.996503  0.270213      0.955157\n",
              "20  0.005201  0.999001  0.252209      0.959641\n",
              "21  0.001601  1.000000  0.251766      0.955157\n",
              "22  0.001198  1.000000  0.265300      0.964126\n",
              "23  0.001132  1.000000  0.264458      0.959641\n",
              "24  0.001343  1.000000  0.268406      0.959641\n",
              "25  0.000934  1.000000  0.263857      0.959641\n",
              "26  0.001022  1.000000  0.279409      0.964126\n",
              "27  0.000951  1.000000  0.276090      0.959641\n",
              "28  0.001472  1.000000  0.270841      0.964126\n",
              "29  0.000745  1.000000  0.299033      0.964126\n",
              "30  0.000996  1.000000  0.294986      0.959641\n",
              "31  0.000572  1.000000  0.293817      0.959641\n",
              "32  0.000375  1.000000  0.293872      0.959641\n",
              "33  0.001136  1.000000  0.322664      0.964126\n",
              "34  0.000341  1.000000  0.297195      0.959641\n",
              "35  0.001272  0.999001  0.315244      0.959641\n",
              "36  0.000583  1.000000  0.302254      0.959641\n",
              "37  0.000767  1.000000  0.295581      0.955157\n",
              "38  0.000482  1.000000  0.300449      0.955157\n",
              "39  0.002811  0.998501  0.380894      0.955157\n",
              "40  0.000879  1.000000  0.350246      0.955157\n",
              "41  0.000339  1.000000  0.338382      0.959641\n",
              "42  0.000811  1.000000  0.350697      0.964126\n",
              "43  0.000263  1.000000  0.328938      0.964126\n",
              "44  0.000345  1.000000  0.327196      0.964126\n",
              "45  0.000485  1.000000  0.334913      0.964126\n",
              "46  0.000628  1.000000  0.350794      0.950673\n",
              "47  0.000588  1.000000  0.394313      0.959641\n",
              "48  0.000262  1.000000  0.370277      0.959641\n",
              "49  0.000365  1.000000  0.368531      0.964126"
            ]
          },
          "metadata": {},
          "execution_count": 153
        }
      ]
    },
    {
      "cell_type": "code",
      "source": [
        "pd.DataFrame(history.history).plot()\n",
        "plt.title(\"Accuracy-loss-Curve-attention_based_model\")"
      ],
      "metadata": {
        "colab": {
          "base_uri": "https://localhost:8080/",
          "height": 298
        },
        "id": "I83eQnZqkzHf",
        "outputId": "d384376b-87b6-4f76-8527-fe273d07c846"
      },
      "execution_count": 154,
      "outputs": [
        {
          "output_type": "execute_result",
          "data": {
            "text/plain": [
              "Text(0.5, 1.0, 'Accuracy-loss-Curve-attention_based_model')"
            ]
          },
          "metadata": {},
          "execution_count": 154
        },
        {
          "output_type": "display_data",
          "data": {
            "image/png": "[encoded data removed]",
            "text/plain": [
              "<Figure size 432x288 with 1 Axes>"
            ]
          },
          "metadata": {
            "needs_background": "light"
          }
        }
      ]
    },
    {
      "cell_type": "code",
      "source": [
        "model.evaluate(validation_x,validation_label_seq)"
      ],
      "metadata": {
        "colab": {
          "base_uri": "https://localhost:8080/",
          "height": 0
        },
        "id": "qqE2D99pk5r1",
        "outputId": "32a702e6-d043-42dc-ba68-f576c765f258"
      },
      "execution_count": 155,
      "outputs": [
        {
          "output_type": "stream",
          "name": "stdout",
          "text": [
            "7/7 [==============================] - 0s 5ms/step - loss: 0.3685 - accuracy: 0.9641\n"
          ]
        },
        {
          "output_type": "execute_result",
          "data": {
            "text/plain": [
              "[0.36853116750717163, 0.9641255736351013]"
            ]
          },
          "metadata": {},
          "execution_count": 155
        }
      ]
    },
    {
      "cell_type": "code",
      "source": [
        "model_pred_proba = model.predict(validation_x)"
      ],
      "metadata": {
        "id": "3IXXTfXck_0q"
      },
      "execution_count": 156,
      "outputs": []
    },
    {
      "cell_type": "code",
      "source": [
        "model_pred = tf.argmax(model_pred_proba,axis=1)"
      ],
      "metadata": {
        "id": "s7KjEgjYlCIF"
      },
      "execution_count": 157,
      "outputs": []
    },
    {
      "cell_type": "code",
      "source": [
        "model_results = model_evaluation_matrix(y_true=validation_label_seq,y_pred=model_pred)"
      ],
      "metadata": {
        "id": "aObIb5falFBc"
      },
      "execution_count": 158,
      "outputs": []
    },
    {
      "cell_type": "code",
      "source": [
        "model_results"
      ],
      "metadata": {
        "colab": {
          "base_uri": "https://localhost:8080/",
          "height": 0
        },
        "id": "4Ae6pwg5lJvY",
        "outputId": "c236044d-b50f-4255-fc3a-a5e53f45b46d"
      },
      "execution_count": 159,
      "outputs": [
        {
          "output_type": "execute_result",
          "data": {
            "text/plain": [
              "{'accuracy': 0.9641255605381166,\n",
              " 'f1 score': 0.9639001695373143,\n",
              " 'precision': 0.9646532131857579,\n",
              " 'recall': 0.9641255605381166}"
            ]
          },
          "metadata": {},
          "execution_count": 159
        }
      ]
    },
    {
      "cell_type": "code",
      "source": [
        "results_model=pd.DataFrame.from_dict(model_results,orient=\"index\")"
      ],
      "metadata": {
        "id": "K80lBRAtlNGJ"
      },
      "execution_count": 160,
      "outputs": []
    },
    {
      "cell_type": "code",
      "source": [
        "results_model"
      ],
      "metadata": {
        "colab": {
          "base_uri": "https://localhost:8080/",
          "height": 174
        },
        "id": "VTs1wFDdlP8g",
        "outputId": "4f935141-5189-44db-984e-a094c5ad378d"
      },
      "execution_count": 161,
      "outputs": [
        {
          "output_type": "execute_result",
          "data": {
            "text/html": [
              "\n",
              "  <div id=\"df-29f6d293-fc67-46f4-89f3-e79dbda5a818\">\n",
              "    <div class=\"colab-df-container\">\n",
              "      <div>\n",
              "<style scoped>\n",
              "    .dataframe tbody tr th:only-of-type {\n",
              "        vertical-align: middle;\n",
              "    }\n",
              "\n",
              "    .dataframe tbody tr th {\n",
              "        vertical-align: top;\n",
              "    }\n",
              "\n",
              "    .dataframe thead th {\n",
              "        text-align: right;\n",
              "    }\n",
              "</style>\n",
              "<table border=\"1\" class=\"dataframe\">\n",
              "  <thead>\n",
              "    <tr style=\"text-align: right;\">\n",
              "      <th></th>\n",
              "      <th>0</th>\n",
              "    </tr>\n",
              "  </thead>\n",
              "  <tbody>\n",
              "    <tr>\n",
              "      <th>accuracy</th>\n",
              "      <td>0.964126</td>\n",
              "    </tr>\n",
              "    <tr>\n",
              "      <th>precision</th>\n",
              "      <td>0.964653</td>\n",
              "    </tr>\n",
              "    <tr>\n",
              "      <th>recall</th>\n",
              "      <td>0.964126</td>\n",
              "    </tr>\n",
              "    <tr>\n",
              "      <th>f1 score</th>\n",
              "      <td>0.963900</td>\n",
              "    </tr>\n",
              "  </tbody>\n",
              "</table>\n",
              "</div>\n",
              "      <button class=\"colab-df-convert\" onclick=\"convertToInteractive('df-29f6d293-fc67-46f4-89f3-e79dbda5a818')\"\n",
              "              title=\"Convert this dataframe to an interactive table.\"\n",
              "              style=\"display:none;\">\n",
              "        \n",
              "  <svg xmlns=\"http://www.w3.org/2000/svg\" height=\"24px\"viewBox=\"0 0 24 24\"\n",
              "       width=\"24px\">\n",
              "    <path d=\"M0 0h24v24H0V0z\" fill=\"none\"/>\n",
              "    <path d=\"M18.56 5.44l.94 2.06.94-2.06 2.06-.94-2.06-.94-.94-2.06-.94 2.06-2.06.94zm-11 1L8.5 8.5l.94-2.06 2.06-.94-2.06-.94L8.5 2.5l-.94 2.06-2.06.94zm10 10l.94 2.06.94-2.06 2.06-.94-2.06-.94-.94-2.06-.94 2.06-2.06.94z\"/><path d=\"M17.41 7.96l-1.37-1.37c-.4-.4-.92-.59-1.43-.59-.52 0-1.04.2-1.43.59L10.3 9.45l-7.72 7.72c-.78.78-.78 2.05 0 2.83L4 21.41c.39.39.9.59 1.41.59.51 0 1.02-.2 1.41-.59l7.78-7.78 2.81-2.81c.8-.78.8-2.07 0-2.86zM5.41 20L4 18.59l7.72-7.72 1.47 1.35L5.41 20z\"/>\n",
              "  </svg>\n",
              "      </button>\n",
              "      \n",
              "  <style>\n",
              "    .colab-df-container {\n",
              "      display:flex;\n",
              "      flex-wrap:wrap;\n",
              "      gap: 12px;\n",
              "    }\n",
              "\n",
              "    .colab-df-convert {\n",
              "      background-color: #E8F0FE;\n",
              "      border: none;\n",
              "      border-radius: 50%;\n",
              "      cursor: pointer;\n",
              "      display: none;\n",
              "      fill: #1967D2;\n",
              "      height: 32px;\n",
              "      padding: 0 0 0 0;\n",
              "      width: 32px;\n",
              "    }\n",
              "\n",
              "    .colab-df-convert:hover {\n",
              "      background-color: #E2EBFA;\n",
              "      box-shadow: 0px 1px 2px rgba(60, 64, 67, 0.3), 0px 1px 3px 1px rgba(60, 64, 67, 0.15);\n",
              "      fill: #174EA6;\n",
              "    }\n",
              "\n",
              "    [theme=dark] .colab-df-convert {\n",
              "      background-color: #3B4455;\n",
              "      fill: #D2E3FC;\n",
              "    }\n",
              "\n",
              "    [theme=dark] .colab-df-convert:hover {\n",
              "      background-color: #434B5C;\n",
              "      box-shadow: 0px 1px 3px 1px rgba(0, 0, 0, 0.15);\n",
              "      filter: drop-shadow(0px 1px 2px rgba(0, 0, 0, 0.3));\n",
              "      fill: #FFFFFF;\n",
              "    }\n",
              "  </style>\n",
              "\n",
              "      <script>\n",
              "        const buttonEl =\n",
              "          document.querySelector('#df-29f6d293-fc67-46f4-89f3-e79dbda5a818 button.colab-df-convert');\n",
              "        buttonEl.style.display =\n",
              "          google.colab.kernel.accessAllowed ? 'block' : 'none';\n",
              "\n",
              "        async function convertToInteractive(key) {\n",
              "          const element = document.querySelector('#df-29f6d293-fc67-46f4-89f3-e79dbda5a818');\n",
              "          const dataTable =\n",
              "            await google.colab.kernel.invokeFunction('convertToInteractive',\n",
              "                                                     [key], {});\n",
              "          if (!dataTable) return;\n",
              "\n",
              "          const docLinkHtml = 'Like what you see? Visit the ' +\n",
              "            '<a target=\"_blank\" href=https://colab.research.google.com/notebooks/data_table.ipynb>data table notebook</a>'\n",
              "            + ' to learn more about interactive tables.';\n",
              "          element.innerHTML = '';\n",
              "          dataTable['output_type'] = 'display_data';\n",
              "          await google.colab.output.renderOutput(dataTable, element);\n",
              "          const docLink = document.createElement('div');\n",
              "          docLink.innerHTML = docLinkHtml;\n",
              "          element.appendChild(docLink);\n",
              "        }\n",
              "      </script>\n",
              "    </div>\n",
              "  </div>\n",
              "  "
            ],
            "text/plain": [
              "                  0\n",
              "accuracy   0.964126\n",
              "precision  0.964653\n",
              "recall     0.964126\n",
              "f1 score   0.963900"
            ]
          },
          "metadata": {},
          "execution_count": 161
        }
      ]
    },
    {
      "cell_type": "code",
      "source": [
        "confusion_martrix_transformer = make_confusion_matrix(y_true=validation_label_seq,y_pred=model_pred,classes=[\"Class_0\",\"Class_1\",\"Class_2\",\"Class_3\",\"Class_4\"])"
      ],
      "metadata": {
        "colab": {
          "base_uri": "https://localhost:8080/",
          "height": 580
        },
        "id": "GcEAygLSlTut",
        "outputId": "8be5dc34-df05-403e-ac19-891da36da6f5"
      },
      "execution_count": 162,
      "outputs": [
        {
          "output_type": "display_data",
          "data": {
            "image/png": "[encoded data removed]",
            "text/plain": [
              "<Figure size 720x720 with 2 Axes>"
            ]
          },
          "metadata": {
            "needs_background": "light"
          }
        }
      ]
    },
    {
      "cell_type": "code",
      "source": [
        "results = pd.concat([baseline_model_results_0_df,baseline_model_results_1_df,baseline_model_results_2_df,results_model_3,results_model],axis=1)"
      ],
      "metadata": {
        "id": "ZGz80lx4qWcR"
      },
      "execution_count": 165,
      "outputs": []
    },
    {
      "cell_type": "code",
      "source": [
        "results.columns =['Naive Bayes', 'Logistic Regression', 'Random Forest', 'MLP','Transformer_Based']"
      ],
      "metadata": {
        "id": "QyIMRxN5qsuu"
      },
      "execution_count": 166,
      "outputs": []
    },
    {
      "cell_type": "code",
      "source": [
        "results"
      ],
      "metadata": {
        "colab": {
          "base_uri": "https://localhost:8080/",
          "height": 174
        },
        "id": "ygfOquLTrg_7",
        "outputId": "e6ca4584-9497-4342-b359-3ee7ef5b82ea"
      },
      "execution_count": 167,
      "outputs": [
        {
          "output_type": "execute_result",
          "data": {
            "text/html": [
              "\n",
              "  <div id=\"df-56df70c7-6640-485e-8c58-5525410e6239\">\n",
              "    <div class=\"colab-df-container\">\n",
              "      <div>\n",
              "<style scoped>\n",
              "    .dataframe tbody tr th:only-of-type {\n",
              "        vertical-align: middle;\n",
              "    }\n",
              "\n",
              "    .dataframe tbody tr th {\n",
              "        vertical-align: top;\n",
              "    }\n",
              "\n",
              "    .dataframe thead th {\n",
              "        text-align: right;\n",
              "    }\n",
              "</style>\n",
              "<table border=\"1\" class=\"dataframe\">\n",
              "  <thead>\n",
              "    <tr style=\"text-align: right;\">\n",
              "      <th></th>\n",
              "      <th>Naive Bayes</th>\n",
              "      <th>Logistic Regression</th>\n",
              "      <th>Random Forest</th>\n",
              "      <th>MLP</th>\n",
              "      <th>Transformer_Based</th>\n",
              "    </tr>\n",
              "  </thead>\n",
              "  <tbody>\n",
              "    <tr>\n",
              "      <th>accuracy</th>\n",
              "      <td>0.955157</td>\n",
              "      <td>0.955157</td>\n",
              "      <td>0.928251</td>\n",
              "      <td>0.946188</td>\n",
              "      <td>0.964126</td>\n",
              "    </tr>\n",
              "    <tr>\n",
              "      <th>precision</th>\n",
              "      <td>0.956198</td>\n",
              "      <td>0.956594</td>\n",
              "      <td>0.930084</td>\n",
              "      <td>0.947232</td>\n",
              "      <td>0.964653</td>\n",
              "    </tr>\n",
              "    <tr>\n",
              "      <th>recall</th>\n",
              "      <td>0.955157</td>\n",
              "      <td>0.955157</td>\n",
              "      <td>0.928251</td>\n",
              "      <td>0.946188</td>\n",
              "      <td>0.964126</td>\n",
              "    </tr>\n",
              "    <tr>\n",
              "      <th>f1 score</th>\n",
              "      <td>0.955120</td>\n",
              "      <td>0.955440</td>\n",
              "      <td>0.928609</td>\n",
              "      <td>0.946119</td>\n",
              "      <td>0.963900</td>\n",
              "    </tr>\n",
              "  </tbody>\n",
              "</table>\n",
              "</div>\n",
              "      <button class=\"colab-df-convert\" onclick=\"convertToInteractive('df-56df70c7-6640-485e-8c58-5525410e6239')\"\n",
              "              title=\"Convert this dataframe to an interactive table.\"\n",
              "              style=\"display:none;\">\n",
              "        \n",
              "  <svg xmlns=\"http://www.w3.org/2000/svg\" height=\"24px\"viewBox=\"0 0 24 24\"\n",
              "       width=\"24px\">\n",
              "    <path d=\"M0 0h24v24H0V0z\" fill=\"none\"/>\n",
              "    <path d=\"M18.56 5.44l.94 2.06.94-2.06 2.06-.94-2.06-.94-.94-2.06-.94 2.06-2.06.94zm-11 1L8.5 8.5l.94-2.06 2.06-.94-2.06-.94L8.5 2.5l-.94 2.06-2.06.94zm10 10l.94 2.06.94-2.06 2.06-.94-2.06-.94-.94-2.06-.94 2.06-2.06.94z\"/><path d=\"M17.41 7.96l-1.37-1.37c-.4-.4-.92-.59-1.43-.59-.52 0-1.04.2-1.43.59L10.3 9.45l-7.72 7.72c-.78.78-.78 2.05 0 2.83L4 21.41c.39.39.9.59 1.41.59.51 0 1.02-.2 1.41-.59l7.78-7.78 2.81-2.81c.8-.78.8-2.07 0-2.86zM5.41 20L4 18.59l7.72-7.72 1.47 1.35L5.41 20z\"/>\n",
              "  </svg>\n",
              "      </button>\n",
              "      \n",
              "  <style>\n",
              "    .colab-df-container {\n",
              "      display:flex;\n",
              "      flex-wrap:wrap;\n",
              "      gap: 12px;\n",
              "    }\n",
              "\n",
              "    .colab-df-convert {\n",
              "      background-color: #E8F0FE;\n",
              "      border: none;\n",
              "      border-radius: 50%;\n",
              "      cursor: pointer;\n",
              "      display: none;\n",
              "      fill: #1967D2;\n",
              "      height: 32px;\n",
              "      padding: 0 0 0 0;\n",
              "      width: 32px;\n",
              "    }\n",
              "\n",
              "    .colab-df-convert:hover {\n",
              "      background-color: #E2EBFA;\n",
              "      box-shadow: 0px 1px 2px rgba(60, 64, 67, 0.3), 0px 1px 3px 1px rgba(60, 64, 67, 0.15);\n",
              "      fill: #174EA6;\n",
              "    }\n",
              "\n",
              "    [theme=dark] .colab-df-convert {\n",
              "      background-color: #3B4455;\n",
              "      fill: #D2E3FC;\n",
              "    }\n",
              "\n",
              "    [theme=dark] .colab-df-convert:hover {\n",
              "      background-color: #434B5C;\n",
              "      box-shadow: 0px 1px 3px 1px rgba(0, 0, 0, 0.15);\n",
              "      filter: drop-shadow(0px 1px 2px rgba(0, 0, 0, 0.3));\n",
              "      fill: #FFFFFF;\n",
              "    }\n",
              "  </style>\n",
              "\n",
              "      <script>\n",
              "        const buttonEl =\n",
              "          document.querySelector('#df-56df70c7-6640-485e-8c58-5525410e6239 button.colab-df-convert');\n",
              "        buttonEl.style.display =\n",
              "          google.colab.kernel.accessAllowed ? 'block' : 'none';\n",
              "\n",
              "        async function convertToInteractive(key) {\n",
              "          const element = document.querySelector('#df-56df70c7-6640-485e-8c58-5525410e6239');\n",
              "          const dataTable =\n",
              "            await google.colab.kernel.invokeFunction('convertToInteractive',\n",
              "                                                     [key], {});\n",
              "          if (!dataTable) return;\n",
              "\n",
              "          const docLinkHtml = 'Like what you see? Visit the ' +\n",
              "            '<a target=\"_blank\" href=https://colab.research.google.com/notebooks/data_table.ipynb>data table notebook</a>'\n",
              "            + ' to learn more about interactive tables.';\n",
              "          element.innerHTML = '';\n",
              "          dataTable['output_type'] = 'display_data';\n",
              "          await google.colab.output.renderOutput(dataTable, element);\n",
              "          const docLink = document.createElement('div');\n",
              "          docLink.innerHTML = docLinkHtml;\n",
              "          element.appendChild(docLink);\n",
              "        }\n",
              "      </script>\n",
              "    </div>\n",
              "  </div>\n",
              "  "
            ],
            "text/plain": [
              "           Naive Bayes  Logistic Regression  ...       MLP  Transformer_Based\n",
              "accuracy      0.955157             0.955157  ...  0.946188           0.964126\n",
              "precision     0.956198             0.956594  ...  0.947232           0.964653\n",
              "recall        0.955157             0.955157  ...  0.946188           0.964126\n",
              "f1 score      0.955120             0.955440  ...  0.946119           0.963900\n",
              "\n",
              "[4 rows x 5 columns]"
            ]
          },
          "metadata": {},
          "execution_count": 167
        }
      ]
    }
  ]
}