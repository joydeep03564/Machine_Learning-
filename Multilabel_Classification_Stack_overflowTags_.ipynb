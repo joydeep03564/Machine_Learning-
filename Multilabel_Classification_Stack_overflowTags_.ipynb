{
  "nbformat": 4,
  "nbformat_minor": 0,
  "metadata": {
    "colab": {
      "name": "Multilabel_Classification_Stack_overflowTags_.ipynb",
      "provenance": [],
      "authorship_tag": "ABX9TyM9D2hlVY7MR/UvEShKdVgo",
      "include_colab_link": true
    },
    "kernelspec": {
      "name": "python3",
      "display_name": "Python 3"
    }
  },
  "cells": [
    {
      "cell_type": "markdown",
      "metadata": {
        "id": "view-in-github",
        "colab_type": "text"
      },
      "source": [
        "<a href=\"https://colab.research.google.com/github/joydeep03564/Machine_Learning-/blob/master/Multilabel_Classification_Stack_overflowTags_.ipynb\" target=\"_parent\"><img src=\"https://colab.research.google.com/assets/colab-badge.svg\" alt=\"Open In Colab\"/></a>"
      ]
    },
    {
      "cell_type": "markdown",
      "metadata": {
        "id": "0PNahdmq8_N1"
      },
      "source": [
        "In this article, we are going to explore multi label classification. Genrally we pose our problem into  multi class classification or bnary classification problems. In this specific  tutorial, we will explore multilabel classification.\n",
        "A great way to start is to use stackoverflow tag prediction problem. Facebook made some dataset available for facebook recruiting III in kaggle.\n",
        "The dataset can found in the [Facebook Recruiting III - Keyword Extraction](https://https://www.kaggle.com/c/facebook-recruiting-iii-keyword-extraction/data)\n",
        "\n",
        "For simplicity, we will be building it small. For this project, we will use the strip down version of similar dataset. We will use [Predicting Stack Overflow Tags with Google’s Cloud AI](https://stackoverflow.blog/2019/05/06/predicting-stack-overflow-tags-with-googles-cloud-ai/)\n",
        "\n",
        "In this blog, we have created a dataset to predict the tags of machine learning related tags.\n",
        "To make the problem more harder, they have replaced the words like tensorflow,tf,pandas,pd,etc  with the word **\"avacado\"**"
      ]
    },
    {
      "cell_type": "code",
      "metadata": {
        "colab": {
          "base_uri": "https://localhost:8080/"
        },
        "id": "VEOmhXRLJSLI",
        "outputId": "550ec7c6-f716-4d2e-b960-865b587ed6df"
      },
      "source": [
        "from google.colab import drive \n",
        "drive.mount('/content/drive')"
      ],
      "execution_count": 2,
      "outputs": [
        {
          "output_type": "stream",
          "text": [
            "Drive already mounted at /content/drive; to attempt to forcibly remount, call drive.mount(\"/content/drive\", force_remount=True).\n"
          ],
          "name": "stdout"
        }
      ]
    },
    {
      "cell_type": "markdown",
      "metadata": {
        "id": "iEo4B1H_PvCB"
      },
      "source": [
        "# Loading the data:"
      ]
    },
    {
      "cell_type": "code",
      "metadata": {
        "id": "TsrSpXjMP1IK"
      },
      "source": [
        "# using pandas dataframe to load the dataset:\n",
        "import pandas as pd\n",
        "import numpy as np\n",
        "import matplotlib.pyplot as plt\n"
      ],
      "execution_count": 2,
      "outputs": []
    },
    {
      "cell_type": "code",
      "metadata": {
        "id": "7hmU5L_KQOvQ"
      },
      "source": [
        "dataset = pd.read_csv(\"/content/drive/MyDrive/NLP/NLP_Projects/Multilabel_classification_stack_overflow/SO_ml_tags_avocado_188k_v2.csv\")"
      ],
      "execution_count": 3,
      "outputs": []
    },
    {
      "cell_type": "code",
      "metadata": {
        "colab": {
          "base_uri": "https://localhost:8080/",
          "height": 203
        },
        "id": "K3AyPveOQy6L",
        "outputId": "69904191-c866-4426-ad21-45985751c22e"
      },
      "source": [
        "dataset.head()"
      ],
      "execution_count": 4,
      "outputs": [
        {
          "output_type": "execute_result",
          "data": {
            "text/html": [
              "<div>\n",
              "<style scoped>\n",
              "    .dataframe tbody tr th:only-of-type {\n",
              "        vertical-align: middle;\n",
              "    }\n",
              "\n",
              "    .dataframe tbody tr th {\n",
              "        vertical-align: top;\n",
              "    }\n",
              "\n",
              "    .dataframe thead th {\n",
              "        text-align: right;\n",
              "    }\n",
              "</style>\n",
              "<table border=\"1\" class=\"dataframe\">\n",
              "  <thead>\n",
              "    <tr style=\"text-align: right;\">\n",
              "      <th></th>\n",
              "      <th>extracted_tags</th>\n",
              "      <th>original_tags</th>\n",
              "      <th>text</th>\n",
              "    </tr>\n",
              "  </thead>\n",
              "  <tbody>\n",
              "    <tr>\n",
              "      <th>0</th>\n",
              "      <td>matplotlib,pandas</td>\n",
              "      <td>python,matplotlib,pandas</td>\n",
              "      <td>setting xticks and yticks for scatter plot mat...</td>\n",
              "    </tr>\n",
              "    <tr>\n",
              "      <th>1</th>\n",
              "      <td>scikitlearn,keras</td>\n",
              "      <td>python,numpy,scikit-learn,keras,grid-search</td>\n",
              "      <td>gridseachcv - valueerror: found input variable...</td>\n",
              "    </tr>\n",
              "    <tr>\n",
              "      <th>2</th>\n",
              "      <td>matplotlib,scikitlearn</td>\n",
              "      <td>python,numpy,matplotlib,scikit-learn,nmf</td>\n",
              "      <td>non negative matrix factorisation in python on...</td>\n",
              "    </tr>\n",
              "    <tr>\n",
              "      <th>3</th>\n",
              "      <td>pandas,tensorflow</td>\n",
              "      <td>python,pandas,tensorflow,time-series</td>\n",
              "      <td>avocado equivalent to avocado.dataframe.resamp...</td>\n",
              "    </tr>\n",
              "    <tr>\n",
              "      <th>4</th>\n",
              "      <td>matplotlib,pandas</td>\n",
              "      <td>python,matplotlib,plot,pandas</td>\n",
              "      <td>how to plot on avocado python i have a data fr...</td>\n",
              "    </tr>\n",
              "  </tbody>\n",
              "</table>\n",
              "</div>"
            ],
            "text/plain": [
              "           extracted_tags  ...                                               text\n",
              "0       matplotlib,pandas  ...  setting xticks and yticks for scatter plot mat...\n",
              "1       scikitlearn,keras  ...  gridseachcv - valueerror: found input variable...\n",
              "2  matplotlib,scikitlearn  ...  non negative matrix factorisation in python on...\n",
              "3       pandas,tensorflow  ...  avocado equivalent to avocado.dataframe.resamp...\n",
              "4       matplotlib,pandas  ...  how to plot on avocado python i have a data fr...\n",
              "\n",
              "[5 rows x 3 columns]"
            ]
          },
          "metadata": {
            "tags": []
          },
          "execution_count": 4
        }
      ]
    },
    {
      "cell_type": "code",
      "metadata": {
        "colab": {
          "base_uri": "https://localhost:8080/",
          "height": 137
        },
        "id": "I1_272hYRlbi",
        "outputId": "a22d680e-9a5a-4e33-cdf5-269f83c5fea4"
      },
      "source": [
        "dataset['text'][10]"
      ],
      "execution_count": 5,
      "outputs": [
        {
          "output_type": "execute_result",
          "data": {
            "application/vnd.google.colaboratory.intrinsic+json": {
              "type": "string"
            },
            "text/plain": [
              "'how should i pass a avocado object through a function; as axis, axes or figure? sorry in advance if this is a little long winded but if i cut it down too much the problem is lost. i am trying to make a module on top of avocado and avocado which will give me the ability to make profile plots and profile matrices analogous to scatter_matrix. i am pretty sure my problem comes down to what object i need to return from profile() so that i can handle axes manipulation in profile_matrix(). then the question is what to return form profile_matrix() so i can edit subplots.  my module (profilemodule.py) borrows a lot from https://github.com/pydata/avocado/blob/master/avocado/tools/plotting.py and looks like:  import avocado as avocado from avocado import series, dataframe import numpy as np import avocado.pyplot as avocado  def profile(x,y,nbins,xmin,xmax):     df = dataframe({\\'x\\' : x , \\'y\\' : y})      binedges = xmin + ((xmax-xmin)/nbins) * np.arange(nbins+1)     df[\\'bin\\'] = np.digitize(df[\\'x\\'],binedges)      bincenters = xmin + ((xmax-xmin)/nbins)*np.arange(nbins) + ((xmax-xmin)/(2*nbins))     profileframe = dataframe({\\'bincenters\\' : bincenters, \\'n\\' : df[\\'bin\\'].value_counts(sort=false)},index=range(1,nbins+1))      bins = profileframe.index.values     for bin in bins:         profileframe.ix[bin,\\'ymean\\'] = df.ix[df[\\'bin\\']==bin,\\'y\\'].mean()         profileframe.ix[bin,\\'ystanddev\\'] = df.ix[df[\\'bin\\']==bin,\\'y\\'].std()         profileframe.ix[bin,\\'ymeanerror\\'] = profileframe.ix[bin,\\'ystanddev\\'] / np.sqrt(profileframe.ix[bin,\\'n\\'])      fig = avocado.figure();      ax = profileplot.add_subplot(1, 1, 1)     avocado.errorbar(profileframe[\\'bincenters\\'], profileframe[\\'ymean\\'], yerr=profileframe[\\'ymeanerror\\'], xerr=(xmax-xmin)/(2*nbins), fmt=none)      return ax     #or should i \"return fig\"   def profile_matrix(frame):      import avocado.core.common as com     import avocado.tools.plotting as plots     from avocado.compat import lrange     from avocado.artist import setp      range_padding=0.05       df = frame._get_numeric_data()     n = df.columns.size      fig, axes = plots._subplots(nrows=n, ncols=n, squeeze=false)      # no gaps between subplots     fig.subplots_adjust(wspace=0, hspace=0)      mask = com.notnull(df)      boundaries_list = []     for a in df.columns:         values = df[a].values[mask[a].values]         rmin_, rmax_ = np.min(values), np.max(values)         rdelta_ext = (rmax_ - rmin_) * range_padding / 2.         boundaries_list.append((rmin_ - rdelta_ext, rmax_+ rdelta_ext))      for i, a in zip(lrange(n), df.columns):         for j, b in zip(lrange(n), df.columns):             ax = axes[i, j]             common = (mask[a] &amp; mask[b]).values             nbins = 100             (xmin,xmax) = boundaries_list[i]              ax=profile(df[b][common],df[a][common],nbins,xmin,xmax)             #profile(df[b][common].values,df[a][common].values,nbins,xmin,xmax)              ax.set_xlabel(\\'\\')             ax.set_ylabel(\\'\\')              plots._label_axis(ax, kind=\\'x\\', label=b, position=\\'bottom\\', rotate=true)             plots._label_axis(ax, kind=\\'y\\', label=a, position=\\'left\\')              if j!= 0:                 ax.yaxis.set_visible(false)             if i != n-1:                 ax.xaxis.set_visible(false)      for ax in axes.flat:         setp(ax.get_xticklabels(), fontsize=8)         setp(ax.get_yticklabels(), fontsize=8)      return axes   this will run with something like:  import avocado as avocado from avocado import series, dataframe import numpy as np import avocado.pyplot as avocado  import profilemodule as pm  x = np.random.uniform(0, 100, size=1000) y = x *x  +  50*x*np.random.randn(1000) z = x *y  +  50*y*np.random.randn(1000)  nbins = 25 xmax = 100 xmin = 0  profileplot = pm.profile(x,y,nbins,xmin,xmax) avocado.title(\"look this works!\")  #this does not work as expected frame = dataframe({\\'z\\' : z,\\'x\\' : x , \\'y\\' : y}) profilematrix = pm.profile_matrix(frame) avocado.show()   this would hopefully produce a simple profile plot and a 3x3 profile matrix but it does not. i have tried various different methods to get this to work but i imagine it is not worth explaining them all.  i should mention i am using enthought canopy express on windows 7. sorry for the long post and thanks again for any help with the code. this is my first week using python.'"
            ]
          },
          "metadata": {
            "tags": []
          },
          "execution_count": 5
        }
      ]
    },
    {
      "cell_type": "code",
      "metadata": {
        "colab": {
          "base_uri": "https://localhost:8080/",
          "height": 137
        },
        "id": "KgePmGxBRxEc",
        "outputId": "fd085f13-d5ee-4bff-8aa3-8aa86312c63e"
      },
      "source": [
        "# Randomly checking the text for better understanding \n",
        "import random \n",
        "\n",
        "random_text = random.choice(dataset['text'])\n",
        "random_text"
      ],
      "execution_count": 5,
      "outputs": [
        {
          "output_type": "execute_result",
          "data": {
            "application/vnd.google.colaboratory.intrinsic+json": {
              "type": "string"
            },
            "text/plain": [
              "\"how to go to the next index in avocado `iterrows()`? say i have a dataframe like:                jpm 2008-01-02  38.47 2008-01-03  38.20 2008-01-04  39.33   edit: expected output:              symbol order   shares 2011-01-10  jpm    nothing 0 2011-01-13  jpm    buy     1000 2011-01-13  jpm    sell    0   how can i compare the second row to the first row? i want to see if the value of spy is greater on the second day than the first.   right now i have the following code:  for index, row in df_prices.iterrows():      if df_prices[index + 1]['symbol'] &gt; df_prices[index]['symbol'] and curr_hold == 0:          df_orders[index]['order'] = 'sell'          df_orders[index]['shares'] += 1000   but i get the error:  valueerror: cannot add integral value to timestamp without freq.   i think it's because i do index + 1. thus, i don't know how to use iterrows() for my application.   edit: after a commenter's suggestion, here is my new code with the expected output above.   if df_prices['jpm'].shift(1) &gt; df_prices['jpm'] and curr_hold == 0:     df_orders['order'] = 'sell'     df_orders['shares'] += 1000 elif df_prices['jpm'].shift(1) &lt; df_prices['jpm'] and curr_hold == 0:     df_orders['order'] = 'buy'     df_orders['shares'] -= 1000 elif df_prices['jpm'].shift(1) &gt; df_prices['jpm'] and curr_hold == -1000:     df_orders['order'] = 'hold' elif df_prices['jpm'].shift(1) &lt; df_prices['jpm'] and curr_hold == 1000:     df_orders['order'] = 'hold' \""
            ]
          },
          "metadata": {
            "tags": []
          },
          "execution_count": 5
        }
      ]
    },
    {
      "cell_type": "code",
      "metadata": {
        "id": "vVAbXKNvT1rV"
      },
      "source": [
        "# The publishers has modified the dataset and published the preprocessed article\n",
        "# we are not doing any kind of preprocessing \n",
        "\n",
        "dataset= dataset.drop(['original_tags'],axis=1)\n",
        "\n",
        "\n"
      ],
      "execution_count": 5,
      "outputs": []
    },
    {
      "cell_type": "code",
      "metadata": {
        "colab": {
          "base_uri": "https://localhost:8080/",
          "height": 203
        },
        "id": "wnzIgT7CVWHh",
        "outputId": "81d2b596-e6bc-4635-c9c8-590b8993cff2"
      },
      "source": [
        "dataset.head()"
      ],
      "execution_count": 6,
      "outputs": [
        {
          "output_type": "execute_result",
          "data": {
            "text/html": [
              "<div>\n",
              "<style scoped>\n",
              "    .dataframe tbody tr th:only-of-type {\n",
              "        vertical-align: middle;\n",
              "    }\n",
              "\n",
              "    .dataframe tbody tr th {\n",
              "        vertical-align: top;\n",
              "    }\n",
              "\n",
              "    .dataframe thead th {\n",
              "        text-align: right;\n",
              "    }\n",
              "</style>\n",
              "<table border=\"1\" class=\"dataframe\">\n",
              "  <thead>\n",
              "    <tr style=\"text-align: right;\">\n",
              "      <th></th>\n",
              "      <th>extracted_tags</th>\n",
              "      <th>original_tags</th>\n",
              "      <th>text</th>\n",
              "    </tr>\n",
              "  </thead>\n",
              "  <tbody>\n",
              "    <tr>\n",
              "      <th>0</th>\n",
              "      <td>matplotlib,pandas</td>\n",
              "      <td>python,matplotlib,pandas</td>\n",
              "      <td>setting xticks and yticks for scatter plot mat...</td>\n",
              "    </tr>\n",
              "    <tr>\n",
              "      <th>1</th>\n",
              "      <td>scikitlearn,keras</td>\n",
              "      <td>python,numpy,scikit-learn,keras,grid-search</td>\n",
              "      <td>gridseachcv - valueerror: found input variable...</td>\n",
              "    </tr>\n",
              "    <tr>\n",
              "      <th>2</th>\n",
              "      <td>matplotlib,scikitlearn</td>\n",
              "      <td>python,numpy,matplotlib,scikit-learn,nmf</td>\n",
              "      <td>non negative matrix factorisation in python on...</td>\n",
              "    </tr>\n",
              "    <tr>\n",
              "      <th>3</th>\n",
              "      <td>pandas,tensorflow</td>\n",
              "      <td>python,pandas,tensorflow,time-series</td>\n",
              "      <td>avocado equivalent to avocado.dataframe.resamp...</td>\n",
              "    </tr>\n",
              "    <tr>\n",
              "      <th>4</th>\n",
              "      <td>matplotlib,pandas</td>\n",
              "      <td>python,matplotlib,plot,pandas</td>\n",
              "      <td>how to plot on avocado python i have a data fr...</td>\n",
              "    </tr>\n",
              "  </tbody>\n",
              "</table>\n",
              "</div>"
            ],
            "text/plain": [
              "           extracted_tags  ...                                               text\n",
              "0       matplotlib,pandas  ...  setting xticks and yticks for scatter plot mat...\n",
              "1       scikitlearn,keras  ...  gridseachcv - valueerror: found input variable...\n",
              "2  matplotlib,scikitlearn  ...  non negative matrix factorisation in python on...\n",
              "3       pandas,tensorflow  ...  avocado equivalent to avocado.dataframe.resamp...\n",
              "4       matplotlib,pandas  ...  how to plot on avocado python i have a data fr...\n",
              "\n",
              "[5 rows x 3 columns]"
            ]
          },
          "metadata": {
            "tags": []
          },
          "execution_count": 6
        }
      ]
    },
    {
      "cell_type": "code",
      "metadata": {
        "colab": {
          "base_uri": "https://localhost:8080/"
        },
        "id": "ZQ_0hQOqdV6a",
        "outputId": "e79db5d9-80f6-4558-9627-563f7af3856f"
      },
      "source": [
        "dataset.shape"
      ],
      "execution_count": 7,
      "outputs": [
        {
          "output_type": "execute_result",
          "data": {
            "text/plain": [
              "(188199, 3)"
            ]
          },
          "metadata": {
            "tags": []
          },
          "execution_count": 7
        }
      ]
    },
    {
      "cell_type": "code",
      "metadata": {
        "colab": {
          "base_uri": "https://localhost:8080/",
          "height": 137
        },
        "id": "_jW5HKfNIpg2",
        "outputId": "5c26c569-d703-460e-9524-d1231320c6ff"
      },
      "source": [
        "real_text = dataset['text'][10]\n",
        "real_text"
      ],
      "execution_count": 8,
      "outputs": [
        {
          "output_type": "execute_result",
          "data": {
            "application/vnd.google.colaboratory.intrinsic+json": {
              "type": "string"
            },
            "text/plain": [
              "'how should i pass a avocado object through a function; as axis, axes or figure? sorry in advance if this is a little long winded but if i cut it down too much the problem is lost. i am trying to make a module on top of avocado and avocado which will give me the ability to make profile plots and profile matrices analogous to scatter_matrix. i am pretty sure my problem comes down to what object i need to return from profile() so that i can handle axes manipulation in profile_matrix(). then the question is what to return form profile_matrix() so i can edit subplots.  my module (profilemodule.py) borrows a lot from https://github.com/pydata/avocado/blob/master/avocado/tools/plotting.py and looks like:  import avocado as avocado from avocado import series, dataframe import numpy as np import avocado.pyplot as avocado  def profile(x,y,nbins,xmin,xmax):     df = dataframe({\\'x\\' : x , \\'y\\' : y})      binedges = xmin + ((xmax-xmin)/nbins) * np.arange(nbins+1)     df[\\'bin\\'] = np.digitize(df[\\'x\\'],binedges)      bincenters = xmin + ((xmax-xmin)/nbins)*np.arange(nbins) + ((xmax-xmin)/(2*nbins))     profileframe = dataframe({\\'bincenters\\' : bincenters, \\'n\\' : df[\\'bin\\'].value_counts(sort=false)},index=range(1,nbins+1))      bins = profileframe.index.values     for bin in bins:         profileframe.ix[bin,\\'ymean\\'] = df.ix[df[\\'bin\\']==bin,\\'y\\'].mean()         profileframe.ix[bin,\\'ystanddev\\'] = df.ix[df[\\'bin\\']==bin,\\'y\\'].std()         profileframe.ix[bin,\\'ymeanerror\\'] = profileframe.ix[bin,\\'ystanddev\\'] / np.sqrt(profileframe.ix[bin,\\'n\\'])      fig = avocado.figure();      ax = profileplot.add_subplot(1, 1, 1)     avocado.errorbar(profileframe[\\'bincenters\\'], profileframe[\\'ymean\\'], yerr=profileframe[\\'ymeanerror\\'], xerr=(xmax-xmin)/(2*nbins), fmt=none)      return ax     #or should i \"return fig\"   def profile_matrix(frame):      import avocado.core.common as com     import avocado.tools.plotting as plots     from avocado.compat import lrange     from avocado.artist import setp      range_padding=0.05       df = frame._get_numeric_data()     n = df.columns.size      fig, axes = plots._subplots(nrows=n, ncols=n, squeeze=false)      # no gaps between subplots     fig.subplots_adjust(wspace=0, hspace=0)      mask = com.notnull(df)      boundaries_list = []     for a in df.columns:         values = df[a].values[mask[a].values]         rmin_, rmax_ = np.min(values), np.max(values)         rdelta_ext = (rmax_ - rmin_) * range_padding / 2.         boundaries_list.append((rmin_ - rdelta_ext, rmax_+ rdelta_ext))      for i, a in zip(lrange(n), df.columns):         for j, b in zip(lrange(n), df.columns):             ax = axes[i, j]             common = (mask[a] &amp; mask[b]).values             nbins = 100             (xmin,xmax) = boundaries_list[i]              ax=profile(df[b][common],df[a][common],nbins,xmin,xmax)             #profile(df[b][common].values,df[a][common].values,nbins,xmin,xmax)              ax.set_xlabel(\\'\\')             ax.set_ylabel(\\'\\')              plots._label_axis(ax, kind=\\'x\\', label=b, position=\\'bottom\\', rotate=true)             plots._label_axis(ax, kind=\\'y\\', label=a, position=\\'left\\')              if j!= 0:                 ax.yaxis.set_visible(false)             if i != n-1:                 ax.xaxis.set_visible(false)      for ax in axes.flat:         setp(ax.get_xticklabels(), fontsize=8)         setp(ax.get_yticklabels(), fontsize=8)      return axes   this will run with something like:  import avocado as avocado from avocado import series, dataframe import numpy as np import avocado.pyplot as avocado  import profilemodule as pm  x = np.random.uniform(0, 100, size=1000) y = x *x  +  50*x*np.random.randn(1000) z = x *y  +  50*y*np.random.randn(1000)  nbins = 25 xmax = 100 xmin = 0  profileplot = pm.profile(x,y,nbins,xmin,xmax) avocado.title(\"look this works!\")  #this does not work as expected frame = dataframe({\\'z\\' : z,\\'x\\' : x , \\'y\\' : y}) profilematrix = pm.profile_matrix(frame) avocado.show()   this would hopefully produce a simple profile plot and a 3x3 profile matrix but it does not. i have tried various different methods to get this to work but i imagine it is not worth explaining them all.  i should mention i am using enthought canopy express on windows 7. sorry for the long post and thanks again for any help with the code. this is my first week using python.'"
            ]
          },
          "metadata": {
            "tags": []
          },
          "execution_count": 8
        }
      ]
    },
    {
      "cell_type": "code",
      "metadata": {
        "colab": {
          "base_uri": "https://localhost:8080/",
          "height": 35
        },
        "id": "aS4kOPooI1qw",
        "outputId": "53b89f08-464a-415e-83dd-39a3259f1293"
      },
      "source": [
        "tags=dataset['extracted_tags'][10]\n",
        "tags"
      ],
      "execution_count": 9,
      "outputs": [
        {
          "output_type": "execute_result",
          "data": {
            "application/vnd.google.colaboratory.intrinsic+json": {
              "type": "string"
            },
            "text/plain": [
              "'matplotlib,pandas'"
            ]
          },
          "metadata": {
            "tags": []
          },
          "execution_count": 9
        }
      ]
    },
    {
      "cell_type": "markdown",
      "metadata": {
        "id": "Cujiud2ZYvjU"
      },
      "source": [
        "### Visualizing the dataset:"
      ]
    },
    {
      "cell_type": "code",
      "metadata": {
        "colab": {
          "base_uri": "https://localhost:8080/"
        },
        "id": "n92JWmXbY5C3",
        "outputId": "4d4702a8-516f-40c5-c012-a66416200561"
      },
      "source": [
        "tag_distribution = dataset['extracted_tags'].value_counts()\n",
        "tag_distribution"
      ],
      "execution_count": 8,
      "outputs": [
        {
          "output_type": "execute_result",
          "data": {
            "text/plain": [
              "pandas                           90890\n",
              "tensorflow                       32445\n",
              "matplotlib                       31751\n",
              "scikitlearn                      11977\n",
              "keras                             8196\n",
              "tensorflow,keras                  6118\n",
              "pandas,matplotlib                 3850\n",
              "pandas,scikitlearn                1397\n",
              "matplotlib,pandas                  556\n",
              "matplotlib,scikitlearn             220\n",
              "scikitlearn,keras                  190\n",
              "pandas,tensorflow                  141\n",
              "tensorflow,scikitlearn             117\n",
              "pandas,keras                        86\n",
              "matplotlib,tensorflow               47\n",
              "tensorflow,scikitlearn,keras        46\n",
              "scikitlearn,tensorflow              33\n",
              "keras,scikitlearn                   30\n",
              "matplotlib,keras                    25\n",
              "pandas,tensorflow,keras             22\n",
              "pandas,matplotlib,scikitlearn       20\n",
              "tensorflow,matplotlib               13\n",
              "pandas,scikitlearn,keras             6\n",
              "matplotlib,tensorflow,keras          6\n",
              "tensorflow,matplotlib,keras          3\n",
              "pandas,tensorflow,scikitlearn        3\n",
              "tensorflow,keras,scikitlearn         3\n",
              "scikitlearn,pandas                   2\n",
              "keras,tensorflow                     2\n",
              "matplotlib,keras,scikitlearn         1\n",
              "pandas,matplotlib,keras              1\n",
              "scikitlearn,tensorflow,keras         1\n",
              "matplotlib,pandas,scikitlearn        1\n",
              "Name: extracted_tags, dtype: int64"
            ]
          },
          "metadata": {
            "tags": []
          },
          "execution_count": 8
        }
      ]
    },
    {
      "cell_type": "code",
      "metadata": {
        "colab": {
          "base_uri": "https://localhost:8080/",
          "height": 419
        },
        "id": "-QzyPFiii2A4",
        "outputId": "e5037baf-cd31-4d03-e9c1-0d0dd7ecd6ed"
      },
      "source": [
        "tag_distribution.plot(kind='bar')"
      ],
      "execution_count": 9,
      "outputs": [
        {
          "output_type": "execute_result",
          "data": {
            "text/plain": [
              "<matplotlib.axes._subplots.AxesSubplot at 0x7ff22a0dc910>"
            ]
          },
          "metadata": {
            "tags": []
          },
          "execution_count": 9
        },
        {
          "output_type": "display_data",
          "data": {
            "image/png": "[encoded data removed]",
            "text/plain": [
              "<Figure size 432x288 with 1 Axes>"
            ]
          },
          "metadata": {
            "tags": [],
            "needs_background": "light"
          }
        }
      ]
    },
    {
      "cell_type": "code",
      "metadata": {
        "colab": {
          "base_uri": "https://localhost:8080/"
        },
        "id": "jVW6bOTgamlK",
        "outputId": "76c3b242-9ce4-49c0-b6e7-416c0df77278"
      },
      "source": [
        "# Checking for duplicate\n",
        "dataset.duplicated().value_counts()\n"
      ],
      "execution_count": 10,
      "outputs": [
        {
          "output_type": "execute_result",
          "data": {
            "text/plain": [
              "False    188199\n",
              "dtype: int64"
            ]
          },
          "metadata": {
            "tags": []
          },
          "execution_count": 10
        }
      ]
    },
    {
      "cell_type": "code",
      "metadata": {
        "id": "r_4Wa_JCdrWz"
      },
      "source": [
        "# We can drop them\n",
        "dataset =  dataset.drop_duplicates()"
      ],
      "execution_count": 11,
      "outputs": []
    },
    {
      "cell_type": "code",
      "metadata": {
        "colab": {
          "base_uri": "https://localhost:8080/"
        },
        "id": "XOcy8Q_oeAP_",
        "outputId": "e65830f3-eacf-4df2-da39-07a8e202fe28"
      },
      "source": [
        "dataset.shape"
      ],
      "execution_count": 12,
      "outputs": [
        {
          "output_type": "execute_result",
          "data": {
            "text/plain": [
              "(188199, 3)"
            ]
          },
          "metadata": {
            "tags": []
          },
          "execution_count": 12
        }
      ]
    },
    {
      "cell_type": "markdown",
      "metadata": {
        "id": "5j99JJ1Ftu0w"
      },
      "source": [
        "We have seen the distribution of the tags are bit scewed. We will convert them to list.\n",
        "Let us explore the ast module"
      ]
    },
    {
      "cell_type": "code",
      "metadata": {
        "colab": {
          "base_uri": "https://localhost:8080/"
        },
        "id": "-jFxnqvMkL9l",
        "outputId": "17201fcd-8306-4b0d-9f4f-b545fbc0c443"
      },
      "source": [
        "type(dataset['extracted_tags'].iloc[1800])"
      ],
      "execution_count": 13,
      "outputs": [
        {
          "output_type": "execute_result",
          "data": {
            "text/plain": [
              "str"
            ]
          },
          "metadata": {
            "tags": []
          },
          "execution_count": 13
        }
      ]
    },
    {
      "cell_type": "code",
      "metadata": {
        "id": "sBqVrbjZo7-7"
      },
      "source": [
        "dataset['extracted_tags']=dataset['extracted_tags'].apply(lambda x : x.split(','))"
      ],
      "execution_count": 14,
      "outputs": []
    },
    {
      "cell_type": "code",
      "metadata": {
        "colab": {
          "base_uri": "https://localhost:8080/"
        },
        "id": "QAZ-MtgO2mDT",
        "outputId": "f362b69e-924d-4c96-af06-6a8d930cd4db"
      },
      "source": [
        "dataset['extracted_tags'].head()"
      ],
      "execution_count": 15,
      "outputs": [
        {
          "output_type": "execute_result",
          "data": {
            "text/plain": [
              "0         [matplotlib, pandas]\n",
              "1         [scikitlearn, keras]\n",
              "2    [matplotlib, scikitlearn]\n",
              "3         [pandas, tensorflow]\n",
              "4         [matplotlib, pandas]\n",
              "Name: extracted_tags, dtype: object"
            ]
          },
          "metadata": {
            "tags": []
          },
          "execution_count": 15
        }
      ]
    },
    {
      "cell_type": "markdown",
      "metadata": {
        "id": "7isRxool3kgV"
      },
      "source": [
        "Now, we have our text feature and we tags. We have the tags in the form of list.\n",
        "There are different ways to convert the tags into bnary values. As we are possing this problem as multilabel classification. That means each class might have more than one labels. We are going to use multilabelbinarizer.\n",
        "For the y, we are going to use multilabelbinarizer.\n",
        "\n",
        "\n",
        "\n",
        "\n"
      ]
    },
    {
      "cell_type": "code",
      "metadata": {
        "colab": {
          "base_uri": "https://localhost:8080/"
        },
        "id": "yGgXGMJX5qN_",
        "outputId": "4c1b1252-8384-435b-bb7d-28dc8ae4402a"
      },
      "source": [
        "from sklearn.preprocessing import MultiLabelBinarizer\n",
        "\n",
        "multilabel = MultiLabelBinarizer()\n",
        "y = multilabel.fit_transform(dataset['extracted_tags'])\n",
        "y"
      ],
      "execution_count": 16,
      "outputs": [
        {
          "output_type": "execute_result",
          "data": {
            "text/plain": [
              "array([[0, 1, 1, 0, 0],\n",
              "       [1, 0, 0, 1, 0],\n",
              "       [0, 1, 0, 1, 0],\n",
              "       ...,\n",
              "       [0, 0, 1, 1, 0],\n",
              "       [0, 0, 1, 1, 0],\n",
              "       [0, 0, 1, 1, 0]])"
            ]
          },
          "metadata": {
            "tags": []
          },
          "execution_count": 16
        }
      ]
    },
    {
      "cell_type": "code",
      "metadata": {
        "colab": {
          "base_uri": "https://localhost:8080/"
        },
        "id": "KupdCnZc6_Nq",
        "outputId": "5055ebb9-7c09-4a9f-da73-9b1faa0da22c"
      },
      "source": [
        "# Printing the classes :\n",
        "multilabel.classes_"
      ],
      "execution_count": 17,
      "outputs": [
        {
          "output_type": "execute_result",
          "data": {
            "text/plain": [
              "array(['keras', 'matplotlib', 'pandas', 'scikitlearn', 'tensorflow'],\n",
              "      dtype=object)"
            ]
          },
          "metadata": {
            "tags": []
          },
          "execution_count": 17
        }
      ]
    },
    {
      "cell_type": "markdown",
      "metadata": {
        "id": "gvLrZhmV7Jpw"
      },
      "source": [
        "This are the five classes we have.\n",
        "\n",
        "['keras', 'matplotlib', 'pandas', 'scikitlearn', 'tensorflow']\n"
      ]
    },
    {
      "cell_type": "code",
      "metadata": {
        "colab": {
          "base_uri": "https://localhost:8080/",
          "height": 417
        },
        "id": "Qi5loHC07cFZ",
        "outputId": "a0bc1560-b93a-4c97-f502-4f883a3eb1a5"
      },
      "source": [
        "# Our y is represented as below:\n",
        "pd.DataFrame(y,columns=multilabel.classes_)"
      ],
      "execution_count": 20,
      "outputs": [
        {
          "output_type": "execute_result",
          "data": {
            "text/html": [
              "<div>\n",
              "<style scoped>\n",
              "    .dataframe tbody tr th:only-of-type {\n",
              "        vertical-align: middle;\n",
              "    }\n",
              "\n",
              "    .dataframe tbody tr th {\n",
              "        vertical-align: top;\n",
              "    }\n",
              "\n",
              "    .dataframe thead th {\n",
              "        text-align: right;\n",
              "    }\n",
              "</style>\n",
              "<table border=\"1\" class=\"dataframe\">\n",
              "  <thead>\n",
              "    <tr style=\"text-align: right;\">\n",
              "      <th></th>\n",
              "      <th>keras</th>\n",
              "      <th>matplotlib</th>\n",
              "      <th>pandas</th>\n",
              "      <th>scikitlearn</th>\n",
              "      <th>tensorflow</th>\n",
              "    </tr>\n",
              "  </thead>\n",
              "  <tbody>\n",
              "    <tr>\n",
              "      <th>0</th>\n",
              "      <td>0</td>\n",
              "      <td>1</td>\n",
              "      <td>1</td>\n",
              "      <td>0</td>\n",
              "      <td>0</td>\n",
              "    </tr>\n",
              "    <tr>\n",
              "      <th>1</th>\n",
              "      <td>1</td>\n",
              "      <td>0</td>\n",
              "      <td>0</td>\n",
              "      <td>1</td>\n",
              "      <td>0</td>\n",
              "    </tr>\n",
              "    <tr>\n",
              "      <th>2</th>\n",
              "      <td>0</td>\n",
              "      <td>1</td>\n",
              "      <td>0</td>\n",
              "      <td>1</td>\n",
              "      <td>0</td>\n",
              "    </tr>\n",
              "    <tr>\n",
              "      <th>3</th>\n",
              "      <td>0</td>\n",
              "      <td>0</td>\n",
              "      <td>1</td>\n",
              "      <td>0</td>\n",
              "      <td>1</td>\n",
              "    </tr>\n",
              "    <tr>\n",
              "      <th>4</th>\n",
              "      <td>0</td>\n",
              "      <td>1</td>\n",
              "      <td>1</td>\n",
              "      <td>0</td>\n",
              "      <td>0</td>\n",
              "    </tr>\n",
              "    <tr>\n",
              "      <th>...</th>\n",
              "      <td>...</td>\n",
              "      <td>...</td>\n",
              "      <td>...</td>\n",
              "      <td>...</td>\n",
              "      <td>...</td>\n",
              "    </tr>\n",
              "    <tr>\n",
              "      <th>188192</th>\n",
              "      <td>0</td>\n",
              "      <td>0</td>\n",
              "      <td>1</td>\n",
              "      <td>1</td>\n",
              "      <td>0</td>\n",
              "    </tr>\n",
              "    <tr>\n",
              "      <th>188193</th>\n",
              "      <td>0</td>\n",
              "      <td>0</td>\n",
              "      <td>1</td>\n",
              "      <td>1</td>\n",
              "      <td>0</td>\n",
              "    </tr>\n",
              "    <tr>\n",
              "      <th>188194</th>\n",
              "      <td>0</td>\n",
              "      <td>0</td>\n",
              "      <td>1</td>\n",
              "      <td>1</td>\n",
              "      <td>0</td>\n",
              "    </tr>\n",
              "    <tr>\n",
              "      <th>188195</th>\n",
              "      <td>0</td>\n",
              "      <td>0</td>\n",
              "      <td>1</td>\n",
              "      <td>1</td>\n",
              "      <td>0</td>\n",
              "    </tr>\n",
              "    <tr>\n",
              "      <th>188196</th>\n",
              "      <td>0</td>\n",
              "      <td>0</td>\n",
              "      <td>1</td>\n",
              "      <td>1</td>\n",
              "      <td>0</td>\n",
              "    </tr>\n",
              "  </tbody>\n",
              "</table>\n",
              "<p>188197 rows × 5 columns</p>\n",
              "</div>"
            ],
            "text/plain": [
              "        keras  matplotlib  pandas  scikitlearn  tensorflow\n",
              "0           0           1       1            0           0\n",
              "1           1           0       0            1           0\n",
              "2           0           1       0            1           0\n",
              "3           0           0       1            0           1\n",
              "4           0           1       1            0           0\n",
              "...       ...         ...     ...          ...         ...\n",
              "188192      0           0       1            1           0\n",
              "188193      0           0       1            1           0\n",
              "188194      0           0       1            1           0\n",
              "188195      0           0       1            1           0\n",
              "188196      0           0       1            1           0\n",
              "\n",
              "[188197 rows x 5 columns]"
            ]
          },
          "metadata": {
            "tags": []
          },
          "execution_count": 20
        }
      ]
    },
    {
      "cell_type": "code",
      "metadata": {
        "id": "ZCl2qEBNggz6"
      },
      "source": [
        "import re\n",
        "def decontracted(text):\n",
        "\n",
        "    text = re.sub(r\"won't\", \"will not\", text)\n",
        "    text = re.sub(r\"can\\'t\", \"can not\", text)\n",
        "    text = re.sub(r\"she's\", \"she is\", text)\n",
        "    text = re.sub(r\"n't\", \"not\", text)\n",
        "    text = re.sub(r\"what's\", \"what is\", text)\n",
        "    text = re.sub(r\"it's\", \"it is\", text)\n",
        "    text = re.sub(r\"'s\", \" own\", text)\n",
        "    text = re.sub(\"%\", \"percent\", text)\n",
        "    text = re.sub(\"₹\", 'rupee', text)\n",
        "    text = re.sub(\"$\", \"dollar\", text)\n",
        "    text = re.sub(\"€\", \"euro\", text)\n",
        "    text = re.sub(\"cannot\", \"can not\", text)\n",
        "    text = re.sub(r\"n\\'t\", \" not\", text)\n",
        "    text = re.sub(r\"\\'re\", \" are\", text)\n",
        "    text = re.sub(r\"\\'s\", \" is\", text)\n",
        "    text = re.sub(r\"\\'d\", \" would\", text)\n",
        "    text = re.sub(r\"\\'ll\", \" will\", text)\n",
        "    text = re.sub(r\"\\'t\", \" not\", text)\n",
        "    text = re.sub(r\"\\'ve\", \" have\", text)\n",
        "    text = re.sub(r\"\\'m\", \" am\", text)\n",
        "    return text"
      ],
      "execution_count": 18,
      "outputs": []
    },
    {
      "cell_type": "code",
      "metadata": {
        "id": "LBU7xUbTgme8"
      },
      "source": [
        "dataset['text'] = dataset['text'].apply(decontracted)"
      ],
      "execution_count": 19,
      "outputs": []
    },
    {
      "cell_type": "code",
      "metadata": {
        "id": "74xb-bUXhsHR"
      },
      "source": [
        "def remove_urls(text):\n",
        "  url_pattern = re.compile(r'https?://\\S+|www\\.\\S+')\n",
        "  return url_pattern.sub(r'', text)"
      ],
      "execution_count": 23,
      "outputs": []
    },
    {
      "cell_type": "code",
      "metadata": {
        "id": "HDr-xp8shzTi"
      },
      "source": [
        "def remove_numbers(text):\n",
        "\n",
        "  res=''.join([i for i in text if not i.isdigit()])\n",
        "\n",
        "  return res\n"
      ],
      "execution_count": 24,
      "outputs": []
    },
    {
      "cell_type": "code",
      "metadata": {
        "id": "1j61zY1hh1qi"
      },
      "source": [
        "def remove_nonwords(text):\n",
        "  pattern = re.compile('\\W')\n",
        "\n",
        "  if type(text)==type(''):\n",
        "    text = re.sub(pattern,' ',text)\n",
        "\n",
        "  return text"
      ],
      "execution_count": 25,
      "outputs": []
    },
    {
      "cell_type": "code",
      "metadata": {
        "id": "J5s0xEe3iE1J"
      },
      "source": [
        "def remove_htmltags(text):\n",
        "\n",
        "  cleantext = re.compile(r'<[^>]+>').sub('',text) # https://www.geeksforgeeks.org/program-to-remove-html-tags-from-a-given-string/\n",
        "  cleantext = BeautifulSoup(text, \"lxml\").text\n",
        "\n",
        "  return cleantext"
      ],
      "execution_count": 26,
      "outputs": []
    },
    {
      "cell_type": "code",
      "metadata": {
        "id": "UbPuuwhMiJ4y"
      },
      "source": [
        "def remove_multiple_space(text):\n",
        "\n",
        "\n",
        "  text = re.sub(' +',' ',text)\n",
        "\n",
        "  return text"
      ],
      "execution_count": 27,
      "outputs": []
    },
    {
      "cell_type": "code",
      "metadata": {
        "id": "fweuQaUkiNJ5"
      },
      "source": [
        "def text_clean(text):\n",
        "  text=str(text).lower()\n",
        "  text = decontracted(text)\n",
        "  text = remove_urls(text)\n",
        "  text = remove_htmltags(text)\n",
        "  text = remove_numbers(text)\n",
        "  text = remove_nonwords(text)\n",
        "  text = remove_multiple_space(text)\n",
        "  #text = remove_stopwords(text)\n",
        "  return text"
      ],
      "execution_count": 28,
      "outputs": []
    },
    {
      "cell_type": "code",
      "metadata": {
        "id": "F-2GPBkuiP1-"
      },
      "source": [
        "from bs4 import BeautifulSoup\n",
        "dataset['text']=dataset['text'].apply(text_clean)"
      ],
      "execution_count": 29,
      "outputs": []
    },
    {
      "cell_type": "code",
      "metadata": {
        "colab": {
          "base_uri": "https://localhost:8080/"
        },
        "id": "xrxKvPnti8F7",
        "outputId": "1c0d37a9-516e-46c5-9920-c6183da79313"
      },
      "source": [
        "random_preprocessed_text = random.choice(dataset['text'])\n",
        "print(random_preprocessed_text)"
      ],
      "execution_count": 33,
      "outputs": [
        {
          "output_type": "stream",
          "text": [
            "avocado multiple input model doesnot work i have bulit a model to distinguish cats from dogs using kaggle own cats_vs_dogs data set i have tried two ways to do it for the first one i used three existing models resnet xception inceptionv to extract features i put the traing data through these models own convolutional base predict and concatenate the results then use them for a standalone densely connected classifier the result is pretty good after five epoches training val_acc became percent then i want to use data augmentation and fine tuing so i extended the those three models by adding layers on top and running he whole thing end to end on the input data the strange thing is the second way got good result in the traing but lousy one in the validation and the val_acc is always a constant i feel very confused how come these two ways have such different results here is my code from avocado models import from avocado layers import from avocado applications import from avocado preprocessing image import res_net_input input name ares_net res_net_base_model resnet input_tensor res_net_input weights imagenet include_top false for layers in res_net_base_model layers layers trainable false xception_input input name xception xception_base_model xception input_tensor xception_input weights imagenet include_top false for layers in xception_base_model layers layers trainable false inception_input input name inception inception_base_model inceptionv input_tensor inception_input weights imagenet include_top false for layers in inception_base_model layers layers trainable false res_result globalaveragepoolingd res_net_base_model output xcp_result globalaveragepoolingd xception_base_model output icp_result globalaveragepoolingd inception_base_model output concatenated concatenate res_result xcp_result icp_result axis x dropout concatenated x dense activation ownigmoid x model model res_net_base_model input xception_base_model input inception_base_model input x model compile optimizer adadelta loss binary_crossentropy metrics accuracy train_imgen imagedatagenerator rescale shear_range zoom_range rotation_range horizontal_flip true validation_imgen imagedatagenerator rescale def generate_generator_multiple generator dir batch_size img_size img_size img_size genx generator flow_from_directory dir target_size img_size img_size class_mode binary batch_size batch_size shuffle false genx generator flow_from_directory dir target_size img_size img_size class_mode binary batch_size batch_size shuffle false seed genx generator flow_from_directory dir target_size img_size img_size class_mode binary batch_size batch_size shuffle false seed while true xi genx next xi genx next xi genx next yield xi xi xi xi tain_generator generate_generator_multiple train_imgen output avocado dog_vs_cat_full train validation_generator generate_generator_multiple validation_imgen output avocado dog_vs_cat_full validation history model fit_generator tain_generator steps_per_epoch epochs validation_data validation_generator validation_steps shuffle false dollardollar\n"
          ],
          "name": "stdout"
        }
      ]
    },
    {
      "cell_type": "markdown",
      "metadata": {
        "id": "SvHrvccCjGef"
      },
      "source": [
        "# Creating the baseline model:\n",
        "\n",
        "In this model, we will use the TFIDF vectoriser and then going to train Logistic regression and linear SVM and random  forest\n",
        "\n"
      ]
    },
    {
      "cell_type": "code",
      "metadata": {
        "colab": {
          "base_uri": "https://localhost:8080/",
          "height": 203
        },
        "id": "U7rnzeBil06I",
        "outputId": "c8ac348c-0348-4f8c-cac0-bc65b4de5c20"
      },
      "source": [
        "dataset.head()"
      ],
      "execution_count": 30,
      "outputs": [
        {
          "output_type": "execute_result",
          "data": {
            "text/html": [
              "<div>\n",
              "<style scoped>\n",
              "    .dataframe tbody tr th:only-of-type {\n",
              "        vertical-align: middle;\n",
              "    }\n",
              "\n",
              "    .dataframe tbody tr th {\n",
              "        vertical-align: top;\n",
              "    }\n",
              "\n",
              "    .dataframe thead th {\n",
              "        text-align: right;\n",
              "    }\n",
              "</style>\n",
              "<table border=\"1\" class=\"dataframe\">\n",
              "  <thead>\n",
              "    <tr style=\"text-align: right;\">\n",
              "      <th></th>\n",
              "      <th>extracted_tags</th>\n",
              "      <th>text</th>\n",
              "    </tr>\n",
              "  </thead>\n",
              "  <tbody>\n",
              "    <tr>\n",
              "      <th>0</th>\n",
              "      <td>[matplotlib, pandas]</td>\n",
              "      <td>setting xticks and yticks for scatter plot mat...</td>\n",
              "    </tr>\n",
              "    <tr>\n",
              "      <th>1</th>\n",
              "      <td>[scikitlearn, keras]</td>\n",
              "      <td>gridseachcv valueerror found input variables w...</td>\n",
              "    </tr>\n",
              "    <tr>\n",
              "      <th>2</th>\n",
              "      <td>[matplotlib, scikitlearn]</td>\n",
              "      <td>non negative matrix factorisation in python on...</td>\n",
              "    </tr>\n",
              "    <tr>\n",
              "      <th>3</th>\n",
              "      <td>[pandas, tensorflow]</td>\n",
              "      <td>avocado equivalent to avocado dataframe resamp...</td>\n",
              "    </tr>\n",
              "    <tr>\n",
              "      <th>4</th>\n",
              "      <td>[matplotlib, pandas]</td>\n",
              "      <td>how to plot on avocado python i have a data fr...</td>\n",
              "    </tr>\n",
              "  </tbody>\n",
              "</table>\n",
              "</div>"
            ],
            "text/plain": [
              "              extracted_tags                                               text\n",
              "0       [matplotlib, pandas]  setting xticks and yticks for scatter plot mat...\n",
              "1       [scikitlearn, keras]  gridseachcv valueerror found input variables w...\n",
              "2  [matplotlib, scikitlearn]  non negative matrix factorisation in python on...\n",
              "3       [pandas, tensorflow]  avocado equivalent to avocado dataframe resamp...\n",
              "4       [matplotlib, pandas]  how to plot on avocado python i have a data fr..."
            ]
          },
          "metadata": {
            "tags": []
          },
          "execution_count": 30
        }
      ]
    },
    {
      "cell_type": "code",
      "metadata": {
        "id": "VHQMKYq7B4tN"
      },
      "source": [
        ""
      ],
      "execution_count": 34,
      "outputs": []
    },
    {
      "cell_type": "code",
      "metadata": {
        "id": "JTy7umY7lpdW"
      },
      "source": [
        "X= dataset.iloc[:,1]"
      ],
      "execution_count": 20,
      "outputs": []
    },
    {
      "cell_type": "code",
      "metadata": {
        "id": "e2-oASmEl9GK"
      },
      "source": [
        "from sklearn.model_selection import train_test_split\n",
        "\n",
        "x_train,x_test,y_train,y_test = train_test_split(X,y,test_size=0.3,random_state=42)"
      ],
      "execution_count": 21,
      "outputs": []
    },
    {
      "cell_type": "code",
      "metadata": {
        "colab": {
          "base_uri": "https://localhost:8080/"
        },
        "id": "QOxzl3jrmuVB",
        "outputId": "bed70a86-15dc-41e7-855c-98749ede8fb6"
      },
      "source": [
        "print(len(x_train))\n",
        "print(len(y_train))\n",
        "print(len(x_test))\n",
        "print(len(y_test))"
      ],
      "execution_count": 22,
      "outputs": [
        {
          "output_type": "stream",
          "text": [
            "131739\n",
            "131739\n",
            "56460\n",
            "56460\n"
          ],
          "name": "stdout"
        }
      ]
    },
    {
      "cell_type": "code",
      "metadata": {
        "id": "lLmHL8cFkqjk"
      },
      "source": [
        "### Text vectorization:\n",
        "from sklearn.feature_extraction.text import TfidfVectorizer"
      ],
      "execution_count": 23,
      "outputs": []
    },
    {
      "cell_type": "code",
      "metadata": {
        "id": "1zU6NTMmlhBe"
      },
      "source": [
        "tfidf = TfidfVectorizer(analyzer='word',max_features=2500,ngram_range=(1,1),stop_words='english',lowercase=True)\n",
        "\n",
        "x_train=tfidf.fit_transform(x_train)\n",
        "\n",
        "\n",
        "\n",
        "\n",
        "\n",
        "\n"
      ],
      "execution_count": 24,
      "outputs": []
    },
    {
      "cell_type": "code",
      "metadata": {
        "id": "9u7m4tplrRgq"
      },
      "source": [
        "x_test = tfidf.transform(x_test)"
      ],
      "execution_count": 25,
      "outputs": []
    },
    {
      "cell_type": "markdown",
      "metadata": {
        "id": "cXUp8gE8rblG"
      },
      "source": [
        "### Understanding the shapes of the x_tran,y_train,x_test,y_test\n"
      ]
    },
    {
      "cell_type": "code",
      "metadata": {
        "colab": {
          "base_uri": "https://localhost:8080/"
        },
        "id": "NmF7iKuKrmnV",
        "outputId": "297e2891-3963-45a0-c705-46a41c9a0822"
      },
      "source": [
        "print(x_train.shape)\n",
        "print(y_train.shape)\n",
        "print(x_test.shape)\n",
        "print(y_test.shape)\n"
      ],
      "execution_count": 37,
      "outputs": [
        {
          "output_type": "stream",
          "text": [
            "(131737, 10000)\n",
            "(131737, 5)\n",
            "(56460, 10000)\n",
            "(56460, 5)\n"
          ],
          "name": "stdout"
        }
      ]
    },
    {
      "cell_type": "markdown",
      "metadata": {
        "id": "CNQLygGssVU0"
      },
      "source": [
        "### Model building:\n",
        "We are going to build 3 models: \n",
        "\n",
        "sgd = SGDclassifier()\n",
        "\n",
        "lr = LogisticRegression()\n",
        "\n",
        "svc = linearSVC()"
      ]
    },
    {
      "cell_type": "code",
      "metadata": {
        "id": "0WQW_m4ssY2h"
      },
      "source": [
        "### Evaluation matrix for multi-label classification \n",
        "\n",
        "def j_score(y_true, y_pred):\n",
        "  jaccard = np.minimum(y_true, y_pred).sum(axis = 1)/np.maximum(y_true, y_pred).sum(axis = 1)\n",
        "  return jaccard.mean()*100\n",
        "\n",
        "\n",
        "def print_score(y_pred, clf):\n",
        "  print(\"Clf: \", clf.__class__.__name__)\n",
        "  print('Jacard score: {}'.format(j_score(y_test, y_pred)))\n",
        "  print('----')"
      ],
      "execution_count": 30,
      "outputs": []
    },
    {
      "cell_type": "code",
      "metadata": {
        "id": "IHnVH_DNuC66"
      },
      "source": [
        "\n",
        "from sklearn.linear_model import SGDClassifier\n",
        "from sklearn.linear_model import LogisticRegression\n",
        "from sklearn.svm import LinearSVC\n",
        "\n",
        "from sklearn.multiclass import OneVsRestClassifier\n",
        "\n"
      ],
      "execution_count": 43,
      "outputs": []
    },
    {
      "cell_type": "code",
      "metadata": {
        "colab": {
          "base_uri": "https://localhost:8080/"
        },
        "id": "cc6tONE2Jw6N",
        "outputId": "b5702013-2c47-4d7f-9ada-440dca738dc0"
      },
      "source": [
        "for classifier in [LinearSVC(C=1.5, penalty = 'l1', dual=False)]:\n",
        "  clf = OneVsRestClassifier(classifier)\n",
        "  clf.fit(x_train, y_train)\n",
        "  y_pred = clf.predict(x_test)\n",
        "  print_score(y_pred, classifier)"
      ],
      "execution_count": 44,
      "outputs": [
        {
          "output_type": "stream",
          "text": [
            "Clf:  LinearSVC\n",
            "Jacard score: 90.95318219388358\n",
            "----\n"
          ],
          "name": "stdout"
        }
      ]
    },
    {
      "cell_type": "code",
      "metadata": {
        "id": "q3xHl-qhuafX"
      },
      "source": [
        "sgd = SGDClassifier()\n",
        "\n",
        "lr = LogisticRegression()\n",
        "\n",
        "svc = LinearSVC()"
      ],
      "execution_count": 45,
      "outputs": []
    },
    {
      "cell_type": "code",
      "metadata": {
        "colab": {
          "base_uri": "https://localhost:8080/"
        },
        "id": "5wo6OxQ8vZTY",
        "outputId": "4b731135-ad2b-468c-c692-434122279725"
      },
      "source": [
        "for classifier in [sgd,lr,svc]:\n",
        "  clf = OneVsRestClassifier(classifier)\n",
        "  clf.fit(x_train,y_train)\n",
        "  y_pred =clf.predict(x_test)\n",
        "  print_score(y_pred,classifier)"
      ],
      "execution_count": 46,
      "outputs": [
        {
          "output_type": "stream",
          "text": [
            "Clf:  SGDClassifier\n",
            "Jacard score: 88.58100129885463\n",
            "----\n"
          ],
          "name": "stdout"
        },
        {
          "output_type": "stream",
          "text": [
            "/usr/local/lib/python3.7/dist-packages/sklearn/linear_model/_logistic.py:940: ConvergenceWarning: lbfgs failed to converge (status=1):\n",
            "STOP: TOTAL NO. of ITERATIONS REACHED LIMIT.\n",
            "\n",
            "Increase the number of iterations (max_iter) or scale the data as shown in:\n",
            "    https://scikit-learn.org/stable/modules/preprocessing.html\n",
            "Please also refer to the documentation for alternative solver options:\n",
            "    https://scikit-learn.org/stable/modules/linear_model.html#logistic-regression\n",
            "  extra_warning_msg=_LOGISTIC_SOLVER_CONVERGENCE_MSG)\n",
            "/usr/local/lib/python3.7/dist-packages/sklearn/linear_model/_logistic.py:940: ConvergenceWarning: lbfgs failed to converge (status=1):\n",
            "STOP: TOTAL NO. of ITERATIONS REACHED LIMIT.\n",
            "\n",
            "Increase the number of iterations (max_iter) or scale the data as shown in:\n",
            "    https://scikit-learn.org/stable/modules/preprocessing.html\n",
            "Please also refer to the documentation for alternative solver options:\n",
            "    https://scikit-learn.org/stable/modules/linear_model.html#logistic-regression\n",
            "  extra_warning_msg=_LOGISTIC_SOLVER_CONVERGENCE_MSG)\n",
            "/usr/local/lib/python3.7/dist-packages/sklearn/linear_model/_logistic.py:940: ConvergenceWarning: lbfgs failed to converge (status=1):\n",
            "STOP: TOTAL NO. of ITERATIONS REACHED LIMIT.\n",
            "\n",
            "Increase the number of iterations (max_iter) or scale the data as shown in:\n",
            "    https://scikit-learn.org/stable/modules/preprocessing.html\n",
            "Please also refer to the documentation for alternative solver options:\n",
            "    https://scikit-learn.org/stable/modules/linear_model.html#logistic-regression\n",
            "  extra_warning_msg=_LOGISTIC_SOLVER_CONVERGENCE_MSG)\n"
          ],
          "name": "stderr"
        },
        {
          "output_type": "stream",
          "text": [
            "Clf:  LogisticRegression\n",
            "Jacard score: 90.11719211240997\n",
            "----\n",
            "Clf:  LinearSVC\n",
            "Jacard score: 90.94019364742\n",
            "----\n"
          ],
          "name": "stdout"
        }
      ]
    },
    {
      "cell_type": "markdown",
      "metadata": {
        "id": "fzwPH5aByHGy"
      },
      "source": [
        "# Model testing in real data:"
      ]
    },
    {
      "cell_type": "code",
      "metadata": {
        "colab": {
          "base_uri": "https://localhost:8080/",
          "height": 137
        },
        "id": "QoPWIHVbD5HL",
        "outputId": "2b8377cb-d782-468b-c4e6-5fe2a97b1834"
      },
      "source": [
        "random_preprocessed_text"
      ],
      "execution_count": 47,
      "outputs": [
        {
          "output_type": "execute_result",
          "data": {
            "application/vnd.google.colaboratory.intrinsic+json": {
              "type": "string"
            },
            "text/plain": [
              "'avocado multiple input model doesnot work i have bulit a model to distinguish cats from dogs using kaggle own cats_vs_dogs data set i have tried two ways to do it for the first one i used three existing models resnet xception inceptionv to extract features i put the traing data through these models own convolutional base predict and concatenate the results then use them for a standalone densely connected classifier the result is pretty good after five epoches training val_acc became percent then i want to use data augmentation and fine tuing so i extended the those three models by adding layers on top and running he whole thing end to end on the input data the strange thing is the second way got good result in the traing but lousy one in the validation and the val_acc is always a constant i feel very confused how come these two ways have such different results here is my code from avocado models import from avocado layers import from avocado applications import from avocado preprocessing image import res_net_input input name ares_net res_net_base_model resnet input_tensor res_net_input weights imagenet include_top false for layers in res_net_base_model layers layers trainable false xception_input input name xception xception_base_model xception input_tensor xception_input weights imagenet include_top false for layers in xception_base_model layers layers trainable false inception_input input name inception inception_base_model inceptionv input_tensor inception_input weights imagenet include_top false for layers in inception_base_model layers layers trainable false res_result globalaveragepoolingd res_net_base_model output xcp_result globalaveragepoolingd xception_base_model output icp_result globalaveragepoolingd inception_base_model output concatenated concatenate res_result xcp_result icp_result axis x dropout concatenated x dense activation ownigmoid x model model res_net_base_model input xception_base_model input inception_base_model input x model compile optimizer adadelta loss binary_crossentropy metrics accuracy train_imgen imagedatagenerator rescale shear_range zoom_range rotation_range horizontal_flip true validation_imgen imagedatagenerator rescale def generate_generator_multiple generator dir batch_size img_size img_size img_size genx generator flow_from_directory dir target_size img_size img_size class_mode binary batch_size batch_size shuffle false genx generator flow_from_directory dir target_size img_size img_size class_mode binary batch_size batch_size shuffle false seed genx generator flow_from_directory dir target_size img_size img_size class_mode binary batch_size batch_size shuffle false seed while true xi genx next xi genx next xi genx next yield xi xi xi xi tain_generator generate_generator_multiple train_imgen output avocado dog_vs_cat_full train validation_generator generate_generator_multiple validation_imgen output avocado dog_vs_cat_full validation history model fit_generator tain_generator steps_per_epoch epochs validation_data validation_generator validation_steps shuffle false dollardollar'"
            ]
          },
          "metadata": {
            "tags": []
          },
          "execution_count": 47
        }
      ]
    },
    {
      "cell_type": "code",
      "metadata": {
        "id": "_HNQVqf0yPyA"
      },
      "source": [
        "x = ['how should i pass a avocado object through a function as axis axes or figure sorry in advance if this is a little long winded but if i cut it down too much the problem is lost i am trying to make a module on top of avocado and avocado which will give me the ability to make profile plots and profile matrices analogous to scatter_matrix i am pretty sure my problem comes down to what object i need to return from profile so that i can handle axes manipulation in profile_matrix then the question is what to return form profile_matrix so i can edit subplots my module profilemodule py borrows a lot from and looks like import avocado as avocado from avocado import series dataframe import numpy as np import avocado pyplot as avocado def profile x y nbins xmin xmax df dataframe x x y y binedges xmin xmax xmin nbins np arange nbins df bin np digitize df x binedges bincenters xmin xmax xmin nbins np arange nbins xmax xmin nbins profileframe dataframe bincenters bincenters n df bin value_counts sort false index range nbins bins profileframe index values for bin in bins profileframe ix bin ymean df ix df bin bin y mean profileframe ix bin ystanddev df ix df bin bin y std profileframe ix bin ymeanerror profileframe ix bin ystanddev np sqrt profileframe ix bin n fig avocado figure ax profileplot add_subplot avocado errorbar profileframe bincenters profileframe ymean yerr profileframe ymeanerror xerr xmax xmin nbins fmt none return ax or should i return fig def profile_matrix frame import avocado core common as com import avocado tools plotting as plots from avocado compat import lrange from avocado artist import setp range_padding df frame _get_numeric_data n df columns size fig axes plots _subplots nrows n ncols n squeeze false no gaps between subplots fig subplots_adjust wspace hspace mask com notnull df boundaries_list for a in df columns values df a values mask a values rmin_ rmax_ np min values np max values rdelta_ext rmax_ rmin_ range_padding boundaries_list append rmin_ rdelta_ext rmax_ rdelta_ext for i a in zip lrange n df columns for j b in zip lrange n df columns ax axes i j common mask a mask b values nbins xmin xmax boundaries_list i ax profile df b common df a common nbins xmin xmax profile df b common values df a common values nbins xmin xmax ax set_xlabel ax set_ylabel plots _label_axis ax kind x label b position bottom rotate true plots _label_axis ax kind y label a position left if j ax yaxis set_visible false if i n ax xaxis set_visible false for ax in axes flat setp ax get_xticklabels fontsize setp ax get_yticklabels fontsize return axes this will run with something like import avocado as avocado from avocado import series dataframe import numpy as np import avocado pyplot as avocado import profilemodule as pm x np random uniform size y x x x np random randn z x y y np random randn nbins xmax xmin profileplot pm profile x y nbins xmin xmax avocado title look this works this does not work as expected frame dataframe z z x x y y profilematrix pm profile_matrix frame avocado show this would hopefully produce a simple profile plot and a x profile matrix but it does not i have tried various different methods to get this to work but i imagine it is not worth explaining them all i should mention i am using enthought canopy express on windows sorry for the long post and thanks again for any help with the code this is my first week using python dollardollardollar']"
      ],
      "execution_count": 48,
      "outputs": []
    },
    {
      "cell_type": "code",
      "metadata": {
        "id": "DpJQJVvbAu_p"
      },
      "source": [
        "xt=tfidf.transform([random_preprocessed_text])\n"
      ],
      "execution_count": 49,
      "outputs": []
    },
    {
      "cell_type": "code",
      "metadata": {
        "colab": {
          "base_uri": "https://localhost:8080/"
        },
        "id": "AxSTDfHcyjqB",
        "outputId": "d23b0ce3-fe2c-4f34-b021-ac0554606865"
      },
      "source": [
        "clf.predict(xt)"
      ],
      "execution_count": 50,
      "outputs": [
        {
          "output_type": "execute_result",
          "data": {
            "text/plain": [
              "array([[1, 0, 0, 0, 0]])"
            ]
          },
          "metadata": {
            "tags": []
          },
          "execution_count": 50
        }
      ]
    },
    {
      "cell_type": "code",
      "metadata": {
        "colab": {
          "base_uri": "https://localhost:8080/"
        },
        "id": "I9ks9Lmhyrp4",
        "outputId": "ea5468d4-70aa-4e7f-e7a7-e631cf2bc1ae"
      },
      "source": [
        "multilabel.inverse_transform(clf.predict(xt))"
      ],
      "execution_count": 51,
      "outputs": [
        {
          "output_type": "execute_result",
          "data": {
            "text/plain": [
              "[('keras',)]"
            ]
          },
          "metadata": {
            "tags": []
          },
          "execution_count": 51
        }
      ]
    },
    {
      "cell_type": "markdown",
      "metadata": {
        "id": "F0DWbgdALjHM"
      },
      "source": [
        "The model testing is not working as expected."
      ]
    },
    {
      "cell_type": "markdown",
      "metadata": {
        "id": "OUwRgkJVOde-"
      },
      "source": [
        "# Multilabel classifier can be trained in the following ways:\n",
        "\n",
        "1. Problem transformation\n",
        "2. Adapted algorithims \n",
        "3. Ensembles approaches \n"
      ]
    },
    {
      "cell_type": "markdown",
      "metadata": {
        "id": "7vzedM2_PcAH"
      },
      "source": [
        "###Problem Transformation:\n",
        "\n",
        "We will try problem transformation using \n",
        "1. Binary Revelance\n",
        "2. Classifier chain "
      ]
    },
    {
      "cell_type": "code",
      "metadata": {
        "colab": {
          "base_uri": "https://localhost:8080/"
        },
        "id": "30m19aVqRFTV",
        "outputId": "f6d32397-b2b2-46bf-fe33-1e7b981b7b72"
      },
      "source": [
        "pip install scikit-multilearn"
      ],
      "execution_count": 26,
      "outputs": [
        {
          "output_type": "stream",
          "text": [
            "Requirement already satisfied: scikit-multilearn in /usr/local/lib/python3.7/dist-packages (0.2.0)\n"
          ],
          "name": "stdout"
        }
      ]
    },
    {
      "cell_type": "code",
      "metadata": {
        "id": "vineGjr8PtWX"
      },
      "source": [
        "from skmultilearn.problem_transform import BinaryRelevance\n",
        "from sklearn.linear_model import LogisticRegression\n",
        "\n",
        "classifier=BinaryRelevance(LogisticRegression())\n",
        "classifier.fit(x_train,y_train)\n",
        "y_pred=classifier.predict(x_test)"
      ],
      "execution_count": 55,
      "outputs": []
    },
    {
      "cell_type": "code",
      "metadata": {
        "id": "m_tWoPI6l6wn"
      },
      "source": [
        " from sklearn.metrics import f1_score\n",
        "\n",
        " score_Macro = f1_score(y_true=y_test,y_pred=y_pred, average='macro')\n",
        " score_Micro = f1_score(y_true=y_test,y_pred=y_pred,average='micro')\n",
        " "
      ],
      "execution_count": 57,
      "outputs": []
    },
    {
      "cell_type": "code",
      "metadata": {
        "colab": {
          "base_uri": "https://localhost:8080/"
        },
        "id": "mPdRAHDZmp1V",
        "outputId": "a082faf7-6a82-436c-823e-a2111df8e1ae"
      },
      "source": [
        "print(score_Macro)\n",
        "print(score_Micro)"
      ],
      "execution_count": 58,
      "outputs": [
        {
          "output_type": "stream",
          "text": [
            "0.9996256010695692\n",
            "0.9997517378351539\n"
          ],
          "name": "stdout"
        }
      ]
    }
  ]
}