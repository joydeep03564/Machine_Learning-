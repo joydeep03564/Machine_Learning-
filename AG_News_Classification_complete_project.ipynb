{
  "nbformat": 4,
  "nbformat_minor": 0,
  "metadata": {
    "accelerator": "GPU",
    "colab": {
      "name": "AG_News_Classification_complete_project.ipynb",
      "provenance": [],
      "include_colab_link": true
    },
    "kernelspec": {
      "display_name": "Python 3",
      "name": "python3"
    },
    "language_info": {
      "name": "python"
    }
  },
  "cells": [
    {
      "cell_type": "markdown",
      "metadata": {
        "id": "view-in-github",
        "colab_type": "text"
      },
      "source": [
        "<a href=\"https://colab.research.google.com/github/joydeep03564/Machine_Learning-/blob/master/AG_News_Classification_complete_project.ipynb\" target=\"_parent\"><img src=\"https://colab.research.google.com/assets/colab-badge.svg\" alt=\"Open In Colab\"/></a>"
      ]
    },
    {
      "cell_type": "code",
      "metadata": {
        "id": "hHpYr9VEOtYO",
        "colab": {
          "base_uri": "https://localhost:8080/"
        },
        "outputId": "597f835b-a6c0-42eb-efb0-ce81cf9eb363"
      },
      "source": [
        "\n",
        "# Mounting the gdrive in colab\n",
        "from google.colab import drive \n",
        "drive.mount('/content/drive')\n",
        "# drive.mount('/content/data')"
      ],
      "execution_count": null,
      "outputs": [
        {
          "output_type": "stream",
          "text": [
            "Mounted at /content/drive\n"
          ],
          "name": "stdout"
        }
      ]
    },
    {
      "cell_type": "markdown",
      "metadata": {
        "id": "ImELcQPLQX1s"
      },
      "source": [
        "# Introduction  about the dataset:\n",
        "The Dataset:AG is a collection of more than 1 million news articles. News articles have been gathered from more than 2000 news sources by ComeToMyHead in more than 1 year of activity. ComeToMyHead is an academic news search engine which has been running since July, 2004. The dataset is provided by the academic comunity for research purposes in data mining (clustering, classification, etc), information retrieval (ranking, search, etc), xml, data compression, data streaming, and any other non-commercial activity. For more information, please refer to the link http://www.di.unipi.it/~gulli/AG_corpus_of_news_articles.html .\n",
        "\n",
        "The AG's news topic classification dataset is constructed by Xiang Zhang (xiang.zhang@nyu.edu) from the dataset above. It is used as a text classification benchmark in the following paper: Xiang Zhang, Junbo Zhao, Yann LeCun. Character-level Convolutional Networks for Text Classification. Advances in Neural Information Processing Systems 28 (NIPS 2015).\n",
        "\n",
        "Download_Source:https://www.kaggle.com/amananandrai/ag-news-classification-dataset\n",
        "\n",
        "Description: DESCRIPTION The AG's news topic classification dataset is constructed by choosing 4 largest classes from the original corpus. Each class contains 30,000 training samples and 1,900 testing samples. The total number of training samples is 120,000 and testing 7,600. The file classes.txt contains a list of classes corresponding to each label. The files train.csv and test.csv contain all the training samples as comma-sparated values. There are 3 columns in them, corresponding to class index (1 to 4), title and description. The title and description are escaped using double quotes (\"), and any internal double quote is escaped by 2 double quotes (\"\"). New lines are escaped by a backslash followed with an \"n\" character, that is \"\\n\"."
      ]
    },
    {
      "cell_type": "code",
      "metadata": {
        "id": "0Rv5YT07QlpP"
      },
      "source": [
        "#importing the libraries \n",
        "import pandas as pd\n",
        "import numpy as np\n",
        "import matplotlib.pyplot as plt\n"
      ],
      "execution_count": null,
      "outputs": []
    },
    {
      "cell_type": "code",
      "metadata": {
        "id": "UjVeWcVpXeWO"
      },
      "source": [
        "# Loading the dataset using pandas data frame\n",
        "\n",
        "training_data=pd.read_csv('/content/drive/MyDrive/NLP/Document_classification_project_BBC_Data/AG_Dataset/train.csv')"
      ],
      "execution_count": null,
      "outputs": []
    },
    {
      "cell_type": "code",
      "metadata": {
        "id": "S1QnCVfhYykG",
        "colab": {
          "base_uri": "https://localhost:8080/",
          "height": 203
        },
        "outputId": "4f47b4ed-7bfc-481b-e066-0db02894e45f"
      },
      "source": [
        "training_data.head()"
      ],
      "execution_count": null,
      "outputs": [
        {
          "output_type": "execute_result",
          "data": {
            "text/html": [
              "<div>\n",
              "<style scoped>\n",
              "    .dataframe tbody tr th:only-of-type {\n",
              "        vertical-align: middle;\n",
              "    }\n",
              "\n",
              "    .dataframe tbody tr th {\n",
              "        vertical-align: top;\n",
              "    }\n",
              "\n",
              "    .dataframe thead th {\n",
              "        text-align: right;\n",
              "    }\n",
              "</style>\n",
              "<table border=\"1\" class=\"dataframe\">\n",
              "  <thead>\n",
              "    <tr style=\"text-align: right;\">\n",
              "      <th></th>\n",
              "      <th>Class Index</th>\n",
              "      <th>Title</th>\n",
              "      <th>Description</th>\n",
              "    </tr>\n",
              "  </thead>\n",
              "  <tbody>\n",
              "    <tr>\n",
              "      <th>0</th>\n",
              "      <td>3</td>\n",
              "      <td>Wall St. Bears Claw Back Into the Black (Reuters)</td>\n",
              "      <td>Reuters - Short-sellers, Wall Street's dwindli...</td>\n",
              "    </tr>\n",
              "    <tr>\n",
              "      <th>1</th>\n",
              "      <td>3</td>\n",
              "      <td>Carlyle Looks Toward Commercial Aerospace (Reu...</td>\n",
              "      <td>Reuters - Private investment firm Carlyle Grou...</td>\n",
              "    </tr>\n",
              "    <tr>\n",
              "      <th>2</th>\n",
              "      <td>3</td>\n",
              "      <td>Oil and Economy Cloud Stocks' Outlook (Reuters)</td>\n",
              "      <td>Reuters - Soaring crude prices plus worries\\ab...</td>\n",
              "    </tr>\n",
              "    <tr>\n",
              "      <th>3</th>\n",
              "      <td>3</td>\n",
              "      <td>Iraq Halts Oil Exports from Main Southern Pipe...</td>\n",
              "      <td>Reuters - Authorities have halted oil export\\f...</td>\n",
              "    </tr>\n",
              "    <tr>\n",
              "      <th>4</th>\n",
              "      <td>3</td>\n",
              "      <td>Oil prices soar to all-time record, posing new...</td>\n",
              "      <td>AFP - Tearaway world oil prices, toppling reco...</td>\n",
              "    </tr>\n",
              "  </tbody>\n",
              "</table>\n",
              "</div>"
            ],
            "text/plain": [
              "   Class Index  ...                                        Description\n",
              "0            3  ...  Reuters - Short-sellers, Wall Street's dwindli...\n",
              "1            3  ...  Reuters - Private investment firm Carlyle Grou...\n",
              "2            3  ...  Reuters - Soaring crude prices plus worries\\ab...\n",
              "3            3  ...  Reuters - Authorities have halted oil export\\f...\n",
              "4            3  ...  AFP - Tearaway world oil prices, toppling reco...\n",
              "\n",
              "[5 rows x 3 columns]"
            ]
          },
          "metadata": {
            "tags": []
          },
          "execution_count": 4
        }
      ]
    },
    {
      "cell_type": "markdown",
      "metadata": {
        "id": "d8jdzNePZDrA"
      },
      "source": [
        "## Understanding the dataset: \n",
        "There are 2 features named title and description. The class index is the label."
      ]
    },
    {
      "cell_type": "code",
      "metadata": {
        "id": "z3T7ZbEZaHc_",
        "colab": {
          "base_uri": "https://localhost:8080/"
        },
        "outputId": "9dcbb22a-4185-430e-cc7c-6078f864cf6d"
      },
      "source": [
        "\n",
        "# Finding  how many distinct class it has \n",
        "training_data['Class Index'].value_counts()"
      ],
      "execution_count": null,
      "outputs": [
        {
          "output_type": "execute_result",
          "data": {
            "text/plain": [
              "4    30000\n",
              "3    30000\n",
              "2    30000\n",
              "1    30000\n",
              "Name: Class Index, dtype: int64"
            ]
          },
          "metadata": {
            "tags": []
          },
          "execution_count": 5
        }
      ]
    },
    {
      "cell_type": "markdown",
      "metadata": {
        "id": "XQ6bvGA3bE8j"
      },
      "source": [
        "\n",
        "It is a multiclass classification problem and and we have four distincts classes. In the next cell, we are going to change the name of the colums to class_variable for our own advantage. We will also convert the distinct class values in the range of 0 to 3. This step will help us in the later section. Some time when we try to encode the labels(1,2,3,4,) in tensorflow it creates 5 dimention instead of 4 dimention. In order to avoid that, we can convert the labels 1->0,2->1,3->2,4->3"
      ]
    },
    {
      "cell_type": "code",
      "metadata": {
        "id": "BDo-mNDCZ6Be"
      },
      "source": [
        "training_data.rename(columns= {'Class Index':'Class_variable'},inplace=True)"
      ],
      "execution_count": null,
      "outputs": []
    },
    {
      "cell_type": "code",
      "metadata": {
        "id": "xDgubwIrh93Q",
        "colab": {
          "base_uri": "https://localhost:8080/",
          "height": 203
        },
        "outputId": "b402766e-4a3c-4964-f7de-c1487d624475"
      },
      "source": [
        "training_data.head()"
      ],
      "execution_count": null,
      "outputs": [
        {
          "output_type": "execute_result",
          "data": {
            "text/html": [
              "<div>\n",
              "<style scoped>\n",
              "    .dataframe tbody tr th:only-of-type {\n",
              "        vertical-align: middle;\n",
              "    }\n",
              "\n",
              "    .dataframe tbody tr th {\n",
              "        vertical-align: top;\n",
              "    }\n",
              "\n",
              "    .dataframe thead th {\n",
              "        text-align: right;\n",
              "    }\n",
              "</style>\n",
              "<table border=\"1\" class=\"dataframe\">\n",
              "  <thead>\n",
              "    <tr style=\"text-align: right;\">\n",
              "      <th></th>\n",
              "      <th>Class_variable</th>\n",
              "      <th>Title</th>\n",
              "      <th>Description</th>\n",
              "    </tr>\n",
              "  </thead>\n",
              "  <tbody>\n",
              "    <tr>\n",
              "      <th>0</th>\n",
              "      <td>3</td>\n",
              "      <td>Wall St. Bears Claw Back Into the Black (Reuters)</td>\n",
              "      <td>Reuters - Short-sellers, Wall Street's dwindli...</td>\n",
              "    </tr>\n",
              "    <tr>\n",
              "      <th>1</th>\n",
              "      <td>3</td>\n",
              "      <td>Carlyle Looks Toward Commercial Aerospace (Reu...</td>\n",
              "      <td>Reuters - Private investment firm Carlyle Grou...</td>\n",
              "    </tr>\n",
              "    <tr>\n",
              "      <th>2</th>\n",
              "      <td>3</td>\n",
              "      <td>Oil and Economy Cloud Stocks' Outlook (Reuters)</td>\n",
              "      <td>Reuters - Soaring crude prices plus worries\\ab...</td>\n",
              "    </tr>\n",
              "    <tr>\n",
              "      <th>3</th>\n",
              "      <td>3</td>\n",
              "      <td>Iraq Halts Oil Exports from Main Southern Pipe...</td>\n",
              "      <td>Reuters - Authorities have halted oil export\\f...</td>\n",
              "    </tr>\n",
              "    <tr>\n",
              "      <th>4</th>\n",
              "      <td>3</td>\n",
              "      <td>Oil prices soar to all-time record, posing new...</td>\n",
              "      <td>AFP - Tearaway world oil prices, toppling reco...</td>\n",
              "    </tr>\n",
              "  </tbody>\n",
              "</table>\n",
              "</div>"
            ],
            "text/plain": [
              "   Class_variable  ...                                        Description\n",
              "0               3  ...  Reuters - Short-sellers, Wall Street's dwindli...\n",
              "1               3  ...  Reuters - Private investment firm Carlyle Grou...\n",
              "2               3  ...  Reuters - Soaring crude prices plus worries\\ab...\n",
              "3               3  ...  Reuters - Authorities have halted oil export\\f...\n",
              "4               3  ...  AFP - Tearaway world oil prices, toppling reco...\n",
              "\n",
              "[5 rows x 3 columns]"
            ]
          },
          "metadata": {
            "tags": []
          },
          "execution_count": 7
        }
      ]
    },
    {
      "cell_type": "code",
      "metadata": {
        "id": "-lFb5p8ciEva"
      },
      "source": [
        "# Helper function to replace 1 by 0,2 by 1,3 by 2,4 by 3\n",
        "def replace_classvariable(a):\n",
        "\n",
        "   if a==1:\n",
        "\n",
        "     a=0\n",
        "     return a\n",
        "   elif  a==2:\n",
        "     a=1\n",
        "     return a\n",
        "   elif a==3:\n",
        "     a=2\n",
        "     return a\n",
        "   elif a==4:\n",
        "     a=3\n",
        "     return a\n",
        "    \n",
        "#replace_classvariable(1)\n",
        "\n",
        "\n",
        "\n"
      ],
      "execution_count": null,
      "outputs": []
    },
    {
      "cell_type": "code",
      "metadata": {
        "id": "50Ce0lec4QMM"
      },
      "source": [
        "# Apply the helper function to the Class_variable series using map  function\n",
        "training_data['Class_variable']=training_data['Class_variable'].map(replace_classvariable)"
      ],
      "execution_count": null,
      "outputs": []
    },
    {
      "cell_type": "code",
      "metadata": {
        "id": "tNJbr7Qc47Mi",
        "colab": {
          "base_uri": "https://localhost:8080/",
          "height": 203
        },
        "outputId": "17d71953-2139-4db4-a927-dcfe3b213548"
      },
      "source": [
        "# viewing the dataset\n",
        "training_data.head()"
      ],
      "execution_count": null,
      "outputs": [
        {
          "output_type": "execute_result",
          "data": {
            "text/html": [
              "<div>\n",
              "<style scoped>\n",
              "    .dataframe tbody tr th:only-of-type {\n",
              "        vertical-align: middle;\n",
              "    }\n",
              "\n",
              "    .dataframe tbody tr th {\n",
              "        vertical-align: top;\n",
              "    }\n",
              "\n",
              "    .dataframe thead th {\n",
              "        text-align: right;\n",
              "    }\n",
              "</style>\n",
              "<table border=\"1\" class=\"dataframe\">\n",
              "  <thead>\n",
              "    <tr style=\"text-align: right;\">\n",
              "      <th></th>\n",
              "      <th>Class_variable</th>\n",
              "      <th>Title</th>\n",
              "      <th>Description</th>\n",
              "    </tr>\n",
              "  </thead>\n",
              "  <tbody>\n",
              "    <tr>\n",
              "      <th>0</th>\n",
              "      <td>2</td>\n",
              "      <td>Wall St. Bears Claw Back Into the Black (Reuters)</td>\n",
              "      <td>Reuters - Short-sellers, Wall Street's dwindli...</td>\n",
              "    </tr>\n",
              "    <tr>\n",
              "      <th>1</th>\n",
              "      <td>2</td>\n",
              "      <td>Carlyle Looks Toward Commercial Aerospace (Reu...</td>\n",
              "      <td>Reuters - Private investment firm Carlyle Grou...</td>\n",
              "    </tr>\n",
              "    <tr>\n",
              "      <th>2</th>\n",
              "      <td>2</td>\n",
              "      <td>Oil and Economy Cloud Stocks' Outlook (Reuters)</td>\n",
              "      <td>Reuters - Soaring crude prices plus worries\\ab...</td>\n",
              "    </tr>\n",
              "    <tr>\n",
              "      <th>3</th>\n",
              "      <td>2</td>\n",
              "      <td>Iraq Halts Oil Exports from Main Southern Pipe...</td>\n",
              "      <td>Reuters - Authorities have halted oil export\\f...</td>\n",
              "    </tr>\n",
              "    <tr>\n",
              "      <th>4</th>\n",
              "      <td>2</td>\n",
              "      <td>Oil prices soar to all-time record, posing new...</td>\n",
              "      <td>AFP - Tearaway world oil prices, toppling reco...</td>\n",
              "    </tr>\n",
              "  </tbody>\n",
              "</table>\n",
              "</div>"
            ],
            "text/plain": [
              "   Class_variable  ...                                        Description\n",
              "0               2  ...  Reuters - Short-sellers, Wall Street's dwindli...\n",
              "1               2  ...  Reuters - Private investment firm Carlyle Grou...\n",
              "2               2  ...  Reuters - Soaring crude prices plus worries\\ab...\n",
              "3               2  ...  Reuters - Authorities have halted oil export\\f...\n",
              "4               2  ...  AFP - Tearaway world oil prices, toppling reco...\n",
              "\n",
              "[5 rows x 3 columns]"
            ]
          },
          "metadata": {
            "tags": []
          },
          "execution_count": 10
        }
      ]
    },
    {
      "cell_type": "code",
      "metadata": {
        "id": "rvLOiegY5oTd",
        "colab": {
          "base_uri": "https://localhost:8080/"
        },
        "outputId": "26b41070-9a63-4779-e6a4-3852486563e2"
      },
      "source": [
        "# Checking the  class varaible \n",
        "training_data['Class_variable'].value_counts()"
      ],
      "execution_count": null,
      "outputs": [
        {
          "output_type": "execute_result",
          "data": {
            "text/plain": [
              "3    30000\n",
              "2    30000\n",
              "1    30000\n",
              "0    30000\n",
              "Name: Class_variable, dtype: int64"
            ]
          },
          "metadata": {
            "tags": []
          },
          "execution_count": 11
        }
      ]
    },
    {
      "cell_type": "markdown",
      "metadata": {
        "id": "_nRP0NGB6tGr"
      },
      "source": [
        "We check few other parameters of the dataset.\n",
        "1. Checking for missing valus \n",
        "2. Checking for duplicates "
      ]
    },
    {
      "cell_type": "code",
      "metadata": {
        "id": "Nq1JJ2Nz7pX3",
        "colab": {
          "base_uri": "https://localhost:8080/"
        },
        "outputId": "d888cd46-01a7-4117-9980-12ce2a2b8710"
      },
      "source": [
        "training_data.isnull().sum()"
      ],
      "execution_count": null,
      "outputs": [
        {
          "output_type": "execute_result",
          "data": {
            "text/plain": [
              "Class_variable    0\n",
              "Title             0\n",
              "Description       0\n",
              "dtype: int64"
            ]
          },
          "metadata": {
            "tags": []
          },
          "execution_count": 12
        }
      ]
    },
    {
      "cell_type": "code",
      "metadata": {
        "id": "gjDerdN-8QLA",
        "colab": {
          "base_uri": "https://localhost:8080/"
        },
        "outputId": "06911d35-10cb-470a-8b4b-a1f75aa507f1"
      },
      "source": [
        "training_data.duplicated().sum()"
      ],
      "execution_count": null,
      "outputs": [
        {
          "output_type": "execute_result",
          "data": {
            "text/plain": [
              "0"
            ]
          },
          "metadata": {
            "tags": []
          },
          "execution_count": 13
        }
      ]
    },
    {
      "cell_type": "markdown",
      "metadata": {
        "id": "dj185fYkXzo2"
      },
      "source": [
        "# Outline of base line model with TF-IDF features:\n",
        "In this section, we will create TF-idf based feature extraction on the text data.\n",
        "In one of the earlier experiments, we have seen that combining both the features yeild much better result than individual features. Hence we are going to merge the feature set into one. \n",
        "Below are the steps we will follow:\n",
        "\n",
        "1. We will create a  text feature  combning both the title  and description features.\n",
        "2. We will perform the text cleaning like lowering case text, removing punctuations,removing html tags,removing stop words, removing numeric numbers from  text,removing single charecter words, expanding the contracted words and lemmatization\n",
        "3. We will convert the text features into tfidf features.\n",
        "4. On the TFIDF features, we will build our base line models like NB,LR and Ramdom Forest."
      ]
    },
    {
      "cell_type": "markdown",
      "metadata": {
        "id": "C2FePh-S49An"
      },
      "source": [
        "## Feature engineering \n",
        "We have build seperate models on each of the features i.e [Title, Description] \n",
        "and found combining both the features yeild much higher accuracy. Hence, we are going ahead with combine features. We are concating the Title and Description as Title_desc_combined as our final feature. "
      ]
    },
    {
      "cell_type": "code",
      "metadata": {
        "id": "PC0prAK7duNG"
      },
      "source": [
        "# Create a new feature-combinnng the text and descrption feature\n",
        "training_data['Title_desc_combined']=training_data['Title']+training_data['Description']"
      ],
      "execution_count": null,
      "outputs": []
    },
    {
      "cell_type": "code",
      "metadata": {
        "id": "bxB6c8nCf30E",
        "colab": {
          "base_uri": "https://localhost:8080/",
          "height": 287
        },
        "outputId": "39d84a6f-bc47-4610-8818-70c955712f05"
      },
      "source": [
        "training_data.head()"
      ],
      "execution_count": null,
      "outputs": [
        {
          "output_type": "execute_result",
          "data": {
            "text/html": [
              "<div>\n",
              "<style scoped>\n",
              "    .dataframe tbody tr th:only-of-type {\n",
              "        vertical-align: middle;\n",
              "    }\n",
              "\n",
              "    .dataframe tbody tr th {\n",
              "        vertical-align: top;\n",
              "    }\n",
              "\n",
              "    .dataframe thead th {\n",
              "        text-align: right;\n",
              "    }\n",
              "</style>\n",
              "<table border=\"1\" class=\"dataframe\">\n",
              "  <thead>\n",
              "    <tr style=\"text-align: right;\">\n",
              "      <th></th>\n",
              "      <th>Class_variable</th>\n",
              "      <th>Title</th>\n",
              "      <th>Description</th>\n",
              "      <th>Title_desc_combined</th>\n",
              "    </tr>\n",
              "  </thead>\n",
              "  <tbody>\n",
              "    <tr>\n",
              "      <th>0</th>\n",
              "      <td>2</td>\n",
              "      <td>Wall St. Bears Claw Back Into the Black (Reuters)</td>\n",
              "      <td>Reuters - Short-sellers, Wall Street's dwindli...</td>\n",
              "      <td>Wall St. Bears Claw Back Into the Black (Reute...</td>\n",
              "    </tr>\n",
              "    <tr>\n",
              "      <th>1</th>\n",
              "      <td>2</td>\n",
              "      <td>Carlyle Looks Toward Commercial Aerospace (Reu...</td>\n",
              "      <td>Reuters - Private investment firm Carlyle Grou...</td>\n",
              "      <td>Carlyle Looks Toward Commercial Aerospace (Reu...</td>\n",
              "    </tr>\n",
              "    <tr>\n",
              "      <th>2</th>\n",
              "      <td>2</td>\n",
              "      <td>Oil and Economy Cloud Stocks' Outlook (Reuters)</td>\n",
              "      <td>Reuters - Soaring crude prices plus worries\\ab...</td>\n",
              "      <td>Oil and Economy Cloud Stocks' Outlook (Reuters...</td>\n",
              "    </tr>\n",
              "    <tr>\n",
              "      <th>3</th>\n",
              "      <td>2</td>\n",
              "      <td>Iraq Halts Oil Exports from Main Southern Pipe...</td>\n",
              "      <td>Reuters - Authorities have halted oil export\\f...</td>\n",
              "      <td>Iraq Halts Oil Exports from Main Southern Pipe...</td>\n",
              "    </tr>\n",
              "    <tr>\n",
              "      <th>4</th>\n",
              "      <td>2</td>\n",
              "      <td>Oil prices soar to all-time record, posing new...</td>\n",
              "      <td>AFP - Tearaway world oil prices, toppling reco...</td>\n",
              "      <td>Oil prices soar to all-time record, posing new...</td>\n",
              "    </tr>\n",
              "  </tbody>\n",
              "</table>\n",
              "</div>"
            ],
            "text/plain": [
              "   Class_variable  ...                                Title_desc_combined\n",
              "0               2  ...  Wall St. Bears Claw Back Into the Black (Reute...\n",
              "1               2  ...  Carlyle Looks Toward Commercial Aerospace (Reu...\n",
              "2               2  ...  Oil and Economy Cloud Stocks' Outlook (Reuters...\n",
              "3               2  ...  Iraq Halts Oil Exports from Main Southern Pipe...\n",
              "4               2  ...  Oil prices soar to all-time record, posing new...\n",
              "\n",
              "[5 rows x 4 columns]"
            ]
          },
          "metadata": {
            "tags": []
          },
          "execution_count": 15
        }
      ]
    },
    {
      "cell_type": "code",
      "metadata": {
        "id": "r1Dh400DgAF1"
      },
      "source": [
        "training_data.drop(columns=[\"Title\",\"Description\"],inplace=True)"
      ],
      "execution_count": null,
      "outputs": []
    },
    {
      "cell_type": "markdown",
      "metadata": {
        "id": "T6Jz--YgQxcq"
      },
      "source": [
        "### Final dataset "
      ]
    },
    {
      "cell_type": "code",
      "metadata": {
        "id": "E3eCBDEphn1w",
        "colab": {
          "base_uri": "https://localhost:8080/",
          "height": 203
        },
        "outputId": "a44f1bad-a5b8-49c6-bdde-836f992a5dba"
      },
      "source": [
        "training_data.head()"
      ],
      "execution_count": null,
      "outputs": [
        {
          "output_type": "execute_result",
          "data": {
            "text/html": [
              "<div>\n",
              "<style scoped>\n",
              "    .dataframe tbody tr th:only-of-type {\n",
              "        vertical-align: middle;\n",
              "    }\n",
              "\n",
              "    .dataframe tbody tr th {\n",
              "        vertical-align: top;\n",
              "    }\n",
              "\n",
              "    .dataframe thead th {\n",
              "        text-align: right;\n",
              "    }\n",
              "</style>\n",
              "<table border=\"1\" class=\"dataframe\">\n",
              "  <thead>\n",
              "    <tr style=\"text-align: right;\">\n",
              "      <th></th>\n",
              "      <th>Class_variable</th>\n",
              "      <th>Title_desc_combined</th>\n",
              "    </tr>\n",
              "  </thead>\n",
              "  <tbody>\n",
              "    <tr>\n",
              "      <th>0</th>\n",
              "      <td>2</td>\n",
              "      <td>Wall St. Bears Claw Back Into the Black (Reute...</td>\n",
              "    </tr>\n",
              "    <tr>\n",
              "      <th>1</th>\n",
              "      <td>2</td>\n",
              "      <td>Carlyle Looks Toward Commercial Aerospace (Reu...</td>\n",
              "    </tr>\n",
              "    <tr>\n",
              "      <th>2</th>\n",
              "      <td>2</td>\n",
              "      <td>Oil and Economy Cloud Stocks' Outlook (Reuters...</td>\n",
              "    </tr>\n",
              "    <tr>\n",
              "      <th>3</th>\n",
              "      <td>2</td>\n",
              "      <td>Iraq Halts Oil Exports from Main Southern Pipe...</td>\n",
              "    </tr>\n",
              "    <tr>\n",
              "      <th>4</th>\n",
              "      <td>2</td>\n",
              "      <td>Oil prices soar to all-time record, posing new...</td>\n",
              "    </tr>\n",
              "  </tbody>\n",
              "</table>\n",
              "</div>"
            ],
            "text/plain": [
              "   Class_variable                                Title_desc_combined\n",
              "0               2  Wall St. Bears Claw Back Into the Black (Reute...\n",
              "1               2  Carlyle Looks Toward Commercial Aerospace (Reu...\n",
              "2               2  Oil and Economy Cloud Stocks' Outlook (Reuters...\n",
              "3               2  Iraq Halts Oil Exports from Main Southern Pipe...\n",
              "4               2  Oil prices soar to all-time record, posing new..."
            ]
          },
          "metadata": {
            "tags": []
          },
          "execution_count": 17
        }
      ]
    },
    {
      "cell_type": "markdown",
      "metadata": {
        "id": "cjaNLOU4RfLB"
      },
      "source": [
        "## Text cleaning and transformation:"
      ]
    },
    {
      "cell_type": "markdown",
      "metadata": {
        "id": "oVzySzaXR7wP"
      },
      "source": [
        "### 1.Text Decontraction "
      ]
    },
    {
      "cell_type": "code",
      "metadata": {
        "id": "tg1xBRY8h3es"
      },
      "source": [
        "# Preproceessing  the text data:\n",
        "# We will write some helper functions to perform the preprocessing\n",
        "# This function is the function whch will help to convert the contracted words to decontracted words \n",
        "import re\n",
        "def decontracted(text):\n",
        "    \n",
        "    text = re.sub(r\"won't\", \"will not\", text)\n",
        "    text = re.sub(r\"can\\'t\", \"can not\", text)\n",
        "    text  = re.sub(r\"she's\",\"she is\",text)\n",
        "    text = re.sub(r\"n't\",\"not\",text)\n",
        "    text = re.sub(r\"what's\",\"what is\",text)\n",
        "    text = re.sub(r\"it's\",\"it is\",text)\n",
        "    text = re.sub(r\"'s\",\" own\",text)\n",
        "    text = re.sub(\"%\",\"percent\",text)\n",
        "    text = re.sub(\"₹\",'rupee',text)\n",
        "    text = re.sub(\"$\",\"dollar\",text)\n",
        "    text = re.sub(\"€\",\"euro\",text)\n",
        "    text = re.sub(\"cannot\",\"can not\",text)\n",
        "    text = re.sub(r\"n\\'t\", \" not\", text)\n",
        "    text = re.sub(r\"\\'re\", \" are\", text)\n",
        "    text = re.sub(r\"\\'s\", \" is\", text)\n",
        "    text = re.sub(r\"\\'d\", \" would\", text)\n",
        "    text = re.sub(r\"\\'ll\", \" will\", text)\n",
        "    text = re.sub(r\"\\'t\", \" not\", text)\n",
        "    text = re.sub(r\"\\'ve\", \" have\", text)\n",
        "    text = re.sub(r\"\\'m\", \" am\", text)\n",
        "    return text\n",
        "\n"
      ],
      "execution_count": null,
      "outputs": []
    },
    {
      "cell_type": "markdown",
      "metadata": {
        "id": "C0oln6LKzIbz"
      },
      "source": [
        "### 2.Removal of urls "
      ]
    },
    {
      "cell_type": "code",
      "metadata": {
        "id": "kzhCzYLCh4Cz"
      },
      "source": [
        "# Remove the urls, this functions will remove the urls\n",
        "\n",
        "def remove_urls(text):\n",
        "  url_pattern = re.compile(r'https?://\\S+|www\\.\\S+')\n",
        "  return url_pattern.sub(r'', text)\n"
      ],
      "execution_count": null,
      "outputs": []
    },
    {
      "cell_type": "markdown",
      "metadata": {
        "id": "v8cTfRiSWLgC"
      },
      "source": [
        " ### 3.Remove words with numbers"
      ]
    },
    {
      "cell_type": "code",
      "metadata": {
        "id": "EzRxFIzizsdV"
      },
      "source": [
        "#training_data[\"Title_desc_combined\"]=training_data[\"Title_desc_combined\"].apply(remove_urls)"
      ],
      "execution_count": null,
      "outputs": []
    },
    {
      "cell_type": "code",
      "metadata": {
        "id": "lVx5AbmLh4Vz"
      },
      "source": [
        "# Removing numbers from the words suppose you have a word like word2vec then  this function will remove 2 from it.\n",
        "# Test case for this function: Input: \"1joy2dee3p\" and Output:\"Joydeep\"\n",
        "def remove_numbers(text):\n",
        "\n",
        "  res=''.join([i for i in text if not i.isdigit()])\n",
        "\n",
        "  return res\n",
        "    "
      ],
      "execution_count": null,
      "outputs": []
    },
    {
      "cell_type": "markdown",
      "metadata": {
        "id": "j5Gcw4RohEeM"
      },
      "source": [
        "###4.Remove all nonwords "
      ]
    },
    {
      "cell_type": "code",
      "metadata": {
        "id": "W-hk5Rw80Eyl"
      },
      "source": [
        "#training_data['Title_desc_combined']=training_data['Title_desc_combined'].apply(remove_numbers)"
      ],
      "execution_count": null,
      "outputs": []
    },
    {
      "cell_type": "code",
      "metadata": {
        "id": "nPcKOvUWh4oj"
      },
      "source": [
        "# Removing non word text:\n",
        "#The \\W metacharacter is used to find a non-word character.\n",
        "#A word character is a character from a-z, A-Z, 0-9, including the _ (underscore) character.\n",
        "\n",
        "def remove_nonwords(text):\n",
        "  pattern = re.compile('\\W')\n",
        "\n",
        "  if type(text)==type(''):\n",
        "    text = re.sub(pattern,' ',text)\n",
        "\n",
        "  return text\n"
      ],
      "execution_count": null,
      "outputs": []
    },
    {
      "cell_type": "code",
      "metadata": {
        "id": "qPTjoWhm0TAi"
      },
      "source": [
        "#training_data['Title_desc_combined']=training_data['Title_desc_combined'].apply(remove_nonwords)"
      ],
      "execution_count": null,
      "outputs": []
    },
    {
      "cell_type": "code",
      "metadata": {
        "id": "IN-KWdztpA00"
      },
      "source": [
        "x='\\sum _{n=1}^{3}(2nx)'\n",
        "#remove_nonwords(x)\n",
        "# only underscore is there and rest of the other stuffs are removed. "
      ],
      "execution_count": null,
      "outputs": []
    },
    {
      "cell_type": "markdown",
      "metadata": {
        "id": "zbBR-0gVhXuB"
      },
      "source": [
        "###5.Remove html tags"
      ]
    },
    {
      "cell_type": "code",
      "metadata": {
        "id": "OlVeRxiYpBIO"
      },
      "source": [
        "# removing html tag. We don't have much of the html tags but as the corpus is huge, in order to avoid that we are going to design a function to remove html tags and get us the results\n",
        "from bs4 import BeautifulSoup\n",
        "\n",
        "def remove_htmltags(text):\n",
        "\n",
        "  cleantext = re.compile(r'<[^>]+>').sub('',text) # https://www.geeksforgeeks.org/program-to-remove-html-tags-from-a-given-string/\n",
        "  cleantext = BeautifulSoup(text, \"lxml\").text\n",
        "\n",
        "  return cleantext\n",
        "\n"
      ],
      "execution_count": null,
      "outputs": []
    },
    {
      "cell_type": "code",
      "metadata": {
        "id": "BMMSAL2S0iUY"
      },
      "source": [
        "#training_data['Title_desc_combined']=training_data['Title_desc_combined'].apply(remove_htmltags)"
      ],
      "execution_count": null,
      "outputs": []
    },
    {
      "cell_type": "code",
      "metadata": {
        "id": "2VU54QBQ2raf"
      },
      "source": [
        "#remove_htmltags(x)"
      ],
      "execution_count": null,
      "outputs": []
    },
    {
      "cell_type": "code",
      "metadata": {
        "id": "SEB9SfgQpBXF"
      },
      "source": [
        "#Test case 1 for remove_htmltags\n",
        "# x=\"<p>Message from my computer:</p>\"\n",
        "\n",
        "# remove_htmltags(x)"
      ],
      "execution_count": null,
      "outputs": []
    },
    {
      "cell_type": "code",
      "metadata": {
        "id": "43Svspixp_PG"
      },
      "source": [
        "# test case2 for remove html function and outputs clean text \n",
        "# x='&nbspHello there&lt;testdata&gt;'\n",
        "# x=remove_htmltags(x)\n",
        "# print(x)\n",
        "# x=remove_nonwords(x)\n",
        "# print(x)\n"
      ],
      "execution_count": null,
      "outputs": []
    },
    {
      "cell_type": "markdown",
      "metadata": {
        "id": "oRdYUUYPGwKw"
      },
      "source": [
        "###6.Remove multiple space"
      ]
    },
    {
      "cell_type": "code",
      "metadata": {
        "id": "QR8rTG_Dp_p-"
      },
      "source": [
        "def remove_multiple_space(text):\n",
        "\n",
        "  text = re.sub(' +',' ',text)\n",
        "\n",
        "  return text\n"
      ],
      "execution_count": null,
      "outputs": []
    },
    {
      "cell_type": "code",
      "metadata": {
        "id": "d6aHxcsq4r-O"
      },
      "source": [
        "# test cases for checking the remove_multiple_space\n",
        "# remove_multiple_space(\"I    joydep\")"
      ],
      "execution_count": null,
      "outputs": []
    },
    {
      "cell_type": "code",
      "metadata": {
        "id": "vEarNxUB0-pO"
      },
      "source": [
        "#training_data['Title_desc_combined']=training_data['Title_desc_combined'].apply(remove_multiple_space)"
      ],
      "execution_count": null,
      "outputs": []
    },
    {
      "cell_type": "code",
      "metadata": {
        "id": "TwxJ8zucQH3j"
      },
      "source": [
        "#remove_stopwords(\"It will do the following: operation\")"
      ],
      "execution_count": null,
      "outputs": []
    },
    {
      "cell_type": "markdown",
      "metadata": {
        "id": "k6t4FKQkp_9X"
      },
      "source": [
        "## Applying the text cleaning functions:\n",
        "Now we have written a list of helper function for cleaning our text data. We would like to put all of them in one main function called text_preprocessing.\n",
        "It will do the following:\n",
        "Input will be a text and following below operation will be performed on the text\n",
        "and output will be a clean text.\n",
        "1. Decontraction \n",
        "2. Removal of URls\n",
        "3. Removals of Html tags \n",
        "4. Removals of Non wordcharecters(#A word character is a character from a-z, A-Z, 0-9, including the _ (underscore) character.)\n",
        "5. Removals of words with number(Input: \"1joy2dee3p\" and Output:\"joydeep\")\n",
        "6. Removal of Multiple spaces  \n",
        "\n",
        "\n",
        "\n"
      ]
    },
    {
      "cell_type": "code",
      "metadata": {
        "id": "jhrQqTRSzJw4"
      },
      "source": [
        "def text_cleaning(text):\n",
        "  text=str(text).lower()\n",
        "  text = decontracted(text)\n",
        "  text = remove_urls(text)\n",
        "  text = remove_htmltags(text)\n",
        "  text = remove_numbers(text)\n",
        "  text = remove_nonwords(text)\n",
        "  text = remove_multiple_space(text)\n",
        "  #text = remove_stopwords(text)\n",
        "  return text\n"
      ],
      "execution_count": null,
      "outputs": []
    },
    {
      "cell_type": "code",
      "metadata": {
        "id": "c0UO2Ls9Qclp"
      },
      "source": [
        "training_data['Title_desc_combined']=training_data['Title_desc_combined'].apply(text_cleaning)"
      ],
      "execution_count": null,
      "outputs": []
    },
    {
      "cell_type": "markdown",
      "metadata": {
        "id": "gdRaaVsJHYhJ"
      },
      "source": [
        "### 7.Stemming using Wordnet Lemmatizer "
      ]
    },
    {
      "cell_type": "code",
      "metadata": {
        "id": "UCeNmmFMVWau"
      },
      "source": [
        "#https://www.machinelearningplus.com/nlp/lemmatization-examples-python/\n",
        "\n",
        "import nltk\n",
        "from nltk.stem import WordNetLemmatizer\n",
        "from nltk.corpus import wordnet\n",
        "\n",
        "\n"
      ],
      "execution_count": null,
      "outputs": []
    },
    {
      "cell_type": "code",
      "metadata": {
        "colab": {
          "base_uri": "https://localhost:8080/"
        },
        "id": "3moEJ22_fkDQ",
        "outputId": "e0cbd452-77d0-49f8-eed9-bff4a067f61f"
      },
      "source": [
        "nltk.download('punkt')\n",
        "nltk.download('averaged_perceptron_tagger')\n",
        "nltk.download('wordnet')"
      ],
      "execution_count": null,
      "outputs": [
        {
          "output_type": "stream",
          "text": [
            "[nltk_data] Downloading package punkt to /root/nltk_data...\n",
            "[nltk_data]   Unzipping tokenizers/punkt.zip.\n",
            "[nltk_data] Downloading package averaged_perceptron_tagger to\n",
            "[nltk_data]     /root/nltk_data...\n",
            "[nltk_data]   Unzipping taggers/averaged_perceptron_tagger.zip.\n",
            "[nltk_data] Downloading package wordnet to /root/nltk_data...\n",
            "[nltk_data]   Unzipping corpora/wordnet.zip.\n"
          ],
          "name": "stdout"
        },
        {
          "output_type": "execute_result",
          "data": {
            "text/plain": [
              "True"
            ]
          },
          "metadata": {
            "tags": []
          },
          "execution_count": 38
        }
      ]
    },
    {
      "cell_type": "code",
      "metadata": {
        "id": "6CRAEuwHaiYn"
      },
      "source": [
        "#https://gaurav5430.medium.com/using-nltk-for-lemmatizing-sentences-c1bfff963258\n",
        "\n",
        "\n",
        "\n",
        "\n",
        "lemmatizer = WordNetLemmatizer()\n",
        "\n",
        "# function to convert nltk tag to wordnet tag\n",
        "def nltk_tag_to_wordnet_tag(nltk_tag):\n",
        "    if nltk_tag.startswith('J'):\n",
        "        return wordnet.ADJ\n",
        "    elif nltk_tag.startswith('V'):\n",
        "        return wordnet.VERB\n",
        "    elif nltk_tag.startswith('N'):\n",
        "        return wordnet.NOUN\n",
        "    elif nltk_tag.startswith('R'):\n",
        "        return wordnet.ADV\n",
        "    else:          \n",
        "        return None\n",
        "\n",
        "def lemmatize_sentence(sentence):\n",
        "    #tokenize the sentence and find the POS tag for each token\n",
        "    nltk_tagged = nltk.pos_tag(nltk.word_tokenize(sentence))  \n",
        "    #tuple of (token, wordnet_tag)\n",
        "    wordnet_tagged = map(lambda x: (x[0], nltk_tag_to_wordnet_tag(x[1])), nltk_tagged)\n",
        "    lemmatized_sentence = []\n",
        "    for word, tag in wordnet_tagged:\n",
        "        if tag is None:\n",
        "            #if there is no available tag, append the token as is\n",
        "            lemmatized_sentence.append(word)\n",
        "        else:        \n",
        "            #else use the tag to lemmatize the token\n",
        "            lemmatized_sentence.append(lemmatizer.lemmatize(word, tag))\n",
        "    return \" \".join(lemmatized_sentence)"
      ],
      "execution_count": null,
      "outputs": []
    },
    {
      "cell_type": "code",
      "metadata": {
        "id": "7uiYrclEe1qq"
      },
      "source": [
        "# sentence=\"yahoo to sell domain names ap ap yahoo inc plans to start selling internet domain names tuesday as part of its expanding services for small businesses dollar\"\n",
        "\n",
        "# lemmatize_sentence(sentence)"
      ],
      "execution_count": null,
      "outputs": []
    },
    {
      "cell_type": "code",
      "metadata": {
        "id": "YMufW05Bf586"
      },
      "source": [
        "training_data['Title_desc_combined']=training_data['Title_desc_combined'].apply(lemmatize_sentence)"
      ],
      "execution_count": null,
      "outputs": []
    },
    {
      "cell_type": "code",
      "metadata": {
        "colab": {
          "base_uri": "https://localhost:8080/"
        },
        "id": "n6swc3ZczHer",
        "outputId": "485f9123-1f67-486e-9a48-4106ffb872e9"
      },
      "source": [
        "training_data['Title_desc_combined'][1456]"
      ],
      "execution_count": null,
      "outputs": [
        {
          "output_type": "execute_result",
          "data": {
            "application/vnd.google.colaboratory.intrinsic+json": {
              "type": "string"
            },
            "text/plain": [
              "'the playboy google interviewthe google playboy interview in its entirety the infamous playboy interview of sergey brin and larry page the google guy be now not only available on newsstand all over the country but also on the security exchange commission own website because of a possible sec violation now it will be more difficult dollar'"
            ]
          },
          "metadata": {
            "tags": []
          },
          "execution_count": 127
        }
      ]
    },
    {
      "cell_type": "markdown",
      "metadata": {
        "id": "I850P_oeHEPV"
      },
      "source": [
        "### 8.Remove stop words"
      ]
    },
    {
      "cell_type": "code",
      "metadata": {
        "colab": {
          "base_uri": "https://localhost:8080/"
        },
        "id": "Z3hCkI50OuWa",
        "outputId": "94c2b22e-b3b7-4219-9e83-5bcca50a174b"
      },
      "source": [
        "\n",
        "import nltk\n",
        "nltk.download('stopwords')\n",
        "from nltk.corpus import stopwords"
      ],
      "execution_count": null,
      "outputs": [
        {
          "output_type": "stream",
          "text": [
            "[nltk_data] Downloading package stopwords to /root/nltk_data...\n",
            "[nltk_data]   Package stopwords is already up-to-date!\n"
          ],
          "name": "stdout"
        }
      ]
    },
    {
      "cell_type": "code",
      "metadata": {
        "id": "yQIjBFxbNn5Z"
      },
      "source": [
        "def remove_stopwords(text):\n",
        "  stop_words = set(stopwords.words('english'))\n",
        "\n",
        "  text =[ word  for word in text.split() if not  word.lower() in stop_words]\n",
        "\n",
        "  return text\n",
        "\n",
        "\n",
        "\n"
      ],
      "execution_count": null,
      "outputs": []
    },
    {
      "cell_type": "code",
      "metadata": {
        "id": "mMJZM3ETzqXS"
      },
      "source": [
        "training_data['Title_desc_combined']=training_data['Title_desc_combined'].apply(remove_stopwords)"
      ],
      "execution_count": null,
      "outputs": []
    },
    {
      "cell_type": "code",
      "metadata": {
        "colab": {
          "base_uri": "https://localhost:8080/"
        },
        "id": "Gl7YOFPt0XBU",
        "outputId": "e43fe5e4-4d68-4b48-d2ac-eedf7eea430b"
      },
      "source": [
        "training_data['Title_desc_combined'][1456]"
      ],
      "execution_count": null,
      "outputs": [
        {
          "output_type": "execute_result",
          "data": {
            "text/plain": [
              "['playboy',\n",
              " 'google',\n",
              " 'interviewthe',\n",
              " 'google',\n",
              " 'playboy',\n",
              " 'interview',\n",
              " 'entirety',\n",
              " 'infamous',\n",
              " 'playboy',\n",
              " 'interview',\n",
              " 'sergey',\n",
              " 'brin',\n",
              " 'larry',\n",
              " 'page',\n",
              " 'google',\n",
              " 'guy',\n",
              " 'available',\n",
              " 'newsstand',\n",
              " 'country',\n",
              " 'also',\n",
              " 'security',\n",
              " 'exchange',\n",
              " 'commission',\n",
              " 'website',\n",
              " 'possible',\n",
              " 'sec',\n",
              " 'violation',\n",
              " 'difficult',\n",
              " 'dollar']"
            ]
          },
          "metadata": {
            "tags": []
          },
          "execution_count": 131
        }
      ]
    },
    {
      "cell_type": "code",
      "metadata": {
        "colab": {
          "base_uri": "https://localhost:8080/"
        },
        "id": "DIMEMUXEKzqv",
        "outputId": "3801aac8-26a6-4c8e-d2de-33784886061f"
      },
      "source": [
        "training_data['Title_desc_combined'][12]"
      ],
      "execution_count": null,
      "outputs": [
        {
          "output_type": "execute_result",
          "data": {
            "text/plain": [
              "['non',\n",
              " 'opec',\n",
              " 'nation',\n",
              " 'output',\n",
              " 'purnomo',\n",
              " 'jakarta',\n",
              " 'reuters',\n",
              " 'non',\n",
              " 'opec',\n",
              " 'oil',\n",
              " 'exporter',\n",
              " 'consider',\n",
              " 'increase',\n",
              " 'output',\n",
              " 'cool',\n",
              " 'record',\n",
              " 'crude',\n",
              " 'price',\n",
              " 'opec',\n",
              " 'president',\n",
              " 'purnomo',\n",
              " 'yusgiantoro',\n",
              " 'say',\n",
              " 'sunday',\n",
              " 'dollar']"
            ]
          },
          "metadata": {
            "tags": []
          },
          "execution_count": 132
        }
      ]
    },
    {
      "cell_type": "code",
      "metadata": {
        "colab": {
          "base_uri": "https://localhost:8080/"
        },
        "id": "ShBZ3x48LA8o",
        "outputId": "a4ff6551-1685-44a4-bd20-c1180accc9e9"
      },
      "source": [
        "training_data['Title_desc_combined'][1345]"
      ],
      "execution_count": null,
      "outputs": [
        {
          "output_type": "execute_result",
          "data": {
            "text/plain": [
              "['north',\n",
              " 'korea',\n",
              " 'talk',\n",
              " 'still',\n",
              " 'china',\n",
              " 'tell',\n",
              " 'downer',\n",
              " 'beijing',\n",
              " 'reuters',\n",
              " 'north',\n",
              " 'korea',\n",
              " 'refusal',\n",
              " 'take',\n",
              " 'part',\n",
              " 'work',\n",
              " 'level',\n",
              " 'talk',\n",
              " 'nuclear',\n",
              " 'crisis',\n",
              " 'prompt',\n",
              " 'diplomatic',\n",
              " 'flurry',\n",
              " 'tuesday',\n",
              " 'china',\n",
              " 'host',\n",
              " 'talk',\n",
              " 'heart',\n",
              " 'effort',\n",
              " 'keep',\n",
              " 'process',\n",
              " 'track',\n",
              " 'dollar']"
            ]
          },
          "metadata": {
            "tags": []
          },
          "execution_count": 133
        }
      ]
    },
    {
      "cell_type": "markdown",
      "metadata": {
        "id": "156KECDhKSh4"
      },
      "source": [
        "###9.Putting back the tokenised sentence"
      ]
    },
    {
      "cell_type": "code",
      "metadata": {
        "id": "kqC360CRposP"
      },
      "source": [
        "# Tokenised data gives issues while building TF-Idf vectorisers \n",
        "# We are converting back them  into strings \n",
        "training_data['Title_desc_combined']=training_data['Title_desc_combined'].apply(lambda x: ' '.join(x))"
      ],
      "execution_count": null,
      "outputs": []
    },
    {
      "cell_type": "code",
      "metadata": {
        "colab": {
          "base_uri": "https://localhost:8080/"
        },
        "id": "qZV3Y3Ov-4e5",
        "outputId": "82221108-673e-4bde-9dd3-0dc70bd329d4"
      },
      "source": [
        "training_data['Title_desc_combined'][115]"
      ],
      "execution_count": null,
      "outputs": [
        {
          "output_type": "execute_result",
          "data": {
            "application/vnd.google.colaboratory.intrinsic+json": {
              "type": "string"
            },
            "text/plain": [
              "'simultaneous tropical storm rarity ap ap prospect tropical storm hurricane possibly two hurricane could strike florida day something meteorologist say never see dollar'"
            ]
          },
          "metadata": {
            "tags": []
          },
          "execution_count": 135
        }
      ]
    },
    {
      "cell_type": "markdown",
      "metadata": {
        "id": "x0wc0T7HNYbj"
      },
      "source": [
        "## Writing back the dataframe to a CSV:\n",
        "\n",
        "We can use this for other model building.\n"
      ]
    },
    {
      "cell_type": "markdown",
      "metadata": {
        "id": "QftHtIgGP92G"
      },
      "source": [
        "### saving the cleaned training data into csv:\n",
        "We are saving the cleaned training data into csv  "
      ]
    },
    {
      "cell_type": "code",
      "metadata": {
        "id": "ciAg0GU4OYFW"
      },
      "source": [
        "#saving the cleaned csv:\n",
        "\n",
        "training_data.to_csv(\"/content/drive/MyDrive/NLP/Document_classification_project_BBC_Data/AG_Dataset/cleaned_dataset_training_csv\",header=True,index=False)"
      ],
      "execution_count": null,
      "outputs": []
    },
    {
      "cell_type": "markdown",
      "metadata": {
        "id": "6X2fkGXTP40T"
      },
      "source": [
        "### Checking the cleaned file:\n",
        "We are uploading the csv file using pandas and checking the content by using pandas read_csv.head()\n"
      ]
    },
    {
      "cell_type": "code",
      "metadata": {
        "id": "aBhMsakEPdfR"
      },
      "source": [
        "new_df=pd.read_csv(\"/content/drive/MyDrive/NLP/Document_classification_project_BBC_Data/AG_Dataset/cleaned_dataset_training_csv\")"
      ],
      "execution_count": null,
      "outputs": []
    },
    {
      "cell_type": "code",
      "metadata": {
        "colab": {
          "base_uri": "https://localhost:8080/"
        },
        "id": "9j5LVCnEPmaV",
        "outputId": "18010012-005c-41e0-8103-ef9c98fa17b3"
      },
      "source": [
        "new_df.head()"
      ],
      "execution_count": null,
      "outputs": [
        {
          "output_type": "execute_result",
          "data": {
            "text/html": [
              "<div>\n",
              "<style scoped>\n",
              "    .dataframe tbody tr th:only-of-type {\n",
              "        vertical-align: middle;\n",
              "    }\n",
              "\n",
              "    .dataframe tbody tr th {\n",
              "        vertical-align: top;\n",
              "    }\n",
              "\n",
              "    .dataframe thead th {\n",
              "        text-align: right;\n",
              "    }\n",
              "</style>\n",
              "<table border=\"1\" class=\"dataframe\">\n",
              "  <thead>\n",
              "    <tr style=\"text-align: right;\">\n",
              "      <th></th>\n",
              "      <th>Class_variable</th>\n",
              "      <th>Title_desc_combined</th>\n",
              "    </tr>\n",
              "  </thead>\n",
              "  <tbody>\n",
              "    <tr>\n",
              "      <th>0</th>\n",
              "      <td>2</td>\n",
              "      <td>wall st bear claw back black reuters reuters s...</td>\n",
              "    </tr>\n",
              "    <tr>\n",
              "      <th>1</th>\n",
              "      <td>2</td>\n",
              "      <td>carlyle look toward commercial aerospace reute...</td>\n",
              "    </tr>\n",
              "    <tr>\n",
              "      <th>2</th>\n",
              "      <td>2</td>\n",
              "      <td>oil economy cloud stock outlook reuters reuter...</td>\n",
              "    </tr>\n",
              "    <tr>\n",
              "      <th>3</th>\n",
              "      <td>2</td>\n",
              "      <td>iraq halt oil export main southern pipeline re...</td>\n",
              "    </tr>\n",
              "    <tr>\n",
              "      <th>4</th>\n",
              "      <td>2</td>\n",
              "      <td>oil price soar time record pose new menace us ...</td>\n",
              "    </tr>\n",
              "  </tbody>\n",
              "</table>\n",
              "</div>"
            ],
            "text/plain": [
              "   Class_variable                                Title_desc_combined\n",
              "0               2  wall st bear claw back black reuters reuters s...\n",
              "1               2  carlyle look toward commercial aerospace reute...\n",
              "2               2  oil economy cloud stock outlook reuters reuter...\n",
              "3               2  iraq halt oil export main southern pipeline re...\n",
              "4               2  oil price soar time record pose new menace us ..."
            ]
          },
          "metadata": {
            "tags": []
          },
          "execution_count": 138
        }
      ]
    },
    {
      "cell_type": "markdown",
      "metadata": {
        "id": "IeJDoc9aRE34"
      },
      "source": [
        "## Data Transformation and Model Building:"
      ]
    },
    {
      "cell_type": "code",
      "metadata": {
        "colab": {
          "base_uri": "https://localhost:8080/",
          "height": 203
        },
        "id": "QvuQ5EJFR-Ng",
        "outputId": "29e8241a-1114-4a6d-8076-d6c6feb19f3f"
      },
      "source": [
        "training_data.head()"
      ],
      "execution_count": null,
      "outputs": [
        {
          "output_type": "execute_result",
          "data": {
            "text/html": [
              "<div>\n",
              "<style scoped>\n",
              "    .dataframe tbody tr th:only-of-type {\n",
              "        vertical-align: middle;\n",
              "    }\n",
              "\n",
              "    .dataframe tbody tr th {\n",
              "        vertical-align: top;\n",
              "    }\n",
              "\n",
              "    .dataframe thead th {\n",
              "        text-align: right;\n",
              "    }\n",
              "</style>\n",
              "<table border=\"1\" class=\"dataframe\">\n",
              "  <thead>\n",
              "    <tr style=\"text-align: right;\">\n",
              "      <th></th>\n",
              "      <th>Class_variable</th>\n",
              "      <th>Title_desc_combined</th>\n",
              "    </tr>\n",
              "  </thead>\n",
              "  <tbody>\n",
              "    <tr>\n",
              "      <th>0</th>\n",
              "      <td>2</td>\n",
              "      <td>wall st bear claw back black reuters reuters s...</td>\n",
              "    </tr>\n",
              "    <tr>\n",
              "      <th>1</th>\n",
              "      <td>2</td>\n",
              "      <td>carlyle look toward commercial aerospace reute...</td>\n",
              "    </tr>\n",
              "    <tr>\n",
              "      <th>2</th>\n",
              "      <td>2</td>\n",
              "      <td>oil economy cloud stock outlook reuters reuter...</td>\n",
              "    </tr>\n",
              "    <tr>\n",
              "      <th>3</th>\n",
              "      <td>2</td>\n",
              "      <td>iraq halt oil export main southern pipeline re...</td>\n",
              "    </tr>\n",
              "    <tr>\n",
              "      <th>4</th>\n",
              "      <td>2</td>\n",
              "      <td>oil price soar time record pose new menace us ...</td>\n",
              "    </tr>\n",
              "  </tbody>\n",
              "</table>\n",
              "</div>"
            ],
            "text/plain": [
              "   Class_variable                                Title_desc_combined\n",
              "0               2  wall st bear claw back black reuters reuters s...\n",
              "1               2  carlyle look toward commercial aerospace reute...\n",
              "2               2  oil economy cloud stock outlook reuters reuter...\n",
              "3               2  iraq halt oil export main southern pipeline re...\n",
              "4               2  oil price soar time record pose new menace us ..."
            ]
          },
          "metadata": {
            "tags": []
          },
          "execution_count": 139
        }
      ]
    },
    {
      "cell_type": "markdown",
      "metadata": {
        "id": "O9PXjVfMXeee"
      },
      "source": [
        "In order to create randomness in our training dataset, we will suffle the datatset in order to make our model learn that randomness."
      ]
    },
    {
      "cell_type": "code",
      "metadata": {
        "id": "G-2nQ1jEWfiW"
      },
      "source": [
        "from sklearn.utils import shuffle\n",
        "\n",
        "training_data=shuffle(training_data,random_state=42)"
      ],
      "execution_count": null,
      "outputs": []
    },
    {
      "cell_type": "code",
      "metadata": {
        "colab": {
          "base_uri": "https://localhost:8080/",
          "height": 203
        },
        "id": "TuiJfB_zXAcB",
        "outputId": "05f61b40-89c6-4851-e2ba-7c65217ce943"
      },
      "source": [
        "training_data.head()"
      ],
      "execution_count": null,
      "outputs": [
        {
          "output_type": "execute_result",
          "data": {
            "text/html": [
              "<div>\n",
              "<style scoped>\n",
              "    .dataframe tbody tr th:only-of-type {\n",
              "        vertical-align: middle;\n",
              "    }\n",
              "\n",
              "    .dataframe tbody tr th {\n",
              "        vertical-align: top;\n",
              "    }\n",
              "\n",
              "    .dataframe thead th {\n",
              "        text-align: right;\n",
              "    }\n",
              "</style>\n",
              "<table border=\"1\" class=\"dataframe\">\n",
              "  <thead>\n",
              "    <tr style=\"text-align: right;\">\n",
              "      <th></th>\n",
              "      <th>Class_variable</th>\n",
              "      <th>Title_desc_combined</th>\n",
              "    </tr>\n",
              "  </thead>\n",
              "  <tbody>\n",
              "    <tr>\n",
              "      <th>71787</th>\n",
              "      <td>2</td>\n",
              "      <td>bbc set major shake claim newspaperlondon brit...</td>\n",
              "    </tr>\n",
              "    <tr>\n",
              "      <th>67218</th>\n",
              "      <td>2</td>\n",
              "      <td>marsh averts cash crunchembattled insurance br...</td>\n",
              "    </tr>\n",
              "    <tr>\n",
              "      <th>54066</th>\n",
              "      <td>1</td>\n",
              "      <td>jeter yankee look take control ap ap derek jet...</td>\n",
              "    </tr>\n",
              "    <tr>\n",
              "      <th>7168</th>\n",
              "      <td>3</td>\n",
              "      <td>fly sun safetywhen genesis capsule come back e...</td>\n",
              "    </tr>\n",
              "    <tr>\n",
              "      <th>29618</th>\n",
              "      <td>2</td>\n",
              "      <td>stock see flat nortel oil weigh new york reute...</td>\n",
              "    </tr>\n",
              "  </tbody>\n",
              "</table>\n",
              "</div>"
            ],
            "text/plain": [
              "       Class_variable                                Title_desc_combined\n",
              "71787               2  bbc set major shake claim newspaperlondon brit...\n",
              "67218               2  marsh averts cash crunchembattled insurance br...\n",
              "54066               1  jeter yankee look take control ap ap derek jet...\n",
              "7168                3  fly sun safetywhen genesis capsule come back e...\n",
              "29618               2  stock see flat nortel oil weigh new york reute..."
            ]
          },
          "metadata": {
            "tags": []
          },
          "execution_count": 141
        }
      ]
    },
    {
      "cell_type": "markdown",
      "metadata": {
        "id": "rKsSg91pQaJr"
      },
      "source": [
        "We have the cleaned data. Now will convert the cleaned text into  tfidf so that we can feed into the models.Before doing that we will do the splitting of the data.\n",
        "We will split the dataset into training and cross validaton dataset. After splitting we will create the tfidf vectoriser in order to avoid data leakage problem.\n",
        "For cross validation, we will use k-fold cross valdation."
      ]
    },
    {
      "cell_type": "markdown",
      "metadata": {
        "id": "QHgPdir1SOqB"
      },
      "source": [
        "## Creating the feature set and labels:"
      ]
    },
    {
      "cell_type": "code",
      "metadata": {
        "id": "QaR6n1SyQ51K"
      },
      "source": [
        "# we will creat the features and labels \n",
        "\n",
        "X = training_data.iloc[:,1]"
      ],
      "execution_count": null,
      "outputs": []
    },
    {
      "cell_type": "code",
      "metadata": {
        "colab": {
          "base_uri": "https://localhost:8080/",
          "height": 52
        },
        "id": "LFrZ1gMgS0gb",
        "outputId": "630c8418-297f-4300-853a-a1dd2e2b6500"
      },
      "source": [
        "X[100]"
      ],
      "execution_count": null,
      "outputs": [
        {
          "output_type": "execute_result",
          "data": {
            "application/vnd.google.colaboratory.intrinsic+json": {
              "type": "string"
            },
            "text/plain": [
              "'comet asteroid planet around nearby star space com space com nearby star think harbor comet asteroid appear home planets presumed world small jupiter could tiny pluto new observation suggest dollar'"
            ]
          },
          "metadata": {
            "tags": []
          },
          "execution_count": 143
        }
      ]
    },
    {
      "cell_type": "code",
      "metadata": {
        "colab": {
          "base_uri": "https://localhost:8080/"
        },
        "id": "z8IQSm9MS19D",
        "outputId": "c05cdf44-b12e-4338-f518-c66ce840cc5c"
      },
      "source": [
        "X.shape"
      ],
      "execution_count": null,
      "outputs": [
        {
          "output_type": "execute_result",
          "data": {
            "text/plain": [
              "(120000,)"
            ]
          },
          "metadata": {
            "tags": []
          },
          "execution_count": 144
        }
      ]
    },
    {
      "cell_type": "code",
      "metadata": {
        "id": "LI3tlWmsS6NO"
      },
      "source": [
        "y=training_data.iloc[:,0]"
      ],
      "execution_count": null,
      "outputs": []
    },
    {
      "cell_type": "code",
      "metadata": {
        "colab": {
          "base_uri": "https://localhost:8080/"
        },
        "id": "qYH7NBj2TVjH",
        "outputId": "d95d123b-70bf-42a5-dbdc-733ca8e7805a"
      },
      "source": [
        "y.shape\n"
      ],
      "execution_count": null,
      "outputs": [
        {
          "output_type": "execute_result",
          "data": {
            "text/plain": [
              "(120000,)"
            ]
          },
          "metadata": {
            "tags": []
          },
          "execution_count": 146
        }
      ]
    },
    {
      "cell_type": "markdown",
      "metadata": {
        "id": "qrMW2ozwfwE1"
      },
      "source": [
        "We will use one hot encoding for the labels as the labels don't have any ordinal properties, we will not use label encoding."
      ]
    },
    {
      "cell_type": "code",
      "metadata": {
        "colab": {
          "base_uri": "https://localhost:8080/"
        },
        "id": "AL6AmFQATW8-",
        "outputId": "c1ad7dde-e55f-42c8-c074-62d66cb7ab1d"
      },
      "source": [
        "y.head()"
      ],
      "execution_count": null,
      "outputs": [
        {
          "output_type": "execute_result",
          "data": {
            "text/plain": [
              "71787    2\n",
              "67218    2\n",
              "54066    1\n",
              "7168     3\n",
              "29618    2\n",
              "Name: Class_variable, dtype: int64"
            ]
          },
          "metadata": {
            "tags": []
          },
          "execution_count": 147
        }
      ]
    },
    {
      "cell_type": "code",
      "metadata": {
        "id": "Q2M3xY7DUj5B"
      },
      "source": [
        "# from sklearn.preprocessing import OneHotEncoder\n",
        "\n",
        "# encode = OneHotEncoder(handle_unknown='ignore')\n",
        "\n",
        "# y=pd.get_dummies(y)\n"
      ],
      "execution_count": null,
      "outputs": []
    },
    {
      "cell_type": "code",
      "metadata": {
        "colab": {
          "base_uri": "https://localhost:8080/"
        },
        "id": "uZOG4qmgTkVX",
        "outputId": "6d399004-a1f3-4380-a4e8-9a42b8ef31a1"
      },
      "source": [
        "print(type(X),type(y))"
      ],
      "execution_count": null,
      "outputs": [
        {
          "output_type": "stream",
          "text": [
            "<class 'pandas.core.series.Series'> <class 'pandas.core.series.Series'>\n"
          ],
          "name": "stdout"
        }
      ]
    },
    {
      "cell_type": "markdown",
      "metadata": {
        "id": "RX4FELuoTo0P"
      },
      "source": [
        "##Test train split:\n",
        "\n",
        "We will split our dataset into 80% train and 20% cross validation sets\n"
      ]
    },
    {
      "cell_type": "code",
      "metadata": {
        "id": "ybIx75CcV-x_"
      },
      "source": [
        "from sklearn.model_selection import train_test_split\n",
        "\n",
        "x_train,x_cv,y_train,y_cv =  train_test_split(X.to_numpy(),y.to_numpy(),test_size=0.2,random_state=42)\n"
      ],
      "execution_count": null,
      "outputs": []
    },
    {
      "cell_type": "code",
      "metadata": {
        "colab": {
          "base_uri": "https://localhost:8080/"
        },
        "id": "iSUjcDgnWMPr",
        "outputId": "c89a647a-ce54-40ac-f090-135d4d0be9eb"
      },
      "source": [
        "# Printing the shapes of the datasets:\n",
        "\n",
        "print(x_train.shape,y_train.shape)\n",
        "print(x_cv.shape,y_cv.shape)"
      ],
      "execution_count": null,
      "outputs": [
        {
          "output_type": "stream",
          "text": [
            "(96000,) (96000, 4)\n",
            "(24000,) (24000, 4)\n"
          ],
          "name": "stdout"
        }
      ]
    },
    {
      "cell_type": "code",
      "metadata": {
        "id": "_eHnzKRfaPUr"
      },
      "source": [
        ""
      ],
      "execution_count": null,
      "outputs": []
    },
    {
      "cell_type": "markdown",
      "metadata": {
        "id": "iVS77GA6dG7u"
      },
      "source": [
        "#Base line model_0 with TFIDF vectoriser, Naive bayes"
      ]
    },
    {
      "cell_type": "code",
      "metadata": {
        "colab": {
          "base_uri": "https://localhost:8080/"
        },
        "id": "bn53L8pijBm5",
        "outputId": "fe58608e-2a99-411b-c0a9-0c66e271f59c"
      },
      "source": [
        "from sklearn.feature_extraction.text import TfidfVectorizer\n",
        "from sklearn.naive_bayes import MultinomialNB\n",
        "from sklearn.pipeline import Pipeline\n",
        "# Creating tokenization  and modelling pipeline\n",
        "model_0 = Pipeline([\n",
        "                    (\"tfidf\",TfidfVectorizer(max_features=2500)),\n",
        "                    (\"clf\",MultinomialNB())\n",
        "\n",
        "])\n",
        "\n",
        "model_0.fit(x_train,y_train)\n"
      ],
      "execution_count": null,
      "outputs": [
        {
          "output_type": "execute_result",
          "data": {
            "text/plain": [
              "Pipeline(memory=None,\n",
              "         steps=[('tfidf',\n",
              "                 TfidfVectorizer(analyzer='word', binary=False,\n",
              "                                 decode_error='strict',\n",
              "                                 dtype=<class 'numpy.float64'>,\n",
              "                                 encoding='utf-8', input='content',\n",
              "                                 lowercase=True, max_df=1.0, max_features=2500,\n",
              "                                 min_df=1, ngram_range=(1, 1), norm='l2',\n",
              "                                 preprocessor=None, smooth_idf=True,\n",
              "                                 stop_words=None, strip_accents=None,\n",
              "                                 sublinear_tf=False,\n",
              "                                 token_pattern='(?u)\\\\b\\\\w\\\\w+\\\\b',\n",
              "                                 tokenizer=None, use_idf=True,\n",
              "                                 vocabulary=None)),\n",
              "                ('clf',\n",
              "                 MultinomialNB(alpha=1.0, class_prior=None, fit_prior=True))],\n",
              "         verbose=False)"
            ]
          },
          "metadata": {
            "tags": []
          },
          "execution_count": 151
        }
      ]
    },
    {
      "cell_type": "code",
      "metadata": {
        "colab": {
          "base_uri": "https://localhost:8080/"
        },
        "id": "CIikKNMdrSTp",
        "outputId": "11e2ff18-5c3e-4ddb-a207-53d053838abe"
      },
      "source": [
        "# Evaluating our baseline models\n",
        "\n",
        "baseline_score_model_0 = model_0.score(x_cv,y_cv)\n",
        "print(f\"The accuracy of our model with Naive Bayes is {baseline_score_model_0*100:.2f}%\")"
      ],
      "execution_count": null,
      "outputs": [
        {
          "output_type": "stream",
          "text": [
            "The accuracy of our model with Naive Bayes is 88.51%\n"
          ],
          "name": "stdout"
        }
      ]
    },
    {
      "cell_type": "code",
      "metadata": {
        "id": "zsyO84OUANV7"
      },
      "source": [
        "# Make prediction for our models \n",
        "baseline_prediction_model_0 = model_0.predict(x_cv)\n"
      ],
      "execution_count": null,
      "outputs": []
    },
    {
      "cell_type": "code",
      "metadata": {
        "colab": {
          "base_uri": "https://localhost:8080/"
        },
        "id": "eOv7u_O7BSa3",
        "outputId": "7b03dcdb-85d2-45b7-9171-6660c7931de1"
      },
      "source": [
        "# Print the prediction \n",
        "baseline_prediction_model_0[:10]"
      ],
      "execution_count": null,
      "outputs": [
        {
          "output_type": "execute_result",
          "data": {
            "text/plain": [
              "array([2, 1, 0, 0, 2, 1, 1, 1, 2, 3])"
            ]
          },
          "metadata": {
            "tags": []
          },
          "execution_count": 154
        }
      ]
    },
    {
      "cell_type": "markdown",
      "metadata": {
        "id": "OEIaqshiaUsO"
      },
      "source": [
        "## Evaluation of the Basemodel_0:\n",
        "\n",
        "We will create a matrix to  compare our model's prediction with the truth labels using  the following matrix:\n",
        "1. Accuracy \n",
        "2. Precission\n",
        "3. Recall\n",
        "4. F1-score"
      ]
    },
    {
      "cell_type": "code",
      "metadata": {
        "id": "87akxKJJbln6"
      },
      "source": [
        "from sklearn.metrics import accuracy_score,precision_recall_fscore_support\n",
        "\n",
        "def model_evaluation_matrix(y_true,y_pred):\n",
        "\n",
        "  # model accuracy \n",
        "  model_accuracy = accuracy_score(y_true,y_pred)\n",
        "  # Calculate the precision,recall, f1 \n",
        "  model_precision,model_recall,model_f1,_= precision_recall_fscore_support(y_true,y_pred,average=\"weighted\") \n",
        "\n",
        "  model_results = {\"accuracy\": model_accuracy,\n",
        "                   \"precision\": model_precision,\n",
        "                  \"recall\" : model_recall,\n",
        "                   \"f1 score\" : model_f1\n",
        "                   }\n",
        "  return model_results                "
      ],
      "execution_count": null,
      "outputs": []
    },
    {
      "cell_type": "code",
      "metadata": {
        "id": "1T4NRR2_hbWS"
      },
      "source": [
        "baseline_model_results_0= model_evaluation_matrix(y_true= y_cv,y_pred=baseline_prediction_model_0)"
      ],
      "execution_count": null,
      "outputs": []
    },
    {
      "cell_type": "code",
      "metadata": {
        "colab": {
          "base_uri": "https://localhost:8080/"
        },
        "id": "8RbUAq0NpZnr",
        "outputId": "1c7b45e8-85cc-468c-9247-bd4a9eee2346"
      },
      "source": [
        "print(baseline_model_results_0)"
      ],
      "execution_count": null,
      "outputs": [
        {
          "output_type": "stream",
          "text": [
            "{'accuracy': 0.885125, 'precision': 0.8844913898196408, 'recall': 0.885125, 'f1 score': 0.8846301600697732}\n"
          ],
          "name": "stdout"
        }
      ]
    },
    {
      "cell_type": "code",
      "metadata": {
        "id": "Yv3MPHRRrXS8"
      },
      "source": [
        "from sklearn.metrics import confusion_matrix\n",
        "\n",
        "Baseline_model_0_confusion_matrix = confusion_matrix(y_true=y_cv,y_pred=baseline_prediction_model_0)"
      ],
      "execution_count": null,
      "outputs": []
    },
    {
      "cell_type": "code",
      "metadata": {
        "colab": {
          "base_uri": "https://localhost:8080/"
        },
        "id": "W7NITilEekfY",
        "outputId": "86b61bad-a1ae-4102-dc8e-0908ac57cfcc"
      },
      "source": [
        "print(Baseline_model_0_confusion_matrix)"
      ],
      "execution_count": null,
      "outputs": [
        {
          "output_type": "stream",
          "text": [
            "[[5312  279  260  175]\n",
            " [ 100 5732   42   56]\n",
            " [ 257   87 5059  588]\n",
            " [ 295  121  497 5140]]\n"
          ],
          "name": "stdout"
        }
      ]
    },
    {
      "cell_type": "code",
      "metadata": {
        "id": "tIl58CH8ruTT"
      },
      "source": [
        "# Our function needs a different name to sklearn's plot_confusion_matrix\n",
        "import itertools\n",
        "import matplotlib.pyplot as plt\n",
        "import numpy as np\n",
        "from sklearn.metrics import confusion_matrix\n",
        "\n",
        "def make_confusion_matrix(y_true, y_pred, classes=None, figsize=(10, 10), text_size=15, norm=False, savefig=False): \n",
        "  \"\"\"Makes a labelled confusion matrix comparing predictions and ground truth labels.\n",
        "  If classes is passed, confusion matrix will be labelled, if not, integer class values\n",
        "  will be used.\n",
        "  Args:\n",
        "    y_true: Array of truth labels (must be same shape as y_pred).\n",
        "    y_pred: Array of predicted labels (must be same shape as y_true).\n",
        "    classes: Array of class labels (e.g. string form). If `None`, integer labels are used.\n",
        "    figsize: Size of output figure (default=(10, 10)).\n",
        "    text_size: Size of output figure text (default=15).\n",
        "    norm: normalize values or not (default=False).\n",
        "    savefig: save confusion matrix to file (default=False).\n",
        "  \n",
        "  Returns:\n",
        "    A labelled confusion matrix plot comparing y_true and y_pred.\n",
        "  Example usage:\n",
        "    make_confusion_matrix(y_true=test_labels, # ground truth test labels\n",
        "                          y_pred=y_preds, # predicted labels\n",
        "                          classes=class_names, # array of class label names\n",
        "                          figsize=(15, 15),\n",
        "                          text_size=10)\n",
        "  \"\"\"  \n",
        "  # Create the confustion matrix\n",
        "  cm = confusion_matrix(y_true, y_pred)\n",
        "  cm_norm = cm.astype(\"float\") / cm.sum(axis=1)[:, np.newaxis] # normalize it\n",
        "  n_classes = cm.shape[0] # find the number of classes we're dealing with\n",
        "\n",
        "  # Plot the figure and make it pretty\n",
        "  fig, ax = plt.subplots(figsize=figsize)\n",
        "  cax = ax.matshow(cm, cmap=plt.cm.Blues) # colors will represent how 'correct' a class is, darker == better\n",
        "  fig.colorbar(cax)\n",
        "\n",
        "  # Are there a list of classes?\n",
        "  if classes:\n",
        "    labels = classes\n",
        "  else:\n",
        "    labels = np.arange(cm.shape[0])\n",
        "  \n",
        "  # Label the axes\n",
        "  ax.set(title=\"Confusion Matrix\",\n",
        "         xlabel=\"Predicted label\",\n",
        "         ylabel=\"True label\",\n",
        "         xticks=np.arange(n_classes), # create enough axis slots for each class\n",
        "         yticks=np.arange(n_classes), \n",
        "         xticklabels=labels, # axes will labeled with class names (if they exist) or ints\n",
        "         yticklabels=labels)\n",
        "  \n",
        "  # Make x-axis labels appear on bottom\n",
        "  ax.xaxis.set_label_position(\"bottom\")\n",
        "  ax.xaxis.tick_bottom()\n",
        "\n",
        "  # Set the threshold for different colors\n",
        "  threshold = (cm.max() + cm.min()) / 2.\n",
        "\n",
        "  # Plot the text on each cell\n",
        "  for i, j in itertools.product(range(cm.shape[0]), range(cm.shape[1])):\n",
        "    if norm:\n",
        "      plt.text(j, i, f\"{cm[i, j]} ({cm_norm[i, j]*100:.1f}%)\",\n",
        "              horizontalalignment=\"center\",\n",
        "              color=\"white\" if cm[i, j] > threshold else \"black\",\n",
        "              size=text_size)\n",
        "    else:\n",
        "      plt.text(j, i, f\"{cm[i, j]}\",\n",
        "              horizontalalignment=\"center\",\n",
        "              color=\"white\" if cm[i, j] > threshold else \"black\",\n",
        "              size=text_size)\n",
        "\n",
        "  # Save the figure to the current working directory\n",
        "  if savefig:\n",
        "    fig.savefig(\"confusion_matrix.png\")"
      ],
      "execution_count": null,
      "outputs": []
    },
    {
      "cell_type": "code",
      "metadata": {
        "colab": {
          "base_uri": "https://localhost:8080/",
          "height": 574
        },
        "id": "2Lyicu7SsF_B",
        "outputId": "1274c0a7-1bb9-4d1d-8c35-d4729c895692"
      },
      "source": [
        "confusion_matrix_basemodel_0 = make_confusion_matrix(y_true=y_cv,y_pred=baseline_prediction_model_0,classes=[\"Class_0\",\"Class_1\",\"Class_2\",\"Class_3\"])"
      ],
      "execution_count": null,
      "outputs": [
        {
          "output_type": "display_data",
          "data": {
            "image/png": "[encoded data removed]",
            "text/plain": [
              "<Figure size 720x720 with 2 Axes>"
            ]
          },
          "metadata": {
            "tags": [],
            "needs_background": "light"
          }
        }
      ]
    },
    {
      "cell_type": "markdown",
      "metadata": {
        "id": "eeQbUI6pgy7T"
      },
      "source": [
        "#Model_1 with TFIDF vectoriser,Logistic regression: "
      ]
    },
    {
      "cell_type": "code",
      "metadata": {
        "id": "QkXg-D-Be-Jh"
      },
      "source": [
        "from sklearn.linear_model import LogisticRegression\n",
        "from sklearn.feature_extraction.text import TfidfVectorizer\n",
        "from sklearn.pipeline import Pipeline"
      ],
      "execution_count": null,
      "outputs": []
    },
    {
      "cell_type": "code",
      "metadata": {
        "colab": {
          "base_uri": "https://localhost:8080/"
        },
        "id": "YhKkHcKZiazR",
        "outputId": "b8dd9ef1-cf11-49cd-d556-492e681e32d3"
      },
      "source": [
        "model_1 = Pipeline(([\n",
        "                    (\"tfidf\",TfidfVectorizer(max_features=2500)),\n",
        "                    (\"clf\",LogisticRegression(solver='lbfgs', max_iter=1000))\n",
        "\n",
        "]))\n",
        "model_1.fit(x_train,y_train)"
      ],
      "execution_count": null,
      "outputs": [
        {
          "output_type": "execute_result",
          "data": {
            "text/plain": [
              "Pipeline(memory=None,\n",
              "         steps=[('tfidf',\n",
              "                 TfidfVectorizer(analyzer='word', binary=False,\n",
              "                                 decode_error='strict',\n",
              "                                 dtype=<class 'numpy.float64'>,\n",
              "                                 encoding='utf-8', input='content',\n",
              "                                 lowercase=True, max_df=1.0, max_features=2500,\n",
              "                                 min_df=1, ngram_range=(1, 1), norm='l2',\n",
              "                                 preprocessor=None, smooth_idf=True,\n",
              "                                 stop_words=None, strip_accents=None,\n",
              "                                 sublinear_tf=False,\n",
              "                                 token_pattern='(?u)\\\\b\\\\w\\\\w+\\\\b',\n",
              "                                 tokenizer=None, use_idf=True,\n",
              "                                 vocabulary=None)),\n",
              "                ('clf',\n",
              "                 LogisticRegression(C=1.0, class_weight=None, dual=False,\n",
              "                                    fit_intercept=True, intercept_scaling=1,\n",
              "                                    l1_ratio=None, max_iter=1000,\n",
              "                                    multi_class='auto', n_jobs=None,\n",
              "                                    penalty='l2', random_state=None,\n",
              "                                    solver='lbfgs', tol=0.0001, verbose=0,\n",
              "                                    warm_start=False))],\n",
              "         verbose=False)"
            ]
          },
          "metadata": {
            "tags": []
          },
          "execution_count": 163
        }
      ]
    },
    {
      "cell_type": "code",
      "metadata": {
        "colab": {
          "base_uri": "https://localhost:8080/"
        },
        "id": "L7lz6725kYM_",
        "outputId": "e922612d-fa76-4bf1-cd57-161874b9e08e"
      },
      "source": [
        "baseline_score_model_1 = model_1.score(x_cv,y_cv)\n",
        "print(f\"The accuracy of our model with logistic Bayes is {baseline_score_model_1*100}%\")"
      ],
      "execution_count": null,
      "outputs": [
        {
          "output_type": "stream",
          "text": [
            "The accuracy of our model with logistic Bayes is 90.1625%\n"
          ],
          "name": "stdout"
        }
      ]
    },
    {
      "cell_type": "code",
      "metadata": {
        "id": "rN0o367VnaNP"
      },
      "source": [
        "baseline_prediction_model_2= model_1.predict(x_cv)"
      ],
      "execution_count": null,
      "outputs": []
    },
    {
      "cell_type": "markdown",
      "metadata": {
        "id": "-D_XnqM10wbf"
      },
      "source": [
        ""
      ]
    },
    {
      "cell_type": "markdown",
      "metadata": {
        "id": "pr1Z9_hUrYAz"
      },
      "source": [
        ""
      ]
    },
    {
      "cell_type": "code",
      "metadata": {
        "id": "k7YU5GAQnV4x"
      },
      "source": [
        "baseline_model_results_1= model_evaluation_matrix(y_true= y_cv,y_pred=baseline_prediction_model_2)"
      ],
      "execution_count": null,
      "outputs": []
    },
    {
      "cell_type": "code",
      "metadata": {
        "id": "NKbzNVU6n_JU"
      },
      "source": [
        "print(baseline_model_results_1)"
      ],
      "execution_count": null,
      "outputs": []
    },
    {
      "cell_type": "markdown",
      "metadata": {
        "id": "1izxhvBQoS8Y"
      },
      "source": [
        "# Model_2 with randomforest:"
      ]
    },
    {
      "cell_type": "code",
      "metadata": {
        "id": "fpZMlhu_od6G"
      },
      "source": [
        "from sklearn.ensemble import RandomForestClassifier\n",
        "\n",
        "model_2  = Pipeline([\n",
        "                    (\"tfidf\",TfidfVectorizer(max_features=2500)),\n",
        "                    (\"clf\",RandomForestClassifier(n_estimators=200,random_state=0))\n",
        "\n",
        "])\n",
        "\n",
        "model_2.fit(x_train,y_train)"
      ],
      "execution_count": null,
      "outputs": []
    },
    {
      "cell_type": "code",
      "metadata": {
        "id": "_Z9x_McqqLI1"
      },
      "source": [
        "baseline_score_model_2 = model_2.score(x_cv,y_cv)\n",
        "print(f\"The accuracy of our model with Random forest is {baseline_score_model_2*100}%\")"
      ],
      "execution_count": null,
      "outputs": []
    },
    {
      "cell_type": "code",
      "metadata": {
        "id": "15zGDULI1h8X"
      },
      "source": [
        "baseline_prediction_model_2 = model_2.predict(x_cv)"
      ],
      "execution_count": null,
      "outputs": []
    },
    {
      "cell_type": "code",
      "metadata": {
        "id": "CcCXh8sx1_Q3"
      },
      "source": [
        "baseline_model_results_2= model_evaluation_matrix(y_true= y_cv,y_pred=baseline_prediction_model_2)"
      ],
      "execution_count": null,
      "outputs": []
    },
    {
      "cell_type": "code",
      "metadata": {
        "id": "Y1jqzEm83vv-"
      },
      "source": [
        "print(baseline_model_results_2)"
      ],
      "execution_count": null,
      "outputs": []
    },
    {
      "cell_type": "markdown",
      "metadata": {
        "id": "Mm9XEaIB4S5e"
      },
      "source": [
        "# Neural Network and transformer based architecture:\n",
        "\n",
        "In this sessions, we are going to do the following:\n",
        "\n",
        "1. Convert the input into tokens.\n",
        "2. Pass the tokens into embedding layers \n",
        "3. Add positioning embedding into the input embeddings \n",
        "4. Pass it to the transformer based layers with 3 attaintion head \n",
        "5. compile the model\n",
        "6. Fit the model\n",
        "7. Evaluate the model"
      ]
    },
    {
      "cell_type": "code",
      "metadata": {
        "id": "NpdLlqiFjtXM"
      },
      "source": [
        "# We will define Tensorflow calls function which will create tensorflow directory for tensorflow_logs\n",
        "import datetime\n",
        "\n",
        "def create_tensorboard_callback(dir_name, experiment_name):\n",
        "  \"\"\"\n",
        "  Creates a TensorBoard callback instand to store log files.\n",
        "  Stores log files with the filepath:\n",
        "    \"dir_name/experiment_name/current_datetime/\"\n",
        "  Args:\n",
        "    dir_name: target directory to store TensorBoard log files\n",
        "    experiment_name: name of experiment directory (e.g. efficientnet_model_1)\n",
        "  \"\"\"\n",
        "  log_dir = dir_name + \"/\" + experiment_name + \"/\" + datetime.datetime.now().strftime(\"%Y%m%d-%H%M%S\")\n",
        "  tensorboard_callback = tf.keras.callbacks.TensorBoard(\n",
        "      log_dir=log_dir\n",
        "  )\n",
        "  print(f\"Saving TensorBoard log files to: {log_dir}\")\n",
        "  return tensorboard_callback\n"
      ],
      "execution_count": null,
      "outputs": []
    },
    {
      "cell_type": "code",
      "metadata": {
        "id": "lNigPmFaxrP1"
      },
      "source": [
        "SAVE_DIR = \"model_logs\""
      ],
      "execution_count": null,
      "outputs": []
    },
    {
      "cell_type": "markdown",
      "metadata": {
        "id": "3WMuNwoZx2yT"
      },
      "source": [
        "### Build the Neural transfomer based architecture "
      ]
    },
    {
      "cell_type": "markdown",
      "metadata": {
        "id": "ym4KQ5nsgtxX"
      },
      "source": [
        "We have our clean data. Now we have to convert it into numericals. There are many strategies can be applied(like count based, TFIDF,word2Vec)and word embedding.\n",
        "In this problem, we are going to use \n",
        "Index based tokenisation and embedding(Learnable) "
      ]
    },
    {
      "cell_type": "code",
      "metadata": {
        "id": "mOeUaIEJx0-1"
      },
      "source": [
        "\n",
        "\n",
        "#text_vectorizer = TextVectorization(max_tokens='None', # How many words in the vocabulary and also adds <OOV>, out ofvocabulary\n",
        "                                    standardize='None', # as the data is already cleaned, we are not using standardization \n",
        "                                    ngrams=None,# we are using unigram here and not considering ngrams\n",
        "                                    output_mode='int', # we are going to have int tokens and tells us how to map tokens to number\n",
        "                                    output_sequence_length=None,# automatically matches with the longest sentence if none)\n",
        "                                    pad_to_max_tokens=True)\n"
      ],
      "execution_count": null,
      "outputs": []
    },
    {
      "cell_type": "code",
      "metadata": {
        "id": "VFwBt9NdabE8"
      },
      "source": [
        "# find the 90% percentile of the length of feature matrix\n",
        "# Based on the finding of 90 percentile, we can select the length of the output Vector \n",
        "\n",
        "\n",
        "\n",
        "percentile_99 = np.percentile([len(i.split())for i in x_train],99)"
      ],
      "execution_count": null,
      "outputs": []
    },
    {
      "cell_type": "code",
      "metadata": {
        "colab": {
          "base_uri": "https://localhost:8080/"
        },
        "id": "QJ3fK8yAe4J2",
        "outputId": "4c86ed1d-e16b-4428-da57-b61fc14a0003"
      },
      "source": [
        "print(percentile_99)"
      ],
      "execution_count": null,
      "outputs": [
        {
          "output_type": "stream",
          "text": [
            "47.0\n"
          ],
          "name": "stdout"
        }
      ]
    },
    {
      "cell_type": "code",
      "metadata": {
        "id": "dZeLlkZLfDOV"
      },
      "source": [
        "import tensorflow as tf\n",
        "from tensorflow.keras.layers.experimental.preprocessing import TextVectorization\n",
        "# Setting up the text vectorization variables\n",
        "max_vocab_length =10000\n",
        "max_length = 50 # We considering 99 percentile information for the max length\n",
        "\n",
        "text_vectorizer = TextVectorization(max_tokens=max_vocab_length,output_mode=\"int\",output_sequence_length=max_length)"
      ],
      "execution_count": null,
      "outputs": []
    },
    {
      "cell_type": "code",
      "metadata": {
        "id": "XYebul_rhxec"
      },
      "source": [
        "# Fit the text vectorizer to the training text. \n",
        "\n",
        "text_vectorizer.adapt(x_train)"
      ],
      "execution_count": null,
      "outputs": []
    },
    {
      "cell_type": "code",
      "metadata": {
        "id": "ENxALfWyjnDf"
      },
      "source": [
        "sample_sentence=\"comet asteroid planet around nearby star space com space com nearby star think harbor comet asteroid appear home planets presumed world small jupiter could tiny pluto new observation suggest dollar\""
      ],
      "execution_count": null,
      "outputs": []
    },
    {
      "cell_type": "code",
      "metadata": {
        "colab": {
          "base_uri": "https://localhost:8080/"
        },
        "id": "cS-neQ91jz-X",
        "outputId": "ac135e5e-2376-481e-81a7-ba8c49866d94"
      },
      "source": [
        "# Printing out the values of the vectorizer in a sample text\n",
        "a=text_vectorizer([sample_sentence])\n",
        "print(a.shape)\n",
        "print(a) "
      ],
      "execution_count": null,
      "outputs": [
        {
          "output_type": "stream",
          "text": [
            "(1, 50)\n",
            "tf.Tensor(\n",
            "[[4384 4638 1324  393 4125  328  153  165  153  165 4125  328  519 5938\n",
            "  4384 4638  561  108    1    1   15  399 6115   61 1801    1    4 6200\n",
            "   942    2    0    0    0    0    0    0    0    0    0    0    0    0\n",
            "     0    0    0    0    0    0    0    0]], shape=(1, 50), dtype=int64)\n"
          ],
          "name": "stdout"
        }
      ]
    },
    {
      "cell_type": "markdown",
      "metadata": {
        "id": "2uXtwREYWnGq"
      },
      "source": [
        "Embdedding layer: To make our embedding, we are going to use Tensorflow's embedding layers\n",
        "https://www.tensorflow.org/api_docs/python/tf/keras/layers/Embedding\n",
        "\n",
        "The parameters we care most about the embedding layers :\n",
        "1. Input_dim: The size of the vocabulary \n",
        "2. Output_dim: The size of the output emdedding vector,for example we take as 128 and hence for each tokens I will get a 128 represenational vectors \n",
        "3. Input_length: Length of the sequence to the embedding layer"
      ]
    },
    {
      "cell_type": "code",
      "metadata": {
        "colab": {
          "base_uri": "https://localhost:8080/"
        },
        "id": "3ZkE4ET4YCGD",
        "outputId": "769fad6c-f581-42df-ab41-520507b14859"
      },
      "source": [
        "from tensorflow.keras import layers\n",
        "\n",
        "embedding = layers.Embedding(input_dim= max_vocab_length,output_dim=128,embeddings_initializer=\"uniform\",input_length=max_length)\n",
        "embedding"
      ],
      "execution_count": null,
      "outputs": [
        {
          "output_type": "execute_result",
          "data": {
            "text/plain": [
              "<tensorflow.python.keras.layers.embeddings.Embedding at 0x7fa9a99df050>"
            ]
          },
          "metadata": {
            "tags": []
          },
          "execution_count": 181
        }
      ]
    },
    {
      "cell_type": "code",
      "metadata": {
        "colab": {
          "base_uri": "https://localhost:8080/"
        },
        "id": "ra5gJ9qNY71x",
        "outputId": "485c534c-abf6-4a47-b70c-bfaacb2799a6"
      },
      "source": [
        "import random\n",
        "from random import choices\n",
        "random_sentence = random.choice(x_train)\n",
        "print(f\"Orginal text :\\n {random_sentence}\\n\\n Embedded version:\")\n",
        "\n",
        "sample_embed = embedding(text_vectorizer([random_sentence]))\n",
        "sample_embed"
      ],
      "execution_count": null,
      "outputs": [
        {
          "output_type": "stream",
          "text": [
            "Orginal text :\n",
            " flight gambling way easily bore plane maybe little blackjack help pass time london reuters airline passenger may soon able away air mile flight gamble low cost carrier dollar\n",
            "\n",
            " Embedded version:\n"
          ],
          "name": "stdout"
        },
        {
          "output_type": "execute_result",
          "data": {
            "text/plain": [
              "<tf.Tensor: shape=(1, 50, 128), dtype=float32, numpy=\n",
              "array([[[ 0.0010304 ,  0.04108102,  0.03890279, ...,  0.03078732,\n",
              "          0.00104959, -0.00337709],\n",
              "        [ 0.03023812, -0.04385585,  0.00405668, ..., -0.03843551,\n",
              "         -0.02590123,  0.01943239],\n",
              "        [ 0.00866805, -0.03447075,  0.00648971, ...,  0.04726822,\n",
              "          0.03881549,  0.0476532 ],\n",
              "        ...,\n",
              "        [-0.04746889, -0.01335956,  0.02652446, ...,  0.01005045,\n",
              "         -0.0387256 , -0.01624256],\n",
              "        [-0.04746889, -0.01335956,  0.02652446, ...,  0.01005045,\n",
              "         -0.0387256 , -0.01624256],\n",
              "        [-0.04746889, -0.01335956,  0.02652446, ...,  0.01005045,\n",
              "         -0.0387256 , -0.01624256]]], dtype=float32)>"
            ]
          },
          "metadata": {
            "tags": []
          },
          "execution_count": 182
        }
      ]
    },
    {
      "cell_type": "markdown",
      "metadata": {
        "id": "KNoIzQ8avL11"
      },
      "source": [
        "We checked our embedding layers and it is outputting a vectorof shape(1,50,128) and it working fine. \n",
        "here our input is a single sentence\n",
        "we have taken max length of each sentence as 50\n",
        "and  128 is the dimention of each vecor. So our embedding layer is outputting a vector of 128 of each  of the 50 tokens."
      ]
    },
    {
      "cell_type": "code",
      "metadata": {
        "colab": {
          "base_uri": "https://localhost:8080/"
        },
        "id": "ImkeF7b3whPm",
        "outputId": "b0ffede8-b80e-4246-c9f5-51a9d1e4f1a3"
      },
      "source": [
        "# This is what is the output of the first word from senquence we have created a Vector of length 50.Wecan say each sentence has 50 tokens.\n",
        "# Then by using that tokens each tokense\n",
        "sample_embed[0][0]"
      ],
      "execution_count": null,
      "outputs": [
        {
          "output_type": "execute_result",
          "data": {
            "text/plain": [
              "<tf.Tensor: shape=(128,), dtype=float32, numpy=\n",
              "array([ 0.0010304 ,  0.04108102,  0.03890279, -0.00755645, -0.02411021,\n",
              "        0.00783348, -0.01325382, -0.01727714,  0.04835686, -0.02689449,\n",
              "        0.02246002,  0.03583809, -0.03451157, -0.03577375, -0.00062769,\n",
              "       -0.03515584, -0.03414202, -0.04903704,  0.04452194,  0.01645888,\n",
              "        0.04838565, -0.00174398, -0.04157789,  0.02630005, -0.02360678,\n",
              "       -0.03561788, -0.02983769,  0.00815445, -0.02282293, -0.00346946,\n",
              "       -0.01269216,  0.03218127, -0.03634027,  0.03002486,  0.00550717,\n",
              "       -0.04039006,  0.00096893, -0.03066278,  0.01305132, -0.03382941,\n",
              "       -0.02671132,  0.01481214, -0.04336193, -0.01001552,  0.00414451,\n",
              "       -0.0134202 ,  0.01566756, -0.00700479,  0.04250291,  0.02345813,\n",
              "       -0.03968759,  0.01795026, -0.01486737, -0.04562383, -0.03706261,\n",
              "       -0.01370343,  0.00097358,  0.04576773, -0.04766062,  0.01933985,\n",
              "        0.04568866,  0.02580469, -0.03218863,  0.01183046,  0.00334803,\n",
              "        0.03384277, -0.02076608, -0.02235102, -0.00664582, -0.02064433,\n",
              "        0.04137678,  0.00543234,  0.01058181, -0.00315448,  0.0061687 ,\n",
              "       -0.02523612, -0.04260352, -0.03028605,  0.00244927,  0.00132414,\n",
              "        0.01007789,  0.01594656,  0.04401256,  0.03622276, -0.04751861,\n",
              "       -0.01785611, -0.01039885,  0.02932353,  0.00882643,  0.03444501,\n",
              "        0.0406078 , -0.04508761, -0.02700839, -0.01261105,  0.01785609,\n",
              "       -0.04439384,  0.02777879, -0.01598986,  0.03116432, -0.02128818,\n",
              "        0.01134685,  0.00105076, -0.01861347,  0.04862051, -0.03198382,\n",
              "       -0.00083613, -0.00185938,  0.00121202,  0.0285424 , -0.01404697,\n",
              "       -0.04392498, -0.00607151, -0.00371832,  0.00826091, -0.02381952,\n",
              "        0.0427825 ,  0.02408496,  0.04712165, -0.01870253, -0.02663676,\n",
              "       -0.02226381, -0.04637281,  0.04715485,  0.04201471, -0.01928556,\n",
              "        0.03078732,  0.00104959, -0.00337709], dtype=float32)>"
            ]
          },
          "metadata": {
            "tags": []
          },
          "execution_count": 184
        }
      ]
    },
    {
      "cell_type": "code",
      "metadata": {
        "colab": {
          "base_uri": "https://localhost:8080/"
        },
        "id": "4V5eCzF-yp0b",
        "outputId": "73bee419-dbb3-45e6-f92e-dd6f6874933f"
      },
      "source": [
        "sample_embed[0][1]"
      ],
      "execution_count": null,
      "outputs": [
        {
          "output_type": "execute_result",
          "data": {
            "text/plain": [
              "<tf.Tensor: shape=(128,), dtype=float32, numpy=\n",
              "array([ 3.0238118e-02, -4.3855846e-02,  4.0566809e-03,  4.2966340e-02,\n",
              "        1.8748019e-02,  3.4018826e-02,  2.9222403e-02,  2.4364840e-02,\n",
              "        3.6878336e-02, -3.0720269e-02,  4.8994172e-02,  4.2026829e-02,\n",
              "        3.0265562e-03,  8.1849322e-03,  5.5489317e-03, -1.9942595e-02,\n",
              "       -1.3533734e-02,  4.3804273e-03,  2.6269443e-03,  1.7392937e-02,\n",
              "        4.7051694e-02, -3.8315199e-02, -3.5448432e-02, -3.6268376e-02,\n",
              "        1.4116254e-02, -1.1887491e-02, -2.6348352e-02,  2.7910247e-03,\n",
              "       -2.6181066e-02,  4.9580943e-02, -2.6233828e-02,  2.4458025e-02,\n",
              "        4.2308494e-04, -3.4945630e-02, -1.3735354e-02,  3.9490927e-02,\n",
              "       -4.4092119e-02, -1.4548376e-04, -2.4359429e-02, -4.3366779e-02,\n",
              "        3.4137655e-02, -1.9244755e-02, -3.7139654e-03,  3.2053147e-02,\n",
              "        3.7059676e-02, -3.4670614e-02,  9.0024956e-03,  3.6920223e-02,\n",
              "       -8.1758611e-03,  1.9727204e-02,  2.4049569e-02, -1.7105736e-02,\n",
              "       -3.5636522e-02, -1.3512421e-02,  8.3257779e-03, -5.5685416e-03,\n",
              "        4.1826729e-02, -1.5760493e-02, -3.3180013e-02, -3.0928625e-02,\n",
              "       -1.8983914e-02, -2.2330392e-02,  4.6943877e-02, -1.9292546e-02,\n",
              "       -2.7023042e-02,  3.3598058e-03,  7.5937733e-03,  4.0108625e-02,\n",
              "        2.0490322e-02, -3.0919075e-02, -2.6974786e-02, -5.5233836e-03,\n",
              "        3.6688630e-02,  4.4907156e-02, -2.0999908e-02,  1.7013375e-02,\n",
              "        3.2909874e-02,  1.9947063e-02,  1.4074396e-02,  9.8882802e-03,\n",
              "        3.5331156e-02, -2.3821235e-02,  6.2958114e-03,  1.0480486e-02,\n",
              "        3.9753865e-02, -4.0251981e-02, -1.9078314e-02,  1.7411698e-02,\n",
              "        1.0154925e-02,  1.1069715e-02, -3.7498586e-03,  3.7504483e-02,\n",
              "       -4.0682841e-02,  4.0826526e-02, -8.9369901e-03, -7.5136535e-03,\n",
              "       -2.3137555e-03,  4.7373358e-02, -1.2780499e-02, -1.6213216e-02,\n",
              "       -2.4071336e-03, -2.1480322e-02, -1.2928128e-02, -8.2305297e-03,\n",
              "        4.8634078e-02, -1.0533106e-02,  1.3156999e-02,  4.2704415e-02,\n",
              "       -5.5076927e-04,  9.8971240e-03, -2.8191997e-02,  2.8630089e-02,\n",
              "        1.8471479e-04, -1.0284409e-03,  3.9488673e-03, -4.7741950e-02,\n",
              "       -1.9299760e-03, -2.2904230e-02, -1.3820417e-03,  3.5344232e-02,\n",
              "       -3.1901196e-02,  3.1744089e-02,  4.9732625e-05, -8.1089512e-03,\n",
              "       -4.8573613e-02, -3.8435508e-02, -2.5901234e-02,  1.9432392e-02],\n",
              "      dtype=float32)>"
            ]
          },
          "metadata": {
            "tags": []
          },
          "execution_count": 185
        }
      ]
    },
    {
      "cell_type": "markdown",
      "metadata": {
        "id": "ZcgIo1nkBa5S"
      },
      "source": [
        "### Simple MLP based learning :\n"
      ]
    },
    {
      "cell_type": "code",
      "metadata": {
        "colab": {
          "base_uri": "https://localhost:8080/",
          "height": 370
        },
        "id": "xtfDVQE-BYNY",
        "outputId": "0fd8823e-8954-4d14-9ca7-c00c30312c7c"
      },
      "source": [
        "from tensorflow.keras import layers \n",
        "\n",
        "inputs = layers.Input(shape=(1,),dtype=tf.string) # inputs are 1 -d strings \n",
        "x = text_vectorizer(inputs)\n",
        "x = embedding(x)\n",
        "x = layers.GlobalAveragePooling1D()(x)\n",
        "x = layers.Dense(512,activation='relu')(x)\n",
        "x = layers.Dense(128,activation='relu')(x)\n",
        "x = layers.Dropout(0.3)(x)\n",
        "x = layers.Dense(32,activation='relu')(x)\n",
        "x = layers.Dense(4,activation='softmax')(x)\n",
        "\n",
        "\n",
        "model_3 = tf.keras.Model(inputs,outputs,name= \"model_3_Dense_MLP\")"
      ],
      "execution_count": null,
      "outputs": [
        {
          "output_type": "error",
          "ename": "ValueError",
          "evalue": "ignored",
          "traceback": [
            "\u001b[0;31m---------------------------------------------------------------------------\u001b[0m",
            "\u001b[0;31mValueError\u001b[0m                                Traceback (most recent call last)",
            "\u001b[0;32m<ipython-input-295-f40cd67f6134>\u001b[0m in \u001b[0;36m<module>\u001b[0;34m()\u001b[0m\n\u001b[1;32m     12\u001b[0m \u001b[0;34m\u001b[0m\u001b[0m\n\u001b[1;32m     13\u001b[0m \u001b[0;34m\u001b[0m\u001b[0m\n\u001b[0;32m---> 14\u001b[0;31m \u001b[0mmodel_3\u001b[0m \u001b[0;34m=\u001b[0m \u001b[0mtf\u001b[0m\u001b[0;34m.\u001b[0m\u001b[0mkeras\u001b[0m\u001b[0;34m.\u001b[0m\u001b[0mModel\u001b[0m\u001b[0;34m(\u001b[0m\u001b[0minputs\u001b[0m\u001b[0;34m,\u001b[0m\u001b[0moutputs\u001b[0m\u001b[0;34m,\u001b[0m\u001b[0mname\u001b[0m\u001b[0;34m=\u001b[0m \u001b[0;34m\"model_3_Dense_MLP\"\u001b[0m\u001b[0;34m)\u001b[0m\u001b[0;34m\u001b[0m\u001b[0;34m\u001b[0m\u001b[0m\n\u001b[0m",
            "\u001b[0;32m/usr/local/lib/python3.7/dist-packages/tensorflow/python/training/tracking/base.py\u001b[0m in \u001b[0;36m_method_wrapper\u001b[0;34m(self, *args, **kwargs)\u001b[0m\n\u001b[1;32m    520\u001b[0m     \u001b[0mself\u001b[0m\u001b[0;34m.\u001b[0m\u001b[0m_self_setattr_tracking\u001b[0m \u001b[0;34m=\u001b[0m \u001b[0;32mFalse\u001b[0m  \u001b[0;31m# pylint: disable=protected-access\u001b[0m\u001b[0;34m\u001b[0m\u001b[0;34m\u001b[0m\u001b[0m\n\u001b[1;32m    521\u001b[0m     \u001b[0;32mtry\u001b[0m\u001b[0;34m:\u001b[0m\u001b[0;34m\u001b[0m\u001b[0;34m\u001b[0m\u001b[0m\n\u001b[0;32m--> 522\u001b[0;31m       \u001b[0mresult\u001b[0m \u001b[0;34m=\u001b[0m \u001b[0mmethod\u001b[0m\u001b[0;34m(\u001b[0m\u001b[0mself\u001b[0m\u001b[0;34m,\u001b[0m \u001b[0;34m*\u001b[0m\u001b[0margs\u001b[0m\u001b[0;34m,\u001b[0m \u001b[0;34m**\u001b[0m\u001b[0mkwargs\u001b[0m\u001b[0;34m)\u001b[0m\u001b[0;34m\u001b[0m\u001b[0;34m\u001b[0m\u001b[0m\n\u001b[0m\u001b[1;32m    523\u001b[0m     \u001b[0;32mfinally\u001b[0m\u001b[0;34m:\u001b[0m\u001b[0;34m\u001b[0m\u001b[0;34m\u001b[0m\u001b[0m\n\u001b[1;32m    524\u001b[0m       \u001b[0mself\u001b[0m\u001b[0;34m.\u001b[0m\u001b[0m_self_setattr_tracking\u001b[0m \u001b[0;34m=\u001b[0m \u001b[0mprevious_value\u001b[0m  \u001b[0;31m# pylint: disable=protected-access\u001b[0m\u001b[0;34m\u001b[0m\u001b[0;34m\u001b[0m\u001b[0m\n",
            "\u001b[0;32m/usr/local/lib/python3.7/dist-packages/tensorflow/python/keras/engine/functional.py\u001b[0m in \u001b[0;36m__init__\u001b[0;34m(self, inputs, outputs, name, trainable, **kwargs)\u001b[0m\n\u001b[1;32m    113\u001b[0m     \u001b[0mgeneric_utils\u001b[0m\u001b[0;34m.\u001b[0m\u001b[0mvalidate_kwargs\u001b[0m\u001b[0;34m(\u001b[0m\u001b[0mkwargs\u001b[0m\u001b[0;34m,\u001b[0m \u001b[0;34m{\u001b[0m\u001b[0;34m}\u001b[0m\u001b[0;34m)\u001b[0m\u001b[0;34m\u001b[0m\u001b[0;34m\u001b[0m\u001b[0m\n\u001b[1;32m    114\u001b[0m     \u001b[0msuper\u001b[0m\u001b[0;34m(\u001b[0m\u001b[0mFunctional\u001b[0m\u001b[0;34m,\u001b[0m \u001b[0mself\u001b[0m\u001b[0;34m)\u001b[0m\u001b[0;34m.\u001b[0m\u001b[0m__init__\u001b[0m\u001b[0;34m(\u001b[0m\u001b[0mname\u001b[0m\u001b[0;34m=\u001b[0m\u001b[0mname\u001b[0m\u001b[0;34m,\u001b[0m \u001b[0mtrainable\u001b[0m\u001b[0;34m=\u001b[0m\u001b[0mtrainable\u001b[0m\u001b[0;34m)\u001b[0m\u001b[0;34m\u001b[0m\u001b[0;34m\u001b[0m\u001b[0m\n\u001b[0;32m--> 115\u001b[0;31m     \u001b[0mself\u001b[0m\u001b[0;34m.\u001b[0m\u001b[0m_init_graph_network\u001b[0m\u001b[0;34m(\u001b[0m\u001b[0minputs\u001b[0m\u001b[0;34m,\u001b[0m \u001b[0moutputs\u001b[0m\u001b[0;34m)\u001b[0m\u001b[0;34m\u001b[0m\u001b[0;34m\u001b[0m\u001b[0m\n\u001b[0m\u001b[1;32m    116\u001b[0m \u001b[0;34m\u001b[0m\u001b[0m\n\u001b[1;32m    117\u001b[0m   \u001b[0;34m@\u001b[0m\u001b[0mtrackable\u001b[0m\u001b[0;34m.\u001b[0m\u001b[0mno_automatic_dependency_tracking\u001b[0m\u001b[0;34m\u001b[0m\u001b[0;34m\u001b[0m\u001b[0m\n",
            "\u001b[0;32m/usr/local/lib/python3.7/dist-packages/tensorflow/python/training/tracking/base.py\u001b[0m in \u001b[0;36m_method_wrapper\u001b[0;34m(self, *args, **kwargs)\u001b[0m\n\u001b[1;32m    520\u001b[0m     \u001b[0mself\u001b[0m\u001b[0;34m.\u001b[0m\u001b[0m_self_setattr_tracking\u001b[0m \u001b[0;34m=\u001b[0m \u001b[0;32mFalse\u001b[0m  \u001b[0;31m# pylint: disable=protected-access\u001b[0m\u001b[0;34m\u001b[0m\u001b[0;34m\u001b[0m\u001b[0m\n\u001b[1;32m    521\u001b[0m     \u001b[0;32mtry\u001b[0m\u001b[0;34m:\u001b[0m\u001b[0;34m\u001b[0m\u001b[0;34m\u001b[0m\u001b[0m\n\u001b[0;32m--> 522\u001b[0;31m       \u001b[0mresult\u001b[0m \u001b[0;34m=\u001b[0m \u001b[0mmethod\u001b[0m\u001b[0;34m(\u001b[0m\u001b[0mself\u001b[0m\u001b[0;34m,\u001b[0m \u001b[0;34m*\u001b[0m\u001b[0margs\u001b[0m\u001b[0;34m,\u001b[0m \u001b[0;34m**\u001b[0m\u001b[0mkwargs\u001b[0m\u001b[0;34m)\u001b[0m\u001b[0;34m\u001b[0m\u001b[0;34m\u001b[0m\u001b[0m\n\u001b[0m\u001b[1;32m    523\u001b[0m     \u001b[0;32mfinally\u001b[0m\u001b[0;34m:\u001b[0m\u001b[0;34m\u001b[0m\u001b[0;34m\u001b[0m\u001b[0m\n\u001b[1;32m    524\u001b[0m       \u001b[0mself\u001b[0m\u001b[0;34m.\u001b[0m\u001b[0m_self_setattr_tracking\u001b[0m \u001b[0;34m=\u001b[0m \u001b[0mprevious_value\u001b[0m  \u001b[0;31m# pylint: disable=protected-access\u001b[0m\u001b[0;34m\u001b[0m\u001b[0;34m\u001b[0m\u001b[0m\n",
            "\u001b[0;32m/usr/local/lib/python3.7/dist-packages/tensorflow/python/keras/engine/functional.py\u001b[0m in \u001b[0;36m_init_graph_network\u001b[0;34m(self, inputs, outputs)\u001b[0m\n\u001b[1;32m    197\u001b[0m     \u001b[0;31m# Keep track of the network's nodes and layers.\u001b[0m\u001b[0;34m\u001b[0m\u001b[0;34m\u001b[0m\u001b[0;34m\u001b[0m\u001b[0m\n\u001b[1;32m    198\u001b[0m     nodes, nodes_by_depth, layers, _ = _map_graph_network(\n\u001b[0;32m--> 199\u001b[0;31m         self.inputs, self.outputs)\n\u001b[0m\u001b[1;32m    200\u001b[0m     \u001b[0mself\u001b[0m\u001b[0;34m.\u001b[0m\u001b[0m_network_nodes\u001b[0m \u001b[0;34m=\u001b[0m \u001b[0mnodes\u001b[0m\u001b[0;34m\u001b[0m\u001b[0;34m\u001b[0m\u001b[0m\n\u001b[1;32m    201\u001b[0m     \u001b[0mself\u001b[0m\u001b[0;34m.\u001b[0m\u001b[0m_nodes_by_depth\u001b[0m \u001b[0;34m=\u001b[0m \u001b[0mnodes_by_depth\u001b[0m\u001b[0;34m\u001b[0m\u001b[0;34m\u001b[0m\u001b[0m\n",
            "\u001b[0;32m/usr/local/lib/python3.7/dist-packages/tensorflow/python/keras/engine/functional.py\u001b[0m in \u001b[0;36m_map_graph_network\u001b[0;34m(inputs, outputs)\u001b[0m\n\u001b[1;32m    988\u001b[0m                              \u001b[0;34m'The following previous layers '\u001b[0m\u001b[0;34m\u001b[0m\u001b[0;34m\u001b[0m\u001b[0m\n\u001b[1;32m    989\u001b[0m                              \u001b[0;34m'were accessed without issue: '\u001b[0m \u001b[0;34m+\u001b[0m\u001b[0;34m\u001b[0m\u001b[0;34m\u001b[0m\u001b[0m\n\u001b[0;32m--> 990\u001b[0;31m                              str(layers_with_complete_input))\n\u001b[0m\u001b[1;32m    991\u001b[0m         \u001b[0;32mfor\u001b[0m \u001b[0mx\u001b[0m \u001b[0;32min\u001b[0m \u001b[0mnest\u001b[0m\u001b[0;34m.\u001b[0m\u001b[0mflatten\u001b[0m\u001b[0;34m(\u001b[0m\u001b[0mnode\u001b[0m\u001b[0;34m.\u001b[0m\u001b[0moutputs\u001b[0m\u001b[0;34m)\u001b[0m\u001b[0;34m:\u001b[0m\u001b[0;34m\u001b[0m\u001b[0;34m\u001b[0m\u001b[0m\n\u001b[1;32m    992\u001b[0m           \u001b[0mcomputable_tensors\u001b[0m\u001b[0;34m.\u001b[0m\u001b[0madd\u001b[0m\u001b[0;34m(\u001b[0m\u001b[0mid\u001b[0m\u001b[0;34m(\u001b[0m\u001b[0mx\u001b[0m\u001b[0;34m)\u001b[0m\u001b[0;34m)\u001b[0m\u001b[0;34m\u001b[0m\u001b[0;34m\u001b[0m\u001b[0m\n",
            "\u001b[0;31mValueError\u001b[0m: Graph disconnected: cannot obtain value for tensor KerasTensor(type_spec=TensorSpec(shape=(None, 1), dtype=tf.string, name='input_17'), name='input_17', description=\"created by layer 'input_17'\") at layer \"text_vectorization\". The following previous layers were accessed without issue: []"
          ]
        }
      ]
    },
    {
      "cell_type": "code",
      "metadata": {
        "colab": {
          "base_uri": "https://localhost:8080/"
        },
        "id": "A2NOdFQMEsZa",
        "outputId": "c9a4ecd8-d8d4-47d7-a558-e2dc79b60860"
      },
      "source": [
        "model_3.summary()"
      ],
      "execution_count": null,
      "outputs": [
        {
          "output_type": "stream",
          "text": [
            "Model: \"model_3_Dense_MLP\"\n",
            "_________________________________________________________________\n",
            "Layer (type)                 Output Shape              Param #   \n",
            "=================================================================\n",
            "input_17 (InputLayer)        [(None, 1)]               0         \n",
            "_________________________________________________________________\n",
            "text_vectorization (TextVect (None, 50)                0         \n",
            "_________________________________________________________________\n",
            "embedding (Embedding)        (None, 50, 128)           1280000   \n",
            "_________________________________________________________________\n",
            "global_average_pooling1d_11  (None, 128)               0         \n",
            "_________________________________________________________________\n",
            "dense_36 (Dense)             (None, 512)               66048     \n",
            "_________________________________________________________________\n",
            "dense_37 (Dense)             (None, 128)               65664     \n",
            "_________________________________________________________________\n",
            "dropout_7 (Dropout)          (None, 128)               0         \n",
            "_________________________________________________________________\n",
            "dense_38 (Dense)             (None, 32)                4128      \n",
            "_________________________________________________________________\n",
            "dense_39 (Dense)             (None, 4)                 132       \n",
            "=================================================================\n",
            "Total params: 1,415,972\n",
            "Trainable params: 1,415,972\n",
            "Non-trainable params: 0\n",
            "_________________________________________________________________\n"
          ],
          "name": "stdout"
        }
      ]
    },
    {
      "cell_type": "code",
      "metadata": {
        "id": "O3BZMRkMFAri"
      },
      "source": [
        "model_3.compile(optimizer= tf.keras.optimizers.Adam(),loss=tf.keras.losses.SparseCategoricalCrossentropy(),metrics=[\"accuracy\"])"
      ],
      "execution_count": null,
      "outputs": []
    },
    {
      "cell_type": "code",
      "metadata": {
        "colab": {
          "base_uri": "https://localhost:8080/"
        },
        "id": "UYwqtcKyGs_a",
        "outputId": "e10287f3-c91b-4fba-ca56-a8284e3fb2f6"
      },
      "source": [
        "model_3_history = model_3.fit(x = x_train,y=y_train,epochs=5,validation_data=(x_cv,y_cv),callbacks=[create_tensorboard_callback(dir_name=SAVE_DIR,experiment_name=\"model_3_denseMLP\")])"
      ],
      "execution_count": null,
      "outputs": [
        {
          "output_type": "stream",
          "text": [
            "Saving TensorBoard log files to: model_logs/model_3_denseMLP/20210716-112000\n",
            "Epoch 1/5\n",
            "3000/3000 [==============================] - 61s 20ms/step - loss: 0.6304 - accuracy: 0.7257 - val_loss: 0.2945 - val_accuracy: 0.9078\n",
            "Epoch 2/5\n",
            "3000/3000 [==============================] - 61s 20ms/step - loss: 0.2408 - accuracy: 0.9163 - val_loss: 0.3272 - val_accuracy: 0.8919\n",
            "Epoch 3/5\n",
            "3000/3000 [==============================] - 60s 20ms/step - loss: 0.2191 - accuracy: 0.9241 - val_loss: 0.3790 - val_accuracy: 0.8866\n",
            "Epoch 4/5\n",
            "3000/3000 [==============================] - 62s 21ms/step - loss: 0.2115 - accuracy: 0.9265 - val_loss: 0.2732 - val_accuracy: 0.9110\n",
            "Epoch 5/5\n",
            "3000/3000 [==============================] - 60s 20ms/step - loss: 0.2036 - accuracy: 0.9291 - val_loss: 0.2662 - val_accuracy: 0.9146\n"
          ],
          "name": "stdout"
        }
      ]
    },
    {
      "cell_type": "markdown",
      "metadata": {
        "id": "n2Vf0hSxG532"
      },
      "source": [
        "\n",
        "**Difference between Cross Entropy and Sparse Cross entrophy**\n",
        "Both, categorical cross entropy and sparse categorical cross entropy have the same loss function which you have mentioned above. The only difference is the format in which you mention Yi (i,e true labels).\n",
        "\n",
        "If your Yi's are one-hot encoded, use categorical_crossentropy. Examples (for a 3-class classification): [1,0,0] , [0,1,0], [0,0,1]\n",
        "\n",
        "But if your Yi's are integers, use sparse_categorical_crossentropy. Examples for above 3-class classification problem: [1] , [2], [3]\n",
        "\n",
        "The usage entirely depends on how you load your dataset. One advantage of using sparse categorical cross entropy is it saves time in memory as well as computation because it simply uses a single integer for a class, rather than a whole vector.m"
      ]
    },
    {
      "cell_type": "code",
      "metadata": {
        "colab": {
          "base_uri": "https://localhost:8080/"
        },
        "id": "8JDTGAX8_u7D",
        "outputId": "b5d0181a-57eb-4d25-89a5-08d7878ffb7c"
      },
      "source": [
        "model_3_pred_probs  = model_3.predict(x_cv) \n",
        "model_3_pred_probs[0]"
      ],
      "execution_count": null,
      "outputs": [
        {
          "output_type": "execute_result",
          "data": {
            "text/plain": [
              "array([2.7698401e-04, 7.0570910e-10, 9.9972290e-01, 1.3072714e-07],\n",
              "      dtype=float32)"
            ]
          },
          "metadata": {
            "tags": []
          },
          "execution_count": 267
        }
      ]
    },
    {
      "cell_type": "code",
      "metadata": {
        "colab": {
          "base_uri": "https://localhost:8080/"
        },
        "id": "6MwxsGOMNmr2",
        "outputId": "97435ad9-e4c1-4794-f68e-b17bf114bb77"
      },
      "source": [
        "model_3_pred_probs= tf.squeeze(tf.round(model_3_pred_probs))\n",
        "model_3_pred_probs[:20]"
      ],
      "execution_count": null,
      "outputs": [
        {
          "output_type": "execute_result",
          "data": {
            "text/plain": [
              "<tf.Tensor: shape=(20, 4), dtype=float32, numpy=\n",
              "array([[0., 0., 1., 0.],\n",
              "       [0., 1., 0., 0.],\n",
              "       [1., 0., 0., 0.],\n",
              "       [1., 0., 0., 0.],\n",
              "       [0., 0., 1., 0.],\n",
              "       [0., 1., 0., 0.],\n",
              "       [0., 1., 0., 0.],\n",
              "       [0., 1., 0., 0.],\n",
              "       [0., 0., 1., 0.],\n",
              "       [0., 0., 0., 1.],\n",
              "       [1., 0., 0., 0.],\n",
              "       [0., 0., 1., 0.],\n",
              "       [0., 0., 1., 0.],\n",
              "       [0., 0., 1., 0.],\n",
              "       [1., 0., 0., 0.],\n",
              "       [1., 0., 0., 0.],\n",
              "       [0., 0., 1., 0.],\n",
              "       [1., 0., 0., 0.],\n",
              "       [0., 0., 0., 1.],\n",
              "       [0., 0., 1., 0.]], dtype=float32)>"
            ]
          },
          "metadata": {
            "tags": []
          },
          "execution_count": 269
        }
      ]
    },
    {
      "cell_type": "markdown",
      "metadata": {
        "id": "RljySHlwOlPM"
      },
      "source": [
        "As our Y_Cv is not one hot encoded, we will do then going to comapare that. "
      ]
    },
    {
      "cell_type": "code",
      "metadata": {
        "id": "b656d0rENRPD"
      },
      "source": [
        "plt.title('Loss')\n",
        "plt.plot(history.history['loss'], label='train')\n",
        "plt.plot(history.history['val_loss'], label='test')\n",
        "plt.legend()\n",
        "plt.show();"
      ],
      "execution_count": null,
      "outputs": []
    },
    {
      "cell_type": "markdown",
      "metadata": {
        "id": "dEOTGWxWzGb6"
      },
      "source": [
        "#Model_3 Transformer Based Architecture: \n",
        "   We will build the Nueral Network by using 2 hidden layers by using functional API of tensorflow."
      ]
    },
    {
      "cell_type": "markdown",
      "metadata": {
        "id": "OJ55yvDRfZFW"
      },
      "source": [
        " For  Transformer based models. we will load the cleaned data and then perform the tokenisation and postional encoding then we will pass it to the transformer model. "
      ]
    },
    {
      "cell_type": "code",
      "metadata": {
        "id": "ly5drSAPfSMx"
      },
      "source": [
        "dataset = pd.read_csv(\"/content/drive/MyDrive/NLP/Document_classification_project_BBC_Data/AG_Dataset/cleaned_dataset_training_csv\")"
      ],
      "execution_count": null,
      "outputs": []
    },
    {
      "cell_type": "code",
      "metadata": {
        "colab": {
          "base_uri": "https://localhost:8080/",
          "height": 203
        },
        "id": "LAs6BzmwgPPW",
        "outputId": "ccc8d1bc-1614-43d0-e01b-72d4a83f66c5"
      },
      "source": [
        "dataset.head()"
      ],
      "execution_count": null,
      "outputs": [
        {
          "output_type": "execute_result",
          "data": {
            "text/html": [
              "<div>\n",
              "<style scoped>\n",
              "    .dataframe tbody tr th:only-of-type {\n",
              "        vertical-align: middle;\n",
              "    }\n",
              "\n",
              "    .dataframe tbody tr th {\n",
              "        vertical-align: top;\n",
              "    }\n",
              "\n",
              "    .dataframe thead th {\n",
              "        text-align: right;\n",
              "    }\n",
              "</style>\n",
              "<table border=\"1\" class=\"dataframe\">\n",
              "  <thead>\n",
              "    <tr style=\"text-align: right;\">\n",
              "      <th></th>\n",
              "      <th>Class_variable</th>\n",
              "      <th>Title_desc_combined</th>\n",
              "    </tr>\n",
              "  </thead>\n",
              "  <tbody>\n",
              "    <tr>\n",
              "      <th>0</th>\n",
              "      <td>2</td>\n",
              "      <td>wall st bear claw back black reuters reuters s...</td>\n",
              "    </tr>\n",
              "    <tr>\n",
              "      <th>1</th>\n",
              "      <td>2</td>\n",
              "      <td>carlyle look toward commercial aerospace reute...</td>\n",
              "    </tr>\n",
              "    <tr>\n",
              "      <th>2</th>\n",
              "      <td>2</td>\n",
              "      <td>oil economy cloud stock outlook reuters reuter...</td>\n",
              "    </tr>\n",
              "    <tr>\n",
              "      <th>3</th>\n",
              "      <td>2</td>\n",
              "      <td>iraq halt oil export main southern pipeline re...</td>\n",
              "    </tr>\n",
              "    <tr>\n",
              "      <th>4</th>\n",
              "      <td>2</td>\n",
              "      <td>oil price soar time record pose new menace us ...</td>\n",
              "    </tr>\n",
              "  </tbody>\n",
              "</table>\n",
              "</div>"
            ],
            "text/plain": [
              "   Class_variable                                Title_desc_combined\n",
              "0               2  wall st bear claw back black reuters reuters s...\n",
              "1               2  carlyle look toward commercial aerospace reute...\n",
              "2               2  oil economy cloud stock outlook reuters reuter...\n",
              "3               2  iraq halt oil export main southern pipeline re...\n",
              "4               2  oil price soar time record pose new menace us ..."
            ]
          },
          "metadata": {
            "tags": []
          },
          "execution_count": 57
        }
      ]
    },
    {
      "cell_type": "code",
      "metadata": {
        "id": "yDZ5gyxstCt0"
      },
      "source": [
        "#Helper function to covert y labels to text\n",
        "\n",
        "# def replace_classvariable_text(a):\n",
        "\n",
        "#    if a==1:\n",
        "\n",
        "#      a=\"Class_0\"\n",
        "#      return a\n",
        "#    elif  a==2:\n",
        "#      a=\"Class_1\"\n",
        "#      return a\n",
        "#    elif a==3:\n",
        "#      a=\"Class_2\"\n",
        "#      return a\n",
        "#    elif a==4:\n",
        "#      a=\"Class_3\"\n",
        "#      return a\n"
      ],
      "execution_count": null,
      "outputs": []
    },
    {
      "cell_type": "code",
      "metadata": {
        "id": "uV7UMZ7Dtl3D"
      },
      "source": [
        "#dataset['Class_variable'] = dataset[\"Class_variable\"].apply(replace_classvariable_text)"
      ],
      "execution_count": null,
      "outputs": []
    },
    {
      "cell_type": "code",
      "metadata": {
        "id": "B4ujGQmjt_Fl"
      },
      "source": [
        "from sklearn.utils import shuffle\n",
        "\n",
        "dataset=shuffle(dataset,random_state=42)"
      ],
      "execution_count": null,
      "outputs": []
    },
    {
      "cell_type": "code",
      "metadata": {
        "colab": {
          "base_uri": "https://localhost:8080/",
          "height": 203
        },
        "id": "ASkRQLTVxGaz",
        "outputId": "7b7da90d-706f-43b0-a218-9a54b490e712"
      },
      "source": [
        "dataset.head()"
      ],
      "execution_count": null,
      "outputs": [
        {
          "output_type": "execute_result",
          "data": {
            "text/html": [
              "<div>\n",
              "<style scoped>\n",
              "    .dataframe tbody tr th:only-of-type {\n",
              "        vertical-align: middle;\n",
              "    }\n",
              "\n",
              "    .dataframe tbody tr th {\n",
              "        vertical-align: top;\n",
              "    }\n",
              "\n",
              "    .dataframe thead th {\n",
              "        text-align: right;\n",
              "    }\n",
              "</style>\n",
              "<table border=\"1\" class=\"dataframe\">\n",
              "  <thead>\n",
              "    <tr style=\"text-align: right;\">\n",
              "      <th></th>\n",
              "      <th>Class_variable</th>\n",
              "      <th>Title_desc_combined</th>\n",
              "    </tr>\n",
              "  </thead>\n",
              "  <tbody>\n",
              "    <tr>\n",
              "      <th>71787</th>\n",
              "      <td>2</td>\n",
              "      <td>bbc set major shake claim newspaperlondon brit...</td>\n",
              "    </tr>\n",
              "    <tr>\n",
              "      <th>67218</th>\n",
              "      <td>2</td>\n",
              "      <td>marsh averts cash crunchembattled insurance br...</td>\n",
              "    </tr>\n",
              "    <tr>\n",
              "      <th>54066</th>\n",
              "      <td>1</td>\n",
              "      <td>jeter yankee look take control ap ap derek jet...</td>\n",
              "    </tr>\n",
              "    <tr>\n",
              "      <th>7168</th>\n",
              "      <td>3</td>\n",
              "      <td>fly sun safetywhen genesis capsule come back e...</td>\n",
              "    </tr>\n",
              "    <tr>\n",
              "      <th>29618</th>\n",
              "      <td>2</td>\n",
              "      <td>stock see flat nortel oil weigh new york reute...</td>\n",
              "    </tr>\n",
              "  </tbody>\n",
              "</table>\n",
              "</div>"
            ],
            "text/plain": [
              "       Class_variable                                Title_desc_combined\n",
              "71787               2  bbc set major shake claim newspaperlondon brit...\n",
              "67218               2  marsh averts cash crunchembattled insurance br...\n",
              "54066               1  jeter yankee look take control ap ap derek jet...\n",
              "7168                3  fly sun safetywhen genesis capsule come back e...\n",
              "29618               2  stock see flat nortel oil weigh new york reute..."
            ]
          },
          "metadata": {
            "tags": []
          },
          "execution_count": 35
        }
      ]
    },
    {
      "cell_type": "code",
      "metadata": {
        "id": "-D0G5Zt9glUF"
      },
      "source": [
        "x = dataset.iloc[:,1]"
      ],
      "execution_count": null,
      "outputs": []
    },
    {
      "cell_type": "code",
      "metadata": {
        "id": "e1SYHZ1zg0uh"
      },
      "source": [
        "y =dataset.iloc[:,0]"
      ],
      "execution_count": null,
      "outputs": []
    },
    {
      "cell_type": "code",
      "metadata": {
        "id": "gzrsLi1thH2c"
      },
      "source": [
        "# We have our X and Y. Initialzing parameters for text preprocesing \n",
        "\n",
        "vocab_size = 10000\n",
        "\n",
        "max_length = 50\n",
        "trunc_type='post'\n",
        "padding_type='post'\n",
        "oov_tok = \"<OOV>\"\n",
        "training_portion = .8"
      ],
      "execution_count": null,
      "outputs": []
    },
    {
      "cell_type": "code",
      "metadata": {
        "id": "3bxxN69ZiIy5"
      },
      "source": [
        "training_size=int(len(x)*training_portion)\n",
        "x_train = x[:training_size]\n",
        "y_train = y[:training_size]\n",
        "x_val = x[training_size:]\n",
        "y_val = y[training_size:]"
      ],
      "execution_count": null,
      "outputs": []
    },
    {
      "cell_type": "code",
      "metadata": {
        "colab": {
          "base_uri": "https://localhost:8080/"
        },
        "id": "C86lukmRiRIQ",
        "outputId": "9ecc424d-7cd5-487b-ef32-a7dd49c0340a"
      },
      "source": [
        "print(training_size)\n",
        "print(len(x_train))\n",
        "print(len(y_train))\n",
        "print(len(x_val))\n",
        "print(len(y_val))"
      ],
      "execution_count": null,
      "outputs": [
        {
          "output_type": "stream",
          "text": [
            "96000\n",
            "96000\n",
            "96000\n",
            "24000\n",
            "24000\n"
          ],
          "name": "stdout"
        }
      ]
    },
    {
      "cell_type": "code",
      "metadata": {
        "id": "i2kc25CAic_l"
      },
      "source": [
        "import tensorflow as tf\n",
        "import numpy as np\n",
        "from tensorflow.keras.preprocessing.text import Tokenizer\n",
        "from tensorflow.keras.preprocessing.sequence import pad_sequences\n"
      ],
      "execution_count": null,
      "outputs": []
    },
    {
      "cell_type": "markdown",
      "metadata": {
        "id": "Uc6pcX4OjVVO"
      },
      "source": [
        "### Converting the training sentences into numberical sequence"
      ]
    },
    {
      "cell_type": "code",
      "metadata": {
        "id": "nelVs6MWin78"
      },
      "source": [
        "#  Converting the training sequences to numerical sequence\n",
        "tokenizer = Tokenizer(num_words=vocab_size,oov_token=oov_tok)\n",
        "tokenizer.fit_on_texts(x_train)\n",
        "word_index = tokenizer.word_index\n",
        "\n",
        "train_sequences = tokenizer.texts_to_sequences(x_train)"
      ],
      "execution_count": null,
      "outputs": []
    },
    {
      "cell_type": "code",
      "metadata": {
        "colab": {
          "base_uri": "https://localhost:8080/"
        },
        "id": "ZfqfgcQvi4gd",
        "outputId": "073b0bba-be74-4210-f895-acc5eb92d833"
      },
      "source": [
        "print(train_sequences[1221])"
      ],
      "execution_count": null,
      "outputs": [
        {
          "output_type": "stream",
          "text": [
            "[288, 245, 1046, 2872, 3825, 1, 1591, 721, 151, 1560, 42, 69, 111, 288, 1046, 663, 468, 1044, 1, 343, 1535, 2]\n"
          ],
          "name": "stdout"
        }
      ]
    },
    {
      "cell_type": "code",
      "metadata": {
        "colab": {
          "base_uri": "https://localhost:8080/"
        },
        "id": "ALn-CluRjQFg",
        "outputId": "69abc8d2-a2c9-4920-fe14-aafed14f49fa"
      },
      "source": [
        "### Converting the validation sequence to numerical sequence\n",
        "validation_sequences = tokenizer.texts_to_sequences(x_val)\n",
        "\n",
        "print(validation_sequences[10])"
      ],
      "execution_count": null,
      "outputs": [
        {
          "output_type": "stream",
          "text": [
            "[1407, 216, 1, 1407, 216, 587, 203, 223, 60, 497, 16, 1, 1371, 240, 4048, 837, 668, 2]\n"
          ],
          "name": "stdout"
        }
      ]
    },
    {
      "cell_type": "markdown",
      "metadata": {
        "id": "GQBmtF-hkIa-"
      },
      "source": [
        "### Padding the Input sequence :"
      ]
    },
    {
      "cell_type": "code",
      "metadata": {
        "id": "Pn4r5BcUkUTB"
      },
      "source": [
        "### Panding the Input sequence \n",
        "\n",
        "training_x = tf.keras.preprocessing.sequence.pad_sequences(train_sequences, maxlen=max_length)\n",
        "validation_x = tf.keras.preprocessing.sequence.pad_sequences(validation_sequences, maxlen=max_length)"
      ],
      "execution_count": null,
      "outputs": []
    },
    {
      "cell_type": "code",
      "metadata": {
        "colab": {
          "base_uri": "https://localhost:8080/"
        },
        "id": "UrFZdXP0kemr",
        "outputId": "8682f5b1-90e0-4a37-9f5f-c4f9d0d31945"
      },
      "source": [
        "# Checking the shapes\n",
        "print(training_x[0].shape)\n",
        "print(training_x.shape)"
      ],
      "execution_count": null,
      "outputs": [
        {
          "output_type": "stream",
          "text": [
            "(50,)\n",
            "(96000, 50)\n"
          ],
          "name": "stdout"
        }
      ]
    },
    {
      "cell_type": "code",
      "metadata": {
        "colab": {
          "base_uri": "https://localhost:8080/"
        },
        "id": "N66uX206kmP5",
        "outputId": "2f5eec9e-2190-476d-9904-8781278650cc"
      },
      "source": [
        "#Checking the shapes of the validation data\n",
        "print(validation_x[0].shape)\n",
        "print(validation_x.shape)"
      ],
      "execution_count": null,
      "outputs": [
        {
          "output_type": "stream",
          "text": [
            "(50,)\n",
            "(24000, 50)\n"
          ],
          "name": "stdout"
        }
      ]
    },
    {
      "cell_type": "code",
      "metadata": {
        "id": "YFDiIiWEqjgS"
      },
      "source": [
        "training_label_seq = np.array(y_train)\n",
        "validation_label_seq = np.array(y_val)\n",
        "\n",
        " "
      ],
      "execution_count": null,
      "outputs": []
    },
    {
      "cell_type": "code",
      "metadata": {
        "colab": {
          "base_uri": "https://localhost:8080/"
        },
        "id": "ljE_vm0-k8LJ",
        "outputId": "bb61d9a2-366c-4b08-9930-b3ddea23c75d"
      },
      "source": [
        "training_label_seq[10]"
      ],
      "execution_count": null,
      "outputs": [
        {
          "output_type": "execute_result",
          "data": {
            "text/plain": [
              "3"
            ]
          },
          "metadata": {
            "tags": []
          },
          "execution_count": 49
        }
      ]
    },
    {
      "cell_type": "markdown",
      "metadata": {
        "id": "TeFkOJAWlYJN"
      },
      "source": [
        "### Trasformer model implementation:"
      ]
    },
    {
      "cell_type": "code",
      "metadata": {
        "id": "6JH21ZoClsau"
      },
      "source": [
        "import tensorflow as tf\n",
        "from tensorflow import keras\n",
        "from tensorflow.keras import layers"
      ],
      "execution_count": null,
      "outputs": []
    },
    {
      "cell_type": "code",
      "metadata": {
        "id": "cBQMThCXlxar"
      },
      "source": [
        "class TransformerBlock(layers.Layer):\n",
        "    def __init__(self, embed_dim, num_heads, ff_dim, rate=0.1):\n",
        "        super(TransformerBlock, self).__init__()\n",
        "        self.att = layers.MultiHeadAttention(num_heads=num_heads, key_dim=embed_dim)\n",
        "        self.ffn = keras.Sequential(\n",
        "            [layers.Dense(ff_dim, activation=\"relu\"), layers.Dense(embed_dim),]\n",
        "        )\n",
        "        self.layernorm1 = layers.LayerNormalization(epsilon=1e-6)\n",
        "        self.layernorm2 = layers.LayerNormalization(epsilon=1e-6)\n",
        "        self.dropout1 = layers.Dropout(rate)\n",
        "        self.dropout2 = layers.Dropout(rate)\n",
        "\n",
        "    def call(self, inputs, training):\n",
        "        attn_output = self.att(inputs, inputs)\n",
        "        attn_output = self.dropout1(attn_output, training=training)\n",
        "        out1 = self.layernorm1(inputs + attn_output)\n",
        "        ffn_output = self.ffn(out1)\n",
        "        ffn_output = self.dropout2(ffn_output, training=training)\n",
        "        return self.layernorm2(out1 + ffn_output)\n"
      ],
      "execution_count": null,
      "outputs": []
    },
    {
      "cell_type": "code",
      "metadata": {
        "id": "AxcztAc1l0CZ"
      },
      "source": [
        "class TokenAndPositionEmbedding(layers.Layer):\n",
        "    def __init__(self, maxlen, vocab_size, embed_dim):\n",
        "        super(TokenAndPositionEmbedding, self).__init__()\n",
        "        self.token_emb = layers.Embedding(input_dim=vocab_size, output_dim=embed_dim)\n",
        "        self.pos_emb = layers.Embedding(input_dim=maxlen, output_dim=embed_dim)\n",
        "\n",
        "    def call(self, x):\n",
        "        maxlen = tf.shape(x)[-1]\n",
        "        positions = tf.range(start=0, limit=maxlen, delta=1)\n",
        "        positions = self.pos_emb(positions)\n",
        "        x = self.token_emb(x)\n",
        "        return x + positions"
      ],
      "execution_count": null,
      "outputs": []
    },
    {
      "cell_type": "code",
      "metadata": {
        "id": "wJSykfS4mHhM"
      },
      "source": [
        "embed_dim = 256  # Embedding size for each token\n",
        "num_heads = 4 # Number of attention heads\n",
        "ff_dim = 64  # Hidden layer size in feed forward network inside transformer\n",
        "\n",
        "inputs = layers.Input(shape=(max_length,))\n",
        "embedding_layer = TokenAndPositionEmbedding(max_length, vocab_size, embed_dim)\n",
        "x = embedding_layer(inputs)\n",
        "transformer_block = TransformerBlock(embed_dim, num_heads, ff_dim)\n",
        "x = transformer_block(x)\n",
        "x = layers.GlobalAveragePooling1D()(x)\n",
        "x = layers.Dropout(0.2)(x)\n",
        "x = layers.Dense(24, activation=\"relu\")(x)\n",
        "x = layers.Dropout(0.1)(x)\n",
        "outputs = layers.Dense(4, activation=\"softmax\")(x)\n",
        "\n",
        "model = keras.Model(inputs=inputs, outputs=outputs)"
      ],
      "execution_count": null,
      "outputs": []
    },
    {
      "cell_type": "code",
      "metadata": {
        "colab": {
          "base_uri": "https://localhost:8080/"
        },
        "id": "pDeTH7sAmSyl",
        "outputId": "02daf5cc-f86c-47e6-c9e9-725e2beabf3e"
      },
      "source": [
        "model.summary()"
      ],
      "execution_count": null,
      "outputs": [
        {
          "output_type": "stream",
          "text": [
            "Model: \"model_3\"\n",
            "_________________________________________________________________\n",
            "Layer (type)                 Output Shape              Param #   \n",
            "=================================================================\n",
            "input_4 (InputLayer)         [(None, 50)]              0         \n",
            "_________________________________________________________________\n",
            "token_and_position_embedding (None, 50, 256)           2572800   \n",
            "_________________________________________________________________\n",
            "transformer_block_3 (Transfo (None, 50, 256)           1086016   \n",
            "_________________________________________________________________\n",
            "global_average_pooling1d_3 ( (None, 256)               0         \n",
            "_________________________________________________________________\n",
            "dropout_14 (Dropout)         (None, 256)               0         \n",
            "_________________________________________________________________\n",
            "dense_14 (Dense)             (None, 24)                6168      \n",
            "_________________________________________________________________\n",
            "dropout_15 (Dropout)         (None, 24)                0         \n",
            "_________________________________________________________________\n",
            "dense_15 (Dense)             (None, 4)                 100       \n",
            "=================================================================\n",
            "Total params: 3,665,084\n",
            "Trainable params: 3,665,084\n",
            "Non-trainable params: 0\n",
            "_________________________________________________________________\n"
          ],
          "name": "stdout"
        }
      ]
    },
    {
      "cell_type": "code",
      "metadata": {
        "colab": {
          "base_uri": "https://localhost:8080/"
        },
        "id": "9mvij7Amme4H",
        "outputId": "ede2417b-0e5e-4b4a-c83c-38ab46bc3e93"
      },
      "source": [
        "model.compile(\"adam\", \"sparse_categorical_crossentropy\", metrics=[\"accuracy\"])\n",
        "history = model.fit(\n",
        "   training_x,training_label_seq,batch_size=32,epochs=10, validation_data=(validation_x,validation_label_seq)\n",
        ")"
      ],
      "execution_count": null,
      "outputs": [
        {
          "output_type": "stream",
          "text": [
            "Epoch 1/10\n",
            "3000/3000 [==============================] - 1064s 354ms/step - loss: 1.3869 - accuracy: 0.2483 - val_loss: 1.3866 - val_accuracy: 0.2482\n",
            "Epoch 2/10\n",
            "3000/3000 [==============================] - 1067s 356ms/step - loss: 0.9285 - accuracy: 0.5439 - val_loss: 0.3415 - val_accuracy: 0.8869\n",
            "Epoch 3/10\n",
            "3000/3000 [==============================] - 1066s 355ms/step - loss: 0.2986 - accuracy: 0.9034 - val_loss: 0.2733 - val_accuracy: 0.9132\n",
            "Epoch 4/10\n",
            "3000/3000 [==============================] - 1057s 352ms/step - loss: 0.2345 - accuracy: 0.9252 - val_loss: 0.3054 - val_accuracy: 0.9068\n",
            "Epoch 5/10\n",
            "3000/3000 [==============================] - 1050s 350ms/step - loss: 0.2013 - accuracy: 0.9331 - val_loss: 0.2869 - val_accuracy: 0.9130\n",
            "Epoch 6/10\n",
            "3000/3000 [==============================] - 1049s 350ms/step - loss: 0.1763 - accuracy: 0.9405 - val_loss: 0.3029 - val_accuracy: 0.9119\n",
            "Epoch 7/10\n",
            "3000/3000 [==============================] - 1059s 353ms/step - loss: 0.1524 - accuracy: 0.9482 - val_loss: 0.3029 - val_accuracy: 0.9111\n",
            "Epoch 8/10\n",
            "3000/3000 [==============================] - 1060s 353ms/step - loss: 0.1360 - accuracy: 0.9527 - val_loss: 0.3228 - val_accuracy: 0.9104\n",
            "Epoch 9/10\n",
            "3000/3000 [==============================] - 1061s 354ms/step - loss: 0.1190 - accuracy: 0.9584 - val_loss: 0.3380 - val_accuracy: 0.9066\n",
            "Epoch 10/10\n",
            "3000/3000 [==============================] - 1063s 354ms/step - loss: 0.1046 - accuracy: 0.9634 - val_loss: 0.3740 - val_accuracy: 0.9050\n"
          ],
          "name": "stdout"
        }
      ]
    },
    {
      "cell_type": "code",
      "metadata": {
        "id": "O7_SZP5eftCG"
      },
      "source": [
        ""
      ],
      "execution_count": null,
      "outputs": []
    }
  ]
}